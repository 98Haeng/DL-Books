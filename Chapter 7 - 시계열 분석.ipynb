{
 "cells": [
  {
   "cell_type": "markdown",
   "metadata": {},
   "source": [
    "# ARIMA"
   ]
  },
  {
   "cell_type": "code",
   "execution_count": 1,
   "metadata": {},
   "outputs": [
    {
     "name": "stdout",
     "output_type": "stream",
     "text": [
      "Requirement already satisfied: statsmodels in c:\\anaconda\\lib\\site-packages (0.12.0)\n",
      "Requirement already satisfied: numpy>=1.15 in c:\\anaconda\\lib\\site-packages (from statsmodels) (1.21.5+vanilla)\n",
      "Requirement already satisfied: scipy>=1.1 in c:\\anaconda\\lib\\site-packages (from statsmodels) (1.5.2)\n",
      "Requirement already satisfied: pandas>=0.21 in c:\\anaconda\\lib\\site-packages (from statsmodels) (1.3.5)\n",
      "Requirement already satisfied: patsy>=0.5 in c:\\anaconda\\lib\\site-packages (from statsmodels) (0.5.1)\n",
      "Requirement already satisfied: python-dateutil>=2.7.3 in c:\\anaconda\\lib\\site-packages (from pandas>=0.21->statsmodels) (2.8.1)\n",
      "Requirement already satisfied: pytz>=2017.3 in c:\\anaconda\\lib\\site-packages (from pandas>=0.21->statsmodels) (2020.1)\n",
      "Requirement already satisfied: six in c:\\anaconda\\lib\\site-packages (from patsy>=0.5->statsmodels) (1.16.0)\n"
     ]
    }
   ],
   "source": [
    "!pip install statsmodels"
   ]
  },
  {
   "cell_type": "code",
   "execution_count": 7,
   "metadata": {},
   "outputs": [
    {
     "name": "stderr",
     "output_type": "stream",
     "text": [
      "<ipython-input-7-de8ac3938a7d>:3: FutureWarning: The pandas.datetime class is deprecated and will be removed from pandas in a future version. Import from datetime module instead.\n",
      "  from pandas import datetime\n",
      "C:\\anaconda\\lib\\site-packages\\statsmodels\\tsa\\arima_model.py:472: FutureWarning: \n",
      "statsmodels.tsa.arima_model.ARMA and statsmodels.tsa.arima_model.ARIMA have\n",
      "been deprecated in favor of statsmodels.tsa.arima.model.ARIMA (note the .\n",
      "between arima and model) and\n",
      "statsmodels.tsa.SARIMAX. These will be removed after the 0.12 release.\n",
      "\n",
      "statsmodels.tsa.arima.model.ARIMA makes use of the statespace framework and\n",
      "is both well tested and maintained.\n",
      "\n",
      "To silence this warning and continue using ARMA and ARIMA until they are\n",
      "removed, use:\n",
      "\n",
      "import warnings\n",
      "warnings.filterwarnings('ignore', 'statsmodels.tsa.arima_model.ARMA',\n",
      "                        FutureWarning)\n",
      "warnings.filterwarnings('ignore', 'statsmodels.tsa.arima_model.ARIMA',\n",
      "                        FutureWarning)\n",
      "\n",
      "  warnings.warn(ARIMA_DEPRECATION_WARN, FutureWarning)\n",
      "C:\\anaconda\\lib\\site-packages\\statsmodels\\tsa\\base\\tsa_model.py:524: ValueWarning: No frequency information was provided, so inferred frequency MS will be used.\n",
      "  warnings.warn('No frequency information was'\n",
      "C:\\anaconda\\lib\\site-packages\\statsmodels\\tsa\\base\\tsa_model.py:524: ValueWarning: No frequency information was provided, so inferred frequency MS will be used.\n",
      "  warnings.warn('No frequency information was'\n"
     ]
    },
    {
     "name": "stdout",
     "output_type": "stream",
     "text": [
      "                             ARIMA Model Results                              \n",
      "==============================================================================\n",
      "Dep. Variable:                D.Sales   No. Observations:                   35\n",
      "Model:                 ARIMA(5, 1, 0)   Log Likelihood                -197.350\n",
      "Method:                       css-mle   S.D. of innovations             66.436\n",
      "Date:                Fri, 31 Dec 2021   AIC                            408.699\n",
      "Time:                        14:13:35   BIC                            419.587\n",
      "Sample:                    02-01-1991   HQIC                           412.458\n",
      "                         - 12-01-1993                                         \n",
      "=================================================================================\n",
      "                    coef    std err          z      P>|z|      [0.025      0.975]\n",
      "---------------------------------------------------------------------------------\n",
      "const            12.4256      3.774      3.292      0.001       5.028      19.823\n",
      "ar.L1.D.Sales    -1.0850      0.188     -5.764      0.000      -1.454      -0.716\n",
      "ar.L2.D.Sales    -0.6688      0.283     -2.365      0.018      -1.223      -0.114\n",
      "ar.L3.D.Sales    -0.4426      0.297     -1.489      0.136      -1.025       0.140\n",
      "ar.L4.D.Sales    -0.0495      0.288     -0.172      0.864      -0.614       0.515\n",
      "ar.L5.D.Sales     0.1652      0.197      0.840      0.401      -0.220       0.551\n",
      "                                    Roots                                    \n",
      "=============================================================================\n",
      "                  Real          Imaginary           Modulus         Frequency\n",
      "-----------------------------------------------------------------------------\n",
      "AR.1           -1.1401           -0.4612j            1.2298           -0.4388\n",
      "AR.2           -1.1401           +0.4612j            1.2298            0.4388\n",
      "AR.3            0.0222           -1.2562j            1.2564           -0.2472\n",
      "AR.4            0.0222           +1.2562j            1.2564            0.2472\n",
      "AR.5            2.5355           -0.0000j            2.5355           -0.0000\n",
      "-----------------------------------------------------------------------------\n"
     ]
    },
    {
     "data": {
      "image/png": "[encoded data removed]",
      "text/plain": [
       "<Figure size 432x288 with 1 Axes>"
      ]
     },
     "metadata": {
      "needs_background": "light"
     },
     "output_type": "display_data"
    },
    {
     "data": {
      "image/png": "[encoded data removed]",
      "text/plain": [
       "<Figure size 432x288 with 1 Axes>"
      ]
     },
     "metadata": {
      "needs_background": "light"
     },
     "output_type": "display_data"
    },
    {
     "name": "stdout",
     "output_type": "stream",
     "text": [
      "                0\n",
      "count   35.000000\n",
      "mean    -5.569258\n",
      "std     70.272666\n",
      "min   -132.525607\n",
      "25%    -45.563781\n",
      "50%    -20.763496\n",
      "75%     39.933210\n",
      "max    163.552148\n"
     ]
    }
   ],
   "source": [
    "# ARIMA() 함수를 호출하여 sales 데이터셋에 대한 예측\n",
    "from pandas import read_csv # 파이썬 판다스 라이브러리의 read_csv() 메서드를 사용해서 외부 text, csv파일을 불러와 dataframe로 저장\n",
    "from pandas import datetime\n",
    "from pandas import DataFrame\n",
    "from statsmodels.tsa.arima_model import ARIMA\n",
    "from matplotlib import pyplot\n",
    "\n",
    "def parser(x): # 시간을 표현하는 함수정의\n",
    "    return datetime.strptime('199'+x, '%Y-%m') # strptime은 날짜와 시간정보를 문자열로 바꿔주는 메소드\n",
    "series = read_csv('sales.csv', header=0, parse_dates=[0], index_col=0, squeeze=True, date_parser=parser)\n",
    "model = ARIMA(series, order=(53,1,0)) # ARIMA함수 호출\n",
    "model_fit = model.fit(disp=0)  # 모형을 적용할 때마다 많은 디버그 정보가 제공되는데 disp인수를 0으로 설정하여 이 기능을 비활성화\n",
    "print(model_fit.summary()) # 모델에 대한 정보 표시\n",
    "residuals = DataFrame(model_fit.resid) # DataFrame에 모델에 대한 오차 정보를 residuals에 저장\n",
    "residuals.plot() # residuals정보를 시각적으로 표현\n",
    "pyplot.show()\n",
    "residuals.plot(kind='kde')\n",
    "pyplot.show()\n",
    "print(residuals.describe())"
   ]
  },
  {
   "cell_type": "code",
   "execution_count": 8,
   "metadata": {},
   "outputs": [
    {
     "name": "stderr",
     "output_type": "stream",
     "text": [
      "<ipython-input-8-478820a07e8b>:4: FutureWarning: The pandas.datetime class is deprecated and will be removed from pandas in a future version. Import from datetime module instead.\n",
      "  from pandas import datetime\n",
      "C:\\anaconda\\lib\\site-packages\\statsmodels\\tsa\\arima_model.py:472: FutureWarning: \n",
      "statsmodels.tsa.arima_model.ARMA and statsmodels.tsa.arima_model.ARIMA have\n",
      "been deprecated in favor of statsmodels.tsa.arima.model.ARIMA (note the .\n",
      "between arima and model) and\n",
      "statsmodels.tsa.SARIMAX. These will be removed after the 0.12 release.\n",
      "\n",
      "statsmodels.tsa.arima.model.ARIMA makes use of the statespace framework and\n",
      "is both well tested and maintained.\n",
      "\n",
      "To silence this warning and continue using ARMA and ARIMA until they are\n",
      "removed, use:\n",
      "\n",
      "import warnings\n",
      "warnings.filterwarnings('ignore', 'statsmodels.tsa.arima_model.ARMA',\n",
      "                        FutureWarning)\n",
      "warnings.filterwarnings('ignore', 'statsmodels.tsa.arima_model.ARIMA',\n",
      "                        FutureWarning)\n",
      "\n",
      "  warnings.warn(ARIMA_DEPRECATION_WARN, FutureWarning)\n"
     ]
    },
    {
     "name": "stdout",
     "output_type": "stream",
     "text": [
      "predicted=354.377733,expected=346.300000\n",
      "predicted=288.627364,expected=329.700000\n",
      "predicted=382.817971,expected=445.400000\n",
      "predicted=339.543806,expected=325.900000\n",
      "predicted=392.897344,expected=449.300000\n",
      "predicted=354.487994,expected=411.300000\n",
      "predicted=452.200111,expected=417.400000\n",
      "predicted=406.806117,expected=545.500000\n",
      "predicted=430.162100,expected=477.600000\n",
      "predicted=492.745329,expected=687.000000\n",
      "predicted=493.604811,expected=435.300000\n",
      "predicted=657.397190,expected=587.300000\n",
      "predicted=522.091061,expected=676.900000\n",
      "Test MSE : 8074.991\n"
     ]
    },
    {
     "data": {
      "image/png": "[encoded data removed]",
      "text/plain": [
       "<Figure size 432x288 with 1 Axes>"
      ]
     },
     "metadata": {
      "needs_background": "light"
     },
     "output_type": "display_data"
    }
   ],
   "source": [
    "# statsmodels 라이브러리를 이용한 sales 데이터셋 예측\n",
    "import numpy as np\n",
    "from pandas import read_csv\n",
    "from pandas import datetime\n",
    "from matplotlib import pyplot\n",
    "from statsmodels.tsa.arima_model import ARIMA\n",
    "from sklearn.metrics import mean_squared_error\n",
    "\n",
    "def parser(x):\n",
    "    return datetime.strptime('199'+x, '%Y-%m')\n",
    "series = read_csv('sales.csv', header=0, parse_dates=[0], index_col=0, squeeze=True, date_parser=parser)\n",
    "X=series.values\n",
    "X=np.nan_to_num(X)\n",
    "size=int(len(X)*0.66)\n",
    "train,test=X[0:size],X[size:len(X)] # train,test로 데이터셋 분리\n",
    "history=[x for x in train]\n",
    "predictions=list()\n",
    "for t in range(len(test)): # test데이터셋의 길이(13번)만큼 반복수행\n",
    "    model=ARIMA(history,order=(5,1,0)) # ARIMA 함수 호출\n",
    "    model_fit=model.fit(disp=0)\n",
    "    output=model_fit.forecast() # forecast를 사용하여 예측 수행\n",
    "    yhat=output[0] # 모델 출력 결과를 yhat에 저장\n",
    "    predictions.append(yhat)\n",
    "    obs=test[t]\n",
    "    history.append(obs)\n",
    "    print('predicted=%f,expected=%f'%(yhat,obs)) # 모델 실행결과를 predicted로 출력하고, test로 분리해 둔 데이터를 expected로 사용하여 출력\n",
    "error=mean_squared_error(test,predictions) # 손실 함수로 평균 제곱 오차 적용\n",
    "print('Test MSE : %.3f'%error)\n",
    "pyplot.plot(test)\n",
    "pyplot.plot(predictions,color='red')\n",
    "pyplot.show()"
   ]
  },
  {
   "cell_type": "markdown",
   "metadata": {},
   "source": [
    "# 순환신경망(RNN)"
   ]
  },
  {
   "cell_type": "code",
   "execution_count": 20,
   "metadata": {},
   "outputs": [],
   "source": [
    "import os\n",
    "os.environ['TF_CPP_MIN_LOG_LEVEL']='2' # 케라스에서 발생하는 경고메시지 제거\n",
    "import tensorflow as tf\n",
    "import numpy as np\n",
    "from tensorflow import keras\n",
    "from tensorflow.keras import layers\n",
    "from tensorflow.keras.models import Sequential\n",
    "from tensorflow.keras.layers import Dense\n",
    "from tensorflow.keras.optimizers import Adam"
   ]
  },
  {
   "cell_type": "code",
   "execution_count": 25,
   "metadata": {},
   "outputs": [],
   "source": [
    "# 값 초기화\n",
    "tf.random.set_seed(22)\n",
    "np.random.seed(22)\n",
    "assert tf.__version__.startswith('2.') # 텐서플로 버전이 2인것을 확인\n",
    "\n",
    "batch_size=128\n",
    "total_words=10000\n",
    "max_review_len=80\n",
    "embedding_len=100"
   ]
  },
  {
   "cell_type": "code",
   "execution_count": 26,
   "metadata": {},
   "outputs": [
    {
     "name": "stdout",
     "output_type": "stream",
     "text": [
      "x_train_shape: (25000, 80) tf.Tensor(1, shape=(), dtype=int64) tf.Tensor(0, shape=(), dtype=int64)\n",
      "x_test_shape: (25000, 80)\n",
      "(128, 80)\n"
     ]
    }
   ],
   "source": [
    "# 데이터셋 준비\n",
    "(x_train, y_train), (x_test, y_test) = tf.keras.datasets.imdb.load_data(num_words=total_words) # 1\n",
    "\n",
    "x_train = tf.keras.preprocessing.sequence.pad_sequences(x_train, maxlen=max_review_len) # 2\n",
    "x_test = tf.keras.preprocessing.sequence.pad_sequences(x_test, maxlen=max_review_len)\n",
    "\n",
    "train_data = tf.data.Dataset.from_tensor_slices((x_train, y_train)) # 3\n",
    "train_data = train_data.shuffle(10000).batch(batch_size, drop_remainder=True) # 4\n",
    "test_data = tf.data.Dataset.from_tensor_slices((x_test, y_test)) # x_test,y_test 데이터에 대한 넘파일 배열을 바로 Dataset로 변환\n",
    "test_data = test_data.batch(batch_size, drop_remainder=True) # 테스트 데이터셋을 변환\n",
    "print('x_train_shape:', x_train.shape, tf.reduce_max(y_train), tf.reduce_min(y_train))\n",
    "print('x_test_shape:', x_test.shape)\n",
    "\n",
    "sample = next(iter(test_data))\n",
    "print(sample[0].shape)"
   ]
  },
  {
   "cell_type": "markdown",
   "metadata": {},
   "source": [
    "- 1 : imdb.load_data()를 사용하여 IMDB 데이터셋을 내려받음, num_words는 데이터에서 등장 빈도 순위를 몇번째로 해당하는 단어까지 사용할지 의미, 10000이라면 빈도 순위가 1~10000에 해당하는 단어만 사용\n",
    "- 2 : 전체 훈련 데이터셋에서 각 샘플의 길이는 서로 다를 수 있고, 각 문서 혹은 각 문장은 단어수가 각각 제각각임. 모델의 입력으로 사용하려면 모든 샘플 길이를 동일하게 맞추어야 하는데 이를 자연어처리에서는 패딩(padding)이라 부름, 보통 숫자 0을 넣어서 길이가 다른 샘플들의 길이를 맞춰줌. 케라스에서는 pad_sequence()를 사용함 pad_sequence()는 정해준 길이보다 길이가 긴 샘플은 값을 일부 자르고, 정해준 길이보다 길이가 짧은 샘플은 값을 0으로 채움\n",
    "    - 첫번째 인자 : 패딩을 진행할 데이터\n",
    "    - maxlen : 모든 데이터에 대해 정규화할 길이\n",
    "- 3 : 넘파이 배열을 Dataset로 변환, 이때 주의해야 할 것은 변환하려는 전체 데이터를 메모리로 로딩해야 하기 때문에, 큰 용량의 메모리가 필요 이 문제를 해결하려면 Dataset의 from_generator()를 사용하는 것, 이를 사용하면 필요할때만 파이썬 generator을 통해 가져옴\n",
    "- 4 : 3에서 만들어준 데이터셋 변형\n",
    "    - shuffle() : 데이터셋을 임의로 섞어줌, 여기서 사용되는 것이 buffer_size임. 데이터를 메모리로 불러와서 섞는 과정이 진행되기 때문에, buffer_size를 지정. 버퍼에서 임의로 샘플을 봅고, 뽑은 샘플은 다른 샘플로 대체, 데이터셋에서 완벽하게 섞이기 위해서는 데이터셋의 크기에 비해 크거나 같은 버퍼로 지정되어야 함\n",
    "    - batch : 데이터셋의 항목들을 하나의 배치로 묶어줌, batch_size는 몇개의 샘플로 가중치를 갱신할 지 결정\n",
    "    - drop_remainder : 마지막 배치 크기를 무시하고 지정한 배치 크기를 사용할 수 있음\n",
    "    \n",
    "결과로는 훈련과 검증 용도의 데이터셋에 대한 형태를 출력한 것임"
   ]
  },
  {
   "cell_type": "code",
   "execution_count": 29,
   "metadata": {},
   "outputs": [],
   "source": [
    "# RNN셀을 이용한 네트워크 생성\n",
    "class RNN_Build(tf.keras.Model): # 1\n",
    "    def __init__(self, units): # 2\n",
    "        super(RNN_Build, self).__init__() # 3\n",
    "        \n",
    "        self.state0 = [tf.zeros([batch_size, units])] # 4\n",
    "        self.state1 = [tf.zeros([batch_size, units])]\n",
    "        self.embedding = tf.keras.layers.Embedding(total_words, embedding_len, input_length=max_review_len) # 5\n",
    "\n",
    "        self.RNNCell0 = tf.keras.layers.SimpleRNNCell(units, dropout=0.2) # 6\n",
    "        self.RNNCell1 = tf.keras.layers.SimpleRNNCell(units, dropout=0.2)\n",
    "        self.outlayer = tf.keras.layers.Dense(1)\n",
    "        \n",
    "    def call(self, inputs, training=None): # 2'\n",
    "        x = inputs\n",
    "        x = self.embedding(x)\n",
    "        state0 = self.state0  \n",
    "        state1 = self.state1\n",
    "        for word in tf.unstack(x, axis=1): # 7\n",
    "            out0, state0 = self.RNNCell0(word, state0, training) # out0,state0 각각에 self.RNNCell0에서 받아온 값을 저장\n",
    "            out1, state1 = self.RNNCell1(out0, state1, training) # out1,state1 각각에 self.RNNCell1에서 받아온 값을 저장\n",
    "        x = self.outlayer(out1) # 출력층 out1을 적용한 후 그 값을 x 변수에 젖아\n",
    "        prob = tf.sigmoid(x) # 마지막으로 x에 시그모이드 활성화 함수를 적용하여 prob에 저장\n",
    "        return prob # prob값을 변환"
   ]
  },
  {
   "cell_type": "markdown",
   "metadata": {},
   "source": [
    "- 1 : 객체 지향 프로그램을 파이썬에서 구현한 것, 즉 구조를 설계한 후 재사용성을 고려하거나, 코드의 반복을 최소화하는데 사용\n",
    "- 2, 2' : __init__ 는 클래스 인스턴스를 생성할 때 초기화하는 부분. 이때 init는 객체가 생성될 때 호출되며, call은 인스턴스가 생성될때 사용\n",
    "- 3 : 기반 클래서의 __init__ 메서드를 호출,  super()뒤에 .을 붙여 메서드를 호출하는 방식\n",
    "- 4 : self는 자신의 인스턴스를 의미, tf.zeros를 사용하여 0값으로 채워진 텐서를 생성해 state0에 저장\n",
    "- 5 : 케라스는 텍스트 데이터에 대해 워드 임베딩을 수행하는 임베딩층을 제공, 임베딩층을 사용하려면 각 입력이 모두 정수로 인코딩되어 있어야 함. 즉 각가의 입력은 정수로 변환된 상태에서 임베딩 층을 구성\n",
    "    - total_words(첫번째 인자) : 텍스트 데이터의 전체 단어 집합 크기, 예를 들어 데이터셋의 단어들이 0에서 20000까지 인코딩되어있다면 단어 집합의 크기는 20001이 되어야 함\n",
    "    - embedding_len(두번째 인자) : 임베딩이 되구 난 후의 단어의 차원, 이 값을 256으로 설정한다면, 모든 단어의 차원이 256이 됨\n",
    "    - input_length : 입력 데이터의 길이, 각 데이터 길이가 단어 500개로 구성되어 있다면 이 값은 500이 됨\n",
    "- 6 : SimpleRNN의 셀 클래스를 의미\n",
    "    - units : 출력 공간의 차원\n",
    "    - dropout : 0과 1사이의 부동소수점, 입력중에서 삭제할 유닛의 비율\n",
    "- 7 : unstack() - 중복된 값이 있을 때 사용하면 유용, 즉 다음 그림과 같이 그룹으로 묶은 데이터를 행렬 형태로 전환하여 연산시 사용"
   ]
  },
  {
   "cell_type": "code",
   "execution_count": 30,
   "metadata": {},
   "outputs": [
    {
     "name": "stdout",
     "output_type": "stream",
     "text": [
      "Epoch 1/4\n",
      "195/195 [==============================] - 8s 23ms/step - loss: 0.4800 - accuracy: 0.7577\n",
      "Epoch 2/4\n",
      "195/195 [==============================] - 7s 36ms/step - loss: 0.3009 - accuracy: 0.8752 - val_loss: 0.3898 - val_accuracy: 0.8327\n",
      "Epoch 3/4\n",
      "195/195 [==============================] - 5s 23ms/step - loss: 0.2084 - accuracy: 0.9208\n",
      "Epoch 4/4\n",
      "195/195 [==============================] - 6s 32ms/step - loss: 0.1023 - accuracy: 0.9627 - val_loss: 0.5760 - val_accuracy: 0.7990\n"
     ]
    },
    {
     "data": {
      "text/plain": [
       "<keras.callbacks.History at 0x212004e5310>"
      ]
     },
     "execution_count": 30,
     "metadata": {},
     "output_type": "execute_result"
    }
   ],
   "source": [
    "# 모델 훈련\n",
    "import time\n",
    "units = 64\n",
    "epochs = 4\n",
    "t0 = time.time() # 모형의 실행시간을 위해 시간을 10에 저장\n",
    "\n",
    "model = RNN_Build(units) \n",
    "model.compile(optimizer=tf.keras.optimizers.Adam(0.001),\n",
    "              loss=tf.losses.BinaryCrossentropy(),\n",
    "              metrics=['accuracy'],\n",
    "              experimental_run_tf_function=False) # 1\n",
    "     \n",
    "model.fit(train_data, epochs=epochs, validation_data=test_data, validation_freq=2) # 2"
   ]
  },
  {
   "cell_type": "markdown",
   "metadata": {},
   "source": [
    "- 1 : model.compile()에서는 다양한 하이퍼파라미터 정의\n",
    "    - optimizer : 옵티마이저 설정, 여기서는 0.001의 학습률을 적용한 Adam 사용\n",
    "    - loss : 훈련 과정에서 사용할 손실 함수를 설정, 여기서는 이진분류인 BinaryCrossentropy 사용\n",
    "    - metrics :  훈련을 모니터링하기 위한 지표 선택, 여기서는 정확도 사용\n",
    "    - experimental_run_tf_function : 모델을 인스턴스하는 기능을 제공, 실제로 experimental_run_tf_function이 호출되어야 컴파일 실행\n",
    "- 2 : model.fit()은 모델을 학습하는데 사용\n",
    "    - train_data(첫번째 인자) : 입력 데이터\n",
    "    - epochs : 학습 반복 횟수\n",
    "    - validation_data : 검증 데이터\n",
    "    - validation_freq \" 에포크마다 무조건 검증 데이터셋에 대한 계산을 수행하지 않고 적절한 간격을 두고 계산하는 것 ex) 1,2,10이면 1,2,10번재 에포크 검정"
   ]
  },
  {
   "cell_type": "code",
   "execution_count": 32,
   "metadata": {},
   "outputs": [
    {
     "name": "stdout",
     "output_type": "stream",
     "text": [
      "훈련 데이터셋 평가\n",
      "loss=0.0464, accuracy: 99.0224%\n",
      "테스트 데이터셋 평가...\n",
      "loss=0.5760, accuracy: 79.8998%\n",
      "시간: 414.3982832431793\n"
     ]
    }
   ],
   "source": [
    "# 모델 평가\n",
    "print('훈련 데이터셋 평가')\n",
    "(loss,accuracy)=model.evaluate(train_data,verbose=0) # 1\n",
    "print(\"loss={:.4f}, accuracy: {:.4f}%\".format(loss,accuracy * 100))\n",
    "print(\"테스트 데이터셋 평가...\")\n",
    "(loss, accuracy) = model.evaluate(test_data, verbose=0)\n",
    "print(\"loss={:.4f}, accuracy: {:.4f}%\".format(loss,accuracy * 100))\n",
    "t1 = time.time()\n",
    "print('시간:', t1-t0)"
   ]
  },
  {
   "cell_type": "markdown",
   "metadata": {},
   "source": [
    "- model_evaluate()는 모델을 평가하기 위한 함수로 파라미터 의미는 다음과 같음\n",
    "    - train_data : ;훈련 데이터\n",
    "    - verbose : 얼마나 자세하게 정보를 표시할지"
   ]
  },
  {
   "cell_type": "markdown",
   "metadata": {},
   "source": [
    "# RNN층 계층 구현"
   ]
  },
  {
   "cell_type": "code",
   "execution_count": 35,
   "metadata": {},
   "outputs": [],
   "source": [
    "# 네트워크 (신경망) 구축\n",
    "class RNN_Build(tf.keras.Model):\n",
    "    def __init__(self, units):\n",
    "        super(RNN_Build, self).__init__()\n",
    "        self.embedding = tf.keras.layers.Embedding(total_words, embedding_len, input_length=max_review_len)\n",
    "\n",
    "        self.rnn = tf.keras.Sequential([\n",
    "            tf.keras.layers.SimpleRNN(units, dropout=0.5, return_sequences=True), # 1\n",
    "            tf.keras.layers.SimpleRNN(units, dropout=0.5)\n",
    "        ])\n",
    "        self.outlayer = tf.keras.layers.Dense(1)\n",
    "\n",
    "    def call(self, inputs, training=None):\n",
    "        x = inputs\n",
    "        x = self.embedding(x)\n",
    "        x = self.rnn(x)\n",
    "        x = self.outlayer(x)\n",
    "        prob = tf.sigmoid(x)\n",
    "\n",
    "        return prob"
   ]
  },
  {
   "cell_type": "markdown",
   "metadata": {},
   "source": [
    "- 1 : SimpleRNN 함수를 사용하여 은닉 노드가 다수인 개인 RNN셀을 여러개 구축할 수 있음\n",
    "    - units : 네트워크의 층 수\n",
    "    - dropout : 전체 노드 중 20%의 값을 0으로 설정하여 사용하지 않겠음을 의미\n",
    "    - return_sequences : 마지막 출력 또는 전체 순서를 반환하는 것, 이때 주의해야 할 점은 return_sequences=True는 출력 순서 중 마지막 값만 출력하는 것이 아니라 전체 순서열을 3차원 텐서 형태로 출력\n",
    "    \n",
    "    \n",
    "- SimpleRNNCell은 SimpleRNN과 코드 구현이 거의 비슷하지만, for문을 사용하여 반복수행한다는 점에서 차이가 있음"
   ]
  },
  {
   "cell_type": "code",
   "execution_count": 36,
   "metadata": {},
   "outputs": [
    {
     "name": "stdout",
     "output_type": "stream",
     "text": [
      "Epoch 1/4\n",
      "195/195 [==============================] - 11s 52ms/step - loss: 0.5421 - accuracy: 0.7082\n",
      "Epoch 2/4\n",
      "195/195 [==============================] - 14s 70ms/step - loss: 0.3567 - accuracy: 0.8498 - val_loss: 0.3987 - val_accuracy: 0.8295\n",
      "Epoch 3/4\n",
      "195/195 [==============================] - 11s 57ms/step - loss: 0.2940 - accuracy: 0.8837\n",
      "Epoch 4/4\n",
      "195/195 [==============================] - 14s 72ms/step - loss: 0.2396 - accuracy: 0.9061 - val_loss: 0.4923 - val_accuracy: 0.8277\n"
     ]
    },
    {
     "data": {
      "text/plain": [
       "<keras.callbacks.History at 0x2127f998e20>"
      ]
     },
     "execution_count": 36,
     "metadata": {},
     "output_type": "execute_result"
    }
   ],
   "source": [
    "# 모델 훈련\n",
    "import time\n",
    "units=64\n",
    "epochs=4\n",
    "t0=time.time()\n",
    "\n",
    "model=RNN_Build(units)\n",
    "\n",
    "model.compile(optimizer=tf.keras.optimizers.Adam(0.001),\n",
    "             loss=tf.losses.BinaryCrossentropy(),\n",
    "             metrics=['accuracy'],\n",
    "             experimental_run_tf_function=False)\n",
    "\n",
    "model.fit(train_data,epochs=epochs,validation_data=test_data,validation_freq=2)"
   ]
  },
  {
   "cell_type": "code",
   "execution_count": 37,
   "metadata": {},
   "outputs": [
    {
     "name": "stdout",
     "output_type": "stream",
     "text": [
      "훈련 데이터셋 평가...\n",
      "loss=0.1269, accuracy: 95.2604%\n",
      "테스트 데이터셋 평가...\n",
      "loss=0.4923, accuracy: 82.7724%\n",
      "시간: 55.77049374580383\n"
     ]
    }
   ],
   "source": [
    "# 모델 평가\n",
    "print(\"훈련 데이터셋 평가...\")\n",
    "(loss, accuracy) = model.evaluate(train_data, verbose=0)\n",
    "print(\"loss={:.4f}, accuracy: {:.4f}%\".format(loss,accuracy * 100))\n",
    "print(\"테스트 데이터셋 평가...\")\n",
    "(loss, accuracy) = model.evaluate(test_data, verbose=0)\n",
    "print(\"loss={:.4f}, accuracy: {:.4f}%\".format(loss,accuracy * 100))\n",
    "\n",
    "t1 = time.time()\n",
    "print('시간:', t1-t0)"
   ]
  },
  {
   "cell_type": "markdown",
   "metadata": {},
   "source": [
    "SimpleRNNCell보다 훈련 데이터에 대한 정확도가 낮아졌고, 테스트 데이터셋에 대한 정확도는 높아졌으나, 수행시간이 길어짐"
   ]
  },
  {
   "cell_type": "markdown",
   "metadata": {},
   "source": [
    "# LSTM"
   ]
  },
  {
   "cell_type": "code",
   "execution_count": 42,
   "metadata": {},
   "outputs": [],
   "source": [
    "# 네트워크 생성\n",
    "class LSTM_Build(tf.keras.Model):\n",
    "    def __init__(self, units):\n",
    "        super(LSTM_Build, self).__init__()\n",
    "\n",
    "        self.state0 = [tf.zeros([batch_size, units]), tf.zeros([batch_size, units])]\n",
    "        self.state1 = [tf.zeros([batch_size, units]), tf.zeros([batch_size, units])]\n",
    "\n",
    "        self.embedding = tf.keras.layers.Embedding(total_words, embedding_len, input_length=max_review_len)\n",
    "        self.RNNCell0 = tf.keras.layers.LSTMCell(units, dropout=0.5) # 1\n",
    "        self.RNNCell1 = tf.keras.layers.LSTMCell(units, dropout=0.5)\n",
    "        self.outlayer = tf.keras.layers.Dense(1)\n",
    "\n",
    "    def call(self, inputs, training=None):\n",
    "\n",
    "        x = inputs\n",
    "        x = self.embedding(x)\n",
    "        state0 = self.state0 # 초기상태 0으로 설정\n",
    "        state1 = self.state1\n",
    "        for word in tf.unstack(x, axis=1):    \n",
    "\n",
    "            out0, state0 = self.RNNCell0(word, state0, training) # train 매개변수 추가\n",
    "            out1, state1 = self.RNNCell1(out0, state1, training)\n",
    "\n",
    "        x = self.outlayer(out1)\n",
    "        prob = tf.sigmoid(x)\n",
    "        return prob"
   ]
  },
  {
   "cell_type": "markdown",
   "metadata": {},
   "source": [
    "- 1 : LSTM 셀 클래스를 의미\n",
    "    - units(첫번째 인자) : 메모리 셀의 개수\n",
    "    - dropout : 전체 가중치 중 50% 값을 0으로 설정하여 사용하지 않겠다는 의미"
   ]
  },
  {
   "cell_type": "code",
   "execution_count": 43,
   "metadata": {},
   "outputs": [
    {
     "name": "stdout",
     "output_type": "stream",
     "text": [
      "Epoch 1/4\n",
      "195/195 [==============================] - 24s 87ms/step - loss: 0.4807 - accuracy: 0.7535\n",
      "Epoch 2/4\n",
      "195/195 [==============================] - 25s 128ms/step - loss: 0.3153 - accuracy: 0.8696 - val_loss: 0.3688 - val_accuracy: 0.8377\n",
      "Epoch 3/4\n",
      "195/195 [==============================] - 18s 92ms/step - loss: 0.2541 - accuracy: 0.9005\n",
      "Epoch 4/4\n",
      "195/195 [==============================] - 24s 122ms/step - loss: 0.2084 - accuracy: 0.9209 - val_loss: 0.4401 - val_accuracy: 0.8264\n"
     ]
    },
    {
     "data": {
      "text/plain": [
       "<keras.callbacks.History at 0x21204572b20>"
      ]
     },
     "execution_count": 43,
     "metadata": {},
     "output_type": "execute_result"
    }
   ],
   "source": [
    "# 모델 훈련\n",
    "import time\n",
    "units=64\n",
    "epochs=4\n",
    "t0=time.time()\n",
    "\n",
    "model=LSTM_Build(units)\n",
    "\n",
    "model.compile(optimizer=tf.keras.optimizers.Adam(0.001),\n",
    "             loss=tf.losses.BinaryCrossentropy(),\n",
    "             metrics=['accuracy'],\n",
    "             experimental_run_tf_function=False)\n",
    "\n",
    "model.fit(train_data, epochs=epochs, validation_data=test_data, validation_freq=2)"
   ]
  },
  {
   "cell_type": "code",
   "execution_count": 44,
   "metadata": {},
   "outputs": [
    {
     "name": "stdout",
     "output_type": "stream",
     "text": [
      "훈련 데이터셋 평가...\n",
      "loss=0.1621, accuracy: 94.2428%\n",
      "테스트 데이터셋 평가...\n",
      "loss=0.4401, accuracy: 82.6442%\n",
      "시간: 209.80486488342285\n"
     ]
    }
   ],
   "source": [
    "# 모델 평가\n",
    "print(\"훈련 데이터셋 평가...\")\n",
    "(loss, accuracy) = model.evaluate(train_data, verbose=0)\n",
    "print(\"loss={:.4f}, accuracy: {:.4f}%\".format(loss,accuracy * 100))\n",
    "print(\"테스트 데이터셋 평가...\")\n",
    "(loss, accuracy) = model.evaluate(test_data, verbose=0)\n",
    "print(\"loss={:.4f}, accuracy: {:.4f}%\".format(loss,accuracy * 100))\n",
    "\n",
    "t1 = time.time()\n",
    "print('시간:', t1-t0)"
   ]
  },
  {
   "cell_type": "markdown",
   "metadata": {},
   "source": [
    "- RNN에 비해 훈련 데이터셋과 검증 데이터셋에 대한 정확도가 높아짐"
   ]
  },
  {
   "cell_type": "markdown",
   "metadata": {},
   "source": [
    "# LSTM 계층"
   ]
  },
  {
   "cell_type": "code",
   "execution_count": 45,
   "metadata": {},
   "outputs": [],
   "source": [
    "# 네트워크 생성\n",
    "class LSTM_Build(tf.keras.Model):\n",
    "    \n",
    "    def __init__(self,units):\n",
    "        super(LSTM_Build,self).__init__()\n",
    "        \n",
    "        self.embedding=tf.keras.layers.Embedding(total_words,embedding_len,input_length=max_review_len)\n",
    "        self.rnn=tf.keras.Sequential([\n",
    "            tf.keras.layers.LSTM(units,dropout=0.5,return_sequences=True,unroll=True), # 1\n",
    "            tf.keras.layers.LSTM(units,dropout=0.5,unroll=True)\n",
    "        ])\n",
    "        self.outlayer=tf.keras.layers.Dense(1)\n",
    "        \n",
    "    def call(self,inputs,training=None):\n",
    "        x=inputs\n",
    "        x=self.embedding(x)\n",
    "        x=self.rnn(x)\n",
    "        \n",
    "        x=self.outlayer(x)\n",
    "        prob=tf.sigmoid(x)\n",
    "        return prob"
   ]
  },
  {
   "cell_type": "markdown",
   "metadata": {},
   "source": [
    "- 1 : LSTM 함수를 사용하여 LSTM셀을 다수 개 구축할 수 있음(layers.LSTMCell은 셀이 하나였으나, layers.LSTM은 한번에 여러개 셀을 구축)\n",
    "    - units : 네트워크의 층 수\n",
    "    - dropout : 전체 가중치 중 50%의 값을 0으로 설정하여 사용하지 않겠다는 의미\n",
    "    - return_sequences : 마지막 출력 도는 전체 순서를 반환, 이때 return_sequences=False는 마지막 셀에서 밀집층이 한번만 적용되었다는 것을 의미\n",
    "    - unroll : 시간 순서에 따라 입력층과 은닉층에 대한 네트워크를 펼치겠다는 의미, 메모리 사용률을 높아질 수 있지만, 계속 속도는 빨라짐"
   ]
  },
  {
   "cell_type": "code",
   "execution_count": 46,
   "metadata": {},
   "outputs": [
    {
     "name": "stdout",
     "output_type": "stream",
     "text": [
      "Epoch 1/4\n",
      "195/195 [==============================] - 29s 109ms/step - loss: 0.4745 - accuracy: 0.7582\n",
      "Epoch 2/4\n",
      "195/195 [==============================] - 32s 164ms/step - loss: 0.3119 - accuracy: 0.8718 - val_loss: 0.3601 - val_accuracy: 0.8421\n",
      "Epoch 3/4\n",
      "195/195 [==============================] - 22s 114ms/step - loss: 0.2633 - accuracy: 0.8933\n",
      "Epoch 4/4\n",
      "195/195 [==============================] - 30s 156ms/step - loss: 0.2250 - accuracy: 0.9135 - val_loss: 0.3910 - val_accuracy: 0.8340\n"
     ]
    },
    {
     "data": {
      "text/plain": [
       "<keras.callbacks.History at 0x21206a74070>"
      ]
     },
     "execution_count": 46,
     "metadata": {},
     "output_type": "execute_result"
    }
   ],
   "source": [
    "# 모델 훈련\n",
    "import time\n",
    "units = 64\n",
    "epochs = 4\n",
    "t0 = time.time()\n",
    "\n",
    "model = LSTM_Build(units)\n",
    "    \n",
    "model.compile(optimizer=tf.keras.optimizers.Adam(0.001),\n",
    "              loss=tf.losses.BinaryCrossentropy(),\n",
    "              metrics=['accuracy'],\n",
    "              experimental_run_tf_function=False)\n",
    "    \n",
    "model.fit(train_data, epochs=epochs, validation_data=test_data, validation_freq=2)"
   ]
  },
  {
   "cell_type": "code",
   "execution_count": 47,
   "metadata": {},
   "outputs": [
    {
     "name": "stdout",
     "output_type": "stream",
     "text": [
      "훈련 데이터셋 평가...\n",
      "loss=0.1531, accuracy: 95.1963%\n",
      "테스트 데이터셋 평가...\n",
      "loss=0.3910, accuracy: 83.3974%\n",
      "시간: 229.01774406433105\n"
     ]
    }
   ],
   "source": [
    "# 모델 평가\n",
    "print(\"훈련 데이터셋 평가...\")\n",
    "(loss, accuracy) = model.evaluate(train_data, verbose=0)\n",
    "print(\"loss={:.4f}, accuracy: {:.4f}%\".format(loss,accuracy * 100))\n",
    "print(\"테스트 데이터셋 평가...\")\n",
    "(loss, accuracy) = model.evaluate(test_data, verbose=0)\n",
    "print(\"loss={:.4f}, accuracy: {:.4f}%\".format(loss,accuracy * 100))\n",
    "\n",
    "t1 = time.time()\n",
    "print('시간:', t1-t0)"
   ]
  },
  {
   "cell_type": "markdown",
   "metadata": {},
   "source": [
    "# GRU(게이트 순환 신경망)"
   ]
  },
  {
   "cell_type": "code",
   "execution_count": 48,
   "metadata": {},
   "outputs": [],
   "source": [
    "# 네트워크 생성\n",
    "class GRU_Build(tf.keras.Model):\n",
    "\n",
    "    def __init__(self, units):\n",
    "        super(GRU_Build, self).__init__()\n",
    "\n",
    "        self.state0 = [tf.zeros([batch_size, units])]\n",
    "        self.state1 = [tf.zeros([batch_size, units])]\n",
    "\n",
    "        self.embedding = tf.keras.layers.Embedding(total_words, embedding_len, input_length=max_review_len)\n",
    "        self.RNNCell0 = tf.keras.layers.GRUCell(units, dropout=0.5) # 1\n",
    "        self.RNNCell1 = tf.keras.layers.GRUCell(units, dropout=0.5)\n",
    "        self.outlayer = tf.keras.layers.Dense(1)\n",
    "\n",
    "    def call(self, inputs, training=None):\n",
    "        x = inputs\n",
    "        x = self.embedding(x)\n",
    "        state0 = self.state0 # 초기상태는 모두 0으로 설정\n",
    "        state1 = self.state1\n",
    "        for word in tf.unstack(x, axis=1):    \n",
    "            out0, state0 = self.RNNCell0(word, state0, training)   \n",
    "            out1, state1 = self.RNNCell1(out0, state1, training)\n",
    "        x = self.outlayer(out1)\n",
    "        prob = tf.sigmoid(x)\n",
    "\n",
    "        return prob"
   ]
  },
  {
   "cell_type": "markdown",
   "metadata": {},
   "source": [
    "- 1 : GRU의 셀 클래스를 의미\n",
    "    - units(첫번째 인자) : 메모리 셀의 개수\n",
    "    - dropout : 전체 가중치 중 50%의 값을 0으로 설정하여 사용하지 않겠다는 의미"
   ]
  },
  {
   "cell_type": "code",
   "execution_count": 49,
   "metadata": {},
   "outputs": [
    {
     "name": "stdout",
     "output_type": "stream",
     "text": [
      "Epoch 1/4\n",
      "195/195 [==============================] - 29s 99ms/step - loss: 0.5067 - accuracy: 0.7349\n",
      "Epoch 2/4\n",
      "195/195 [==============================] - 29s 149ms/step - loss: 0.3237 - accuracy: 0.8659 - val_loss: 0.3778 - val_accuracy: 0.8381\n",
      "Epoch 3/4\n",
      "195/195 [==============================] - 21s 107ms/step - loss: 0.2709 - accuracy: 0.8919\n",
      "Epoch 4/4\n",
      "195/195 [==============================] - 27s 139ms/step - loss: 0.2379 - accuracy: 0.9076 - val_loss: 0.3963 - val_accuracy: 0.8381\n"
     ]
    },
    {
     "data": {
      "text/plain": [
       "<keras.callbacks.History at 0x2120732ed90>"
      ]
     },
     "execution_count": 49,
     "metadata": {},
     "output_type": "execute_result"
    }
   ],
   "source": [
    "# 모델 훈련\n",
    "import time\n",
    "units = 64\n",
    "epochs = 4\n",
    "t0 = time.time()\n",
    "\n",
    "model = GRU_Build(units)\n",
    "    \n",
    "model.compile(optimizer=tf.keras.optimizers.Adam(0.001),\n",
    "              loss=tf.losses.BinaryCrossentropy(),\n",
    "              metrics=['accuracy'],\n",
    "              experimental_run_tf_function=False)\n",
    "    \n",
    "model.fit(train_data, epochs=epochs, validation_data=test_data, validation_freq=2)"
   ]
  },
  {
   "cell_type": "code",
   "execution_count": 50,
   "metadata": {},
   "outputs": [
    {
     "name": "stdout",
     "output_type": "stream",
     "text": [
      "훈련 데이터셋 평가...\n",
      "loss=0.1644, accuracy: 94.5833%\n",
      "테스트 데이터셋 평가...\n",
      "loss=0.3963, accuracy: 83.8061%\n",
      "시간: 118.3700225353241\n"
     ]
    }
   ],
   "source": [
    "# 모델 평가\n",
    "print(\"훈련 데이터셋 평가...\")\n",
    "(loss, accuracy) = model.evaluate(train_data, verbose=0)\n",
    "print(\"loss={:.4f}, accuracy: {:.4f}%\".format(loss,accuracy * 100))\n",
    "print(\"테스트 데이터셋 평가...\")\n",
    "(loss, accuracy) = model.evaluate(test_data, verbose=0)\n",
    "print(\"loss={:.4f}, accuracy: {:.4f}%\".format(loss,accuracy * 100))\n",
    "\n",
    "t1 = time.time()\n",
    "print('시간:', t1-t0)"
   ]
  },
  {
   "cell_type": "markdown",
   "metadata": {},
   "source": [
    "- LSTM과 비교했을 때 훈련 데이터셋에 비해 약간 정확도가 낮음, 하지만 전반적인 정확도는 나쁘지 않음"
   ]
  },
  {
   "cell_type": "markdown",
   "metadata": {},
   "source": [
    "# GRU 계층 구현"
   ]
  },
  {
   "cell_type": "code",
   "execution_count": 51,
   "metadata": {},
   "outputs": [],
   "source": [
    "# 네트워크 생성\n",
    "class GRU_Build(tf.keras.Model):\n",
    "    def __init__(self,units):\n",
    "        super(GRU_Build,self).__init__()\n",
    "        \n",
    "        self.embedding=tf.keras.layers.Embedding(total_words,embedding_len,input_length=max_review_len)\n",
    "        self.rnn=tf.keras.Sequential([\n",
    "            tf.keras.layers.GRU(units,dropout=0.5,return_sequences=True,unroll=True),\n",
    "            tf.keras.layers.GRU(units,dropout=0.5,unroll=True)\n",
    "        ])\n",
    "        self.outlayer=tf.keras.layers.Dense(1)\n",
    "        \n",
    "    def call(self, inputs, training=None):\n",
    "\n",
    "        x = inputs\n",
    "        x = self.embedding(x)\n",
    "        x = self.rnn(x)\n",
    "        x = self.outlayer(x)\n",
    "        prob = tf.sigmoid(x)\n",
    "        return prob"
   ]
  },
  {
   "cell_type": "code",
   "execution_count": 52,
   "metadata": {},
   "outputs": [
    {
     "name": "stdout",
     "output_type": "stream",
     "text": [
      "Epoch 1/4\n",
      "195/195 [==============================] - 33s 119ms/step - loss: 0.5018 - accuracy: 0.7346\n",
      "Epoch 2/4\n",
      "195/195 [==============================] - 34s 173ms/step - loss: 0.3187 - accuracy: 0.8686 - val_loss: 0.3557 - val_accuracy: 0.8422\n",
      "Epoch 3/4\n",
      "195/195 [==============================] - 25s 127ms/step - loss: 0.2654 - accuracy: 0.8940\n",
      "Epoch 4/4\n",
      "195/195 [==============================] - 32s 166ms/step - loss: 0.2293 - accuracy: 0.9096 - val_loss: 0.3986 - val_accuracy: 0.8371\n"
     ]
    },
    {
     "data": {
      "text/plain": [
       "<keras.callbacks.History at 0x212107f3ca0>"
      ]
     },
     "execution_count": 52,
     "metadata": {},
     "output_type": "execute_result"
    }
   ],
   "source": [
    "# 모델 훈련\n",
    "import time\n",
    "units = 64\n",
    "epochs = 4\n",
    "t0 = time.time()\n",
    "\n",
    "model = GRU_Build(units)\n",
    "    \n",
    "model.compile(optimizer=tf.keras.optimizers.Adam(0.001),\n",
    "              loss=tf.losses.BinaryCrossentropy(),\n",
    "              metrics=['accuracy'],\n",
    "              experimental_run_tf_function=False)\n",
    "    \n",
    "model.fit(train_data, epochs=epochs, validation_data=test_data, validation_freq=2)"
   ]
  },
  {
   "cell_type": "code",
   "execution_count": 53,
   "metadata": {},
   "outputs": [
    {
     "name": "stdout",
     "output_type": "stream",
     "text": [
      "훈련 데이터셋 평가...\n",
      "loss=0.1472, accuracy: 95.1923%\n",
      "테스트 데이터셋 평가...\n",
      "loss=0.3986, accuracy: 83.7059%\n",
      "시간: 138.73150944709778\n"
     ]
    }
   ],
   "source": [
    "# 모델 평가\n",
    "print(\"훈련 데이터셋 평가...\")\n",
    "(loss, accuracy) = model.evaluate(train_data, verbose=0)\n",
    "print(\"loss={:.4f}, accuracy: {:.4f}%\".format(loss,accuracy * 100))\n",
    "print(\"테스트 데이터셋 평가...\")\n",
    "(loss, accuracy) = model.evaluate(test_data, verbose=0)\n",
    "print(\"loss={:.4f}, accuracy: {:.4f}%\".format(loss,accuracy * 100))\n",
    "\n",
    "t1 = time.time()\n",
    "print('시간:', t1-t0)"
   ]
  },
  {
   "cell_type": "markdown",
   "metadata": {},
   "source": [
    "# 양방향 RNN"
   ]
  },
  {
   "cell_type": "code",
   "execution_count": 54,
   "metadata": {},
   "outputs": [
    {
     "name": "stdout",
     "output_type": "stream",
     "text": [
      "Epoch 1/4\n",
      "196/196 [==============================] - 305s 2s/step - loss: 0.5300 - accuracy: 0.7253 - val_loss: 0.3246 - val_accuracy: 0.8626\n",
      "Epoch 2/4\n",
      "196/196 [==============================] - 319s 2s/step - loss: 0.2647 - accuracy: 0.8977 - val_loss: 0.3090 - val_accuracy: 0.8675\n",
      "Epoch 3/4\n",
      "196/196 [==============================] - 334s 2s/step - loss: 0.1903 - accuracy: 0.9302 - val_loss: 0.3493 - val_accuracy: 0.8677\n",
      "Epoch 4/4\n",
      "196/196 [==============================] - 339s 2s/step - loss: 0.1497 - accuracy: 0.9485 - val_loss: 0.3502 - val_accuracy: 0.8642\n"
     ]
    },
    {
     "data": {
      "text/plain": [
       "<keras.callbacks.History at 0x212109b9dc0>"
      ]
     },
     "execution_count": 54,
     "metadata": {},
     "output_type": "execute_result"
    }
   ],
   "source": [
    "# 모델 생성 및 훈련\n",
    "import numpy as np\n",
    "from tensorflow.keras.preprocessing import sequence\n",
    "from tensorflow.keras.models import Sequential\n",
    "from tensorflow.keras.layers import Dense, Dropout, Embedding, LSTM, Bidirectional\n",
    "from tensorflow.keras.optimizers import Adam\n",
    "from tensorflow.keras.datasets import imdb\n",
    "\n",
    "n_unique_words=10000\n",
    "maxlen=200\n",
    "batch_size=128\n",
    "\n",
    "(x_train,y_train),(x_test,y_test)=imdb.load_data(num_words=n_unique_words)\n",
    "x_train=sequence.pad_sequences(x_train,maxlen=maxlen)\n",
    "x_test=sequence.pad_sequences(x_test,maxlen=maxlen)\n",
    "y_train=np.array(y_train)\n",
    "y_test=np.array(y_test)\n",
    "\n",
    "model=Sequential()\n",
    "model.add(Embedding(n_unique_words,128,input_length=maxlen))\n",
    "model.add(Bidirectional(LSTM(64)))\n",
    "model.add(Dropout(0.5))\n",
    "model.add(Dense(1, activation='sigmoid'))\n",
    "\n",
    "model.compile(loss='binary_crossentropy',optimizer='adam',metrics=['accuracy'])\n",
    "model.fit(x_train,y_train,\n",
    "         batch_size=batch_size,\n",
    "         epochs=4,\n",
    "         validation_data=[x_test,y_test])"
   ]
  },
  {
   "cell_type": "code",
   "execution_count": 56,
   "metadata": {},
   "outputs": [
    {
     "name": "stdout",
     "output_type": "stream",
     "text": [
      "Model: \"sequential_5\"\n",
      "_________________________________________________________________\n",
      " Layer (type)                Output Shape              Param #   \n",
      "=================================================================\n",
      " embedding_10 (Embedding)    (None, 200, 128)          1280000   \n",
      "                                                                 \n",
      " bidirectional (Bidirectiona  (None, 128)              98816     \n",
      " l)                                                              \n",
      "                                                                 \n",
      " dropout (Dropout)           (None, 128)               0         \n",
      "                                                                 \n",
      " dense_10 (Dense)            (None, 1)                 129       \n",
      "                                                                 \n",
      "=================================================================\n",
      "Total params: 1,378,945\n",
      "Trainable params: 1,378,945\n",
      "Non-trainable params: 0\n",
      "_________________________________________________________________\n"
     ]
    }
   ],
   "source": [
    "# LSTM 모델 구조 확인\n",
    "model.summary()"
   ]
  },
  {
   "cell_type": "code",
   "execution_count": 55,
   "metadata": {},
   "outputs": [
    {
     "name": "stdout",
     "output_type": "stream",
     "text": [
      "66/66 [==============================] - 33s 495ms/step - loss: 0.1033 - accuracy: 0.9714\n",
      "Training accuracy ['loss', 'accuracy'] 0.9714000225067139\n",
      "Training accuracy ['loss', 'accuracy'] 0.10325216501951218\n",
      "66/66 [==============================] - 33s 492ms/step - loss: 0.3502 - accuracy: 0.8642\n",
      "Testing accuracy ['loss', 'accuracy'] 0.8641999959945679\n",
      "Testing accuracy ['loss', 'accuracy'] 0.3502470850944519\n"
     ]
    }
   ],
   "source": [
    "# 모델 평가\n",
    "loss, acc = model.evaluate(x_train, y_train, batch_size=384, verbose=1)\n",
    "print ('Training accuracy', model.metrics_names, acc)\n",
    "print ('Training accuracy', model.metrics_names, loss)\n",
    "loss, acc = model.evaluate(x_test, y_test, batch_size=384, verbose=1)\n",
    "print ('Testing accuracy', model.metrics_names, acc)\n",
    "print ('Testing accuracy', model.metrics_names, loss)"
   ]
  }
 ],
 "metadata": {
  "kernelspec": {
   "display_name": "Python 3",
   "language": "python",
   "name": "python3"
  },
  "language_info": {
   "codemirror_mode": {
    "name": "ipython",
    "version": 3
   },
   "file_extension": ".py",
   "mimetype": "text/x-python",
   "name": "python",
   "nbconvert_exporter": "python",
   "pygments_lexer": "ipython3",
   "version": "3.8.5"
  }
 },
 "nbformat": 4,
 "nbformat_minor": 4
}
