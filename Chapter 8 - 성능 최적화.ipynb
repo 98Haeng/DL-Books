{
 "cells": [
  {
   "cell_type": "markdown",
   "metadata": {},
   "source": [
    "# 배치 정규화(Batch Normalization)"
   ]
  },
  {
   "cell_type": "code",
   "execution_count": 13,
   "metadata": {},
   "outputs": [],
   "source": [
    "# 라이브러리 호출 및 데이터셋 내려받기\n",
    "import tensorflow as tf\n",
    "import pandas as pd\n",
    "import numpy as np\n",
    "import matplotlib.pyplot as plt\n",
    "from sklearn.datasets import load_iris\n",
    "from sklearn.model_selection import train_test_split\n",
    "iris=load_iris()"
   ]
  },
  {
   "cell_type": "code",
   "execution_count": 14,
   "metadata": {},
   "outputs": [],
   "source": [
    "# 데이터프레임에 데이터셋 저장\n",
    "df=pd.DataFrame(iris.data,columns=iris.feature_names) # 붓꽃 데이터셋을 df에 저장\n",
    "df=df.astype(float) # 데이터 형식을 float로 변환\n",
    "df['label']=iris.target # 붓꽃 데이터셋의 정답에 'label'이라는 이름을 붙임\n",
    "df['label']=df.label.replace(dict(enumerate(iris.target_names))) # 1"
   ]
  },
  {
   "cell_type": "markdown",
   "metadata": {},
   "source": [
    "- 1 : 데이터셋의 특정 문자열을 변환\n",
    "    - replace : 데이터프레임의 특정 문자열을 바꾸고 싶을 때 replace를 사용\n",
    "    - 파이썬에서는 리스트, 튜플, 문자열 등 여러가지 자료형을 입력받으면 인덱스 값으 포함하는 enumerate 객체를 딕셔너리에 넣음."
   ]
  },
  {
   "cell_type": "code",
   "execution_count": 15,
   "metadata": {},
   "outputs": [],
   "source": [
    "# 원 핫 인코딩 적용\n",
    "label=pd.get_dummies(df['label'],prefix='label') # 1\n",
    "df=pd.concat([df,label],axis=1)\n",
    "df.drop(['label'],axis=1,inplace=True) # 2"
   ]
  },
  {
   "cell_type": "markdown",
   "metadata": {},
   "source": [
    "- 1 : get_dummies를 사용하여 원핫 인코딩을 수행\n",
    "- 2 : drop 명령어로 열 전체를 삭제할 수 있음\n",
    "    - axis=1은 열을 삭제, axis=0은 행을 삭제\n",
    "    - inplace는 기존 데이터프레임의 데이터를 삭제하고, drop이 적용된 이후의 데이터프레임으로 대체하겠다는 의미\n",
    "  "
   ]
  },
  {
   "cell_type": "code",
   "execution_count": 16,
   "metadata": {},
   "outputs": [],
   "source": [
    "# 데이터셋 분류\n",
    "X = df[['sepal length (cm)', 'sepal width (cm)', 'petal length (cm)', 'petal width (cm)']]\n",
    "X = np.asarray(X) # sepal~width 열을 배열로 변환하여 x변수에 저장\n",
    "y = df[['label_setosa', 'label_versicolor', 'label_virginica']]\n",
    "y = np.asarray(y) # 'label_setosa', 'label_versicolor', 'label_virginica' 열을 배열로 변환하여 y변수에 저장"
   ]
  },
  {
   "cell_type": "code",
   "execution_count": 17,
   "metadata": {},
   "outputs": [],
   "source": [
    "# 데이터셋 분리\n",
    "X_train,X_test,y_train,y_test=train_test_split(X,y,test_size=0.2)"
   ]
  },
  {
   "cell_type": "code",
   "execution_count": 18,
   "metadata": {},
   "outputs": [
    {
     "name": "stdout",
     "output_type": "stream",
     "text": [
      "Model: \"sequential_2\"\n",
      "_________________________________________________________________\n",
      " Layer (type)                Output Shape              Param #   \n",
      "=================================================================\n",
      " dense_12 (Dense)            (None, 64)                320       \n",
      "                                                                 \n",
      " dense_13 (Dense)            (None, 128)               8320      \n",
      "                                                                 \n",
      " dense_14 (Dense)            (None, 128)               16512     \n",
      "                                                                 \n",
      " dense_15 (Dense)            (None, 64)                8256      \n",
      "                                                                 \n",
      " dense_16 (Dense)            (None, 64)                4160      \n",
      "                                                                 \n",
      " dense_17 (Dense)            (None, 3)                 195       \n",
      "                                                                 \n",
      "=================================================================\n",
      "Total params: 37,763\n",
      "Trainable params: 37,763\n",
      "Non-trainable params: 0\n",
      "_________________________________________________________________\n"
     ]
    }
   ],
   "source": [
    "# 배치 정규화가 적용되지 않은 모델 생성\n",
    "from tensorflow.keras.models import Sequential\n",
    "from tensorflow.keras.layers import Dense, BatchNormalization\n",
    "\n",
    "model1 = Sequential([\n",
    "    Dense(64, input_shape=(4,), activation=\"relu\"),# 입력층은 (4,0)의 형태를 가지며, 유닛 64개로 구성\n",
    "    Dense(128, activation='relu'), # 입력층 다음으로 유닛 128개를 갖는 밀집층을 두개 구성\n",
    "    Dense(128, activation='relu'), \n",
    "    Dense(64, activation='relu'), # 유닛 64개로 구성된 밀집층이 두개 더 있으며, 렐루 활성화함수 사용\n",
    "    Dense(64, activation='relu'),\n",
    "    Dense(3, activation='softmax') # 출력층은 유닛 세개로 구성되며, 소프트맥스 활성화함수로 사용\n",
    "]);\n",
    "model1.summary()"
   ]
  },
  {
   "cell_type": "code",
   "execution_count": 19,
   "metadata": {},
   "outputs": [
    {
     "name": "stdout",
     "output_type": "stream",
     "text": [
      "Epoch 1/1000\n",
      "3/3 - 0s - loss: 1.0718 - accuracy: 0.5556 - val_loss: 0.9998 - val_accuracy: 0.3333 - 423ms/epoch - 141ms/step\n",
      "Epoch 2/1000\n",
      "3/3 - 0s - loss: 0.9768 - accuracy: 0.4222 - val_loss: 0.9249 - val_accuracy: 0.6667 - 22ms/epoch - 7ms/step\n",
      "Epoch 3/1000\n",
      "3/3 - 0s - loss: 0.8997 - accuracy: 0.6778 - val_loss: 0.8606 - val_accuracy: 0.6667 - 20ms/epoch - 7ms/step\n",
      "Epoch 4/1000\n",
      "3/3 - 0s - loss: 0.8205 - accuracy: 0.6889 - val_loss: 0.7738 - val_accuracy: 0.6667 - 18ms/epoch - 6ms/step\n",
      "Epoch 5/1000\n",
      "3/3 - 0s - loss: 0.7273 - accuracy: 0.6889 - val_loss: 0.6776 - val_accuracy: 0.6667 - 19ms/epoch - 6ms/step\n",
      "Epoch 6/1000\n",
      "3/3 - 0s - loss: 0.6478 - accuracy: 0.8111 - val_loss: 0.5992 - val_accuracy: 0.9333 - 18ms/epoch - 6ms/step\n",
      "Epoch 7/1000\n",
      "3/3 - 0s - loss: 0.5546 - accuracy: 0.9333 - val_loss: 0.5223 - val_accuracy: 0.7333 - 18ms/epoch - 6ms/step\n",
      "Epoch 8/1000\n",
      "3/3 - 0s - loss: 0.4820 - accuracy: 0.7444 - val_loss: 0.4765 - val_accuracy: 0.6667 - 16ms/epoch - 5ms/step\n",
      "Epoch 9/1000\n",
      "3/3 - 0s - loss: 0.4415 - accuracy: 0.6889 - val_loss: 0.4252 - val_accuracy: 0.7667 - 18ms/epoch - 6ms/step\n",
      "Epoch 10/1000\n",
      "3/3 - 0s - loss: 0.3767 - accuracy: 0.8111 - val_loss: 0.3808 - val_accuracy: 0.9667 - 18ms/epoch - 6ms/step\n",
      "Epoch 11/1000\n",
      "3/3 - 0s - loss: 0.3501 - accuracy: 0.9333 - val_loss: 0.3601 - val_accuracy: 0.8667 - 18ms/epoch - 6ms/step\n",
      "Epoch 12/1000\n",
      "3/3 - 0s - loss: 0.3074 - accuracy: 0.9333 - val_loss: 0.3123 - val_accuracy: 0.9000 - 19ms/epoch - 6ms/step\n",
      "Epoch 13/1000\n",
      "3/3 - 0s - loss: 0.2700 - accuracy: 0.9333 - val_loss: 0.2759 - val_accuracy: 0.9333 - 17ms/epoch - 6ms/step\n",
      "Epoch 14/1000\n",
      "3/3 - 0s - loss: 0.2312 - accuracy: 0.9444 - val_loss: 0.2444 - val_accuracy: 0.9667 - 18ms/epoch - 6ms/step\n",
      "Epoch 15/1000\n",
      "3/3 - 0s - loss: 0.1961 - accuracy: 0.9556 - val_loss: 0.2296 - val_accuracy: 0.9333 - 19ms/epoch - 6ms/step\n",
      "Epoch 16/1000\n",
      "3/3 - 0s - loss: 0.1768 - accuracy: 0.9778 - val_loss: 0.1955 - val_accuracy: 1.0000 - 19ms/epoch - 6ms/step\n",
      "Epoch 17/1000\n",
      "3/3 - 0s - loss: 0.1503 - accuracy: 0.9778 - val_loss: 0.1783 - val_accuracy: 0.9333 - 18ms/epoch - 6ms/step\n",
      "Epoch 18/1000\n",
      "3/3 - 0s - loss: 0.2027 - accuracy: 0.9111 - val_loss: 0.1544 - val_accuracy: 0.9667 - 16ms/epoch - 5ms/step\n",
      "Epoch 19/1000\n",
      "3/3 - 0s - loss: 0.1909 - accuracy: 0.9111 - val_loss: 0.2521 - val_accuracy: 0.8333 - 17ms/epoch - 6ms/step\n",
      "Epoch 20/1000\n",
      "3/3 - 0s - loss: 0.1582 - accuracy: 0.9444 - val_loss: 0.1825 - val_accuracy: 0.9000 - 17ms/epoch - 6ms/step\n",
      "Epoch 21/1000\n",
      "3/3 - 0s - loss: 0.1692 - accuracy: 0.9333 - val_loss: 0.1363 - val_accuracy: 0.9667 - 17ms/epoch - 6ms/step\n",
      "Epoch 22/1000\n",
      "3/3 - 0s - loss: 0.1100 - accuracy: 0.9667 - val_loss: 0.2048 - val_accuracy: 0.8667 - 17ms/epoch - 6ms/step\n",
      "Epoch 23/1000\n",
      "3/3 - 0s - loss: 0.1253 - accuracy: 0.9444 - val_loss: 0.1297 - val_accuracy: 1.0000 - 18ms/epoch - 6ms/step\n",
      "Epoch 24/1000\n",
      "3/3 - 0s - loss: 0.0977 - accuracy: 0.9778 - val_loss: 0.1244 - val_accuracy: 1.0000 - 19ms/epoch - 6ms/step\n",
      "Epoch 25/1000\n",
      "3/3 - 0s - loss: 0.0978 - accuracy: 0.9778 - val_loss: 0.1272 - val_accuracy: 0.9667 - 17ms/epoch - 6ms/step\n",
      "Epoch 26/1000\n",
      "3/3 - 0s - loss: 0.0903 - accuracy: 0.9778 - val_loss: 0.1145 - val_accuracy: 1.0000 - 18ms/epoch - 6ms/step\n",
      "Epoch 27/1000\n",
      "3/3 - 0s - loss: 0.0904 - accuracy: 0.9778 - val_loss: 0.1136 - val_accuracy: 1.0000 - 18ms/epoch - 6ms/step\n",
      "Epoch 28/1000\n",
      "3/3 - 0s - loss: 0.0874 - accuracy: 0.9778 - val_loss: 0.1107 - val_accuracy: 1.0000 - 19ms/epoch - 6ms/step\n",
      "Epoch 29/1000\n",
      "3/3 - 0s - loss: 0.0857 - accuracy: 0.9778 - val_loss: 0.1300 - val_accuracy: 0.9333 - 18ms/epoch - 6ms/step\n",
      "Epoch 30/1000\n",
      "3/3 - 0s - loss: 0.0817 - accuracy: 0.9889 - val_loss: 0.1139 - val_accuracy: 0.9333 - 18ms/epoch - 6ms/step\n",
      "Epoch 31/1000\n",
      "3/3 - 0s - loss: 0.0783 - accuracy: 0.9778 - val_loss: 0.1019 - val_accuracy: 1.0000 - 18ms/epoch - 6ms/step\n",
      "Epoch 32/1000\n",
      "3/3 - 0s - loss: 0.0780 - accuracy: 0.9778 - val_loss: 0.1087 - val_accuracy: 0.9333 - 17ms/epoch - 6ms/step\n",
      "Epoch 33/1000\n",
      "3/3 - 0s - loss: 0.0751 - accuracy: 0.9778 - val_loss: 0.1018 - val_accuracy: 0.9667 - 17ms/epoch - 6ms/step\n",
      "Epoch 34/1000\n",
      "3/3 - 0s - loss: 0.0733 - accuracy: 0.9778 - val_loss: 0.0904 - val_accuracy: 1.0000 - 18ms/epoch - 6ms/step\n",
      "Epoch 35/1000\n",
      "3/3 - 0s - loss: 0.0786 - accuracy: 0.9778 - val_loss: 0.1180 - val_accuracy: 0.9333 - 18ms/epoch - 6ms/step\n",
      "Epoch 36/1000\n",
      "3/3 - 0s - loss: 0.0709 - accuracy: 0.9889 - val_loss: 0.1883 - val_accuracy: 0.9333 - 18ms/epoch - 6ms/step\n",
      "Epoch 37/1000\n",
      "3/3 - 0s - loss: 0.0906 - accuracy: 0.9667 - val_loss: 0.1290 - val_accuracy: 0.9333 - 18ms/epoch - 6ms/step\n",
      "Epoch 38/1000\n",
      "3/3 - 0s - loss: 0.0728 - accuracy: 0.9889 - val_loss: 0.1039 - val_accuracy: 0.9333 - 19ms/epoch - 6ms/step\n",
      "Epoch 39/1000\n",
      "3/3 - 0s - loss: 0.0705 - accuracy: 0.9778 - val_loss: 0.1125 - val_accuracy: 0.9333 - 17ms/epoch - 6ms/step\n",
      "Epoch 40/1000\n",
      "3/3 - 0s - loss: 0.0767 - accuracy: 0.9778 - val_loss: 0.1035 - val_accuracy: 0.9333 - 17ms/epoch - 6ms/step\n",
      "Epoch 41/1000\n",
      "3/3 - 0s - loss: 0.0704 - accuracy: 0.9778 - val_loss: 0.0804 - val_accuracy: 0.9667 - 18ms/epoch - 6ms/step\n",
      "Epoch 42/1000\n",
      "3/3 - 0s - loss: 0.0796 - accuracy: 0.9778 - val_loss: 0.0947 - val_accuracy: 0.9333 - 16ms/epoch - 5ms/step\n",
      "Epoch 43/1000\n",
      "3/3 - 0s - loss: 0.0683 - accuracy: 0.9778 - val_loss: 0.2008 - val_accuracy: 0.9333 - 16ms/epoch - 5ms/step\n",
      "Epoch 44/1000\n",
      "3/3 - 0s - loss: 0.1054 - accuracy: 0.9333 - val_loss: 0.1654 - val_accuracy: 0.9333 - 17ms/epoch - 6ms/step\n",
      "Epoch 45/1000\n",
      "3/3 - 0s - loss: 0.0736 - accuracy: 0.9667 - val_loss: 0.0988 - val_accuracy: 0.9667 - 17ms/epoch - 6ms/step\n",
      "Epoch 46/1000\n",
      "3/3 - 0s - loss: 0.1135 - accuracy: 0.9444 - val_loss: 0.1177 - val_accuracy: 0.9333 - 19ms/epoch - 6ms/step\n",
      "Epoch 47/1000\n",
      "3/3 - 0s - loss: 0.1275 - accuracy: 0.9444 - val_loss: 0.2483 - val_accuracy: 0.8333 - 16ms/epoch - 5ms/step\n",
      "Epoch 48/1000\n",
      "3/3 - 0s - loss: 0.1199 - accuracy: 0.9556 - val_loss: 0.0972 - val_accuracy: 0.9667 - 17ms/epoch - 6ms/step\n",
      "Epoch 49/1000\n",
      "3/3 - 0s - loss: 0.1037 - accuracy: 0.9556 - val_loss: 0.1092 - val_accuracy: 0.9333 - 18ms/epoch - 6ms/step\n",
      "Epoch 50/1000\n",
      "3/3 - 0s - loss: 0.0697 - accuracy: 0.9889 - val_loss: 0.2565 - val_accuracy: 0.8333 - 16ms/epoch - 5ms/step\n",
      "Epoch 51/1000\n",
      "3/3 - 0s - loss: 0.0943 - accuracy: 0.9444 - val_loss: 0.0849 - val_accuracy: 0.9667 - 16ms/epoch - 5ms/step\n",
      "Epoch 52/1000\n",
      "3/3 - 0s - loss: 0.0774 - accuracy: 0.9778 - val_loss: 0.0914 - val_accuracy: 1.0000 - 16ms/epoch - 5ms/step\n",
      "Epoch 53/1000\n",
      "3/3 - 0s - loss: 0.0932 - accuracy: 0.9667 - val_loss: 0.2363 - val_accuracy: 0.8667 - 16ms/epoch - 5ms/step\n",
      "Epoch 54/1000\n",
      "3/3 - 0s - loss: 0.0814 - accuracy: 0.9667 - val_loss: 0.0817 - val_accuracy: 0.9667 - 17ms/epoch - 6ms/step\n",
      "Epoch 55/1000\n",
      "3/3 - 0s - loss: 0.0907 - accuracy: 0.9667 - val_loss: 0.0904 - val_accuracy: 0.9667 - 17ms/epoch - 6ms/step\n",
      "Epoch 56/1000\n",
      "3/3 - 0s - loss: 0.0890 - accuracy: 0.9778 - val_loss: 0.1211 - val_accuracy: 0.9333 - 18ms/epoch - 6ms/step\n",
      "Epoch 57/1000\n",
      "3/3 - 0s - loss: 0.0706 - accuracy: 0.9667 - val_loss: 0.1648 - val_accuracy: 0.9333 - 18ms/epoch - 6ms/step\n",
      "Epoch 58/1000\n",
      "3/3 - 0s - loss: 0.0832 - accuracy: 0.9778 - val_loss: 0.0958 - val_accuracy: 0.9333 - 18ms/epoch - 6ms/step\n",
      "Epoch 59/1000\n",
      "3/3 - 0s - loss: 0.0605 - accuracy: 0.9889 - val_loss: 0.1508 - val_accuracy: 0.9333 - 18ms/epoch - 6ms/step\n",
      "Epoch 60/1000\n",
      "3/3 - 0s - loss: 0.0659 - accuracy: 0.9778 - val_loss: 0.0990 - val_accuracy: 0.9333 - 18ms/epoch - 6ms/step\n",
      "Epoch 61/1000\n",
      "3/3 - 0s - loss: 0.0605 - accuracy: 0.9889 - val_loss: 0.0865 - val_accuracy: 1.0000 - 18ms/epoch - 6ms/step\n",
      "Epoch 62/1000\n",
      "3/3 - 0s - loss: 0.0669 - accuracy: 0.9778 - val_loss: 0.0881 - val_accuracy: 0.9333 - 18ms/epoch - 6ms/step\n",
      "Epoch 63/1000\n",
      "3/3 - 0s - loss: 0.0691 - accuracy: 0.9778 - val_loss: 0.0887 - val_accuracy: 0.9333 - 17ms/epoch - 6ms/step\n",
      "Epoch 64/1000\n",
      "3/3 - 0s - loss: 0.0621 - accuracy: 0.9889 - val_loss: 0.1014 - val_accuracy: 0.9333 - 19ms/epoch - 6ms/step\n",
      "Epoch 65/1000\n",
      "3/3 - 0s - loss: 0.0620 - accuracy: 0.9889 - val_loss: 0.1239 - val_accuracy: 0.9333 - 17ms/epoch - 6ms/step\n",
      "Epoch 66/1000\n",
      "3/3 - 0s - loss: 0.0848 - accuracy: 0.9556 - val_loss: 0.1100 - val_accuracy: 0.9333 - 19ms/epoch - 6ms/step\n",
      "Epoch 67/1000\n",
      "3/3 - 0s - loss: 0.0741 - accuracy: 0.9667 - val_loss: 0.0945 - val_accuracy: 0.9667 - 18ms/epoch - 6ms/step\n"
     ]
    },
    {
     "name": "stdout",
     "output_type": "stream",
     "text": [
      "Epoch 68/1000\n",
      "3/3 - 0s - loss: 0.0981 - accuracy: 0.9667 - val_loss: 0.1147 - val_accuracy: 0.9333 - 17ms/epoch - 6ms/step\n",
      "Epoch 69/1000\n",
      "3/3 - 0s - loss: 0.0557 - accuracy: 0.9889 - val_loss: 0.2336 - val_accuracy: 0.9000 - 18ms/epoch - 6ms/step\n",
      "Epoch 70/1000\n",
      "3/3 - 0s - loss: 0.0867 - accuracy: 0.9444 - val_loss: 0.0988 - val_accuracy: 0.9333 - 18ms/epoch - 6ms/step\n",
      "Epoch 71/1000\n",
      "3/3 - 0s - loss: 0.0642 - accuracy: 0.9889 - val_loss: 0.0740 - val_accuracy: 0.9667 - 17ms/epoch - 6ms/step\n",
      "Epoch 72/1000\n",
      "3/3 - 0s - loss: 0.0786 - accuracy: 0.9778 - val_loss: 0.0894 - val_accuracy: 0.9333 - 17ms/epoch - 6ms/step\n",
      "Epoch 73/1000\n",
      "3/3 - 0s - loss: 0.0578 - accuracy: 0.9889 - val_loss: 0.1536 - val_accuracy: 0.9333 - 18ms/epoch - 6ms/step\n",
      "Epoch 74/1000\n",
      "3/3 - 0s - loss: 0.0623 - accuracy: 0.9778 - val_loss: 0.1154 - val_accuracy: 0.9333 - 17ms/epoch - 6ms/step\n",
      "Epoch 75/1000\n",
      "3/3 - 0s - loss: 0.0577 - accuracy: 0.9889 - val_loss: 0.0860 - val_accuracy: 0.9333 - 16ms/epoch - 5ms/step\n",
      "Epoch 76/1000\n",
      "3/3 - 0s - loss: 0.0612 - accuracy: 0.9889 - val_loss: 0.0861 - val_accuracy: 0.9333 - 16ms/epoch - 5ms/step\n",
      "Epoch 77/1000\n",
      "3/3 - 0s - loss: 0.0576 - accuracy: 0.9889 - val_loss: 0.1203 - val_accuracy: 0.9333 - 16ms/epoch - 5ms/step\n",
      "Epoch 78/1000\n",
      "3/3 - 0s - loss: 0.0562 - accuracy: 0.9889 - val_loss: 0.1162 - val_accuracy: 0.9333 - 18ms/epoch - 6ms/step\n",
      "Epoch 79/1000\n",
      "3/3 - 0s - loss: 0.0569 - accuracy: 0.9889 - val_loss: 0.1108 - val_accuracy: 0.9333 - 18ms/epoch - 6ms/step\n",
      "Epoch 80/1000\n",
      "3/3 - 0s - loss: 0.0584 - accuracy: 0.9778 - val_loss: 0.1099 - val_accuracy: 0.9333 - 18ms/epoch - 6ms/step\n",
      "Epoch 81/1000\n",
      "3/3 - 0s - loss: 0.0548 - accuracy: 0.9889 - val_loss: 0.0959 - val_accuracy: 0.9333 - 18ms/epoch - 6ms/step\n",
      "Epoch 82/1000\n",
      "3/3 - 0s - loss: 0.0591 - accuracy: 0.9889 - val_loss: 0.1754 - val_accuracy: 0.9333 - 18ms/epoch - 6ms/step\n",
      "Epoch 83/1000\n",
      "3/3 - 0s - loss: 0.0718 - accuracy: 0.9556 - val_loss: 0.1991 - val_accuracy: 0.9333 - 18ms/epoch - 6ms/step\n",
      "Epoch 84/1000\n",
      "3/3 - 0s - loss: 0.0665 - accuracy: 0.9778 - val_loss: 0.0753 - val_accuracy: 0.9667 - 18ms/epoch - 6ms/step\n",
      "Epoch 85/1000\n",
      "3/3 - 0s - loss: 0.0949 - accuracy: 0.9556 - val_loss: 0.0733 - val_accuracy: 0.9667 - 19ms/epoch - 6ms/step\n",
      "Epoch 86/1000\n",
      "3/3 - 0s - loss: 0.0815 - accuracy: 0.9667 - val_loss: 0.1169 - val_accuracy: 0.9333 - 18ms/epoch - 6ms/step\n",
      "Epoch 87/1000\n",
      "3/3 - 0s - loss: 0.0542 - accuracy: 0.9889 - val_loss: 0.0720 - val_accuracy: 0.9667 - 18ms/epoch - 6ms/step\n",
      "Epoch 88/1000\n",
      "3/3 - 0s - loss: 0.0772 - accuracy: 0.9778 - val_loss: 0.0805 - val_accuracy: 1.0000 - 17ms/epoch - 6ms/step\n",
      "Epoch 89/1000\n",
      "3/3 - 0s - loss: 0.0572 - accuracy: 0.9889 - val_loss: 0.1508 - val_accuracy: 0.9333 - 18ms/epoch - 6ms/step\n",
      "Epoch 90/1000\n",
      "3/3 - 0s - loss: 0.0654 - accuracy: 0.9667 - val_loss: 0.2176 - val_accuracy: 0.9333 - 19ms/epoch - 6ms/step\n",
      "Epoch 91/1000\n",
      "3/3 - 0s - loss: 0.0738 - accuracy: 0.9556 - val_loss: 0.1603 - val_accuracy: 0.9333 - 17ms/epoch - 6ms/step\n",
      "Epoch 92/1000\n",
      "3/3 - 0s - loss: 0.0644 - accuracy: 0.9778 - val_loss: 0.1663 - val_accuracy: 0.9333 - 17ms/epoch - 6ms/step\n",
      "Epoch 93/1000\n",
      "3/3 - 0s - loss: 0.0819 - accuracy: 0.9556 - val_loss: 0.1336 - val_accuracy: 0.9333 - 16ms/epoch - 5ms/step\n",
      "Epoch 94/1000\n",
      "3/3 - 0s - loss: 0.0569 - accuracy: 0.9778 - val_loss: 0.0746 - val_accuracy: 0.9667 - 18ms/epoch - 6ms/step\n",
      "Epoch 95/1000\n",
      "3/3 - 0s - loss: 0.0894 - accuracy: 0.9778 - val_loss: 0.0890 - val_accuracy: 0.9333 - 16ms/epoch - 5ms/step\n",
      "Epoch 96/1000\n",
      "3/3 - 0s - loss: 0.0610 - accuracy: 0.9778 - val_loss: 0.2788 - val_accuracy: 0.8667 - 17ms/epoch - 6ms/step\n",
      "Epoch 97/1000\n",
      "3/3 - 0s - loss: 0.0799 - accuracy: 0.9556 - val_loss: 0.1072 - val_accuracy: 0.9333 - 18ms/epoch - 6ms/step\n",
      "Epoch 98/1000\n",
      "3/3 - 0s - loss: 0.0618 - accuracy: 0.9889 - val_loss: 0.0903 - val_accuracy: 0.9333 - 18ms/epoch - 6ms/step\n",
      "Epoch 99/1000\n",
      "3/3 - 0s - loss: 0.0463 - accuracy: 0.9889 - val_loss: 0.2818 - val_accuracy: 0.8667 - 17ms/epoch - 6ms/step\n",
      "Epoch 100/1000\n",
      "3/3 - 0s - loss: 0.0806 - accuracy: 0.9556 - val_loss: 0.1278 - val_accuracy: 0.9333 - 18ms/epoch - 6ms/step\n",
      "Epoch 101/1000\n",
      "3/3 - 0s - loss: 0.0717 - accuracy: 0.9778 - val_loss: 0.0725 - val_accuracy: 0.9667 - 17ms/epoch - 6ms/step\n",
      "Epoch 102/1000\n",
      "3/3 - 0s - loss: 0.0573 - accuracy: 0.9889 - val_loss: 0.2048 - val_accuracy: 0.9333 - 16ms/epoch - 5ms/step\n",
      "Epoch 103/1000\n",
      "3/3 - 0s - loss: 0.0807 - accuracy: 0.9556 - val_loss: 0.1458 - val_accuracy: 0.9333 - 17ms/epoch - 6ms/step\n",
      "Epoch 104/1000\n",
      "3/3 - 0s - loss: 0.0567 - accuracy: 0.9889 - val_loss: 0.0728 - val_accuracy: 0.9667 - 17ms/epoch - 6ms/step\n",
      "Epoch 105/1000\n",
      "3/3 - 0s - loss: 0.0793 - accuracy: 0.9778 - val_loss: 0.0961 - val_accuracy: 0.9333 - 18ms/epoch - 6ms/step\n",
      "Epoch 106/1000\n",
      "3/3 - 0s - loss: 0.0519 - accuracy: 0.9889 - val_loss: 0.2402 - val_accuracy: 0.9333 - 18ms/epoch - 6ms/step\n",
      "Epoch 107/1000\n",
      "3/3 - 0s - loss: 0.0826 - accuracy: 0.9556 - val_loss: 0.1191 - val_accuracy: 0.9333 - 17ms/epoch - 6ms/step\n",
      "Epoch 108/1000\n",
      "3/3 - 0s - loss: 0.0564 - accuracy: 0.9778 - val_loss: 0.0754 - val_accuracy: 0.9667 - 16ms/epoch - 5ms/step\n",
      "Epoch 109/1000\n",
      "3/3 - 0s - loss: 0.0882 - accuracy: 0.9556 - val_loss: 0.0852 - val_accuracy: 0.9333 - 17ms/epoch - 6ms/step\n",
      "Epoch 110/1000\n",
      "3/3 - 0s - loss: 0.0425 - accuracy: 0.9889 - val_loss: 0.3145 - val_accuracy: 0.8333 - 23ms/epoch - 8ms/step\n",
      "Epoch 111/1000\n",
      "3/3 - 0s - loss: 0.0964 - accuracy: 0.9444 - val_loss: 0.1593 - val_accuracy: 0.9333 - 20ms/epoch - 7ms/step\n",
      "Epoch 112/1000\n",
      "3/3 - 0s - loss: 0.0499 - accuracy: 0.9889 - val_loss: 0.0694 - val_accuracy: 0.9667 - 20ms/epoch - 7ms/step\n",
      "Epoch 113/1000\n",
      "3/3 - 0s - loss: 0.0821 - accuracy: 0.9778 - val_loss: 0.0774 - val_accuracy: 0.9667 - 22ms/epoch - 7ms/step\n",
      "Epoch 114/1000\n",
      "3/3 - 0s - loss: 0.0598 - accuracy: 0.9889 - val_loss: 0.3691 - val_accuracy: 0.8333 - 23ms/epoch - 8ms/step\n",
      "Epoch 115/1000\n",
      "3/3 - 0s - loss: 0.1034 - accuracy: 0.9444 - val_loss: 0.1283 - val_accuracy: 0.9333 - 22ms/epoch - 7ms/step\n",
      "Epoch 116/1000\n",
      "3/3 - 0s - loss: 0.0698 - accuracy: 0.9778 - val_loss: 0.0757 - val_accuracy: 0.9667 - 20ms/epoch - 7ms/step\n",
      "Epoch 117/1000\n",
      "3/3 - 0s - loss: 0.0978 - accuracy: 0.9444 - val_loss: 0.0741 - val_accuracy: 1.0000 - 22ms/epoch - 7ms/step\n",
      "Epoch 118/1000\n",
      "3/3 - 0s - loss: 0.0514 - accuracy: 0.9889 - val_loss: 0.2275 - val_accuracy: 0.9333 - 27ms/epoch - 9ms/step\n",
      "Epoch 119/1000\n",
      "3/3 - 0s - loss: 0.0857 - accuracy: 0.9556 - val_loss: 0.2021 - val_accuracy: 0.9333 - 24ms/epoch - 8ms/step\n",
      "Epoch 120/1000\n",
      "3/3 - 0s - loss: 0.0586 - accuracy: 0.9778 - val_loss: 0.0798 - val_accuracy: 0.9333 - 18ms/epoch - 6ms/step\n",
      "Epoch 121/1000\n",
      "3/3 - 0s - loss: 0.0557 - accuracy: 0.9889 - val_loss: 0.0749 - val_accuracy: 1.0000 - 17ms/epoch - 6ms/step\n",
      "Epoch 122/1000\n",
      "3/3 - 0s - loss: 0.0584 - accuracy: 0.9889 - val_loss: 0.0972 - val_accuracy: 0.9333 - 17ms/epoch - 6ms/step\n",
      "Epoch 123/1000\n",
      "3/3 - 0s - loss: 0.0490 - accuracy: 0.9889 - val_loss: 0.1657 - val_accuracy: 0.9333 - 17ms/epoch - 6ms/step\n",
      "Epoch 124/1000\n",
      "3/3 - 0s - loss: 0.0594 - accuracy: 0.9778 - val_loss: 0.0916 - val_accuracy: 0.9333 - 16ms/epoch - 5ms/step\n",
      "Epoch 125/1000\n",
      "3/3 - 0s - loss: 0.0546 - accuracy: 0.9889 - val_loss: 0.0843 - val_accuracy: 0.9667 - 17ms/epoch - 6ms/step\n",
      "Epoch 126/1000\n",
      "3/3 - 0s - loss: 0.1266 - accuracy: 0.9444 - val_loss: 0.0824 - val_accuracy: 0.9333 - 16ms/epoch - 5ms/step\n",
      "Epoch 127/1000\n",
      "3/3 - 0s - loss: 0.1032 - accuracy: 0.9667 - val_loss: 0.2990 - val_accuracy: 0.8333 - 17ms/epoch - 6ms/step\n",
      "Epoch 128/1000\n",
      "3/3 - 0s - loss: 0.1183 - accuracy: 0.9444 - val_loss: 0.1003 - val_accuracy: 0.9667 - 17ms/epoch - 6ms/step\n",
      "Epoch 129/1000\n",
      "3/3 - 0s - loss: 0.1297 - accuracy: 0.9444 - val_loss: 0.0817 - val_accuracy: 0.9667 - 18ms/epoch - 6ms/step\n",
      "Epoch 130/1000\n",
      "3/3 - 0s - loss: 0.0786 - accuracy: 0.9556 - val_loss: 0.1556 - val_accuracy: 0.9333 - 17ms/epoch - 6ms/step\n",
      "Epoch 131/1000\n",
      "3/3 - 0s - loss: 0.0822 - accuracy: 0.9667 - val_loss: 0.2007 - val_accuracy: 0.9000 - 16ms/epoch - 5ms/step\n",
      "Epoch 132/1000\n",
      "3/3 - 0s - loss: 0.0605 - accuracy: 0.9667 - val_loss: 0.0764 - val_accuracy: 0.9667 - 17ms/epoch - 6ms/step\n",
      "Epoch 133/1000\n",
      "3/3 - 0s - loss: 0.0859 - accuracy: 0.9778 - val_loss: 0.0941 - val_accuracy: 0.9667 - 18ms/epoch - 6ms/step\n",
      "Epoch 134/1000\n",
      "3/3 - 0s - loss: 0.1023 - accuracy: 0.9556 - val_loss: 0.0773 - val_accuracy: 0.9667 - 18ms/epoch - 6ms/step\n"
     ]
    },
    {
     "name": "stdout",
     "output_type": "stream",
     "text": [
      "Epoch 135/1000\n",
      "3/3 - 0s - loss: 0.0628 - accuracy: 0.9778 - val_loss: 0.2340 - val_accuracy: 0.9000 - 17ms/epoch - 6ms/step\n",
      "Epoch 136/1000\n",
      "3/3 - 0s - loss: 0.0808 - accuracy: 0.9444 - val_loss: 0.1471 - val_accuracy: 0.9333 - 17ms/epoch - 6ms/step\n",
      "Epoch 137/1000\n",
      "3/3 - 0s - loss: 0.0550 - accuracy: 0.9778 - val_loss: 0.0809 - val_accuracy: 0.9667 - 18ms/epoch - 6ms/step\n",
      "Epoch 138/1000\n",
      "3/3 - 0s - loss: 0.0581 - accuracy: 0.9889 - val_loss: 0.0762 - val_accuracy: 0.9667 - 19ms/epoch - 6ms/step\n",
      "Epoch 139/1000\n",
      "3/3 - 0s - loss: 0.0578 - accuracy: 0.9889 - val_loss: 0.1065 - val_accuracy: 0.9333 - 23ms/epoch - 8ms/step\n",
      "Epoch 140/1000\n",
      "3/3 - 0s - loss: 0.0504 - accuracy: 0.9889 - val_loss: 0.1675 - val_accuracy: 0.9333 - 21ms/epoch - 7ms/step\n",
      "Epoch 141/1000\n",
      "3/3 - 0s - loss: 0.0561 - accuracy: 0.9778 - val_loss: 0.1450 - val_accuracy: 0.9333 - 19ms/epoch - 6ms/step\n",
      "Epoch 142/1000\n",
      "3/3 - 0s - loss: 0.0540 - accuracy: 0.9889 - val_loss: 0.0935 - val_accuracy: 0.9333 - 19ms/epoch - 6ms/step\n",
      "Epoch 143/1000\n",
      "3/3 - 0s - loss: 0.0511 - accuracy: 0.9889 - val_loss: 0.0916 - val_accuracy: 0.9333 - 18ms/epoch - 6ms/step\n",
      "Epoch 144/1000\n",
      "3/3 - 0s - loss: 0.0520 - accuracy: 0.9889 - val_loss: 0.0948 - val_accuracy: 0.9333 - 16ms/epoch - 5ms/step\n",
      "Epoch 145/1000\n",
      "3/3 - 0s - loss: 0.0509 - accuracy: 0.9889 - val_loss: 0.1031 - val_accuracy: 0.9333 - 17ms/epoch - 6ms/step\n",
      "Epoch 146/1000\n",
      "3/3 - 0s - loss: 0.0480 - accuracy: 0.9889 - val_loss: 0.1371 - val_accuracy: 0.9333 - 17ms/epoch - 6ms/step\n",
      "Epoch 147/1000\n",
      "3/3 - 0s - loss: 0.0500 - accuracy: 0.9889 - val_loss: 0.1241 - val_accuracy: 0.9333 - 17ms/epoch - 6ms/step\n",
      "Epoch 148/1000\n",
      "3/3 - 0s - loss: 0.0487 - accuracy: 0.9889 - val_loss: 0.1919 - val_accuracy: 0.9333 - 17ms/epoch - 6ms/step\n",
      "Epoch 149/1000\n",
      "3/3 - 0s - loss: 0.0706 - accuracy: 0.9667 - val_loss: 0.2817 - val_accuracy: 0.9000 - 17ms/epoch - 6ms/step\n",
      "Epoch 150/1000\n",
      "3/3 - 0s - loss: 0.0668 - accuracy: 0.9556 - val_loss: 0.0984 - val_accuracy: 0.9333 - 17ms/epoch - 6ms/step\n",
      "Epoch 151/1000\n",
      "3/3 - 0s - loss: 0.0557 - accuracy: 0.9889 - val_loss: 0.0747 - val_accuracy: 0.9667 - 18ms/epoch - 6ms/step\n",
      "Epoch 152/1000\n",
      "3/3 - 0s - loss: 0.0648 - accuracy: 0.9778 - val_loss: 0.1584 - val_accuracy: 0.9333 - 17ms/epoch - 6ms/step\n",
      "Epoch 153/1000\n",
      "3/3 - 0s - loss: 0.0479 - accuracy: 0.9889 - val_loss: 0.1003 - val_accuracy: 0.9333 - 17ms/epoch - 6ms/step\n",
      "Epoch 154/1000\n",
      "3/3 - 0s - loss: 0.0484 - accuracy: 0.9889 - val_loss: 0.0911 - val_accuracy: 0.9333 - 16ms/epoch - 5ms/step\n",
      "Epoch 155/1000\n",
      "3/3 - 0s - loss: 0.0498 - accuracy: 0.9889 - val_loss: 0.1247 - val_accuracy: 0.9333 - 17ms/epoch - 6ms/step\n",
      "Epoch 156/1000\n",
      "3/3 - 0s - loss: 0.0500 - accuracy: 0.9889 - val_loss: 0.1263 - val_accuracy: 0.9333 - 17ms/epoch - 6ms/step\n",
      "Epoch 157/1000\n",
      "3/3 - 0s - loss: 0.0451 - accuracy: 0.9889 - val_loss: 0.0856 - val_accuracy: 0.9333 - 18ms/epoch - 6ms/step\n",
      "Epoch 158/1000\n",
      "3/3 - 0s - loss: 0.0491 - accuracy: 0.9889 - val_loss: 0.0967 - val_accuracy: 0.9333 - 16ms/epoch - 5ms/step\n",
      "Epoch 159/1000\n",
      "3/3 - 0s - loss: 0.0477 - accuracy: 0.9889 - val_loss: 0.1768 - val_accuracy: 0.9333 - 17ms/epoch - 6ms/step\n",
      "Epoch 160/1000\n",
      "3/3 - 0s - loss: 0.0732 - accuracy: 0.9556 - val_loss: 0.1599 - val_accuracy: 0.9333 - 17ms/epoch - 6ms/step\n",
      "Epoch 161/1000\n",
      "3/3 - 0s - loss: 0.0532 - accuracy: 0.9889 - val_loss: 0.0803 - val_accuracy: 0.9667 - 18ms/epoch - 6ms/step\n",
      "Epoch 162/1000\n",
      "3/3 - 0s - loss: 0.1166 - accuracy: 0.9444 - val_loss: 0.0666 - val_accuracy: 0.9667 - 19ms/epoch - 6ms/step\n",
      "Epoch 163/1000\n",
      "3/3 - 0s - loss: 0.0529 - accuracy: 0.9889 - val_loss: 0.3494 - val_accuracy: 0.8333 - 18ms/epoch - 6ms/step\n",
      "Epoch 164/1000\n",
      "3/3 - 0s - loss: 0.1161 - accuracy: 0.9556 - val_loss: 0.2372 - val_accuracy: 0.9333 - 17ms/epoch - 6ms/step\n",
      "Epoch 165/1000\n",
      "3/3 - 0s - loss: 0.0542 - accuracy: 0.9778 - val_loss: 0.0732 - val_accuracy: 1.0000 - 18ms/epoch - 6ms/step\n",
      "Epoch 166/1000\n",
      "3/3 - 0s - loss: 0.0723 - accuracy: 0.9889 - val_loss: 0.0667 - val_accuracy: 0.9667 - 17ms/epoch - 6ms/step\n",
      "Epoch 167/1000\n",
      "3/3 - 0s - loss: 0.0783 - accuracy: 0.9778 - val_loss: 0.1063 - val_accuracy: 0.9333 - 17ms/epoch - 6ms/step\n",
      "Epoch 168/1000\n",
      "3/3 - 0s - loss: 0.0474 - accuracy: 0.9889 - val_loss: 0.2082 - val_accuracy: 0.9333 - 16ms/epoch - 5ms/step\n",
      "Epoch 169/1000\n",
      "3/3 - 0s - loss: 0.1050 - accuracy: 0.9556 - val_loss: 0.1421 - val_accuracy: 0.9333 - 19ms/epoch - 6ms/step\n",
      "Epoch 170/1000\n",
      "3/3 - 0s - loss: 0.0420 - accuracy: 0.9889 - val_loss: 0.1981 - val_accuracy: 0.9000 - 17ms/epoch - 6ms/step\n",
      "Epoch 171/1000\n",
      "3/3 - 0s - loss: 0.2419 - accuracy: 0.9111 - val_loss: 0.1723 - val_accuracy: 0.9333 - 18ms/epoch - 6ms/step\n",
      "Epoch 172/1000\n",
      "3/3 - 0s - loss: 0.1582 - accuracy: 0.9556 - val_loss: 0.0886 - val_accuracy: 0.9333 - 17ms/epoch - 6ms/step\n",
      "Epoch 173/1000\n",
      "3/3 - 0s - loss: 0.0460 - accuracy: 0.9889 - val_loss: 0.3905 - val_accuracy: 0.8333 - 16ms/epoch - 5ms/step\n",
      "Epoch 174/1000\n",
      "3/3 - 0s - loss: 0.1152 - accuracy: 0.9556 - val_loss: 0.1604 - val_accuracy: 0.9333 - 17ms/epoch - 6ms/step\n",
      "Epoch 175/1000\n",
      "3/3 - 0s - loss: 0.0576 - accuracy: 0.9889 - val_loss: 0.0742 - val_accuracy: 0.9667 - 17ms/epoch - 6ms/step\n",
      "Epoch 176/1000\n",
      "3/3 - 0s - loss: 0.1138 - accuracy: 0.9444 - val_loss: 0.0739 - val_accuracy: 0.9667 - 18ms/epoch - 6ms/step\n",
      "Epoch 177/1000\n",
      "3/3 - 0s - loss: 0.0704 - accuracy: 0.9778 - val_loss: 0.1596 - val_accuracy: 0.9333 - 17ms/epoch - 6ms/step\n",
      "Epoch 178/1000\n",
      "3/3 - 0s - loss: 0.0537 - accuracy: 0.9667 - val_loss: 0.3517 - val_accuracy: 0.8333 - 17ms/epoch - 6ms/step\n",
      "Epoch 179/1000\n",
      "3/3 - 0s - loss: 0.1023 - accuracy: 0.9444 - val_loss: 0.1758 - val_accuracy: 0.9333 - 18ms/epoch - 6ms/step\n",
      "Epoch 180/1000\n",
      "3/3 - 0s - loss: 0.0516 - accuracy: 0.9778 - val_loss: 0.0784 - val_accuracy: 0.9667 - 17ms/epoch - 6ms/step\n",
      "Epoch 181/1000\n",
      "3/3 - 0s - loss: 0.0576 - accuracy: 0.9889 - val_loss: 0.0681 - val_accuracy: 0.9667 - 18ms/epoch - 6ms/step\n",
      "Epoch 182/1000\n",
      "3/3 - 0s - loss: 0.0658 - accuracy: 0.9778 - val_loss: 0.0825 - val_accuracy: 0.9333 - 17ms/epoch - 6ms/step\n",
      "Epoch 183/1000\n",
      "3/3 - 0s - loss: 0.0556 - accuracy: 0.9889 - val_loss: 0.2431 - val_accuracy: 0.9333 - 16ms/epoch - 5ms/step\n",
      "Epoch 184/1000\n",
      "3/3 - 0s - loss: 0.0751 - accuracy: 0.9667 - val_loss: 0.1772 - val_accuracy: 0.9333 - 16ms/epoch - 5ms/step\n",
      "Epoch 185/1000\n",
      "3/3 - 0s - loss: 0.0465 - accuracy: 0.9889 - val_loss: 0.0698 - val_accuracy: 0.9667 - 17ms/epoch - 6ms/step\n",
      "Epoch 186/1000\n",
      "3/3 - 0s - loss: 0.0689 - accuracy: 0.9778 - val_loss: 0.0778 - val_accuracy: 0.9667 - 18ms/epoch - 6ms/step\n",
      "Epoch 187/1000\n",
      "3/3 - 0s - loss: 0.0483 - accuracy: 0.9889 - val_loss: 0.2177 - val_accuracy: 0.9333 - 17ms/epoch - 6ms/step\n",
      "Epoch 188/1000\n",
      "3/3 - 0s - loss: 0.0718 - accuracy: 0.9667 - val_loss: 0.1962 - val_accuracy: 0.9333 - 18ms/epoch - 6ms/step\n",
      "Epoch 189/1000\n",
      "3/3 - 0s - loss: 0.0518 - accuracy: 0.9889 - val_loss: 0.0916 - val_accuracy: 0.9333 - 17ms/epoch - 6ms/step\n",
      "Epoch 190/1000\n",
      "3/3 - 0s - loss: 0.0533 - accuracy: 0.9889 - val_loss: 0.0746 - val_accuracy: 1.0000 - 17ms/epoch - 6ms/step\n",
      "Epoch 191/1000\n",
      "3/3 - 0s - loss: 0.0500 - accuracy: 0.9889 - val_loss: 0.1169 - val_accuracy: 0.9333 - 16ms/epoch - 5ms/step\n",
      "Epoch 192/1000\n",
      "3/3 - 0s - loss: 0.0490 - accuracy: 0.9889 - val_loss: 0.1641 - val_accuracy: 0.9333 - 16ms/epoch - 5ms/step\n",
      "Epoch 193/1000\n",
      "3/3 - 0s - loss: 0.0463 - accuracy: 0.9889 - val_loss: 0.1014 - val_accuracy: 0.9333 - 17ms/epoch - 6ms/step\n",
      "Epoch 194/1000\n",
      "3/3 - 0s - loss: 0.0456 - accuracy: 0.9889 - val_loss: 0.0916 - val_accuracy: 0.9333 - 16ms/epoch - 5ms/step\n",
      "Epoch 195/1000\n",
      "3/3 - 0s - loss: 0.0453 - accuracy: 0.9889 - val_loss: 0.1303 - val_accuracy: 0.9333 - 16ms/epoch - 5ms/step\n",
      "Epoch 196/1000\n",
      "3/3 - 0s - loss: 0.0448 - accuracy: 0.9889 - val_loss: 0.1535 - val_accuracy: 0.9333 - 18ms/epoch - 6ms/step\n",
      "Epoch 197/1000\n",
      "3/3 - 0s - loss: 0.0450 - accuracy: 0.9889 - val_loss: 0.1147 - val_accuracy: 0.9333 - 17ms/epoch - 6ms/step\n",
      "Epoch 198/1000\n",
      "3/3 - 0s - loss: 0.0438 - accuracy: 0.9889 - val_loss: 0.0896 - val_accuracy: 0.9333 - 17ms/epoch - 6ms/step\n",
      "Epoch 199/1000\n",
      "3/3 - 0s - loss: 0.0455 - accuracy: 0.9889 - val_loss: 0.1002 - val_accuracy: 0.9333 - 17ms/epoch - 6ms/step\n",
      "Epoch 200/1000\n",
      "3/3 - 0s - loss: 0.0435 - accuracy: 0.9889 - val_loss: 0.1373 - val_accuracy: 0.9333 - 17ms/epoch - 6ms/step\n",
      "Epoch 201/1000\n",
      "3/3 - 0s - loss: 0.0446 - accuracy: 0.9889 - val_loss: 0.1660 - val_accuracy: 0.9333 - 17ms/epoch - 6ms/step\n"
     ]
    },
    {
     "name": "stdout",
     "output_type": "stream",
     "text": [
      "Epoch 202/1000\n",
      "3/3 - 0s - loss: 0.0455 - accuracy: 0.9889 - val_loss: 0.1095 - val_accuracy: 0.9333 - 20ms/epoch - 7ms/step\n",
      "Epoch 203/1000\n",
      "3/3 - 0s - loss: 0.0425 - accuracy: 0.9889 - val_loss: 0.1029 - val_accuracy: 0.9333 - 18ms/epoch - 6ms/step\n",
      "Epoch 204/1000\n",
      "3/3 - 0s - loss: 0.0429 - accuracy: 0.9889 - val_loss: 0.1103 - val_accuracy: 0.9333 - 18ms/epoch - 6ms/step\n",
      "Epoch 205/1000\n",
      "3/3 - 0s - loss: 0.0428 - accuracy: 0.9889 - val_loss: 0.1253 - val_accuracy: 0.9333 - 19ms/epoch - 6ms/step\n",
      "Epoch 206/1000\n",
      "3/3 - 0s - loss: 0.0430 - accuracy: 0.9889 - val_loss: 0.1363 - val_accuracy: 0.9333 - 18ms/epoch - 6ms/step\n",
      "Epoch 207/1000\n",
      "3/3 - 0s - loss: 0.0413 - accuracy: 0.9889 - val_loss: 0.1068 - val_accuracy: 0.9333 - 18ms/epoch - 6ms/step\n",
      "Epoch 208/1000\n",
      "3/3 - 0s - loss: 0.0470 - accuracy: 0.9889 - val_loss: 0.0864 - val_accuracy: 0.9333 - 18ms/epoch - 6ms/step\n",
      "Epoch 209/1000\n",
      "3/3 - 0s - loss: 0.0441 - accuracy: 0.9889 - val_loss: 0.1199 - val_accuracy: 0.9333 - 17ms/epoch - 6ms/step\n",
      "Epoch 210/1000\n",
      "3/3 - 0s - loss: 0.0410 - accuracy: 0.9889 - val_loss: 0.1401 - val_accuracy: 0.9333 - 17ms/epoch - 6ms/step\n",
      "Epoch 211/1000\n",
      "3/3 - 0s - loss: 0.0406 - accuracy: 0.9889 - val_loss: 0.1462 - val_accuracy: 0.9333 - 18ms/epoch - 6ms/step\n",
      "Epoch 212/1000\n",
      "3/3 - 0s - loss: 0.0403 - accuracy: 0.9889 - val_loss: 0.1247 - val_accuracy: 0.9333 - 17ms/epoch - 6ms/step\n",
      "Epoch 213/1000\n",
      "3/3 - 0s - loss: 0.0406 - accuracy: 0.9889 - val_loss: 0.1073 - val_accuracy: 0.9333 - 18ms/epoch - 6ms/step\n",
      "Epoch 214/1000\n",
      "3/3 - 0s - loss: 0.0417 - accuracy: 0.9889 - val_loss: 0.1196 - val_accuracy: 0.9333 - 18ms/epoch - 6ms/step\n",
      "Epoch 215/1000\n",
      "3/3 - 0s - loss: 0.0397 - accuracy: 0.9889 - val_loss: 0.1606 - val_accuracy: 0.9333 - 18ms/epoch - 6ms/step\n",
      "Epoch 216/1000\n",
      "3/3 - 0s - loss: 0.0405 - accuracy: 0.9889 - val_loss: 0.1802 - val_accuracy: 0.9333 - 17ms/epoch - 6ms/step\n",
      "Epoch 217/1000\n",
      "3/3 - 0s - loss: 0.0445 - accuracy: 0.9889 - val_loss: 0.1206 - val_accuracy: 0.9333 - 16ms/epoch - 5ms/step\n",
      "Epoch 218/1000\n",
      "3/3 - 0s - loss: 0.0419 - accuracy: 0.9889 - val_loss: 0.1231 - val_accuracy: 0.9333 - 16ms/epoch - 5ms/step\n",
      "Epoch 219/1000\n",
      "3/3 - 0s - loss: 0.0428 - accuracy: 0.9889 - val_loss: 0.1879 - val_accuracy: 0.9333 - 17ms/epoch - 6ms/step\n",
      "Epoch 220/1000\n",
      "3/3 - 0s - loss: 0.0422 - accuracy: 0.9889 - val_loss: 0.1284 - val_accuracy: 0.9333 - 18ms/epoch - 6ms/step\n",
      "Epoch 221/1000\n",
      "3/3 - 0s - loss: 0.0379 - accuracy: 0.9889 - val_loss: 0.0633 - val_accuracy: 0.9667 - 18ms/epoch - 6ms/step\n",
      "Epoch 222/1000\n",
      "3/3 - 0s - loss: 0.0573 - accuracy: 0.9889 - val_loss: 0.0691 - val_accuracy: 0.9667 - 18ms/epoch - 6ms/step\n",
      "Epoch 223/1000\n",
      "3/3 - 0s - loss: 0.0489 - accuracy: 0.9889 - val_loss: 0.1610 - val_accuracy: 0.9333 - 20ms/epoch - 7ms/step\n",
      "Epoch 224/1000\n",
      "3/3 - 0s - loss: 0.0415 - accuracy: 0.9889 - val_loss: 0.1873 - val_accuracy: 0.9333 - 17ms/epoch - 6ms/step\n",
      "Epoch 225/1000\n",
      "3/3 - 0s - loss: 0.0415 - accuracy: 0.9889 - val_loss: 0.1610 - val_accuracy: 0.9333 - 19ms/epoch - 6ms/step\n",
      "Epoch 226/1000\n",
      "3/3 - 0s - loss: 0.0425 - accuracy: 0.9889 - val_loss: 0.0933 - val_accuracy: 0.9333 - 19ms/epoch - 6ms/step\n",
      "Epoch 227/1000\n",
      "3/3 - 0s - loss: 0.0441 - accuracy: 0.9889 - val_loss: 0.0676 - val_accuracy: 0.9667 - 18ms/epoch - 6ms/step\n",
      "Epoch 228/1000\n",
      "3/3 - 0s - loss: 0.0901 - accuracy: 0.9556 - val_loss: 0.0629 - val_accuracy: 0.9667 - 18ms/epoch - 6ms/step\n",
      "Epoch 229/1000\n",
      "3/3 - 0s - loss: 0.0481 - accuracy: 0.9889 - val_loss: 0.2295 - val_accuracy: 0.9333 - 19ms/epoch - 6ms/step\n",
      "Epoch 230/1000\n",
      "3/3 - 0s - loss: 0.1056 - accuracy: 0.9333 - val_loss: 0.2841 - val_accuracy: 0.9333 - 17ms/epoch - 6ms/step\n",
      "Epoch 231/1000\n",
      "3/3 - 0s - loss: 0.0554 - accuracy: 0.9778 - val_loss: 0.0885 - val_accuracy: 0.9667 - 18ms/epoch - 6ms/step\n",
      "Epoch 232/1000\n",
      "3/3 - 0s - loss: 0.1574 - accuracy: 0.9444 - val_loss: 0.0803 - val_accuracy: 0.9667 - 18ms/epoch - 6ms/step\n",
      "Epoch 233/1000\n",
      "3/3 - 0s - loss: 0.0862 - accuracy: 0.9556 - val_loss: 0.3721 - val_accuracy: 0.8333 - 16ms/epoch - 5ms/step\n",
      "Epoch 234/1000\n",
      "3/3 - 0s - loss: 0.1171 - accuracy: 0.9556 - val_loss: 0.4079 - val_accuracy: 0.8333 - 19ms/epoch - 6ms/step\n",
      "Epoch 235/1000\n",
      "3/3 - 0s - loss: 0.0878 - accuracy: 0.9556 - val_loss: 0.0933 - val_accuracy: 0.9333 - 18ms/epoch - 6ms/step\n",
      "Epoch 236/1000\n",
      "3/3 - 0s - loss: 0.0461 - accuracy: 0.9889 - val_loss: 0.0694 - val_accuracy: 0.9667 - 18ms/epoch - 6ms/step\n",
      "Epoch 237/1000\n",
      "3/3 - 0s - loss: 0.0826 - accuracy: 0.9556 - val_loss: 0.0673 - val_accuracy: 0.9667 - 16ms/epoch - 5ms/step\n",
      "Epoch 238/1000\n",
      "3/3 - 0s - loss: 0.0694 - accuracy: 0.9778 - val_loss: 0.0789 - val_accuracy: 0.9667 - 17ms/epoch - 6ms/step\n",
      "Epoch 239/1000\n",
      "3/3 - 0s - loss: 0.0439 - accuracy: 0.9889 - val_loss: 0.1685 - val_accuracy: 0.9333 - 17ms/epoch - 6ms/step\n",
      "Epoch 240/1000\n",
      "3/3 - 0s - loss: 0.0490 - accuracy: 0.9889 - val_loss: 0.2044 - val_accuracy: 0.9333 - 18ms/epoch - 6ms/step\n",
      "Epoch 241/1000\n",
      "3/3 - 0s - loss: 0.0478 - accuracy: 0.9889 - val_loss: 0.1119 - val_accuracy: 0.9333 - 17ms/epoch - 6ms/step\n",
      "Epoch 242/1000\n",
      "3/3 - 0s - loss: 0.0479 - accuracy: 0.9889 - val_loss: 0.0960 - val_accuracy: 0.9333 - 17ms/epoch - 6ms/step\n",
      "Epoch 243/1000\n",
      "3/3 - 0s - loss: 0.0451 - accuracy: 0.9889 - val_loss: 0.2329 - val_accuracy: 0.9333 - 19ms/epoch - 6ms/step\n",
      "Epoch 244/1000\n",
      "3/3 - 0s - loss: 0.0581 - accuracy: 0.9778 - val_loss: 0.1932 - val_accuracy: 0.9333 - 19ms/epoch - 6ms/step\n",
      "Epoch 245/1000\n",
      "3/3 - 0s - loss: 0.0438 - accuracy: 0.9889 - val_loss: 0.0831 - val_accuracy: 0.9333 - 19ms/epoch - 6ms/step\n",
      "Epoch 246/1000\n",
      "3/3 - 0s - loss: 0.0475 - accuracy: 0.9889 - val_loss: 0.0678 - val_accuracy: 0.9667 - 18ms/epoch - 6ms/step\n",
      "Epoch 247/1000\n",
      "3/3 - 0s - loss: 0.0503 - accuracy: 0.9889 - val_loss: 0.0922 - val_accuracy: 0.9333 - 17ms/epoch - 6ms/step\n",
      "Epoch 248/1000\n",
      "3/3 - 0s - loss: 0.0402 - accuracy: 0.9889 - val_loss: 0.1626 - val_accuracy: 0.9333 - 19ms/epoch - 6ms/step\n",
      "Epoch 249/1000\n",
      "3/3 - 0s - loss: 0.0399 - accuracy: 0.9889 - val_loss: 0.1739 - val_accuracy: 0.9333 - 19ms/epoch - 6ms/step\n",
      "Epoch 250/1000\n",
      "3/3 - 0s - loss: 0.0402 - accuracy: 0.9889 - val_loss: 0.1335 - val_accuracy: 0.9333 - 19ms/epoch - 6ms/step\n",
      "Epoch 251/1000\n",
      "3/3 - 0s - loss: 0.0398 - accuracy: 0.9889 - val_loss: 0.0950 - val_accuracy: 0.9333 - 19ms/epoch - 6ms/step\n",
      "Epoch 252/1000\n",
      "3/3 - 0s - loss: 0.0414 - accuracy: 0.9889 - val_loss: 0.0960 - val_accuracy: 0.9333 - 18ms/epoch - 6ms/step\n",
      "Epoch 253/1000\n",
      "3/3 - 0s - loss: 0.0417 - accuracy: 0.9889 - val_loss: 0.1181 - val_accuracy: 0.9333 - 19ms/epoch - 6ms/step\n",
      "Epoch 254/1000\n",
      "3/3 - 0s - loss: 0.0406 - accuracy: 0.9889 - val_loss: 0.1674 - val_accuracy: 0.9333 - 18ms/epoch - 6ms/step\n",
      "Epoch 255/1000\n",
      "3/3 - 0s - loss: 0.0403 - accuracy: 0.9889 - val_loss: 0.2188 - val_accuracy: 0.9333 - 18ms/epoch - 6ms/step\n",
      "Epoch 256/1000\n",
      "3/3 - 0s - loss: 0.0428 - accuracy: 0.9889 - val_loss: 0.2700 - val_accuracy: 0.9333 - 18ms/epoch - 6ms/step\n",
      "Epoch 257/1000\n",
      "3/3 - 0s - loss: 0.0513 - accuracy: 0.9778 - val_loss: 0.1425 - val_accuracy: 0.9333 - 18ms/epoch - 6ms/step\n",
      "Epoch 258/1000\n",
      "3/3 - 0s - loss: 0.0385 - accuracy: 0.9889 - val_loss: 0.0643 - val_accuracy: 0.9667 - 20ms/epoch - 7ms/step\n",
      "Epoch 259/1000\n",
      "3/3 - 0s - loss: 0.0543 - accuracy: 0.9889 - val_loss: 0.0757 - val_accuracy: 0.9667 - 17ms/epoch - 6ms/step\n",
      "Epoch 260/1000\n",
      "3/3 - 0s - loss: 0.0447 - accuracy: 0.9889 - val_loss: 0.1703 - val_accuracy: 0.9333 - 18ms/epoch - 6ms/step\n",
      "Epoch 261/1000\n",
      "3/3 - 0s - loss: 0.0397 - accuracy: 0.9889 - val_loss: 0.2221 - val_accuracy: 0.9333 - 19ms/epoch - 6ms/step\n",
      "Epoch 262/1000\n",
      "3/3 - 0s - loss: 0.0430 - accuracy: 0.9889 - val_loss: 0.1678 - val_accuracy: 0.9333 - 18ms/epoch - 6ms/step\n",
      "Epoch 263/1000\n",
      "3/3 - 0s - loss: 0.0362 - accuracy: 0.9889 - val_loss: 0.0896 - val_accuracy: 0.9333 - 17ms/epoch - 6ms/step\n",
      "Epoch 264/1000\n",
      "3/3 - 0s - loss: 0.0414 - accuracy: 0.9889 - val_loss: 0.0938 - val_accuracy: 0.9333 - 17ms/epoch - 6ms/step\n",
      "Epoch 265/1000\n",
      "3/3 - 0s - loss: 0.0408 - accuracy: 0.9889 - val_loss: 0.1383 - val_accuracy: 0.9333 - 17ms/epoch - 6ms/step\n",
      "Epoch 266/1000\n",
      "3/3 - 0s - loss: 0.0368 - accuracy: 0.9889 - val_loss: 0.2164 - val_accuracy: 0.9333 - 19ms/epoch - 6ms/step\n",
      "Epoch 267/1000\n",
      "3/3 - 0s - loss: 0.0454 - accuracy: 0.9778 - val_loss: 0.1977 - val_accuracy: 0.9333 - 18ms/epoch - 6ms/step\n",
      "Epoch 268/1000\n",
      "3/3 - 0s - loss: 0.0365 - accuracy: 0.9889 - val_loss: 0.1303 - val_accuracy: 0.9333 - 19ms/epoch - 6ms/step\n"
     ]
    },
    {
     "name": "stdout",
     "output_type": "stream",
     "text": [
      "Epoch 269/1000\n",
      "3/3 - 0s - loss: 0.0416 - accuracy: 0.9889 - val_loss: 0.1394 - val_accuracy: 0.9333 - 19ms/epoch - 6ms/step\n",
      "Epoch 270/1000\n",
      "3/3 - 0s - loss: 0.0418 - accuracy: 0.9889 - val_loss: 0.3109 - val_accuracy: 0.9333 - 18ms/epoch - 6ms/step\n",
      "Epoch 271/1000\n",
      "3/3 - 0s - loss: 0.0552 - accuracy: 0.9778 - val_loss: 0.1862 - val_accuracy: 0.9333 - 17ms/epoch - 6ms/step\n",
      "Epoch 272/1000\n",
      "3/3 - 0s - loss: 0.0427 - accuracy: 0.9889 - val_loss: 0.0834 - val_accuracy: 0.9333 - 18ms/epoch - 6ms/step\n",
      "Epoch 273/1000\n",
      "3/3 - 0s - loss: 0.0398 - accuracy: 0.9889 - val_loss: 0.1690 - val_accuracy: 0.9333 - 18ms/epoch - 6ms/step\n",
      "Epoch 274/1000\n",
      "3/3 - 0s - loss: 0.0369 - accuracy: 0.9889 - val_loss: 0.2604 - val_accuracy: 0.9333 - 19ms/epoch - 6ms/step\n",
      "Epoch 275/1000\n",
      "3/3 - 0s - loss: 0.0485 - accuracy: 0.9778 - val_loss: 0.1927 - val_accuracy: 0.9333 - 17ms/epoch - 6ms/step\n",
      "Epoch 276/1000\n",
      "3/3 - 0s - loss: 0.0353 - accuracy: 0.9889 - val_loss: 0.1062 - val_accuracy: 0.9333 - 17ms/epoch - 6ms/step\n",
      "Epoch 277/1000\n",
      "3/3 - 0s - loss: 0.0419 - accuracy: 0.9889 - val_loss: 0.1049 - val_accuracy: 0.9333 - 17ms/epoch - 6ms/step\n",
      "Epoch 278/1000\n",
      "3/3 - 0s - loss: 0.0374 - accuracy: 0.9889 - val_loss: 0.2448 - val_accuracy: 0.9333 - 18ms/epoch - 6ms/step\n",
      "Epoch 279/1000\n",
      "3/3 - 0s - loss: 0.0423 - accuracy: 0.9889 - val_loss: 0.5398 - val_accuracy: 0.8667 - 18ms/epoch - 6ms/step\n",
      "Epoch 280/1000\n",
      "3/3 - 0s - loss: 0.1038 - accuracy: 0.9444 - val_loss: 0.1204 - val_accuracy: 0.9333 - 18ms/epoch - 6ms/step\n",
      "Epoch 281/1000\n",
      "3/3 - 0s - loss: 0.0462 - accuracy: 0.9778 - val_loss: 0.0629 - val_accuracy: 0.9667 - 16ms/epoch - 5ms/step\n",
      "Epoch 282/1000\n",
      "3/3 - 0s - loss: 0.0624 - accuracy: 0.9778 - val_loss: 0.1204 - val_accuracy: 0.9333 - 17ms/epoch - 6ms/step\n",
      "Epoch 283/1000\n",
      "3/3 - 0s - loss: 0.0404 - accuracy: 0.9778 - val_loss: 0.3506 - val_accuracy: 0.9000 - 18ms/epoch - 6ms/step\n",
      "Epoch 284/1000\n",
      "3/3 - 0s - loss: 0.0589 - accuracy: 0.9667 - val_loss: 0.1362 - val_accuracy: 0.9333 - 18ms/epoch - 6ms/step\n",
      "Epoch 285/1000\n",
      "3/3 - 0s - loss: 0.0535 - accuracy: 0.9778 - val_loss: 0.0632 - val_accuracy: 0.9667 - 18ms/epoch - 6ms/step\n",
      "Epoch 286/1000\n",
      "3/3 - 0s - loss: 0.0595 - accuracy: 0.9889 - val_loss: 0.1228 - val_accuracy: 0.9333 - 18ms/epoch - 6ms/step\n",
      "Epoch 287/1000\n",
      "3/3 - 0s - loss: 0.0429 - accuracy: 0.9889 - val_loss: 0.3031 - val_accuracy: 0.9333 - 19ms/epoch - 6ms/step\n",
      "Epoch 288/1000\n",
      "3/3 - 0s - loss: 0.0490 - accuracy: 0.9778 - val_loss: 0.1828 - val_accuracy: 0.9333 - 18ms/epoch - 6ms/step\n",
      "Epoch 289/1000\n",
      "3/3 - 0s - loss: 0.0331 - accuracy: 0.9889 - val_loss: 0.0877 - val_accuracy: 0.9333 - 18ms/epoch - 6ms/step\n",
      "Epoch 290/1000\n",
      "3/3 - 0s - loss: 0.0465 - accuracy: 0.9889 - val_loss: 0.0668 - val_accuracy: 0.9667 - 18ms/epoch - 6ms/step\n",
      "Epoch 291/1000\n",
      "3/3 - 0s - loss: 0.0482 - accuracy: 0.9889 - val_loss: 0.1024 - val_accuracy: 0.9333 - 18ms/epoch - 6ms/step\n",
      "Epoch 292/1000\n",
      "3/3 - 0s - loss: 0.0381 - accuracy: 0.9889 - val_loss: 0.2036 - val_accuracy: 0.9333 - 18ms/epoch - 6ms/step\n",
      "Epoch 293/1000\n",
      "3/3 - 0s - loss: 0.0366 - accuracy: 0.9889 - val_loss: 0.2620 - val_accuracy: 0.9333 - 18ms/epoch - 6ms/step\n",
      "Epoch 294/1000\n",
      "3/3 - 0s - loss: 0.0440 - accuracy: 0.9778 - val_loss: 0.2013 - val_accuracy: 0.9333 - 17ms/epoch - 6ms/step\n",
      "Epoch 295/1000\n",
      "3/3 - 0s - loss: 0.0375 - accuracy: 0.9889 - val_loss: 0.1107 - val_accuracy: 0.9333 - 17ms/epoch - 6ms/step\n",
      "Epoch 296/1000\n",
      "3/3 - 0s - loss: 0.0384 - accuracy: 0.9889 - val_loss: 0.1107 - val_accuracy: 0.9333 - 18ms/epoch - 6ms/step\n",
      "Epoch 297/1000\n",
      "3/3 - 0s - loss: 0.0389 - accuracy: 0.9889 - val_loss: 0.1453 - val_accuracy: 0.9333 - 19ms/epoch - 6ms/step\n",
      "Epoch 298/1000\n",
      "3/3 - 0s - loss: 0.0376 - accuracy: 0.9889 - val_loss: 0.2556 - val_accuracy: 0.9333 - 17ms/epoch - 6ms/step\n",
      "Epoch 299/1000\n",
      "3/3 - 0s - loss: 0.0402 - accuracy: 0.9889 - val_loss: 0.2869 - val_accuracy: 0.9333 - 18ms/epoch - 6ms/step\n",
      "Epoch 300/1000\n",
      "3/3 - 0s - loss: 0.0413 - accuracy: 0.9778 - val_loss: 0.2792 - val_accuracy: 0.9333 - 18ms/epoch - 6ms/step\n",
      "Epoch 301/1000\n",
      "3/3 - 0s - loss: 0.0409 - accuracy: 0.9889 - val_loss: 0.1469 - val_accuracy: 0.9333 - 19ms/epoch - 6ms/step\n",
      "Epoch 302/1000\n",
      "3/3 - 0s - loss: 0.0366 - accuracy: 0.9889 - val_loss: 0.0978 - val_accuracy: 0.9333 - 18ms/epoch - 6ms/step\n",
      "Epoch 303/1000\n",
      "3/3 - 0s - loss: 0.0378 - accuracy: 0.9889 - val_loss: 0.1294 - val_accuracy: 0.9333 - 18ms/epoch - 6ms/step\n",
      "Epoch 304/1000\n",
      "3/3 - 0s - loss: 0.0361 - accuracy: 0.9889 - val_loss: 0.1474 - val_accuracy: 0.9333 - 17ms/epoch - 6ms/step\n",
      "Epoch 305/1000\n",
      "3/3 - 0s - loss: 0.0366 - accuracy: 0.9889 - val_loss: 0.1186 - val_accuracy: 0.9333 - 17ms/epoch - 6ms/step\n",
      "Epoch 306/1000\n",
      "3/3 - 0s - loss: 0.0368 - accuracy: 0.9889 - val_loss: 0.1574 - val_accuracy: 0.9333 - 17ms/epoch - 6ms/step\n",
      "Epoch 307/1000\n",
      "3/3 - 0s - loss: 0.0363 - accuracy: 0.9889 - val_loss: 0.2160 - val_accuracy: 0.9333 - 16ms/epoch - 5ms/step\n",
      "Epoch 308/1000\n",
      "3/3 - 0s - loss: 0.0387 - accuracy: 0.9889 - val_loss: 0.3980 - val_accuracy: 0.9333 - 18ms/epoch - 6ms/step\n",
      "Epoch 309/1000\n",
      "3/3 - 0s - loss: 0.0523 - accuracy: 0.9778 - val_loss: 0.1977 - val_accuracy: 0.9333 - 19ms/epoch - 6ms/step\n",
      "Epoch 310/1000\n",
      "3/3 - 0s - loss: 0.0322 - accuracy: 0.9889 - val_loss: 0.0612 - val_accuracy: 0.9667 - 18ms/epoch - 6ms/step\n",
      "Epoch 311/1000\n",
      "3/3 - 0s - loss: 0.0556 - accuracy: 0.9889 - val_loss: 0.0665 - val_accuracy: 0.9667 - 18ms/epoch - 6ms/step\n",
      "Epoch 312/1000\n",
      "3/3 - 0s - loss: 0.0445 - accuracy: 0.9889 - val_loss: 0.1487 - val_accuracy: 0.9333 - 18ms/epoch - 6ms/step\n",
      "Epoch 313/1000\n",
      "3/3 - 0s - loss: 0.0340 - accuracy: 0.9889 - val_loss: 0.2256 - val_accuracy: 0.9333 - 18ms/epoch - 6ms/step\n",
      "Epoch 314/1000\n",
      "3/3 - 0s - loss: 0.0355 - accuracy: 0.9889 - val_loss: 0.3078 - val_accuracy: 0.9333 - 18ms/epoch - 6ms/step\n",
      "Epoch 315/1000\n",
      "3/3 - 0s - loss: 0.0609 - accuracy: 0.9778 - val_loss: 0.1538 - val_accuracy: 0.9333 - 19ms/epoch - 6ms/step\n",
      "Epoch 316/1000\n",
      "3/3 - 0s - loss: 0.0738 - accuracy: 0.9667 - val_loss: 0.0691 - val_accuracy: 0.9667 - 18ms/epoch - 6ms/step\n",
      "Epoch 317/1000\n",
      "3/3 - 0s - loss: 0.0983 - accuracy: 0.9444 - val_loss: 0.0666 - val_accuracy: 0.9667 - 19ms/epoch - 6ms/step\n",
      "Epoch 318/1000\n",
      "3/3 - 0s - loss: 0.0524 - accuracy: 0.9889 - val_loss: 0.2327 - val_accuracy: 0.9333 - 18ms/epoch - 6ms/step\n",
      "Epoch 319/1000\n",
      "3/3 - 0s - loss: 0.0529 - accuracy: 0.9778 - val_loss: 0.2750 - val_accuracy: 0.9333 - 19ms/epoch - 6ms/step\n",
      "Epoch 320/1000\n",
      "3/3 - 0s - loss: 0.0487 - accuracy: 0.9889 - val_loss: 0.1176 - val_accuracy: 0.9333 - 18ms/epoch - 6ms/step\n",
      "Epoch 321/1000\n",
      "3/3 - 0s - loss: 0.0439 - accuracy: 0.9889 - val_loss: 0.0753 - val_accuracy: 0.9667 - 19ms/epoch - 6ms/step\n",
      "Epoch 322/1000\n",
      "3/3 - 0s - loss: 0.0464 - accuracy: 0.9889 - val_loss: 0.1160 - val_accuracy: 0.9333 - 18ms/epoch - 6ms/step\n",
      "Epoch 323/1000\n",
      "3/3 - 0s - loss: 0.0394 - accuracy: 0.9889 - val_loss: 0.2047 - val_accuracy: 0.9333 - 18ms/epoch - 6ms/step\n",
      "Epoch 324/1000\n",
      "3/3 - 0s - loss: 0.0399 - accuracy: 0.9889 - val_loss: 0.1721 - val_accuracy: 0.9333 - 18ms/epoch - 6ms/step\n",
      "Epoch 325/1000\n",
      "3/3 - 0s - loss: 0.0358 - accuracy: 0.9889 - val_loss: 0.1044 - val_accuracy: 0.9333 - 18ms/epoch - 6ms/step\n",
      "Epoch 326/1000\n",
      "3/3 - 0s - loss: 0.0415 - accuracy: 0.9889 - val_loss: 0.0909 - val_accuracy: 0.9333 - 19ms/epoch - 6ms/step\n",
      "Epoch 327/1000\n",
      "3/3 - 0s - loss: 0.0390 - accuracy: 0.9889 - val_loss: 0.1823 - val_accuracy: 0.9333 - 19ms/epoch - 6ms/step\n",
      "Epoch 328/1000\n",
      "3/3 - 0s - loss: 0.0453 - accuracy: 0.9889 - val_loss: 0.3876 - val_accuracy: 0.9333 - 17ms/epoch - 6ms/step\n",
      "Epoch 329/1000\n",
      "3/3 - 0s - loss: 0.0590 - accuracy: 0.9556 - val_loss: 0.1829 - val_accuracy: 0.9333 - 18ms/epoch - 6ms/step\n",
      "Epoch 330/1000\n",
      "3/3 - 0s - loss: 0.0375 - accuracy: 0.9889 - val_loss: 0.0836 - val_accuracy: 0.9333 - 19ms/epoch - 6ms/step\n",
      "Epoch 331/1000\n",
      "3/3 - 0s - loss: 0.0410 - accuracy: 0.9889 - val_loss: 0.0950 - val_accuracy: 0.9333 - 18ms/epoch - 6ms/step\n",
      "Epoch 332/1000\n",
      "3/3 - 0s - loss: 0.0389 - accuracy: 0.9889 - val_loss: 0.1344 - val_accuracy: 0.9333 - 17ms/epoch - 6ms/step\n",
      "Epoch 333/1000\n",
      "3/3 - 0s - loss: 0.0373 - accuracy: 0.9889 - val_loss: 0.1987 - val_accuracy: 0.9333 - 18ms/epoch - 6ms/step\n",
      "Epoch 334/1000\n",
      "3/3 - 0s - loss: 0.0349 - accuracy: 0.9889 - val_loss: 0.1519 - val_accuracy: 0.9333 - 19ms/epoch - 6ms/step\n",
      "Epoch 335/1000\n",
      "3/3 - 0s - loss: 0.0354 - accuracy: 0.9889 - val_loss: 0.1281 - val_accuracy: 0.9333 - 19ms/epoch - 6ms/step\n"
     ]
    },
    {
     "name": "stdout",
     "output_type": "stream",
     "text": [
      "Epoch 336/1000\n",
      "3/3 - 0s - loss: 0.0363 - accuracy: 0.9889 - val_loss: 0.1379 - val_accuracy: 0.9333 - 18ms/epoch - 6ms/step\n",
      "Epoch 337/1000\n",
      "3/3 - 0s - loss: 0.0359 - accuracy: 0.9889 - val_loss: 0.1586 - val_accuracy: 0.9333 - 16ms/epoch - 5ms/step\n",
      "Epoch 338/1000\n",
      "3/3 - 0s - loss: 0.0355 - accuracy: 0.9889 - val_loss: 0.2279 - val_accuracy: 0.9333 - 17ms/epoch - 6ms/step\n",
      "Epoch 339/1000\n",
      "3/3 - 0s - loss: 0.0334 - accuracy: 0.9889 - val_loss: 0.2566 - val_accuracy: 0.9333 - 18ms/epoch - 6ms/step\n",
      "Epoch 340/1000\n",
      "3/3 - 0s - loss: 0.0346 - accuracy: 0.9889 - val_loss: 0.2393 - val_accuracy: 0.9333 - 18ms/epoch - 6ms/step\n",
      "Epoch 341/1000\n",
      "3/3 - 0s - loss: 0.0323 - accuracy: 0.9889 - val_loss: 0.1670 - val_accuracy: 0.9333 - 19ms/epoch - 6ms/step\n",
      "Epoch 342/1000\n",
      "3/3 - 0s - loss: 0.0407 - accuracy: 0.9889 - val_loss: 0.1691 - val_accuracy: 0.9333 - 18ms/epoch - 6ms/step\n",
      "Epoch 343/1000\n",
      "3/3 - 0s - loss: 0.0378 - accuracy: 0.9889 - val_loss: 0.3939 - val_accuracy: 0.9333 - 19ms/epoch - 6ms/step\n",
      "Epoch 344/1000\n",
      "3/3 - 0s - loss: 0.0634 - accuracy: 0.9556 - val_loss: 0.1380 - val_accuracy: 0.9333 - 18ms/epoch - 6ms/step\n",
      "Epoch 345/1000\n",
      "3/3 - 0s - loss: 0.0315 - accuracy: 0.9889 - val_loss: 0.1208 - val_accuracy: 0.9667 - 19ms/epoch - 6ms/step\n",
      "Epoch 346/1000\n",
      "3/3 - 0s - loss: 0.1962 - accuracy: 0.9444 - val_loss: 0.1145 - val_accuracy: 0.9667 - 17ms/epoch - 6ms/step\n",
      "Epoch 347/1000\n",
      "3/3 - 0s - loss: 0.1183 - accuracy: 0.9444 - val_loss: 0.1067 - val_accuracy: 0.9333 - 17ms/epoch - 6ms/step\n",
      "Epoch 348/1000\n",
      "3/3 - 0s - loss: 0.0679 - accuracy: 0.9667 - val_loss: 0.5305 - val_accuracy: 0.8333 - 18ms/epoch - 6ms/step\n",
      "Epoch 349/1000\n",
      "3/3 - 0s - loss: 0.1151 - accuracy: 0.9444 - val_loss: 0.1389 - val_accuracy: 0.9333 - 18ms/epoch - 6ms/step\n",
      "Epoch 350/1000\n",
      "3/3 - 0s - loss: 0.0617 - accuracy: 0.9889 - val_loss: 0.0646 - val_accuracy: 0.9667 - 18ms/epoch - 6ms/step\n",
      "Epoch 351/1000\n",
      "3/3 - 0s - loss: 0.0717 - accuracy: 0.9667 - val_loss: 0.0696 - val_accuracy: 0.9667 - 19ms/epoch - 6ms/step\n",
      "Epoch 352/1000\n",
      "3/3 - 0s - loss: 0.0565 - accuracy: 0.9889 - val_loss: 0.1108 - val_accuracy: 0.9333 - 19ms/epoch - 6ms/step\n",
      "Epoch 353/1000\n",
      "3/3 - 0s - loss: 0.0433 - accuracy: 0.9889 - val_loss: 0.1986 - val_accuracy: 0.9333 - 16ms/epoch - 5ms/step\n",
      "Epoch 354/1000\n",
      "3/3 - 0s - loss: 0.0531 - accuracy: 0.9889 - val_loss: 0.1906 - val_accuracy: 0.9333 - 18ms/epoch - 6ms/step\n",
      "Epoch 355/1000\n",
      "3/3 - 0s - loss: 0.0464 - accuracy: 0.9889 - val_loss: 0.1255 - val_accuracy: 0.9333 - 18ms/epoch - 6ms/step\n",
      "Epoch 356/1000\n",
      "3/3 - 0s - loss: 0.0435 - accuracy: 0.9889 - val_loss: 0.0723 - val_accuracy: 0.9667 - 17ms/epoch - 6ms/step\n",
      "Epoch 357/1000\n",
      "3/3 - 0s - loss: 0.0499 - accuracy: 0.9889 - val_loss: 0.0825 - val_accuracy: 0.9333 - 19ms/epoch - 6ms/step\n",
      "Epoch 358/1000\n",
      "3/3 - 0s - loss: 0.0405 - accuracy: 0.9889 - val_loss: 0.2235 - val_accuracy: 0.9333 - 17ms/epoch - 6ms/step\n",
      "Epoch 359/1000\n",
      "3/3 - 0s - loss: 0.0490 - accuracy: 0.9778 - val_loss: 0.3207 - val_accuracy: 0.9333 - 19ms/epoch - 6ms/step\n",
      "Epoch 360/1000\n",
      "3/3 - 0s - loss: 0.0539 - accuracy: 0.9778 - val_loss: 0.1904 - val_accuracy: 0.9333 - 18ms/epoch - 6ms/step\n",
      "Epoch 361/1000\n",
      "3/3 - 0s - loss: 0.0374 - accuracy: 0.9889 - val_loss: 0.0790 - val_accuracy: 0.9333 - 18ms/epoch - 6ms/step\n",
      "Epoch 362/1000\n",
      "3/3 - 0s - loss: 0.0476 - accuracy: 0.9889 - val_loss: 0.0698 - val_accuracy: 0.9667 - 19ms/epoch - 6ms/step\n",
      "Epoch 363/1000\n",
      "3/3 - 0s - loss: 0.0461 - accuracy: 0.9889 - val_loss: 0.1426 - val_accuracy: 0.9333 - 18ms/epoch - 6ms/step\n",
      "Epoch 364/1000\n",
      "3/3 - 0s - loss: 0.0350 - accuracy: 0.9889 - val_loss: 0.2278 - val_accuracy: 0.9333 - 18ms/epoch - 6ms/step\n",
      "Epoch 365/1000\n",
      "3/3 - 0s - loss: 0.0361 - accuracy: 0.9889 - val_loss: 0.2741 - val_accuracy: 0.9333 - 19ms/epoch - 6ms/step\n",
      "Epoch 366/1000\n",
      "3/3 - 0s - loss: 0.0373 - accuracy: 0.9889 - val_loss: 0.2092 - val_accuracy: 0.9333 - 18ms/epoch - 6ms/step\n",
      "Epoch 367/1000\n",
      "3/3 - 0s - loss: 0.0365 - accuracy: 0.9889 - val_loss: 0.1437 - val_accuracy: 0.9333 - 18ms/epoch - 6ms/step\n",
      "Epoch 368/1000\n",
      "3/3 - 0s - loss: 0.0367 - accuracy: 0.9889 - val_loss: 0.1561 - val_accuracy: 0.9333 - 19ms/epoch - 6ms/step\n",
      "Epoch 369/1000\n",
      "3/3 - 0s - loss: 0.0352 - accuracy: 0.9889 - val_loss: 0.2072 - val_accuracy: 0.9333 - 19ms/epoch - 6ms/step\n",
      "Epoch 370/1000\n",
      "3/3 - 0s - loss: 0.0339 - accuracy: 0.9889 - val_loss: 0.2497 - val_accuracy: 0.9333 - 19ms/epoch - 6ms/step\n",
      "Epoch 371/1000\n",
      "3/3 - 0s - loss: 0.0387 - accuracy: 0.9889 - val_loss: 0.2346 - val_accuracy: 0.9333 - 18ms/epoch - 6ms/step\n",
      "Epoch 372/1000\n",
      "3/3 - 0s - loss: 0.0354 - accuracy: 0.9889 - val_loss: 0.1260 - val_accuracy: 0.9333 - 18ms/epoch - 6ms/step\n",
      "Epoch 373/1000\n",
      "3/3 - 0s - loss: 0.0376 - accuracy: 0.9889 - val_loss: 0.1398 - val_accuracy: 0.9333 - 19ms/epoch - 6ms/step\n",
      "Epoch 374/1000\n",
      "3/3 - 0s - loss: 0.0357 - accuracy: 0.9889 - val_loss: 0.2031 - val_accuracy: 0.9333 - 18ms/epoch - 6ms/step\n",
      "Epoch 375/1000\n",
      "3/3 - 0s - loss: 0.0327 - accuracy: 0.9889 - val_loss: 0.2718 - val_accuracy: 0.9333 - 18ms/epoch - 6ms/step\n",
      "Epoch 376/1000\n",
      "3/3 - 0s - loss: 0.0343 - accuracy: 0.9889 - val_loss: 0.2549 - val_accuracy: 0.9333 - 18ms/epoch - 6ms/step\n",
      "Epoch 377/1000\n",
      "3/3 - 0s - loss: 0.0320 - accuracy: 0.9889 - val_loss: 0.1411 - val_accuracy: 0.9333 - 18ms/epoch - 6ms/step\n",
      "Epoch 378/1000\n",
      "3/3 - 0s - loss: 0.0360 - accuracy: 0.9889 - val_loss: 0.1288 - val_accuracy: 0.9333 - 19ms/epoch - 6ms/step\n",
      "Epoch 379/1000\n",
      "3/3 - 0s - loss: 0.0381 - accuracy: 0.9889 - val_loss: 0.2413 - val_accuracy: 0.9333 - 18ms/epoch - 6ms/step\n",
      "Epoch 380/1000\n",
      "3/3 - 0s - loss: 0.0514 - accuracy: 0.9778 - val_loss: 0.3714 - val_accuracy: 0.9333 - 19ms/epoch - 6ms/step\n",
      "Epoch 381/1000\n",
      "3/3 - 0s - loss: 0.0510 - accuracy: 0.9889 - val_loss: 0.1187 - val_accuracy: 0.9333 - 19ms/epoch - 6ms/step\n",
      "Epoch 382/1000\n",
      "3/3 - 0s - loss: 0.0375 - accuracy: 0.9889 - val_loss: 0.1918 - val_accuracy: 0.9333 - 17ms/epoch - 6ms/step\n",
      "Epoch 383/1000\n",
      "3/3 - 0s - loss: 0.0326 - accuracy: 0.9889 - val_loss: 0.2155 - val_accuracy: 0.9333 - 18ms/epoch - 6ms/step\n",
      "Epoch 384/1000\n",
      "3/3 - 0s - loss: 0.0350 - accuracy: 0.9889 - val_loss: 0.2600 - val_accuracy: 0.9333 - 23ms/epoch - 8ms/step\n",
      "Epoch 385/1000\n",
      "3/3 - 0s - loss: 0.0489 - accuracy: 0.9778 - val_loss: 0.3220 - val_accuracy: 0.9333 - 20ms/epoch - 7ms/step\n",
      "Epoch 386/1000\n",
      "3/3 - 0s - loss: 0.0477 - accuracy: 0.9778 - val_loss: 0.1803 - val_accuracy: 0.9333 - 21ms/epoch - 7ms/step\n",
      "Epoch 387/1000\n",
      "3/3 - 0s - loss: 0.0331 - accuracy: 0.9889 - val_loss: 0.2279 - val_accuracy: 0.9333 - 21ms/epoch - 7ms/step\n",
      "Epoch 388/1000\n",
      "3/3 - 0s - loss: 0.0345 - accuracy: 0.9889 - val_loss: 0.2053 - val_accuracy: 0.9333 - 22ms/epoch - 7ms/step\n",
      "Epoch 389/1000\n",
      "3/3 - 0s - loss: 0.0331 - accuracy: 0.9889 - val_loss: 0.1700 - val_accuracy: 0.9333 - 21ms/epoch - 7ms/step\n",
      "Epoch 390/1000\n",
      "3/3 - 0s - loss: 0.0324 - accuracy: 0.9889 - val_loss: 0.1489 - val_accuracy: 0.9333 - 24ms/epoch - 8ms/step\n",
      "Epoch 391/1000\n",
      "3/3 - 0s - loss: 0.0327 - accuracy: 0.9889 - val_loss: 0.1651 - val_accuracy: 0.9333 - 24ms/epoch - 8ms/step\n",
      "Epoch 392/1000\n",
      "3/3 - 0s - loss: 0.0323 - accuracy: 0.9889 - val_loss: 0.1837 - val_accuracy: 0.9333 - 24ms/epoch - 8ms/step\n",
      "Epoch 393/1000\n",
      "3/3 - 0s - loss: 0.0316 - accuracy: 0.9889 - val_loss: 0.1750 - val_accuracy: 0.9333 - 24ms/epoch - 8ms/step\n",
      "Epoch 394/1000\n",
      "3/3 - 0s - loss: 0.0342 - accuracy: 0.9889 - val_loss: 0.2384 - val_accuracy: 0.9333 - 17ms/epoch - 6ms/step\n",
      "Epoch 395/1000\n",
      "3/3 - 0s - loss: 0.0329 - accuracy: 0.9889 - val_loss: 0.3792 - val_accuracy: 0.9333 - 16ms/epoch - 5ms/step\n",
      "Epoch 396/1000\n",
      "3/3 - 0s - loss: 0.0442 - accuracy: 0.9889 - val_loss: 0.2861 - val_accuracy: 0.9333 - 17ms/epoch - 6ms/step\n",
      "Epoch 397/1000\n",
      "3/3 - 0s - loss: 0.0339 - accuracy: 0.9889 - val_loss: 0.2372 - val_accuracy: 0.9333 - 18ms/epoch - 6ms/step\n",
      "Epoch 398/1000\n",
      "3/3 - 0s - loss: 0.0303 - accuracy: 0.9889 - val_loss: 0.1484 - val_accuracy: 0.9333 - 17ms/epoch - 6ms/step\n",
      "Epoch 399/1000\n",
      "3/3 - 0s - loss: 0.0342 - accuracy: 0.9889 - val_loss: 0.1303 - val_accuracy: 0.9333 - 17ms/epoch - 6ms/step\n",
      "Epoch 400/1000\n",
      "3/3 - 0s - loss: 0.0358 - accuracy: 0.9889 - val_loss: 0.1993 - val_accuracy: 0.9333 - 18ms/epoch - 6ms/step\n",
      "Epoch 401/1000\n",
      "3/3 - 0s - loss: 0.0314 - accuracy: 0.9889 - val_loss: 0.2008 - val_accuracy: 0.9333 - 17ms/epoch - 6ms/step\n",
      "Epoch 402/1000\n",
      "3/3 - 0s - loss: 0.0356 - accuracy: 0.9889 - val_loss: 0.2446 - val_accuracy: 0.9333 - 19ms/epoch - 6ms/step\n"
     ]
    },
    {
     "name": "stdout",
     "output_type": "stream",
     "text": [
      "Epoch 403/1000\n",
      "3/3 - 0s - loss: 0.0363 - accuracy: 0.9889 - val_loss: 0.4908 - val_accuracy: 0.8667 - 18ms/epoch - 6ms/step\n",
      "Epoch 404/1000\n",
      "3/3 - 0s - loss: 0.0606 - accuracy: 0.9778 - val_loss: 0.2505 - val_accuracy: 0.9333 - 18ms/epoch - 6ms/step\n",
      "Epoch 405/1000\n",
      "3/3 - 0s - loss: 0.0408 - accuracy: 0.9889 - val_loss: 0.1145 - val_accuracy: 0.9333 - 17ms/epoch - 6ms/step\n",
      "Epoch 406/1000\n",
      "3/3 - 0s - loss: 0.0377 - accuracy: 0.9889 - val_loss: 0.2528 - val_accuracy: 0.9333 - 16ms/epoch - 5ms/step\n",
      "Epoch 407/1000\n",
      "3/3 - 0s - loss: 0.0331 - accuracy: 0.9889 - val_loss: 0.2375 - val_accuracy: 0.9333 - 18ms/epoch - 6ms/step\n",
      "Epoch 408/1000\n",
      "3/3 - 0s - loss: 0.0315 - accuracy: 0.9889 - val_loss: 0.1354 - val_accuracy: 0.9333 - 18ms/epoch - 6ms/step\n",
      "Epoch 409/1000\n",
      "3/3 - 0s - loss: 0.0348 - accuracy: 0.9889 - val_loss: 0.1130 - val_accuracy: 0.9333 - 17ms/epoch - 6ms/step\n",
      "Epoch 410/1000\n",
      "3/3 - 0s - loss: 0.0358 - accuracy: 0.9889 - val_loss: 0.1451 - val_accuracy: 0.9333 - 16ms/epoch - 5ms/step\n",
      "Epoch 411/1000\n",
      "3/3 - 0s - loss: 0.0319 - accuracy: 0.9889 - val_loss: 0.2883 - val_accuracy: 0.9333 - 17ms/epoch - 6ms/step\n",
      "Epoch 412/1000\n",
      "3/3 - 0s - loss: 0.0391 - accuracy: 0.9889 - val_loss: 0.5323 - val_accuracy: 0.8667 - 18ms/epoch - 6ms/step\n",
      "Epoch 413/1000\n",
      "3/3 - 0s - loss: 0.0759 - accuracy: 0.9556 - val_loss: 0.1399 - val_accuracy: 0.9333 - 18ms/epoch - 6ms/step\n",
      "Epoch 414/1000\n",
      "3/3 - 0s - loss: 0.0410 - accuracy: 0.9889 - val_loss: 0.0616 - val_accuracy: 0.9667 - 16ms/epoch - 5ms/step\n",
      "Epoch 415/1000\n",
      "3/3 - 0s - loss: 0.0656 - accuracy: 0.9667 - val_loss: 0.0893 - val_accuracy: 0.9333 - 16ms/epoch - 5ms/step\n",
      "Epoch 416/1000\n",
      "3/3 - 0s - loss: 0.0386 - accuracy: 0.9889 - val_loss: 0.3004 - val_accuracy: 0.9333 - 17ms/epoch - 6ms/step\n",
      "Epoch 417/1000\n",
      "3/3 - 0s - loss: 0.0424 - accuracy: 0.9889 - val_loss: 0.3458 - val_accuracy: 0.9333 - 16ms/epoch - 5ms/step\n",
      "Epoch 418/1000\n",
      "3/3 - 0s - loss: 0.0376 - accuracy: 0.9889 - val_loss: 0.1424 - val_accuracy: 0.9333 - 17ms/epoch - 6ms/step\n",
      "Epoch 419/1000\n",
      "3/3 - 0s - loss: 0.0311 - accuracy: 0.9889 - val_loss: 0.0824 - val_accuracy: 0.9333 - 17ms/epoch - 6ms/step\n",
      "Epoch 420/1000\n",
      "3/3 - 0s - loss: 0.0398 - accuracy: 0.9889 - val_loss: 0.0996 - val_accuracy: 0.9333 - 17ms/epoch - 6ms/step\n",
      "Epoch 421/1000\n",
      "3/3 - 0s - loss: 0.0358 - accuracy: 0.9889 - val_loss: 0.1849 - val_accuracy: 0.9333 - 17ms/epoch - 6ms/step\n",
      "Epoch 422/1000\n",
      "3/3 - 0s - loss: 0.0322 - accuracy: 0.9889 - val_loss: 0.2859 - val_accuracy: 0.9333 - 19ms/epoch - 6ms/step\n",
      "Epoch 423/1000\n",
      "3/3 - 0s - loss: 0.0315 - accuracy: 0.9889 - val_loss: 0.3482 - val_accuracy: 0.9333 - 17ms/epoch - 6ms/step\n",
      "Epoch 424/1000\n",
      "3/3 - 0s - loss: 0.0324 - accuracy: 0.9889 - val_loss: 0.4433 - val_accuracy: 0.9333 - 16ms/epoch - 5ms/step\n",
      "Epoch 425/1000\n",
      "3/3 - 0s - loss: 0.0446 - accuracy: 0.9778 - val_loss: 0.2484 - val_accuracy: 0.9333 - 18ms/epoch - 6ms/step\n",
      "Epoch 426/1000\n",
      "3/3 - 0s - loss: 0.0281 - accuracy: 0.9889 - val_loss: 0.1189 - val_accuracy: 0.9333 - 16ms/epoch - 5ms/step\n",
      "Epoch 427/1000\n",
      "3/3 - 0s - loss: 0.0399 - accuracy: 0.9889 - val_loss: 0.1213 - val_accuracy: 0.9333 - 16ms/epoch - 5ms/step\n",
      "Epoch 428/1000\n",
      "3/3 - 0s - loss: 0.0344 - accuracy: 0.9889 - val_loss: 0.3416 - val_accuracy: 0.9333 - 17ms/epoch - 6ms/step\n",
      "Epoch 429/1000\n",
      "3/3 - 0s - loss: 0.0332 - accuracy: 0.9889 - val_loss: 0.4373 - val_accuracy: 0.9333 - 15ms/epoch - 5ms/step\n",
      "Epoch 430/1000\n",
      "3/3 - 0s - loss: 0.0439 - accuracy: 0.9778 - val_loss: 0.1656 - val_accuracy: 0.9333 - 15ms/epoch - 5ms/step\n",
      "Epoch 431/1000\n",
      "3/3 - 0s - loss: 0.0799 - accuracy: 0.9778 - val_loss: 0.0606 - val_accuracy: 0.9667 - 19ms/epoch - 6ms/step\n",
      "Epoch 432/1000\n",
      "3/3 - 0s - loss: 0.0501 - accuracy: 0.9889 - val_loss: 0.4980 - val_accuracy: 0.8667 - 17ms/epoch - 6ms/step\n",
      "Epoch 433/1000\n",
      "3/3 - 0s - loss: 0.1255 - accuracy: 0.9444 - val_loss: 0.2301 - val_accuracy: 0.9333 - 18ms/epoch - 6ms/step\n",
      "Epoch 434/1000\n",
      "3/3 - 0s - loss: 0.0599 - accuracy: 0.9778 - val_loss: 0.0656 - val_accuracy: 0.9667 - 18ms/epoch - 6ms/step\n",
      "Epoch 435/1000\n",
      "3/3 - 0s - loss: 0.0867 - accuracy: 0.9556 - val_loss: 0.0716 - val_accuracy: 0.9667 - 18ms/epoch - 6ms/step\n",
      "Epoch 436/1000\n",
      "3/3 - 0s - loss: 0.0436 - accuracy: 0.9889 - val_loss: 0.1600 - val_accuracy: 0.9333 - 18ms/epoch - 6ms/step\n",
      "Epoch 437/1000\n",
      "3/3 - 0s - loss: 0.0370 - accuracy: 0.9889 - val_loss: 0.2769 - val_accuracy: 0.9333 - 17ms/epoch - 6ms/step\n",
      "Epoch 438/1000\n",
      "3/3 - 0s - loss: 0.0538 - accuracy: 0.9667 - val_loss: 0.2585 - val_accuracy: 0.9333 - 17ms/epoch - 6ms/step\n",
      "Epoch 439/1000\n",
      "3/3 - 0s - loss: 0.0430 - accuracy: 0.9889 - val_loss: 0.1190 - val_accuracy: 0.9333 - 19ms/epoch - 6ms/step\n",
      "Epoch 440/1000\n",
      "3/3 - 0s - loss: 0.0399 - accuracy: 0.9889 - val_loss: 0.0730 - val_accuracy: 0.9667 - 17ms/epoch - 6ms/step\n",
      "Epoch 441/1000\n",
      "3/3 - 0s - loss: 0.0538 - accuracy: 0.9889 - val_loss: 0.0954 - val_accuracy: 0.9333 - 19ms/epoch - 6ms/step\n",
      "Epoch 442/1000\n",
      "3/3 - 0s - loss: 0.0409 - accuracy: 0.9889 - val_loss: 0.2194 - val_accuracy: 0.9333 - 17ms/epoch - 6ms/step\n",
      "Epoch 443/1000\n",
      "3/3 - 0s - loss: 0.0381 - accuracy: 0.9889 - val_loss: 0.2020 - val_accuracy: 0.9333 - 18ms/epoch - 6ms/step\n",
      "Epoch 444/1000\n",
      "3/3 - 0s - loss: 0.0337 - accuracy: 0.9889 - val_loss: 0.2487 - val_accuracy: 0.9333 - 18ms/epoch - 6ms/step\n",
      "Epoch 445/1000\n",
      "3/3 - 0s - loss: 0.0380 - accuracy: 0.9889 - val_loss: 0.2697 - val_accuracy: 0.9333 - 18ms/epoch - 6ms/step\n",
      "Epoch 446/1000\n",
      "3/3 - 0s - loss: 0.0427 - accuracy: 0.9778 - val_loss: 0.2736 - val_accuracy: 0.9333 - 17ms/epoch - 6ms/step\n",
      "Epoch 447/1000\n",
      "3/3 - 0s - loss: 0.0399 - accuracy: 0.9889 - val_loss: 0.1241 - val_accuracy: 0.9333 - 18ms/epoch - 6ms/step\n",
      "Epoch 448/1000\n",
      "3/3 - 0s - loss: 0.0388 - accuracy: 0.9889 - val_loss: 0.0986 - val_accuracy: 0.9333 - 17ms/epoch - 6ms/step\n",
      "Epoch 449/1000\n",
      "3/3 - 0s - loss: 0.0367 - accuracy: 0.9889 - val_loss: 0.1646 - val_accuracy: 0.9333 - 18ms/epoch - 6ms/step\n",
      "Epoch 450/1000\n",
      "3/3 - 0s - loss: 0.0305 - accuracy: 0.9889 - val_loss: 0.2470 - val_accuracy: 0.9333 - 19ms/epoch - 6ms/step\n",
      "Epoch 451/1000\n",
      "3/3 - 0s - loss: 0.0328 - accuracy: 0.9889 - val_loss: 0.2494 - val_accuracy: 0.9333 - 16ms/epoch - 5ms/step\n",
      "Epoch 452/1000\n",
      "3/3 - 0s - loss: 0.0292 - accuracy: 0.9889 - val_loss: 0.1599 - val_accuracy: 0.9333 - 18ms/epoch - 6ms/step\n",
      "Epoch 453/1000\n",
      "3/3 - 0s - loss: 0.0309 - accuracy: 0.9889 - val_loss: 0.0893 - val_accuracy: 0.9333 - 17ms/epoch - 6ms/step\n",
      "Epoch 454/1000\n",
      "3/3 - 0s - loss: 0.0393 - accuracy: 0.9889 - val_loss: 0.1045 - val_accuracy: 0.9333 - 18ms/epoch - 6ms/step\n",
      "Epoch 455/1000\n",
      "3/3 - 0s - loss: 0.0369 - accuracy: 0.9889 - val_loss: 0.2058 - val_accuracy: 0.9333 - 19ms/epoch - 6ms/step\n",
      "Epoch 456/1000\n",
      "3/3 - 0s - loss: 0.0348 - accuracy: 0.9889 - val_loss: 0.2542 - val_accuracy: 0.9333 - 19ms/epoch - 6ms/step\n",
      "Epoch 457/1000\n",
      "3/3 - 0s - loss: 0.0300 - accuracy: 0.9889 - val_loss: 0.1632 - val_accuracy: 0.9333 - 19ms/epoch - 6ms/step\n",
      "Epoch 458/1000\n",
      "3/3 - 0s - loss: 0.0315 - accuracy: 0.9889 - val_loss: 0.1459 - val_accuracy: 0.9333 - 18ms/epoch - 6ms/step\n",
      "Epoch 459/1000\n",
      "3/3 - 0s - loss: 0.0339 - accuracy: 0.9889 - val_loss: 0.1636 - val_accuracy: 0.9333 - 18ms/epoch - 6ms/step\n",
      "Epoch 460/1000\n",
      "3/3 - 0s - loss: 0.0317 - accuracy: 0.9889 - val_loss: 0.2734 - val_accuracy: 0.9333 - 19ms/epoch - 6ms/step\n",
      "Epoch 461/1000\n",
      "3/3 - 0s - loss: 0.0298 - accuracy: 0.9889 - val_loss: 0.4928 - val_accuracy: 0.9000 - 16ms/epoch - 5ms/step\n",
      "Epoch 462/1000\n",
      "3/3 - 0s - loss: 0.0584 - accuracy: 0.9667 - val_loss: 0.2484 - val_accuracy: 0.9333 - 18ms/epoch - 6ms/step\n",
      "Epoch 463/1000\n",
      "3/3 - 0s - loss: 0.0273 - accuracy: 0.9889 - val_loss: 0.0860 - val_accuracy: 0.9333 - 19ms/epoch - 6ms/step\n",
      "Epoch 464/1000\n",
      "3/3 - 0s - loss: 0.0411 - accuracy: 0.9889 - val_loss: 0.0809 - val_accuracy: 0.9667 - 17ms/epoch - 6ms/step\n",
      "Epoch 465/1000\n",
      "3/3 - 0s - loss: 0.0386 - accuracy: 0.9889 - val_loss: 0.1527 - val_accuracy: 0.9333 - 18ms/epoch - 6ms/step\n",
      "Epoch 466/1000\n",
      "3/3 - 0s - loss: 0.0337 - accuracy: 0.9889 - val_loss: 0.3492 - val_accuracy: 0.9333 - 19ms/epoch - 6ms/step\n",
      "Epoch 467/1000\n",
      "3/3 - 0s - loss: 0.0357 - accuracy: 0.9889 - val_loss: 0.3782 - val_accuracy: 0.9333 - 18ms/epoch - 6ms/step\n",
      "Epoch 468/1000\n",
      "3/3 - 0s - loss: 0.0383 - accuracy: 0.9889 - val_loss: 0.2483 - val_accuracy: 0.9333 - 18ms/epoch - 6ms/step\n",
      "Epoch 469/1000\n",
      "3/3 - 0s - loss: 0.0311 - accuracy: 0.9889 - val_loss: 0.0669 - val_accuracy: 0.9667 - 18ms/epoch - 6ms/step\n"
     ]
    },
    {
     "name": "stdout",
     "output_type": "stream",
     "text": [
      "Epoch 470/1000\n",
      "3/3 - 0s - loss: 0.0487 - accuracy: 0.9889 - val_loss: 0.1726 - val_accuracy: 0.9333 - 17ms/epoch - 6ms/step\n",
      "Epoch 471/1000\n",
      "3/3 - 0s - loss: 0.0310 - accuracy: 0.9889 - val_loss: 0.3170 - val_accuracy: 0.9333 - 18ms/epoch - 6ms/step\n",
      "Epoch 472/1000\n",
      "3/3 - 0s - loss: 0.0326 - accuracy: 0.9889 - val_loss: 0.3384 - val_accuracy: 0.9333 - 19ms/epoch - 6ms/step\n",
      "Epoch 473/1000\n",
      "3/3 - 0s - loss: 0.0298 - accuracy: 0.9889 - val_loss: 0.2794 - val_accuracy: 0.9333 - 18ms/epoch - 6ms/step\n",
      "Epoch 474/1000\n",
      "3/3 - 0s - loss: 0.0305 - accuracy: 0.9889 - val_loss: 0.2125 - val_accuracy: 0.9333 - 17ms/epoch - 6ms/step\n",
      "Epoch 475/1000\n",
      "3/3 - 0s - loss: 0.0327 - accuracy: 0.9889 - val_loss: 0.2955 - val_accuracy: 0.9333 - 17ms/epoch - 6ms/step\n",
      "Epoch 476/1000\n",
      "3/3 - 0s - loss: 0.0271 - accuracy: 0.9889 - val_loss: 0.5214 - val_accuracy: 0.9333 - 17ms/epoch - 6ms/step\n",
      "Epoch 477/1000\n",
      "3/3 - 0s - loss: 0.0514 - accuracy: 0.9778 - val_loss: 0.3639 - val_accuracy: 0.9333 - 16ms/epoch - 5ms/step\n",
      "Epoch 478/1000\n",
      "3/3 - 0s - loss: 0.0312 - accuracy: 0.9889 - val_loss: 0.2968 - val_accuracy: 0.9333 - 17ms/epoch - 6ms/step\n",
      "Epoch 479/1000\n",
      "3/3 - 0s - loss: 0.0285 - accuracy: 0.9889 - val_loss: 0.2354 - val_accuracy: 0.9333 - 15ms/epoch - 5ms/step\n",
      "Epoch 480/1000\n",
      "3/3 - 0s - loss: 0.0278 - accuracy: 0.9889 - val_loss: 0.1608 - val_accuracy: 0.9333 - 16ms/epoch - 5ms/step\n",
      "Epoch 481/1000\n",
      "3/3 - 0s - loss: 0.0309 - accuracy: 0.9889 - val_loss: 0.1677 - val_accuracy: 0.9333 - 16ms/epoch - 5ms/step\n",
      "Epoch 482/1000\n",
      "3/3 - 0s - loss: 0.0314 - accuracy: 0.9889 - val_loss: 0.2538 - val_accuracy: 0.9333 - 18ms/epoch - 6ms/step\n",
      "Epoch 483/1000\n",
      "3/3 - 0s - loss: 0.0287 - accuracy: 0.9889 - val_loss: 0.2616 - val_accuracy: 0.9333 - 19ms/epoch - 6ms/step\n",
      "Epoch 484/1000\n",
      "3/3 - 0s - loss: 0.0287 - accuracy: 0.9889 - val_loss: 0.2965 - val_accuracy: 0.9333 - 17ms/epoch - 6ms/step\n",
      "Epoch 485/1000\n",
      "3/3 - 0s - loss: 0.0282 - accuracy: 0.9889 - val_loss: 0.2846 - val_accuracy: 0.9333 - 16ms/epoch - 5ms/step\n",
      "Epoch 486/1000\n",
      "3/3 - 0s - loss: 0.0279 - accuracy: 0.9889 - val_loss: 0.2880 - val_accuracy: 0.9333 - 16ms/epoch - 5ms/step\n",
      "Epoch 487/1000\n",
      "3/3 - 0s - loss: 0.0280 - accuracy: 0.9889 - val_loss: 0.2773 - val_accuracy: 0.9333 - 19ms/epoch - 6ms/step\n",
      "Epoch 488/1000\n",
      "3/3 - 0s - loss: 0.0292 - accuracy: 0.9889 - val_loss: 0.2697 - val_accuracy: 0.9333 - 18ms/epoch - 6ms/step\n",
      "Epoch 489/1000\n",
      "3/3 - 0s - loss: 0.0271 - accuracy: 0.9889 - val_loss: 0.2029 - val_accuracy: 0.9333 - 17ms/epoch - 6ms/step\n",
      "Epoch 490/1000\n",
      "3/3 - 0s - loss: 0.0329 - accuracy: 0.9889 - val_loss: 0.2897 - val_accuracy: 0.9333 - 19ms/epoch - 6ms/step\n",
      "Epoch 491/1000\n",
      "3/3 - 0s - loss: 0.0280 - accuracy: 0.9889 - val_loss: 0.4967 - val_accuracy: 0.9333 - 18ms/epoch - 6ms/step\n",
      "Epoch 492/1000\n",
      "3/3 - 0s - loss: 0.0331 - accuracy: 0.9778 - val_loss: 0.2695 - val_accuracy: 0.9333 - 17ms/epoch - 6ms/step\n",
      "Epoch 493/1000\n",
      "3/3 - 0s - loss: 0.0307 - accuracy: 0.9889 - val_loss: 0.0895 - val_accuracy: 0.9333 - 17ms/epoch - 6ms/step\n",
      "Epoch 494/1000\n",
      "3/3 - 0s - loss: 0.0434 - accuracy: 0.9889 - val_loss: 0.1111 - val_accuracy: 0.9333 - 16ms/epoch - 5ms/step\n",
      "Epoch 495/1000\n",
      "3/3 - 0s - loss: 0.0353 - accuracy: 0.9889 - val_loss: 0.3148 - val_accuracy: 0.9333 - 18ms/epoch - 6ms/step\n",
      "Epoch 496/1000\n",
      "3/3 - 0s - loss: 0.0313 - accuracy: 0.9889 - val_loss: 0.4654 - val_accuracy: 0.9333 - 19ms/epoch - 6ms/step\n",
      "Epoch 497/1000\n",
      "3/3 - 0s - loss: 0.0308 - accuracy: 0.9889 - val_loss: 0.3887 - val_accuracy: 0.9333 - 18ms/epoch - 6ms/step\n",
      "Epoch 498/1000\n",
      "3/3 - 0s - loss: 0.0321 - accuracy: 0.9889 - val_loss: 0.3490 - val_accuracy: 0.9333 - 18ms/epoch - 6ms/step\n",
      "Epoch 499/1000\n",
      "3/3 - 0s - loss: 0.0326 - accuracy: 0.9889 - val_loss: 0.5214 - val_accuracy: 0.9333 - 18ms/epoch - 6ms/step\n",
      "Epoch 500/1000\n",
      "3/3 - 0s - loss: 0.0393 - accuracy: 0.9778 - val_loss: 0.4157 - val_accuracy: 0.9333 - 18ms/epoch - 6ms/step\n",
      "Epoch 501/1000\n",
      "3/3 - 0s - loss: 0.0301 - accuracy: 0.9889 - val_loss: 0.5014 - val_accuracy: 0.9333 - 18ms/epoch - 6ms/step\n",
      "Epoch 502/1000\n",
      "3/3 - 0s - loss: 0.0403 - accuracy: 0.9889 - val_loss: 0.4497 - val_accuracy: 0.9333 - 17ms/epoch - 6ms/step\n",
      "Epoch 503/1000\n",
      "3/3 - 0s - loss: 0.0286 - accuracy: 0.9889 - val_loss: 0.1722 - val_accuracy: 0.9333 - 17ms/epoch - 6ms/step\n",
      "Epoch 504/1000\n",
      "3/3 - 0s - loss: 0.0281 - accuracy: 0.9889 - val_loss: 0.0818 - val_accuracy: 0.9667 - 19ms/epoch - 6ms/step\n",
      "Epoch 505/1000\n",
      "3/3 - 0s - loss: 0.0506 - accuracy: 0.9889 - val_loss: 0.1230 - val_accuracy: 0.9333 - 18ms/epoch - 6ms/step\n",
      "Epoch 506/1000\n",
      "3/3 - 0s - loss: 0.0345 - accuracy: 0.9889 - val_loss: 0.3268 - val_accuracy: 0.9333 - 19ms/epoch - 6ms/step\n",
      "Epoch 507/1000\n",
      "3/3 - 0s - loss: 0.0293 - accuracy: 0.9889 - val_loss: 0.3062 - val_accuracy: 0.9333 - 18ms/epoch - 6ms/step\n",
      "Epoch 508/1000\n",
      "3/3 - 0s - loss: 0.0243 - accuracy: 0.9889 - val_loss: 0.1541 - val_accuracy: 0.9333 - 18ms/epoch - 6ms/step\n",
      "Epoch 509/1000\n",
      "3/3 - 0s - loss: 0.0359 - accuracy: 0.9889 - val_loss: 0.0996 - val_accuracy: 0.9333 - 17ms/epoch - 6ms/step\n",
      "Epoch 510/1000\n",
      "3/3 - 0s - loss: 0.0369 - accuracy: 0.9889 - val_loss: 0.2592 - val_accuracy: 0.9333 - 18ms/epoch - 6ms/step\n",
      "Epoch 511/1000\n",
      "3/3 - 0s - loss: 0.0270 - accuracy: 0.9889 - val_loss: 0.4264 - val_accuracy: 0.9333 - 19ms/epoch - 6ms/step\n",
      "Epoch 512/1000\n",
      "3/3 - 0s - loss: 0.0296 - accuracy: 0.9889 - val_loss: 0.5235 - val_accuracy: 0.9333 - 18ms/epoch - 6ms/step\n",
      "Epoch 513/1000\n",
      "3/3 - 0s - loss: 0.0308 - accuracy: 0.9889 - val_loss: 0.4173 - val_accuracy: 0.9333 - 17ms/epoch - 6ms/step\n",
      "Epoch 514/1000\n",
      "3/3 - 0s - loss: 0.0256 - accuracy: 0.9889 - val_loss: 0.2896 - val_accuracy: 0.9333 - 18ms/epoch - 6ms/step\n",
      "Epoch 515/1000\n",
      "3/3 - 0s - loss: 0.0277 - accuracy: 0.9889 - val_loss: 0.2394 - val_accuracy: 0.9333 - 17ms/epoch - 6ms/step\n",
      "Epoch 516/1000\n",
      "3/3 - 0s - loss: 0.0317 - accuracy: 0.9889 - val_loss: 0.3423 - val_accuracy: 0.9333 - 19ms/epoch - 6ms/step\n",
      "Epoch 517/1000\n",
      "3/3 - 0s - loss: 0.0364 - accuracy: 0.9889 - val_loss: 0.6022 - val_accuracy: 0.9000 - 19ms/epoch - 6ms/step\n",
      "Epoch 518/1000\n",
      "3/3 - 0s - loss: 0.0531 - accuracy: 0.9778 - val_loss: 0.2990 - val_accuracy: 0.9333 - 18ms/epoch - 6ms/step\n",
      "Epoch 519/1000\n",
      "3/3 - 0s - loss: 0.0244 - accuracy: 0.9889 - val_loss: 0.0767 - val_accuracy: 0.9667 - 18ms/epoch - 6ms/step\n",
      "Epoch 520/1000\n",
      "3/3 - 0s - loss: 0.0436 - accuracy: 0.9889 - val_loss: 0.1522 - val_accuracy: 0.9333 - 18ms/epoch - 6ms/step\n",
      "Epoch 521/1000\n",
      "3/3 - 0s - loss: 0.0305 - accuracy: 0.9889 - val_loss: 0.3256 - val_accuracy: 0.9333 - 17ms/epoch - 6ms/step\n",
      "Epoch 522/1000\n",
      "3/3 - 0s - loss: 0.0291 - accuracy: 0.9889 - val_loss: 0.4694 - val_accuracy: 0.9333 - 18ms/epoch - 6ms/step\n",
      "Epoch 523/1000\n",
      "3/3 - 0s - loss: 0.0284 - accuracy: 0.9889 - val_loss: 0.3541 - val_accuracy: 0.9333 - 19ms/epoch - 6ms/step\n",
      "Epoch 524/1000\n",
      "3/3 - 0s - loss: 0.0382 - accuracy: 0.9889 - val_loss: 0.1617 - val_accuracy: 0.9333 - 18ms/epoch - 6ms/step\n",
      "Epoch 525/1000\n",
      "3/3 - 0s - loss: 0.0279 - accuracy: 0.9889 - val_loss: 0.4027 - val_accuracy: 0.9333 - 18ms/epoch - 6ms/step\n",
      "Epoch 526/1000\n",
      "3/3 - 0s - loss: 0.0285 - accuracy: 0.9889 - val_loss: 0.4608 - val_accuracy: 0.9333 - 18ms/epoch - 6ms/step\n",
      "Epoch 527/1000\n",
      "3/3 - 0s - loss: 0.0270 - accuracy: 0.9889 - val_loss: 0.2759 - val_accuracy: 0.9333 - 18ms/epoch - 6ms/step\n",
      "Epoch 528/1000\n",
      "3/3 - 0s - loss: 0.0304 - accuracy: 0.9889 - val_loss: 0.1046 - val_accuracy: 0.9333 - 18ms/epoch - 6ms/step\n",
      "Epoch 529/1000\n",
      "3/3 - 0s - loss: 0.0363 - accuracy: 0.9889 - val_loss: 0.2170 - val_accuracy: 0.9333 - 19ms/epoch - 6ms/step\n",
      "Epoch 530/1000\n",
      "3/3 - 0s - loss: 0.0285 - accuracy: 0.9889 - val_loss: 0.4918 - val_accuracy: 0.9333 - 19ms/epoch - 6ms/step\n",
      "Epoch 531/1000\n",
      "3/3 - 0s - loss: 0.0279 - accuracy: 0.9889 - val_loss: 0.5087 - val_accuracy: 0.9333 - 18ms/epoch - 6ms/step\n",
      "Epoch 532/1000\n",
      "3/3 - 0s - loss: 0.0309 - accuracy: 0.9889 - val_loss: 0.4047 - val_accuracy: 0.9333 - 18ms/epoch - 6ms/step\n",
      "Epoch 533/1000\n",
      "3/3 - 0s - loss: 0.0295 - accuracy: 0.9889 - val_loss: 0.2469 - val_accuracy: 0.9333 - 18ms/epoch - 6ms/step\n",
      "Epoch 534/1000\n",
      "3/3 - 0s - loss: 0.0351 - accuracy: 0.9889 - val_loss: 0.1999 - val_accuracy: 0.9333 - 17ms/epoch - 6ms/step\n",
      "Epoch 535/1000\n",
      "3/3 - 0s - loss: 0.0353 - accuracy: 0.9889 - val_loss: 0.2666 - val_accuracy: 0.9333 - 18ms/epoch - 6ms/step\n",
      "Epoch 536/1000\n",
      "3/3 - 0s - loss: 0.0324 - accuracy: 0.9889 - val_loss: 0.4102 - val_accuracy: 0.9333 - 17ms/epoch - 6ms/step\n"
     ]
    },
    {
     "name": "stdout",
     "output_type": "stream",
     "text": [
      "Epoch 537/1000\n",
      "3/3 - 0s - loss: 0.0262 - accuracy: 0.9889 - val_loss: 0.4885 - val_accuracy: 0.9333 - 17ms/epoch - 6ms/step\n",
      "Epoch 538/1000\n",
      "3/3 - 0s - loss: 0.0258 - accuracy: 0.9889 - val_loss: 0.5371 - val_accuracy: 0.9333 - 17ms/epoch - 6ms/step\n",
      "Epoch 539/1000\n",
      "3/3 - 0s - loss: 0.0304 - accuracy: 0.9889 - val_loss: 0.5775 - val_accuracy: 0.9333 - 17ms/epoch - 6ms/step\n",
      "Epoch 540/1000\n",
      "3/3 - 0s - loss: 0.0323 - accuracy: 0.9889 - val_loss: 0.5673 - val_accuracy: 0.9333 - 17ms/epoch - 6ms/step\n",
      "Epoch 541/1000\n",
      "3/3 - 0s - loss: 0.0313 - accuracy: 0.9889 - val_loss: 0.3872 - val_accuracy: 0.9333 - 18ms/epoch - 6ms/step\n",
      "Epoch 542/1000\n",
      "3/3 - 0s - loss: 0.0283 - accuracy: 0.9889 - val_loss: 0.2309 - val_accuracy: 0.9333 - 17ms/epoch - 6ms/step\n",
      "Epoch 543/1000\n",
      "3/3 - 0s - loss: 0.0297 - accuracy: 0.9889 - val_loss: 0.2397 - val_accuracy: 0.9333 - 17ms/epoch - 6ms/step\n",
      "Epoch 544/1000\n",
      "3/3 - 0s - loss: 0.0293 - accuracy: 0.9889 - val_loss: 0.3310 - val_accuracy: 0.9333 - 17ms/epoch - 6ms/step\n",
      "Epoch 545/1000\n",
      "3/3 - 0s - loss: 0.0250 - accuracy: 0.9889 - val_loss: 0.3818 - val_accuracy: 0.9333 - 16ms/epoch - 5ms/step\n",
      "Epoch 546/1000\n",
      "3/3 - 0s - loss: 0.0247 - accuracy: 0.9889 - val_loss: 0.3928 - val_accuracy: 0.9333 - 19ms/epoch - 6ms/step\n",
      "Epoch 547/1000\n",
      "3/3 - 0s - loss: 0.0250 - accuracy: 0.9889 - val_loss: 0.3422 - val_accuracy: 0.9333 - 18ms/epoch - 6ms/step\n",
      "Epoch 548/1000\n",
      "3/3 - 0s - loss: 0.0248 - accuracy: 0.9889 - val_loss: 0.3339 - val_accuracy: 0.9333 - 19ms/epoch - 6ms/step\n",
      "Epoch 549/1000\n",
      "3/3 - 0s - loss: 0.0243 - accuracy: 0.9889 - val_loss: 0.3666 - val_accuracy: 0.9333 - 18ms/epoch - 6ms/step\n",
      "Epoch 550/1000\n",
      "3/3 - 0s - loss: 0.0237 - accuracy: 0.9889 - val_loss: 0.3983 - val_accuracy: 0.9333 - 17ms/epoch - 6ms/step\n",
      "Epoch 551/1000\n",
      "3/3 - 0s - loss: 0.0272 - accuracy: 0.9889 - val_loss: 0.3995 - val_accuracy: 0.9333 - 17ms/epoch - 6ms/step\n",
      "Epoch 552/1000\n",
      "3/3 - 0s - loss: 0.0240 - accuracy: 0.9889 - val_loss: 0.3411 - val_accuracy: 0.9333 - 17ms/epoch - 6ms/step\n",
      "Epoch 553/1000\n",
      "3/3 - 0s - loss: 0.0238 - accuracy: 0.9889 - val_loss: 0.2799 - val_accuracy: 0.9333 - 17ms/epoch - 6ms/step\n",
      "Epoch 554/1000\n",
      "3/3 - 0s - loss: 0.0254 - accuracy: 0.9889 - val_loss: 0.2329 - val_accuracy: 0.9333 - 19ms/epoch - 6ms/step\n",
      "Epoch 555/1000\n",
      "3/3 - 0s - loss: 0.0285 - accuracy: 0.9889 - val_loss: 0.3114 - val_accuracy: 0.9333 - 19ms/epoch - 6ms/step\n",
      "Epoch 556/1000\n",
      "3/3 - 0s - loss: 0.0271 - accuracy: 0.9889 - val_loss: 0.3924 - val_accuracy: 0.9333 - 18ms/epoch - 6ms/step\n",
      "Epoch 557/1000\n",
      "3/3 - 0s - loss: 0.0233 - accuracy: 0.9889 - val_loss: 0.3589 - val_accuracy: 0.9333 - 19ms/epoch - 6ms/step\n",
      "Epoch 558/1000\n",
      "3/3 - 0s - loss: 0.0242 - accuracy: 0.9889 - val_loss: 0.3777 - val_accuracy: 0.9333 - 18ms/epoch - 6ms/step\n",
      "Epoch 559/1000\n",
      "3/3 - 0s - loss: 0.0227 - accuracy: 0.9889 - val_loss: 0.3488 - val_accuracy: 0.9333 - 17ms/epoch - 6ms/step\n",
      "Epoch 560/1000\n",
      "3/3 - 0s - loss: 0.0244 - accuracy: 0.9889 - val_loss: 0.3642 - val_accuracy: 0.9333 - 17ms/epoch - 6ms/step\n",
      "Epoch 561/1000\n",
      "3/3 - 0s - loss: 0.0266 - accuracy: 0.9889 - val_loss: 0.3983 - val_accuracy: 0.9333 - 17ms/epoch - 6ms/step\n",
      "Epoch 562/1000\n",
      "3/3 - 0s - loss: 0.0352 - accuracy: 0.9889 - val_loss: 0.4025 - val_accuracy: 0.9333 - 18ms/epoch - 6ms/step\n",
      "Epoch 563/1000\n",
      "3/3 - 0s - loss: 0.0231 - accuracy: 1.0000 - val_loss: 0.6995 - val_accuracy: 0.8667 - 19ms/epoch - 6ms/step\n",
      "Epoch 564/1000\n",
      "3/3 - 0s - loss: 0.0649 - accuracy: 0.9778 - val_loss: 0.3738 - val_accuracy: 0.9333 - 17ms/epoch - 6ms/step\n",
      "Epoch 565/1000\n",
      "3/3 - 0s - loss: 0.0225 - accuracy: 0.9889 - val_loss: 0.3543 - val_accuracy: 0.9333 - 17ms/epoch - 6ms/step\n",
      "Epoch 566/1000\n",
      "3/3 - 0s - loss: 0.0228 - accuracy: 0.9889 - val_loss: 0.2823 - val_accuracy: 0.9333 - 17ms/epoch - 6ms/step\n",
      "Epoch 567/1000\n",
      "3/3 - 0s - loss: 0.0233 - accuracy: 0.9889 - val_loss: 0.2233 - val_accuracy: 0.9333 - 17ms/epoch - 6ms/step\n",
      "Epoch 568/1000\n",
      "3/3 - 0s - loss: 0.0263 - accuracy: 0.9889 - val_loss: 0.2853 - val_accuracy: 0.9333 - 18ms/epoch - 6ms/step\n",
      "Epoch 569/1000\n",
      "3/3 - 0s - loss: 0.0232 - accuracy: 0.9889 - val_loss: 0.3460 - val_accuracy: 0.9333 - 21ms/epoch - 7ms/step\n",
      "Epoch 570/1000\n",
      "3/3 - 0s - loss: 0.0247 - accuracy: 0.9889 - val_loss: 0.3259 - val_accuracy: 0.9333 - 19ms/epoch - 6ms/step\n",
      "Epoch 571/1000\n",
      "3/3 - 0s - loss: 0.0204 - accuracy: 0.9889 - val_loss: 0.1599 - val_accuracy: 0.9333 - 20ms/epoch - 7ms/step\n",
      "Epoch 572/1000\n",
      "3/3 - 0s - loss: 0.0417 - accuracy: 0.9889 - val_loss: 0.3271 - val_accuracy: 0.9333 - 19ms/epoch - 6ms/step\n",
      "Epoch 573/1000\n",
      "3/3 - 0s - loss: 0.0209 - accuracy: 1.0000 - val_loss: 0.9235 - val_accuracy: 0.8667 - 18ms/epoch - 6ms/step\n",
      "Epoch 574/1000\n",
      "3/3 - 0s - loss: 0.1314 - accuracy: 0.9444 - val_loss: 0.0647 - val_accuracy: 0.9667 - 18ms/epoch - 6ms/step\n",
      "Epoch 575/1000\n",
      "3/3 - 0s - loss: 0.0934 - accuracy: 0.9556 - val_loss: 0.0695 - val_accuracy: 0.9667 - 17ms/epoch - 6ms/step\n",
      "Epoch 576/1000\n",
      "3/3 - 0s - loss: 0.0825 - accuracy: 0.9778 - val_loss: 0.3162 - val_accuracy: 0.9333 - 17ms/epoch - 6ms/step\n",
      "Epoch 577/1000\n",
      "3/3 - 0s - loss: 0.0525 - accuracy: 0.9667 - val_loss: 0.2320 - val_accuracy: 0.9333 - 18ms/epoch - 6ms/step\n",
      "Epoch 578/1000\n",
      "3/3 - 0s - loss: 0.0511 - accuracy: 0.9889 - val_loss: 0.1273 - val_accuracy: 0.9667 - 16ms/epoch - 5ms/step\n",
      "Epoch 579/1000\n",
      "3/3 - 0s - loss: 0.2046 - accuracy: 0.9444 - val_loss: 0.1186 - val_accuracy: 0.9667 - 19ms/epoch - 6ms/step\n",
      "Epoch 580/1000\n",
      "3/3 - 0s - loss: 0.1408 - accuracy: 0.9444 - val_loss: 0.0839 - val_accuracy: 0.9333 - 17ms/epoch - 6ms/step\n",
      "Epoch 581/1000\n",
      "3/3 - 0s - loss: 0.0344 - accuracy: 0.9889 - val_loss: 0.6415 - val_accuracy: 0.8667 - 17ms/epoch - 6ms/step\n",
      "Epoch 582/1000\n",
      "3/3 - 0s - loss: 0.1124 - accuracy: 0.9444 - val_loss: 0.2623 - val_accuracy: 0.9333 - 17ms/epoch - 6ms/step\n",
      "Epoch 583/1000\n",
      "3/3 - 0s - loss: 0.0424 - accuracy: 0.9889 - val_loss: 0.0796 - val_accuracy: 0.9667 - 19ms/epoch - 6ms/step\n",
      "Epoch 584/1000\n",
      "3/3 - 0s - loss: 0.1116 - accuracy: 0.9444 - val_loss: 0.1487 - val_accuracy: 0.9000 - 17ms/epoch - 6ms/step\n",
      "Epoch 585/1000\n",
      "3/3 - 0s - loss: 0.1607 - accuracy: 0.9444 - val_loss: 0.0946 - val_accuracy: 0.9667 - 18ms/epoch - 6ms/step\n",
      "Epoch 586/1000\n",
      "3/3 - 0s - loss: 0.0826 - accuracy: 0.9444 - val_loss: 0.0894 - val_accuracy: 0.9667 - 17ms/epoch - 6ms/step\n",
      "Epoch 587/1000\n",
      "3/3 - 0s - loss: 0.0512 - accuracy: 0.9889 - val_loss: 0.2581 - val_accuracy: 0.9000 - 18ms/epoch - 6ms/step\n",
      "Epoch 588/1000\n",
      "3/3 - 0s - loss: 0.0911 - accuracy: 0.9444 - val_loss: 0.3035 - val_accuracy: 0.9000 - 18ms/epoch - 6ms/step\n",
      "Epoch 589/1000\n",
      "3/3 - 0s - loss: 0.0812 - accuracy: 0.9667 - val_loss: 0.1086 - val_accuracy: 0.9333 - 16ms/epoch - 5ms/step\n",
      "Epoch 590/1000\n",
      "3/3 - 0s - loss: 0.0477 - accuracy: 0.9889 - val_loss: 0.0682 - val_accuracy: 0.9667 - 18ms/epoch - 6ms/step\n",
      "Epoch 591/1000\n",
      "3/3 - 0s - loss: 0.0487 - accuracy: 0.9889 - val_loss: 0.0712 - val_accuracy: 0.9667 - 18ms/epoch - 6ms/step\n",
      "Epoch 592/1000\n",
      "3/3 - 0s - loss: 0.0422 - accuracy: 0.9889 - val_loss: 0.1055 - val_accuracy: 0.9333 - 18ms/epoch - 6ms/step\n",
      "Epoch 593/1000\n",
      "3/3 - 0s - loss: 0.0355 - accuracy: 0.9889 - val_loss: 0.2897 - val_accuracy: 0.9333 - 18ms/epoch - 6ms/step\n",
      "Epoch 594/1000\n",
      "3/3 - 0s - loss: 0.0400 - accuracy: 0.9889 - val_loss: 0.3414 - val_accuracy: 0.9333 - 19ms/epoch - 6ms/step\n",
      "Epoch 595/1000\n",
      "3/3 - 0s - loss: 0.0374 - accuracy: 0.9889 - val_loss: 0.2496 - val_accuracy: 0.9333 - 18ms/epoch - 6ms/step\n",
      "Epoch 596/1000\n",
      "3/3 - 0s - loss: 0.0330 - accuracy: 0.9889 - val_loss: 0.1132 - val_accuracy: 0.9333 - 19ms/epoch - 6ms/step\n",
      "Epoch 597/1000\n",
      "3/3 - 0s - loss: 0.0356 - accuracy: 0.9889 - val_loss: 0.0855 - val_accuracy: 0.9333 - 18ms/epoch - 6ms/step\n",
      "Epoch 598/1000\n",
      "3/3 - 0s - loss: 0.0385 - accuracy: 0.9889 - val_loss: 0.1340 - val_accuracy: 0.9333 - 18ms/epoch - 6ms/step\n",
      "Epoch 599/1000\n",
      "3/3 - 0s - loss: 0.0319 - accuracy: 0.9889 - val_loss: 0.3356 - val_accuracy: 0.9333 - 18ms/epoch - 6ms/step\n",
      "Epoch 600/1000\n",
      "3/3 - 0s - loss: 0.0405 - accuracy: 0.9889 - val_loss: 0.5730 - val_accuracy: 0.8667 - 18ms/epoch - 6ms/step\n",
      "Epoch 601/1000\n",
      "3/3 - 0s - loss: 0.0649 - accuracy: 0.9556 - val_loss: 0.2407 - val_accuracy: 0.9333 - 18ms/epoch - 6ms/step\n",
      "Epoch 602/1000\n",
      "3/3 - 0s - loss: 0.0278 - accuracy: 0.9889 - val_loss: 0.0745 - val_accuracy: 0.9667 - 18ms/epoch - 6ms/step\n",
      "Epoch 603/1000\n",
      "3/3 - 0s - loss: 0.0394 - accuracy: 0.9889 - val_loss: 0.0810 - val_accuracy: 0.9667 - 19ms/epoch - 6ms/step\n"
     ]
    },
    {
     "name": "stdout",
     "output_type": "stream",
     "text": [
      "Epoch 604/1000\n",
      "3/3 - 0s - loss: 0.0353 - accuracy: 0.9889 - val_loss: 0.2308 - val_accuracy: 0.9333 - 18ms/epoch - 6ms/step\n",
      "Epoch 605/1000\n",
      "3/3 - 0s - loss: 0.0299 - accuracy: 0.9889 - val_loss: 0.3396 - val_accuracy: 0.9333 - 17ms/epoch - 6ms/step\n",
      "Epoch 606/1000\n",
      "3/3 - 0s - loss: 0.0316 - accuracy: 0.9889 - val_loss: 0.3490 - val_accuracy: 0.9333 - 18ms/epoch - 6ms/step\n",
      "Epoch 607/1000\n",
      "3/3 - 0s - loss: 0.0304 - accuracy: 0.9889 - val_loss: 0.3225 - val_accuracy: 0.9333 - 17ms/epoch - 6ms/step\n",
      "Epoch 608/1000\n",
      "3/3 - 0s - loss: 0.0284 - accuracy: 0.9889 - val_loss: 0.2706 - val_accuracy: 0.9333 - 18ms/epoch - 6ms/step\n",
      "Epoch 609/1000\n",
      "3/3 - 0s - loss: 0.0282 - accuracy: 0.9889 - val_loss: 0.2347 - val_accuracy: 0.9333 - 18ms/epoch - 6ms/step\n",
      "Epoch 610/1000\n",
      "3/3 - 0s - loss: 0.0298 - accuracy: 0.9889 - val_loss: 0.2120 - val_accuracy: 0.9333 - 17ms/epoch - 6ms/step\n",
      "Epoch 611/1000\n",
      "3/3 - 0s - loss: 0.0297 - accuracy: 0.9889 - val_loss: 0.2385 - val_accuracy: 0.9333 - 19ms/epoch - 6ms/step\n",
      "Epoch 612/1000\n",
      "3/3 - 0s - loss: 0.0291 - accuracy: 0.9889 - val_loss: 0.2633 - val_accuracy: 0.9333 - 18ms/epoch - 6ms/step\n",
      "Epoch 613/1000\n",
      "3/3 - 0s - loss: 0.0287 - accuracy: 0.9889 - val_loss: 0.2746 - val_accuracy: 0.9333 - 17ms/epoch - 6ms/step\n",
      "Epoch 614/1000\n",
      "3/3 - 0s - loss: 0.0276 - accuracy: 0.9889 - val_loss: 0.3015 - val_accuracy: 0.9333 - 18ms/epoch - 6ms/step\n",
      "Epoch 615/1000\n",
      "3/3 - 0s - loss: 0.0275 - accuracy: 0.9889 - val_loss: 0.3507 - val_accuracy: 0.9333 - 18ms/epoch - 6ms/step\n",
      "Epoch 616/1000\n",
      "3/3 - 0s - loss: 0.0281 - accuracy: 0.9889 - val_loss: 0.3351 - val_accuracy: 0.9333 - 18ms/epoch - 6ms/step\n",
      "Epoch 617/1000\n",
      "3/3 - 0s - loss: 0.0301 - accuracy: 0.9889 - val_loss: 0.2060 - val_accuracy: 0.9333 - 18ms/epoch - 6ms/step\n",
      "Epoch 618/1000\n",
      "3/3 - 0s - loss: 0.0350 - accuracy: 0.9889 - val_loss: 0.2130 - val_accuracy: 0.9333 - 19ms/epoch - 6ms/step\n",
      "Epoch 619/1000\n",
      "3/3 - 0s - loss: 0.0297 - accuracy: 0.9889 - val_loss: 0.4002 - val_accuracy: 0.9333 - 17ms/epoch - 6ms/step\n",
      "Epoch 620/1000\n",
      "3/3 - 0s - loss: 0.0414 - accuracy: 0.9778 - val_loss: 0.6395 - val_accuracy: 0.8667 - 17ms/epoch - 6ms/step\n",
      "Epoch 621/1000\n",
      "3/3 - 0s - loss: 0.0688 - accuracy: 0.9778 - val_loss: 0.1390 - val_accuracy: 0.9333 - 18ms/epoch - 6ms/step\n",
      "Epoch 622/1000\n",
      "3/3 - 0s - loss: 0.0295 - accuracy: 0.9889 - val_loss: 0.0611 - val_accuracy: 0.9667 - 18ms/epoch - 6ms/step\n",
      "Epoch 623/1000\n",
      "3/3 - 0s - loss: 0.0680 - accuracy: 0.9667 - val_loss: 0.0635 - val_accuracy: 0.9667 - 18ms/epoch - 6ms/step\n",
      "Epoch 624/1000\n",
      "3/3 - 0s - loss: 0.0491 - accuracy: 0.9778 - val_loss: 0.1284 - val_accuracy: 0.9333 - 20ms/epoch - 7ms/step\n",
      "Epoch 625/1000\n",
      "3/3 - 0s - loss: 0.0362 - accuracy: 0.9889 - val_loss: 0.2420 - val_accuracy: 0.9333 - 19ms/epoch - 6ms/step\n",
      "Epoch 626/1000\n",
      "3/3 - 0s - loss: 0.0336 - accuracy: 0.9889 - val_loss: 0.2128 - val_accuracy: 0.9333 - 18ms/epoch - 6ms/step\n",
      "Epoch 627/1000\n",
      "3/3 - 0s - loss: 0.0320 - accuracy: 0.9889 - val_loss: 0.2457 - val_accuracy: 0.9333 - 19ms/epoch - 6ms/step\n",
      "Epoch 628/1000\n",
      "3/3 - 0s - loss: 0.0323 - accuracy: 0.9889 - val_loss: 0.2330 - val_accuracy: 0.9333 - 17ms/epoch - 6ms/step\n",
      "Epoch 629/1000\n",
      "3/3 - 0s - loss: 0.0310 - accuracy: 0.9889 - val_loss: 0.2540 - val_accuracy: 0.9333 - 18ms/epoch - 6ms/step\n",
      "Epoch 630/1000\n",
      "3/3 - 0s - loss: 0.0291 - accuracy: 0.9889 - val_loss: 0.1795 - val_accuracy: 0.9333 - 18ms/epoch - 6ms/step\n",
      "Epoch 631/1000\n",
      "3/3 - 0s - loss: 0.0281 - accuracy: 0.9889 - val_loss: 0.1507 - val_accuracy: 0.9333 - 17ms/epoch - 6ms/step\n",
      "Epoch 632/1000\n",
      "3/3 - 0s - loss: 0.0290 - accuracy: 0.9889 - val_loss: 0.1665 - val_accuracy: 0.9333 - 17ms/epoch - 6ms/step\n",
      "Epoch 633/1000\n",
      "3/3 - 0s - loss: 0.0285 - accuracy: 0.9889 - val_loss: 0.1559 - val_accuracy: 0.9333 - 18ms/epoch - 6ms/step\n",
      "Epoch 634/1000\n",
      "3/3 - 0s - loss: 0.0289 - accuracy: 0.9889 - val_loss: 0.2040 - val_accuracy: 0.9333 - 18ms/epoch - 6ms/step\n",
      "Epoch 635/1000\n",
      "3/3 - 0s - loss: 0.0275 - accuracy: 0.9889 - val_loss: 0.2745 - val_accuracy: 0.9333 - 18ms/epoch - 6ms/step\n",
      "Epoch 636/1000\n",
      "3/3 - 0s - loss: 0.0270 - accuracy: 0.9889 - val_loss: 0.3335 - val_accuracy: 0.9333 - 19ms/epoch - 6ms/step\n",
      "Epoch 637/1000\n",
      "3/3 - 0s - loss: 0.0264 - accuracy: 0.9889 - val_loss: 0.3510 - val_accuracy: 0.9333 - 18ms/epoch - 6ms/step\n",
      "Epoch 638/1000\n",
      "3/3 - 0s - loss: 0.0273 - accuracy: 0.9889 - val_loss: 0.3770 - val_accuracy: 0.9333 - 18ms/epoch - 6ms/step\n",
      "Epoch 639/1000\n",
      "3/3 - 0s - loss: 0.0247 - accuracy: 0.9889 - val_loss: 0.4848 - val_accuracy: 0.9333 - 17ms/epoch - 6ms/step\n",
      "Epoch 640/1000\n",
      "3/3 - 0s - loss: 0.0351 - accuracy: 1.0000 - val_loss: 0.4497 - val_accuracy: 0.9333 - 19ms/epoch - 6ms/step\n",
      "Epoch 641/1000\n",
      "3/3 - 0s - loss: 0.0264 - accuracy: 0.9889 - val_loss: 0.2696 - val_accuracy: 0.9333 - 18ms/epoch - 6ms/step\n",
      "Epoch 642/1000\n",
      "3/3 - 0s - loss: 0.0296 - accuracy: 0.9889 - val_loss: 0.0947 - val_accuracy: 0.9667 - 18ms/epoch - 6ms/step\n",
      "Epoch 643/1000\n",
      "3/3 - 0s - loss: 0.0408 - accuracy: 0.9889 - val_loss: 0.1383 - val_accuracy: 0.9333 - 17ms/epoch - 6ms/step\n",
      "Epoch 644/1000\n",
      "3/3 - 0s - loss: 0.0279 - accuracy: 0.9889 - val_loss: 0.3531 - val_accuracy: 0.9333 - 17ms/epoch - 6ms/step\n",
      "Epoch 645/1000\n",
      "3/3 - 0s - loss: 0.0226 - accuracy: 0.9889 - val_loss: 0.6469 - val_accuracy: 0.8667 - 18ms/epoch - 6ms/step\n",
      "Epoch 646/1000\n",
      "3/3 - 0s - loss: 0.0621 - accuracy: 0.9778 - val_loss: 0.2132 - val_accuracy: 0.9333 - 19ms/epoch - 6ms/step\n",
      "Epoch 647/1000\n",
      "3/3 - 0s - loss: 0.0309 - accuracy: 0.9889 - val_loss: 0.0947 - val_accuracy: 0.9667 - 19ms/epoch - 6ms/step\n",
      "Epoch 648/1000\n",
      "3/3 - 0s - loss: 0.0361 - accuracy: 0.9889 - val_loss: 0.2970 - val_accuracy: 0.9333 - 18ms/epoch - 6ms/step\n",
      "Epoch 649/1000\n",
      "3/3 - 0s - loss: 0.0287 - accuracy: 0.9889 - val_loss: 0.4262 - val_accuracy: 0.9333 - 16ms/epoch - 5ms/step\n",
      "Epoch 650/1000\n",
      "3/3 - 0s - loss: 0.0306 - accuracy: 0.9889 - val_loss: 0.4110 - val_accuracy: 0.9333 - 17ms/epoch - 6ms/step\n",
      "Epoch 651/1000\n",
      "3/3 - 0s - loss: 0.0286 - accuracy: 0.9889 - val_loss: 0.3010 - val_accuracy: 0.9333 - 17ms/epoch - 6ms/step\n",
      "Epoch 652/1000\n",
      "3/3 - 0s - loss: 0.0257 - accuracy: 0.9889 - val_loss: 0.2056 - val_accuracy: 0.9333 - 19ms/epoch - 6ms/step\n",
      "Epoch 653/1000\n",
      "3/3 - 0s - loss: 0.0290 - accuracy: 0.9889 - val_loss: 0.2038 - val_accuracy: 0.9333 - 17ms/epoch - 6ms/step\n",
      "Epoch 654/1000\n",
      "3/3 - 0s - loss: 0.0275 - accuracy: 0.9889 - val_loss: 0.2700 - val_accuracy: 0.9333 - 19ms/epoch - 6ms/step\n",
      "Epoch 655/1000\n",
      "3/3 - 0s - loss: 0.0252 - accuracy: 0.9889 - val_loss: 0.3596 - val_accuracy: 0.9333 - 18ms/epoch - 6ms/step\n",
      "Epoch 656/1000\n",
      "3/3 - 0s - loss: 0.0250 - accuracy: 0.9889 - val_loss: 0.3700 - val_accuracy: 0.9333 - 19ms/epoch - 6ms/step\n",
      "Epoch 657/1000\n",
      "3/3 - 0s - loss: 0.0240 - accuracy: 0.9889 - val_loss: 0.3146 - val_accuracy: 0.9333 - 18ms/epoch - 6ms/step\n",
      "Epoch 658/1000\n",
      "3/3 - 0s - loss: 0.0261 - accuracy: 0.9889 - val_loss: 0.2504 - val_accuracy: 0.9333 - 18ms/epoch - 6ms/step\n",
      "Epoch 659/1000\n",
      "3/3 - 0s - loss: 0.0267 - accuracy: 0.9889 - val_loss: 0.2876 - val_accuracy: 0.9333 - 22ms/epoch - 7ms/step\n",
      "Epoch 660/1000\n",
      "3/3 - 0s - loss: 0.0260 - accuracy: 0.9889 - val_loss: 0.3943 - val_accuracy: 0.9333 - 22ms/epoch - 7ms/step\n",
      "Epoch 661/1000\n",
      "3/3 - 0s - loss: 0.0247 - accuracy: 0.9889 - val_loss: 0.4359 - val_accuracy: 0.9333 - 21ms/epoch - 7ms/step\n",
      "Epoch 662/1000\n",
      "3/3 - 0s - loss: 0.0276 - accuracy: 0.9889 - val_loss: 0.4580 - val_accuracy: 0.9333 - 24ms/epoch - 8ms/step\n",
      "Epoch 663/1000\n",
      "3/3 - 0s - loss: 0.0291 - accuracy: 1.0000 - val_loss: 0.4808 - val_accuracy: 0.9333 - 26ms/epoch - 9ms/step\n",
      "Epoch 664/1000\n",
      "3/3 - 0s - loss: 0.0232 - accuracy: 1.0000 - val_loss: 0.1717 - val_accuracy: 0.9333 - 25ms/epoch - 8ms/step\n",
      "Epoch 665/1000\n",
      "3/3 - 0s - loss: 0.0480 - accuracy: 0.9889 - val_loss: 0.1162 - val_accuracy: 0.9333 - 23ms/epoch - 8ms/step\n",
      "Epoch 666/1000\n",
      "3/3 - 0s - loss: 0.0432 - accuracy: 0.9889 - val_loss: 0.3235 - val_accuracy: 0.9333 - 26ms/epoch - 9ms/step\n",
      "Epoch 667/1000\n",
      "3/3 - 0s - loss: 0.0297 - accuracy: 0.9889 - val_loss: 0.4785 - val_accuracy: 0.9333 - 25ms/epoch - 8ms/step\n",
      "Epoch 668/1000\n",
      "3/3 - 0s - loss: 0.0226 - accuracy: 0.9889 - val_loss: 0.4577 - val_accuracy: 0.9333 - 23ms/epoch - 8ms/step\n",
      "Epoch 669/1000\n",
      "3/3 - 0s - loss: 0.0229 - accuracy: 0.9889 - val_loss: 0.3882 - val_accuracy: 0.9333 - 17ms/epoch - 6ms/step\n",
      "Epoch 670/1000\n",
      "3/3 - 0s - loss: 0.0236 - accuracy: 0.9889 - val_loss: 0.2359 - val_accuracy: 0.9333 - 17ms/epoch - 6ms/step\n"
     ]
    },
    {
     "name": "stdout",
     "output_type": "stream",
     "text": [
      "Epoch 671/1000\n",
      "3/3 - 0s - loss: 0.0398 - accuracy: 0.9889 - val_loss: 0.2110 - val_accuracy: 0.9333 - 17ms/epoch - 6ms/step\n",
      "Epoch 672/1000\n",
      "3/3 - 0s - loss: 0.0367 - accuracy: 0.9889 - val_loss: 0.3297 - val_accuracy: 0.9333 - 17ms/epoch - 6ms/step\n",
      "Epoch 673/1000\n",
      "3/3 - 0s - loss: 0.0293 - accuracy: 0.9889 - val_loss: 0.5043 - val_accuracy: 0.9333 - 17ms/epoch - 6ms/step\n",
      "Epoch 674/1000\n",
      "3/3 - 0s - loss: 0.0277 - accuracy: 0.9778 - val_loss: 0.4550 - val_accuracy: 0.9333 - 18ms/epoch - 6ms/step\n",
      "Epoch 675/1000\n",
      "3/3 - 0s - loss: 0.0192 - accuracy: 0.9889 - val_loss: 0.1514 - val_accuracy: 0.9333 - 18ms/epoch - 6ms/step\n",
      "Epoch 676/1000\n",
      "3/3 - 0s - loss: 0.0354 - accuracy: 0.9889 - val_loss: 0.0912 - val_accuracy: 0.9667 - 18ms/epoch - 6ms/step\n",
      "Epoch 677/1000\n",
      "3/3 - 0s - loss: 0.0422 - accuracy: 0.9889 - val_loss: 0.2265 - val_accuracy: 0.9333 - 17ms/epoch - 6ms/step\n",
      "Epoch 678/1000\n",
      "3/3 - 0s - loss: 0.0275 - accuracy: 0.9889 - val_loss: 0.3904 - val_accuracy: 0.9333 - 17ms/epoch - 6ms/step\n",
      "Epoch 679/1000\n",
      "3/3 - 0s - loss: 0.0235 - accuracy: 0.9889 - val_loss: 0.4275 - val_accuracy: 0.9333 - 17ms/epoch - 6ms/step\n",
      "Epoch 680/1000\n",
      "3/3 - 0s - loss: 0.0248 - accuracy: 0.9889 - val_loss: 0.3622 - val_accuracy: 0.9333 - 18ms/epoch - 6ms/step\n",
      "Epoch 681/1000\n",
      "3/3 - 0s - loss: 0.0235 - accuracy: 0.9889 - val_loss: 0.3263 - val_accuracy: 0.9333 - 18ms/epoch - 6ms/step\n",
      "Epoch 682/1000\n",
      "3/3 - 0s - loss: 0.0236 - accuracy: 0.9889 - val_loss: 0.3231 - val_accuracy: 0.9333 - 18ms/epoch - 6ms/step\n",
      "Epoch 683/1000\n",
      "3/3 - 0s - loss: 0.0247 - accuracy: 0.9889 - val_loss: 0.3101 - val_accuracy: 0.9333 - 18ms/epoch - 6ms/step\n",
      "Epoch 684/1000\n",
      "3/3 - 0s - loss: 0.0248 - accuracy: 0.9889 - val_loss: 0.3771 - val_accuracy: 0.9333 - 19ms/epoch - 6ms/step\n",
      "Epoch 685/1000\n",
      "3/3 - 0s - loss: 0.0237 - accuracy: 0.9889 - val_loss: 0.4285 - val_accuracy: 0.9333 - 19ms/epoch - 6ms/step\n",
      "Epoch 686/1000\n",
      "3/3 - 0s - loss: 0.0232 - accuracy: 0.9889 - val_loss: 0.4339 - val_accuracy: 0.9333 - 19ms/epoch - 6ms/step\n",
      "Epoch 687/1000\n",
      "3/3 - 0s - loss: 0.0220 - accuracy: 0.9889 - val_loss: 0.4029 - val_accuracy: 0.9333 - 19ms/epoch - 6ms/step\n",
      "Epoch 688/1000\n",
      "3/3 - 0s - loss: 0.0218 - accuracy: 0.9889 - val_loss: 0.3711 - val_accuracy: 0.9333 - 19ms/epoch - 6ms/step\n",
      "Epoch 689/1000\n",
      "3/3 - 0s - loss: 0.0241 - accuracy: 0.9889 - val_loss: 0.3075 - val_accuracy: 0.9333 - 18ms/epoch - 6ms/step\n",
      "Epoch 690/1000\n",
      "3/3 - 0s - loss: 0.0267 - accuracy: 0.9889 - val_loss: 0.3127 - val_accuracy: 0.9333 - 18ms/epoch - 6ms/step\n",
      "Epoch 691/1000\n",
      "3/3 - 0s - loss: 0.0247 - accuracy: 0.9889 - val_loss: 0.4145 - val_accuracy: 0.9333 - 18ms/epoch - 6ms/step\n",
      "Epoch 692/1000\n",
      "3/3 - 0s - loss: 0.0212 - accuracy: 0.9889 - val_loss: 0.4717 - val_accuracy: 0.9333 - 19ms/epoch - 6ms/step\n",
      "Epoch 693/1000\n",
      "3/3 - 0s - loss: 0.0225 - accuracy: 0.9889 - val_loss: 0.4455 - val_accuracy: 0.9333 - 18ms/epoch - 6ms/step\n",
      "Epoch 694/1000\n",
      "3/3 - 0s - loss: 0.0225 - accuracy: 0.9889 - val_loss: 0.3439 - val_accuracy: 0.9333 - 18ms/epoch - 6ms/step\n",
      "Epoch 695/1000\n",
      "3/3 - 0s - loss: 0.0261 - accuracy: 0.9889 - val_loss: 0.3306 - val_accuracy: 0.9333 - 18ms/epoch - 6ms/step\n",
      "Epoch 696/1000\n",
      "3/3 - 0s - loss: 0.0244 - accuracy: 0.9889 - val_loss: 0.4808 - val_accuracy: 0.9333 - 18ms/epoch - 6ms/step\n",
      "Epoch 697/1000\n",
      "3/3 - 0s - loss: 0.0419 - accuracy: 0.9778 - val_loss: 0.6368 - val_accuracy: 0.8667 - 18ms/epoch - 6ms/step\n",
      "Epoch 698/1000\n",
      "3/3 - 0s - loss: 0.0508 - accuracy: 0.9778 - val_loss: 0.2164 - val_accuracy: 0.9333 - 19ms/epoch - 6ms/step\n",
      "Epoch 699/1000\n",
      "3/3 - 0s - loss: 0.0565 - accuracy: 0.9778 - val_loss: 0.1308 - val_accuracy: 0.9333 - 18ms/epoch - 6ms/step\n",
      "Epoch 700/1000\n",
      "3/3 - 0s - loss: 0.0255 - accuracy: 0.9889 - val_loss: 0.4643 - val_accuracy: 0.9000 - 18ms/epoch - 6ms/step\n",
      "Epoch 701/1000\n",
      "3/3 - 0s - loss: 0.0525 - accuracy: 0.9778 - val_loss: 0.3900 - val_accuracy: 0.9333 - 18ms/epoch - 6ms/step\n",
      "Epoch 702/1000\n",
      "3/3 - 0s - loss: 0.0369 - accuracy: 1.0000 - val_loss: 0.2351 - val_accuracy: 0.9333 - 18ms/epoch - 6ms/step\n",
      "Epoch 703/1000\n",
      "3/3 - 0s - loss: 0.0315 - accuracy: 0.9889 - val_loss: 0.1006 - val_accuracy: 0.9333 - 18ms/epoch - 6ms/step\n",
      "Epoch 704/1000\n",
      "3/3 - 0s - loss: 0.0344 - accuracy: 0.9889 - val_loss: 0.1704 - val_accuracy: 0.9333 - 17ms/epoch - 6ms/step\n",
      "Epoch 705/1000\n",
      "3/3 - 0s - loss: 0.0237 - accuracy: 0.9889 - val_loss: 0.4564 - val_accuracy: 0.9333 - 16ms/epoch - 5ms/step\n",
      "Epoch 706/1000\n",
      "3/3 - 0s - loss: 0.0383 - accuracy: 0.9889 - val_loss: 0.4726 - val_accuracy: 0.9333 - 16ms/epoch - 5ms/step\n",
      "Epoch 707/1000\n",
      "3/3 - 0s - loss: 0.0331 - accuracy: 0.9778 - val_loss: 0.2616 - val_accuracy: 0.9333 - 17ms/epoch - 6ms/step\n",
      "Epoch 708/1000\n",
      "3/3 - 0s - loss: 0.0218 - accuracy: 0.9889 - val_loss: 0.0877 - val_accuracy: 0.9667 - 17ms/epoch - 6ms/step\n",
      "Epoch 709/1000\n",
      "3/3 - 0s - loss: 0.0373 - accuracy: 0.9889 - val_loss: 0.0942 - val_accuracy: 0.9667 - 17ms/epoch - 6ms/step\n",
      "Epoch 710/1000\n",
      "3/3 - 0s - loss: 0.0347 - accuracy: 0.9889 - val_loss: 0.2272 - val_accuracy: 0.9333 - 18ms/epoch - 6ms/step\n",
      "Epoch 711/1000\n",
      "3/3 - 0s - loss: 0.0282 - accuracy: 0.9889 - val_loss: 0.4327 - val_accuracy: 0.9333 - 18ms/epoch - 6ms/step\n",
      "Epoch 712/1000\n",
      "3/3 - 0s - loss: 0.0258 - accuracy: 0.9889 - val_loss: 0.5084 - val_accuracy: 0.9333 - 18ms/epoch - 6ms/step\n",
      "Epoch 713/1000\n",
      "3/3 - 0s - loss: 0.0256 - accuracy: 0.9889 - val_loss: 0.4498 - val_accuracy: 0.9333 - 18ms/epoch - 6ms/step\n",
      "Epoch 714/1000\n",
      "3/3 - 0s - loss: 0.0253 - accuracy: 0.9889 - val_loss: 0.3647 - val_accuracy: 0.9333 - 17ms/epoch - 6ms/step\n",
      "Epoch 715/1000\n",
      "3/3 - 0s - loss: 0.0264 - accuracy: 0.9889 - val_loss: 0.3479 - val_accuracy: 0.9333 - 18ms/epoch - 6ms/step\n",
      "Epoch 716/1000\n",
      "3/3 - 0s - loss: 0.0256 - accuracy: 0.9889 - val_loss: 0.4185 - val_accuracy: 0.9333 - 17ms/epoch - 6ms/step\n",
      "Epoch 717/1000\n",
      "3/3 - 0s - loss: 0.0245 - accuracy: 0.9889 - val_loss: 0.4537 - val_accuracy: 0.9333 - 17ms/epoch - 6ms/step\n",
      "Epoch 718/1000\n",
      "3/3 - 0s - loss: 0.0227 - accuracy: 0.9889 - val_loss: 0.3939 - val_accuracy: 0.9333 - 17ms/epoch - 6ms/step\n",
      "Epoch 719/1000\n",
      "3/3 - 0s - loss: 0.0284 - accuracy: 0.9889 - val_loss: 0.3738 - val_accuracy: 0.9333 - 17ms/epoch - 6ms/step\n",
      "Epoch 720/1000\n",
      "3/3 - 0s - loss: 0.0232 - accuracy: 0.9889 - val_loss: 0.5280 - val_accuracy: 0.9333 - 17ms/epoch - 6ms/step\n",
      "Epoch 721/1000\n",
      "3/3 - 0s - loss: 0.0250 - accuracy: 0.9889 - val_loss: 0.4578 - val_accuracy: 0.9333 - 16ms/epoch - 5ms/step\n",
      "Epoch 722/1000\n",
      "3/3 - 0s - loss: 0.0268 - accuracy: 0.9889 - val_loss: 0.1896 - val_accuracy: 0.9333 - 17ms/epoch - 6ms/step\n",
      "Epoch 723/1000\n",
      "3/3 - 0s - loss: 0.0386 - accuracy: 0.9889 - val_loss: 0.2503 - val_accuracy: 0.9333 - 18ms/epoch - 6ms/step\n",
      "Epoch 724/1000\n",
      "3/3 - 0s - loss: 0.0332 - accuracy: 0.9889 - val_loss: 0.5923 - val_accuracy: 0.9333 - 18ms/epoch - 6ms/step\n",
      "Epoch 725/1000\n",
      "3/3 - 0s - loss: 0.0355 - accuracy: 0.9889 - val_loss: 0.4842 - val_accuracy: 0.9333 - 18ms/epoch - 6ms/step\n",
      "Epoch 726/1000\n",
      "3/3 - 0s - loss: 0.0281 - accuracy: 0.9889 - val_loss: 0.2269 - val_accuracy: 0.9333 - 17ms/epoch - 6ms/step\n",
      "Epoch 727/1000\n",
      "3/3 - 0s - loss: 0.0295 - accuracy: 0.9889 - val_loss: 0.1238 - val_accuracy: 0.9333 - 18ms/epoch - 6ms/step\n",
      "Epoch 728/1000\n",
      "3/3 - 0s - loss: 0.0345 - accuracy: 0.9889 - val_loss: 0.2741 - val_accuracy: 0.9333 - 18ms/epoch - 6ms/step\n",
      "Epoch 729/1000\n",
      "3/3 - 0s - loss: 0.0243 - accuracy: 0.9889 - val_loss: 0.4030 - val_accuracy: 0.9333 - 20ms/epoch - 7ms/step\n",
      "Epoch 730/1000\n",
      "3/3 - 0s - loss: 0.0234 - accuracy: 0.9889 - val_loss: 0.4836 - val_accuracy: 0.9333 - 18ms/epoch - 6ms/step\n",
      "Epoch 731/1000\n",
      "3/3 - 0s - loss: 0.0254 - accuracy: 0.9889 - val_loss: 0.5376 - val_accuracy: 0.9333 - 17ms/epoch - 6ms/step\n",
      "Epoch 732/1000\n",
      "3/3 - 0s - loss: 0.0262 - accuracy: 1.0000 - val_loss: 0.6408 - val_accuracy: 0.9333 - 19ms/epoch - 6ms/step\n",
      "Epoch 733/1000\n",
      "3/3 - 0s - loss: 0.0501 - accuracy: 0.9667 - val_loss: 0.1869 - val_accuracy: 0.9333 - 19ms/epoch - 6ms/step\n",
      "Epoch 734/1000\n",
      "3/3 - 0s - loss: 0.0277 - accuracy: 0.9889 - val_loss: 0.0738 - val_accuracy: 0.9333 - 18ms/epoch - 6ms/step\n",
      "Epoch 735/1000\n",
      "3/3 - 0s - loss: 0.0564 - accuracy: 0.9778 - val_loss: 0.1594 - val_accuracy: 0.9333 - 19ms/epoch - 6ms/step\n",
      "Epoch 736/1000\n",
      "3/3 - 0s - loss: 0.0211 - accuracy: 0.9889 - val_loss: 0.4917 - val_accuracy: 0.9333 - 18ms/epoch - 6ms/step\n",
      "Epoch 737/1000\n",
      "3/3 - 0s - loss: 0.0570 - accuracy: 0.9667 - val_loss: 0.4325 - val_accuracy: 0.9333 - 18ms/epoch - 6ms/step\n"
     ]
    },
    {
     "name": "stdout",
     "output_type": "stream",
     "text": [
      "Epoch 738/1000\n",
      "3/3 - 0s - loss: 0.0342 - accuracy: 0.9889 - val_loss: 0.0671 - val_accuracy: 0.9667 - 17ms/epoch - 6ms/step\n",
      "Epoch 739/1000\n",
      "3/3 - 0s - loss: 0.1038 - accuracy: 0.9556 - val_loss: 0.0714 - val_accuracy: 0.9667 - 18ms/epoch - 6ms/step\n",
      "Epoch 740/1000\n",
      "3/3 - 0s - loss: 0.0978 - accuracy: 0.9556 - val_loss: 0.0818 - val_accuracy: 0.9667 - 17ms/epoch - 6ms/step\n",
      "Epoch 741/1000\n",
      "3/3 - 0s - loss: 0.0423 - accuracy: 0.9889 - val_loss: 0.2533 - val_accuracy: 0.9333 - 18ms/epoch - 6ms/step\n",
      "Epoch 742/1000\n",
      "3/3 - 0s - loss: 0.0357 - accuracy: 0.9889 - val_loss: 0.3077 - val_accuracy: 0.9333 - 18ms/epoch - 6ms/step\n",
      "Epoch 743/1000\n",
      "3/3 - 0s - loss: 0.0359 - accuracy: 0.9889 - val_loss: 0.1560 - val_accuracy: 0.9333 - 18ms/epoch - 6ms/step\n",
      "Epoch 744/1000\n",
      "3/3 - 0s - loss: 0.0329 - accuracy: 0.9889 - val_loss: 0.0922 - val_accuracy: 0.9333 - 19ms/epoch - 6ms/step\n",
      "Epoch 745/1000\n",
      "3/3 - 0s - loss: 0.0371 - accuracy: 0.9889 - val_loss: 0.0981 - val_accuracy: 0.9333 - 18ms/epoch - 6ms/step\n",
      "Epoch 746/1000\n",
      "3/3 - 0s - loss: 0.0340 - accuracy: 0.9889 - val_loss: 0.1597 - val_accuracy: 0.9333 - 18ms/epoch - 6ms/step\n",
      "Epoch 747/1000\n",
      "3/3 - 0s - loss: 0.0270 - accuracy: 0.9889 - val_loss: 0.2639 - val_accuracy: 0.9333 - 18ms/epoch - 6ms/step\n",
      "Epoch 748/1000\n",
      "3/3 - 0s - loss: 0.0290 - accuracy: 0.9889 - val_loss: 0.3230 - val_accuracy: 0.9333 - 18ms/epoch - 6ms/step\n",
      "Epoch 749/1000\n",
      "3/3 - 0s - loss: 0.0241 - accuracy: 0.9889 - val_loss: 0.1939 - val_accuracy: 0.9333 - 17ms/epoch - 6ms/step\n",
      "Epoch 750/1000\n",
      "3/3 - 0s - loss: 0.0258 - accuracy: 0.9889 - val_loss: 0.1249 - val_accuracy: 0.9333 - 20ms/epoch - 7ms/step\n",
      "Epoch 751/1000\n",
      "3/3 - 0s - loss: 0.0337 - accuracy: 0.9889 - val_loss: 0.2132 - val_accuracy: 0.9333 - 18ms/epoch - 6ms/step\n",
      "Epoch 752/1000\n",
      "3/3 - 0s - loss: 0.0260 - accuracy: 0.9889 - val_loss: 0.3429 - val_accuracy: 0.9333 - 18ms/epoch - 6ms/step\n",
      "Epoch 753/1000\n",
      "3/3 - 0s - loss: 0.0243 - accuracy: 0.9889 - val_loss: 0.4750 - val_accuracy: 0.9333 - 18ms/epoch - 6ms/step\n",
      "Epoch 754/1000\n",
      "3/3 - 0s - loss: 0.0244 - accuracy: 0.9889 - val_loss: 0.4960 - val_accuracy: 0.9333 - 18ms/epoch - 6ms/step\n",
      "Epoch 755/1000\n",
      "3/3 - 0s - loss: 0.0237 - accuracy: 0.9889 - val_loss: 0.4568 - val_accuracy: 0.9333 - 18ms/epoch - 6ms/step\n",
      "Epoch 756/1000\n",
      "3/3 - 0s - loss: 0.0270 - accuracy: 0.9889 - val_loss: 0.4342 - val_accuracy: 0.9333 - 19ms/epoch - 6ms/step\n",
      "Epoch 757/1000\n",
      "3/3 - 0s - loss: 0.0226 - accuracy: 0.9889 - val_loss: 0.6122 - val_accuracy: 0.9333 - 18ms/epoch - 6ms/step\n",
      "Epoch 758/1000\n",
      "3/3 - 0s - loss: 0.0377 - accuracy: 0.9778 - val_loss: 0.3295 - val_accuracy: 0.9333 - 18ms/epoch - 6ms/step\n",
      "Epoch 759/1000\n",
      "3/3 - 0s - loss: 0.0257 - accuracy: 0.9889 - val_loss: 0.1490 - val_accuracy: 0.9333 - 18ms/epoch - 6ms/step\n",
      "Epoch 760/1000\n",
      "3/3 - 0s - loss: 0.0382 - accuracy: 0.9889 - val_loss: 0.2148 - val_accuracy: 0.9333 - 18ms/epoch - 6ms/step\n",
      "Epoch 761/1000\n",
      "3/3 - 0s - loss: 0.0262 - accuracy: 0.9889 - val_loss: 0.4471 - val_accuracy: 0.9333 - 18ms/epoch - 6ms/step\n",
      "Epoch 762/1000\n",
      "3/3 - 0s - loss: 0.0268 - accuracy: 0.9889 - val_loss: 0.5540 - val_accuracy: 0.9333 - 18ms/epoch - 6ms/step\n",
      "Epoch 763/1000\n",
      "3/3 - 0s - loss: 0.0376 - accuracy: 0.9778 - val_loss: 0.5242 - val_accuracy: 0.9333 - 18ms/epoch - 6ms/step\n",
      "Epoch 764/1000\n",
      "3/3 - 0s - loss: 0.0230 - accuracy: 1.0000 - val_loss: 0.3866 - val_accuracy: 0.9333 - 19ms/epoch - 6ms/step\n",
      "Epoch 765/1000\n",
      "3/3 - 0s - loss: 0.0238 - accuracy: 0.9889 - val_loss: 0.2797 - val_accuracy: 0.9333 - 20ms/epoch - 7ms/step\n",
      "Epoch 766/1000\n",
      "3/3 - 0s - loss: 0.0268 - accuracy: 0.9889 - val_loss: 0.3528 - val_accuracy: 0.9333 - 29ms/epoch - 10ms/step\n",
      "Epoch 767/1000\n",
      "3/3 - 0s - loss: 0.0227 - accuracy: 0.9889 - val_loss: 0.4243 - val_accuracy: 0.9333 - 17ms/epoch - 6ms/step\n",
      "Epoch 768/1000\n",
      "3/3 - 0s - loss: 0.0207 - accuracy: 0.9889 - val_loss: 0.4523 - val_accuracy: 0.9333 - 18ms/epoch - 6ms/step\n",
      "Epoch 769/1000\n",
      "3/3 - 0s - loss: 0.0206 - accuracy: 0.9889 - val_loss: 0.4315 - val_accuracy: 0.9333 - 18ms/epoch - 6ms/step\n",
      "Epoch 770/1000\n",
      "3/3 - 0s - loss: 0.0198 - accuracy: 0.9889 - val_loss: 0.3693 - val_accuracy: 0.9333 - 16ms/epoch - 5ms/step\n",
      "Epoch 771/1000\n",
      "3/3 - 0s - loss: 0.0248 - accuracy: 0.9889 - val_loss: 0.3656 - val_accuracy: 0.9333 - 18ms/epoch - 6ms/step\n",
      "Epoch 772/1000\n",
      "3/3 - 0s - loss: 0.0224 - accuracy: 0.9889 - val_loss: 0.4736 - val_accuracy: 0.9333 - 19ms/epoch - 6ms/step\n",
      "Epoch 773/1000\n",
      "3/3 - 0s - loss: 0.0199 - accuracy: 0.9889 - val_loss: 0.5156 - val_accuracy: 0.9333 - 18ms/epoch - 6ms/step\n",
      "Epoch 774/1000\n",
      "3/3 - 0s - loss: 0.0210 - accuracy: 0.9889 - val_loss: 0.5318 - val_accuracy: 0.9333 - 18ms/epoch - 6ms/step\n",
      "Epoch 775/1000\n",
      "3/3 - 0s - loss: 0.0208 - accuracy: 0.9889 - val_loss: 0.4156 - val_accuracy: 0.9333 - 18ms/epoch - 6ms/step\n",
      "Epoch 776/1000\n",
      "3/3 - 0s - loss: 0.0293 - accuracy: 0.9889 - val_loss: 0.1453 - val_accuracy: 0.9333 - 18ms/epoch - 6ms/step\n",
      "Epoch 777/1000\n",
      "3/3 - 0s - loss: 0.0519 - accuracy: 0.9778 - val_loss: 0.3908 - val_accuracy: 0.9333 - 18ms/epoch - 6ms/step\n",
      "Epoch 778/1000\n",
      "3/3 - 0s - loss: 0.0469 - accuracy: 0.9667 - val_loss: 0.7987 - val_accuracy: 0.8667 - 18ms/epoch - 6ms/step\n",
      "Epoch 779/1000\n",
      "3/3 - 0s - loss: 0.0635 - accuracy: 0.9667 - val_loss: 0.1566 - val_accuracy: 0.9333 - 18ms/epoch - 6ms/step\n",
      "Epoch 780/1000\n",
      "3/3 - 0s - loss: 0.0297 - accuracy: 0.9889 - val_loss: 0.0864 - val_accuracy: 0.9667 - 18ms/epoch - 6ms/step\n",
      "Epoch 781/1000\n",
      "3/3 - 0s - loss: 0.1553 - accuracy: 0.9556 - val_loss: 0.0696 - val_accuracy: 0.9667 - 18ms/epoch - 6ms/step\n",
      "Epoch 782/1000\n",
      "3/3 - 0s - loss: 0.0545 - accuracy: 0.9778 - val_loss: 0.3160 - val_accuracy: 0.9333 - 19ms/epoch - 6ms/step\n",
      "Epoch 783/1000\n",
      "3/3 - 0s - loss: 0.1102 - accuracy: 0.9444 - val_loss: 0.3575 - val_accuracy: 0.8667 - 19ms/epoch - 6ms/step\n",
      "Epoch 784/1000\n",
      "3/3 - 0s - loss: 0.0548 - accuracy: 0.9778 - val_loss: 0.0849 - val_accuracy: 0.9667 - 18ms/epoch - 6ms/step\n",
      "Epoch 785/1000\n",
      "3/3 - 0s - loss: 0.0470 - accuracy: 0.9778 - val_loss: 0.0713 - val_accuracy: 0.9667 - 18ms/epoch - 6ms/step\n",
      "Epoch 786/1000\n",
      "3/3 - 0s - loss: 0.0775 - accuracy: 0.9667 - val_loss: 0.0715 - val_accuracy: 0.9667 - 18ms/epoch - 6ms/step\n",
      "Epoch 787/1000\n",
      "3/3 - 0s - loss: 0.0404 - accuracy: 0.9889 - val_loss: 0.2006 - val_accuracy: 0.9333 - 18ms/epoch - 6ms/step\n",
      "Epoch 788/1000\n",
      "3/3 - 0s - loss: 0.0482 - accuracy: 1.0000 - val_loss: 0.4422 - val_accuracy: 0.8667 - 18ms/epoch - 6ms/step\n",
      "Epoch 789/1000\n",
      "3/3 - 0s - loss: 0.0987 - accuracy: 0.9556 - val_loss: 0.3142 - val_accuracy: 0.9000 - 17ms/epoch - 6ms/step\n",
      "Epoch 790/1000\n",
      "3/3 - 0s - loss: 0.0508 - accuracy: 0.9778 - val_loss: 0.0949 - val_accuracy: 0.9333 - 16ms/epoch - 5ms/step\n",
      "Epoch 791/1000\n",
      "3/3 - 0s - loss: 0.0475 - accuracy: 0.9778 - val_loss: 0.0656 - val_accuracy: 0.9667 - 18ms/epoch - 6ms/step\n",
      "Epoch 792/1000\n",
      "3/3 - 0s - loss: 0.0543 - accuracy: 0.9778 - val_loss: 0.0776 - val_accuracy: 0.9667 - 19ms/epoch - 6ms/step\n",
      "Epoch 793/1000\n",
      "3/3 - 0s - loss: 0.0407 - accuracy: 0.9889 - val_loss: 0.2348 - val_accuracy: 0.9333 - 18ms/epoch - 6ms/step\n",
      "Epoch 794/1000\n",
      "3/3 - 0s - loss: 0.0380 - accuracy: 0.9889 - val_loss: 0.3678 - val_accuracy: 0.9333 - 18ms/epoch - 6ms/step\n",
      "Epoch 795/1000\n",
      "3/3 - 0s - loss: 0.0404 - accuracy: 0.9889 - val_loss: 0.2568 - val_accuracy: 0.9333 - 19ms/epoch - 6ms/step\n",
      "Epoch 796/1000\n",
      "3/3 - 0s - loss: 0.0302 - accuracy: 0.9889 - val_loss: 0.1346 - val_accuracy: 0.9333 - 19ms/epoch - 6ms/step\n",
      "Epoch 797/1000\n",
      "3/3 - 0s - loss: 0.0316 - accuracy: 0.9889 - val_loss: 0.1217 - val_accuracy: 0.9333 - 19ms/epoch - 6ms/step\n",
      "Epoch 798/1000\n",
      "3/3 - 0s - loss: 0.0322 - accuracy: 0.9889 - val_loss: 0.2622 - val_accuracy: 0.9333 - 17ms/epoch - 6ms/step\n",
      "Epoch 799/1000\n",
      "3/3 - 0s - loss: 0.0286 - accuracy: 0.9889 - val_loss: 0.4735 - val_accuracy: 0.9333 - 19ms/epoch - 6ms/step\n",
      "Epoch 800/1000\n",
      "3/3 - 0s - loss: 0.0344 - accuracy: 0.9889 - val_loss: 0.3917 - val_accuracy: 0.9333 - 18ms/epoch - 6ms/step\n",
      "Epoch 801/1000\n",
      "3/3 - 0s - loss: 0.0223 - accuracy: 0.9889 - val_loss: 0.1778 - val_accuracy: 0.9333 - 18ms/epoch - 6ms/step\n",
      "Epoch 802/1000\n",
      "3/3 - 0s - loss: 0.0332 - accuracy: 0.9889 - val_loss: 0.0966 - val_accuracy: 0.9667 - 17ms/epoch - 6ms/step\n",
      "Epoch 803/1000\n",
      "3/3 - 0s - loss: 0.0402 - accuracy: 0.9889 - val_loss: 0.1840 - val_accuracy: 0.9333 - 17ms/epoch - 6ms/step\n",
      "Epoch 804/1000\n",
      "3/3 - 0s - loss: 0.0310 - accuracy: 0.9889 - val_loss: 0.4071 - val_accuracy: 0.9333 - 18ms/epoch - 6ms/step\n"
     ]
    },
    {
     "name": "stdout",
     "output_type": "stream",
     "text": [
      "Epoch 805/1000\n",
      "3/3 - 0s - loss: 0.0221 - accuracy: 0.9889 - val_loss: 0.5188 - val_accuracy: 0.9333 - 18ms/epoch - 6ms/step\n",
      "Epoch 806/1000\n",
      "3/3 - 0s - loss: 0.0272 - accuracy: 0.9889 - val_loss: 0.4698 - val_accuracy: 0.9333 - 17ms/epoch - 6ms/step\n",
      "Epoch 807/1000\n",
      "3/3 - 0s - loss: 0.0219 - accuracy: 0.9889 - val_loss: 0.3924 - val_accuracy: 0.9333 - 18ms/epoch - 6ms/step\n",
      "Epoch 808/1000\n",
      "3/3 - 0s - loss: 0.0221 - accuracy: 0.9889 - val_loss: 0.3620 - val_accuracy: 0.9333 - 17ms/epoch - 6ms/step\n",
      "Epoch 809/1000\n",
      "3/3 - 0s - loss: 0.0244 - accuracy: 0.9889 - val_loss: 0.3614 - val_accuracy: 0.9333 - 18ms/epoch - 6ms/step\n",
      "Epoch 810/1000\n",
      "3/3 - 0s - loss: 0.0237 - accuracy: 0.9889 - val_loss: 0.4546 - val_accuracy: 0.9333 - 18ms/epoch - 6ms/step\n",
      "Epoch 811/1000\n",
      "3/3 - 0s - loss: 0.0245 - accuracy: 0.9889 - val_loss: 0.4753 - val_accuracy: 0.9333 - 18ms/epoch - 6ms/step\n",
      "Epoch 812/1000\n",
      "3/3 - 0s - loss: 0.0198 - accuracy: 0.9889 - val_loss: 0.3795 - val_accuracy: 0.9333 - 18ms/epoch - 6ms/step\n",
      "Epoch 813/1000\n",
      "3/3 - 0s - loss: 0.0239 - accuracy: 0.9889 - val_loss: 0.3612 - val_accuracy: 0.9333 - 17ms/epoch - 6ms/step\n",
      "Epoch 814/1000\n",
      "3/3 - 0s - loss: 0.0244 - accuracy: 0.9889 - val_loss: 0.5333 - val_accuracy: 0.9333 - 17ms/epoch - 6ms/step\n",
      "Epoch 815/1000\n",
      "3/3 - 0s - loss: 0.0720 - accuracy: 0.9667 - val_loss: 0.3118 - val_accuracy: 0.9333 - 18ms/epoch - 6ms/step\n",
      "Epoch 816/1000\n",
      "3/3 - 0s - loss: 0.0476 - accuracy: 0.9889 - val_loss: 0.1557 - val_accuracy: 0.9667 - 18ms/epoch - 6ms/step\n",
      "Epoch 817/1000\n",
      "3/3 - 0s - loss: 0.2464 - accuracy: 0.9333 - val_loss: 0.1541 - val_accuracy: 0.9333 - 19ms/epoch - 6ms/step\n",
      "Epoch 818/1000\n",
      "3/3 - 0s - loss: 0.1235 - accuracy: 0.9444 - val_loss: 0.0926 - val_accuracy: 0.9667 - 18ms/epoch - 6ms/step\n",
      "Epoch 819/1000\n",
      "3/3 - 0s - loss: 0.0387 - accuracy: 0.9889 - val_loss: 0.4321 - val_accuracy: 0.8667 - 19ms/epoch - 6ms/step\n",
      "Epoch 820/1000\n",
      "3/3 - 0s - loss: 0.1506 - accuracy: 0.9333 - val_loss: 0.3644 - val_accuracy: 0.8667 - 17ms/epoch - 6ms/step\n",
      "Epoch 821/1000\n",
      "3/3 - 0s - loss: 0.0903 - accuracy: 0.9444 - val_loss: 0.0889 - val_accuracy: 0.9333 - 18ms/epoch - 6ms/step\n",
      "Epoch 822/1000\n",
      "3/3 - 0s - loss: 0.0667 - accuracy: 0.9778 - val_loss: 0.1107 - val_accuracy: 0.9667 - 17ms/epoch - 6ms/step\n",
      "Epoch 823/1000\n",
      "3/3 - 0s - loss: 0.1104 - accuracy: 0.9444 - val_loss: 0.1004 - val_accuracy: 0.9667 - 18ms/epoch - 6ms/step\n",
      "Epoch 824/1000\n",
      "3/3 - 0s - loss: 0.0845 - accuracy: 0.9556 - val_loss: 0.0922 - val_accuracy: 0.9333 - 18ms/epoch - 6ms/step\n",
      "Epoch 825/1000\n",
      "3/3 - 0s - loss: 0.0623 - accuracy: 0.9889 - val_loss: 0.1454 - val_accuracy: 0.9333 - 17ms/epoch - 6ms/step\n",
      "Epoch 826/1000\n",
      "3/3 - 0s - loss: 0.0578 - accuracy: 0.9889 - val_loss: 0.2225 - val_accuracy: 0.9333 - 18ms/epoch - 6ms/step\n",
      "Epoch 827/1000\n",
      "3/3 - 0s - loss: 0.0578 - accuracy: 0.9889 - val_loss: 0.2699 - val_accuracy: 0.9333 - 20ms/epoch - 7ms/step\n",
      "Epoch 828/1000\n",
      "3/3 - 0s - loss: 0.0507 - accuracy: 0.9889 - val_loss: 0.2575 - val_accuracy: 0.9333 - 31ms/epoch - 10ms/step\n",
      "Epoch 829/1000\n",
      "3/3 - 0s - loss: 0.0417 - accuracy: 0.9889 - val_loss: 0.1543 - val_accuracy: 0.9333 - 18ms/epoch - 6ms/step\n",
      "Epoch 830/1000\n",
      "3/3 - 0s - loss: 0.0321 - accuracy: 0.9889 - val_loss: 0.1120 - val_accuracy: 0.9333 - 18ms/epoch - 6ms/step\n",
      "Epoch 831/1000\n",
      "3/3 - 0s - loss: 0.0328 - accuracy: 0.9889 - val_loss: 0.1326 - val_accuracy: 0.9333 - 17ms/epoch - 6ms/step\n",
      "Epoch 832/1000\n",
      "3/3 - 0s - loss: 0.0304 - accuracy: 0.9889 - val_loss: 0.2524 - val_accuracy: 0.9333 - 17ms/epoch - 6ms/step\n",
      "Epoch 833/1000\n",
      "3/3 - 0s - loss: 0.0271 - accuracy: 0.9889 - val_loss: 0.3497 - val_accuracy: 0.9333 - 16ms/epoch - 5ms/step\n",
      "Epoch 834/1000\n",
      "3/3 - 0s - loss: 0.0261 - accuracy: 0.9889 - val_loss: 0.3980 - val_accuracy: 0.9333 - 17ms/epoch - 6ms/step\n",
      "Epoch 835/1000\n",
      "3/3 - 0s - loss: 0.0274 - accuracy: 0.9889 - val_loss: 0.4675 - val_accuracy: 0.9333 - 18ms/epoch - 6ms/step\n",
      "Epoch 836/1000\n",
      "3/3 - 0s - loss: 0.0306 - accuracy: 0.9889 - val_loss: 0.6216 - val_accuracy: 0.9333 - 20ms/epoch - 7ms/step\n",
      "Epoch 837/1000\n",
      "3/3 - 0s - loss: 0.0377 - accuracy: 0.9889 - val_loss: 0.4128 - val_accuracy: 0.9333 - 18ms/epoch - 6ms/step\n",
      "Epoch 838/1000\n",
      "3/3 - 0s - loss: 0.0228 - accuracy: 0.9889 - val_loss: 0.2013 - val_accuracy: 0.9333 - 17ms/epoch - 6ms/step\n",
      "Epoch 839/1000\n",
      "3/3 - 0s - loss: 0.0334 - accuracy: 0.9889 - val_loss: 0.1277 - val_accuracy: 0.9333 - 15ms/epoch - 5ms/step\n",
      "Epoch 840/1000\n",
      "3/3 - 0s - loss: 0.0372 - accuracy: 0.9889 - val_loss: 0.2663 - val_accuracy: 0.9333 - 15ms/epoch - 5ms/step\n",
      "Epoch 841/1000\n",
      "3/3 - 0s - loss: 0.0333 - accuracy: 0.9889 - val_loss: 0.5557 - val_accuracy: 0.9333 - 16ms/epoch - 5ms/step\n",
      "Epoch 842/1000\n",
      "3/3 - 0s - loss: 0.0345 - accuracy: 1.0000 - val_loss: 0.4707 - val_accuracy: 0.9333 - 17ms/epoch - 6ms/step\n",
      "Epoch 843/1000\n",
      "3/3 - 0s - loss: 0.0254 - accuracy: 0.9889 - val_loss: 0.2241 - val_accuracy: 0.9333 - 17ms/epoch - 6ms/step\n",
      "Epoch 844/1000\n",
      "3/3 - 0s - loss: 0.0303 - accuracy: 0.9889 - val_loss: 0.0885 - val_accuracy: 0.9667 - 17ms/epoch - 6ms/step\n",
      "Epoch 845/1000\n",
      "3/3 - 0s - loss: 0.0439 - accuracy: 0.9889 - val_loss: 0.1372 - val_accuracy: 0.9333 - 16ms/epoch - 5ms/step\n",
      "Epoch 846/1000\n",
      "3/3 - 0s - loss: 0.0315 - accuracy: 0.9889 - val_loss: 0.2959 - val_accuracy: 0.9333 - 17ms/epoch - 6ms/step\n",
      "Epoch 847/1000\n",
      "3/3 - 0s - loss: 0.0237 - accuracy: 0.9889 - val_loss: 0.4433 - val_accuracy: 0.9333 - 18ms/epoch - 6ms/step\n",
      "Epoch 848/1000\n",
      "3/3 - 0s - loss: 0.0259 - accuracy: 0.9889 - val_loss: 0.6449 - val_accuracy: 0.8667 - 19ms/epoch - 6ms/step\n",
      "Epoch 849/1000\n",
      "3/3 - 0s - loss: 0.0457 - accuracy: 0.9667 - val_loss: 0.3380 - val_accuracy: 0.9333 - 18ms/epoch - 6ms/step\n",
      "Epoch 850/1000\n",
      "3/3 - 0s - loss: 0.0229 - accuracy: 0.9889 - val_loss: 0.0882 - val_accuracy: 0.9667 - 19ms/epoch - 6ms/step\n",
      "Epoch 851/1000\n",
      "3/3 - 0s - loss: 0.0434 - accuracy: 0.9889 - val_loss: 0.0936 - val_accuracy: 0.9667 - 17ms/epoch - 6ms/step\n",
      "Epoch 852/1000\n",
      "3/3 - 0s - loss: 0.0373 - accuracy: 0.9889 - val_loss: 0.2456 - val_accuracy: 0.9333 - 18ms/epoch - 6ms/step\n",
      "Epoch 853/1000\n",
      "3/3 - 0s - loss: 0.0238 - accuracy: 0.9889 - val_loss: 0.4285 - val_accuracy: 0.9333 - 18ms/epoch - 6ms/step\n",
      "Epoch 854/1000\n",
      "3/3 - 0s - loss: 0.0242 - accuracy: 0.9889 - val_loss: 0.5163 - val_accuracy: 0.9333 - 18ms/epoch - 6ms/step\n",
      "Epoch 855/1000\n",
      "3/3 - 0s - loss: 0.0308 - accuracy: 0.9889 - val_loss: 0.5297 - val_accuracy: 0.9333 - 18ms/epoch - 6ms/step\n",
      "Epoch 856/1000\n",
      "3/3 - 0s - loss: 0.0245 - accuracy: 0.9889 - val_loss: 0.4831 - val_accuracy: 0.9333 - 17ms/epoch - 6ms/step\n",
      "Epoch 857/1000\n",
      "3/3 - 0s - loss: 0.0223 - accuracy: 0.9889 - val_loss: 0.4315 - val_accuracy: 0.9333 - 18ms/epoch - 6ms/step\n",
      "Epoch 858/1000\n",
      "3/3 - 0s - loss: 0.0232 - accuracy: 0.9889 - val_loss: 0.4046 - val_accuracy: 0.9333 - 19ms/epoch - 6ms/step\n",
      "Epoch 859/1000\n",
      "3/3 - 0s - loss: 0.0251 - accuracy: 0.9889 - val_loss: 0.3940 - val_accuracy: 0.9333 - 17ms/epoch - 6ms/step\n",
      "Epoch 860/1000\n",
      "3/3 - 0s - loss: 0.0267 - accuracy: 0.9889 - val_loss: 0.4387 - val_accuracy: 0.9333 - 16ms/epoch - 5ms/step\n",
      "Epoch 861/1000\n",
      "3/3 - 0s - loss: 0.0249 - accuracy: 0.9889 - val_loss: 0.4938 - val_accuracy: 0.9333 - 20ms/epoch - 7ms/step\n",
      "Epoch 862/1000\n",
      "3/3 - 0s - loss: 0.0208 - accuracy: 0.9889 - val_loss: 0.5903 - val_accuracy: 0.9333 - 16ms/epoch - 5ms/step\n",
      "Epoch 863/1000\n",
      "3/3 - 0s - loss: 0.0185 - accuracy: 1.0000 - val_loss: 0.5771 - val_accuracy: 0.9333 - 17ms/epoch - 6ms/step\n",
      "Epoch 864/1000\n",
      "3/3 - 0s - loss: 0.0168 - accuracy: 0.9889 - val_loss: 0.4571 - val_accuracy: 0.9333 - 18ms/epoch - 6ms/step\n",
      "Epoch 865/1000\n",
      "3/3 - 0s - loss: 0.0355 - accuracy: 0.9889 - val_loss: 0.1564 - val_accuracy: 0.9333 - 18ms/epoch - 6ms/step\n",
      "Epoch 866/1000\n",
      "3/3 - 0s - loss: 0.0527 - accuracy: 0.9889 - val_loss: 0.1617 - val_accuracy: 0.9333 - 18ms/epoch - 6ms/step\n",
      "Epoch 867/1000\n",
      "3/3 - 0s - loss: 0.0363 - accuracy: 0.9889 - val_loss: 0.4766 - val_accuracy: 0.9333 - 19ms/epoch - 6ms/step\n",
      "Epoch 868/1000\n",
      "3/3 - 0s - loss: 0.0158 - accuracy: 1.0000 - val_loss: 1.0776 - val_accuracy: 0.8667 - 18ms/epoch - 6ms/step\n",
      "Epoch 869/1000\n",
      "3/3 - 0s - loss: 0.1584 - accuracy: 0.9556 - val_loss: 0.2430 - val_accuracy: 0.9333 - 18ms/epoch - 6ms/step\n",
      "Epoch 870/1000\n",
      "3/3 - 0s - loss: 0.0388 - accuracy: 0.9778 - val_loss: 0.0634 - val_accuracy: 0.9667 - 19ms/epoch - 6ms/step\n",
      "Epoch 871/1000\n",
      "3/3 - 0s - loss: 0.0701 - accuracy: 0.9667 - val_loss: 0.0652 - val_accuracy: 0.9333 - 18ms/epoch - 6ms/step\n"
     ]
    },
    {
     "name": "stdout",
     "output_type": "stream",
     "text": [
      "Epoch 872/1000\n",
      "3/3 - 0s - loss: 0.0379 - accuracy: 0.9889 - val_loss: 0.2075 - val_accuracy: 0.9333 - 18ms/epoch - 6ms/step\n",
      "Epoch 873/1000\n",
      "3/3 - 0s - loss: 0.0421 - accuracy: 0.9778 - val_loss: 0.4303 - val_accuracy: 0.9000 - 19ms/epoch - 6ms/step\n",
      "Epoch 874/1000\n",
      "3/3 - 0s - loss: 0.0549 - accuracy: 0.9667 - val_loss: 0.2697 - val_accuracy: 0.9333 - 20ms/epoch - 7ms/step\n",
      "Epoch 875/1000\n",
      "3/3 - 0s - loss: 0.0347 - accuracy: 0.9889 - val_loss: 0.0898 - val_accuracy: 0.9333 - 17ms/epoch - 6ms/step\n",
      "Epoch 876/1000\n",
      "3/3 - 0s - loss: 0.0393 - accuracy: 0.9889 - val_loss: 0.0696 - val_accuracy: 0.9667 - 19ms/epoch - 6ms/step\n",
      "Epoch 877/1000\n",
      "3/3 - 0s - loss: 0.0506 - accuracy: 0.9778 - val_loss: 0.0750 - val_accuracy: 0.9667 - 18ms/epoch - 6ms/step\n",
      "Epoch 878/1000\n",
      "3/3 - 0s - loss: 0.0394 - accuracy: 0.9889 - val_loss: 0.1237 - val_accuracy: 0.9333 - 19ms/epoch - 6ms/step\n",
      "Epoch 879/1000\n",
      "3/3 - 0s - loss: 0.0323 - accuracy: 0.9889 - val_loss: 0.2709 - val_accuracy: 0.9333 - 18ms/epoch - 6ms/step\n",
      "Epoch 880/1000\n",
      "3/3 - 0s - loss: 0.0310 - accuracy: 0.9889 - val_loss: 0.3226 - val_accuracy: 0.9333 - 18ms/epoch - 6ms/step\n",
      "Epoch 881/1000\n",
      "3/3 - 0s - loss: 0.0303 - accuracy: 0.9889 - val_loss: 0.2790 - val_accuracy: 0.9333 - 18ms/epoch - 6ms/step\n",
      "Epoch 882/1000\n",
      "3/3 - 0s - loss: 0.0264 - accuracy: 0.9889 - val_loss: 0.1734 - val_accuracy: 0.9333 - 18ms/epoch - 6ms/step\n",
      "Epoch 883/1000\n",
      "3/3 - 0s - loss: 0.0266 - accuracy: 0.9889 - val_loss: 0.1363 - val_accuracy: 0.9333 - 18ms/epoch - 6ms/step\n",
      "Epoch 884/1000\n",
      "3/3 - 0s - loss: 0.0294 - accuracy: 0.9889 - val_loss: 0.2043 - val_accuracy: 0.9333 - 18ms/epoch - 6ms/step\n",
      "Epoch 885/1000\n",
      "3/3 - 0s - loss: 0.0249 - accuracy: 0.9889 - val_loss: 0.3535 - val_accuracy: 0.9333 - 18ms/epoch - 6ms/step\n",
      "Epoch 886/1000\n",
      "3/3 - 0s - loss: 0.0243 - accuracy: 0.9889 - val_loss: 0.4258 - val_accuracy: 0.9333 - 19ms/epoch - 6ms/step\n",
      "Epoch 887/1000\n",
      "3/3 - 0s - loss: 0.0257 - accuracy: 0.9889 - val_loss: 0.4267 - val_accuracy: 0.9333 - 18ms/epoch - 6ms/step\n",
      "Epoch 888/1000\n",
      "3/3 - 0s - loss: 0.0249 - accuracy: 0.9889 - val_loss: 0.4012 - val_accuracy: 0.9333 - 18ms/epoch - 6ms/step\n",
      "Epoch 889/1000\n",
      "3/3 - 0s - loss: 0.0236 - accuracy: 0.9889 - val_loss: 0.3769 - val_accuracy: 0.9333 - 18ms/epoch - 6ms/step\n",
      "Epoch 890/1000\n",
      "3/3 - 0s - loss: 0.0240 - accuracy: 0.9889 - val_loss: 0.3293 - val_accuracy: 0.9333 - 19ms/epoch - 6ms/step\n",
      "Epoch 891/1000\n",
      "3/3 - 0s - loss: 0.0247 - accuracy: 0.9889 - val_loss: 0.3230 - val_accuracy: 0.9333 - 18ms/epoch - 6ms/step\n",
      "Epoch 892/1000\n",
      "3/3 - 0s - loss: 0.0240 - accuracy: 0.9889 - val_loss: 0.3547 - val_accuracy: 0.9333 - 19ms/epoch - 6ms/step\n",
      "Epoch 893/1000\n",
      "3/3 - 0s - loss: 0.0228 - accuracy: 0.9889 - val_loss: 0.3926 - val_accuracy: 0.9333 - 18ms/epoch - 6ms/step\n",
      "Epoch 894/1000\n",
      "3/3 - 0s - loss: 0.0222 - accuracy: 0.9889 - val_loss: 0.4211 - val_accuracy: 0.9333 - 18ms/epoch - 6ms/step\n",
      "Epoch 895/1000\n",
      "3/3 - 0s - loss: 0.0224 - accuracy: 0.9889 - val_loss: 0.4208 - val_accuracy: 0.9333 - 19ms/epoch - 6ms/step\n",
      "Epoch 896/1000\n",
      "3/3 - 0s - loss: 0.0234 - accuracy: 0.9889 - val_loss: 0.3998 - val_accuracy: 0.9333 - 17ms/epoch - 6ms/step\n",
      "Epoch 897/1000\n",
      "3/3 - 0s - loss: 0.0222 - accuracy: 0.9889 - val_loss: 0.3856 - val_accuracy: 0.9333 - 18ms/epoch - 6ms/step\n",
      "Epoch 898/1000\n",
      "3/3 - 0s - loss: 0.0217 - accuracy: 0.9889 - val_loss: 0.3526 - val_accuracy: 0.9333 - 18ms/epoch - 6ms/step\n",
      "Epoch 899/1000\n",
      "3/3 - 0s - loss: 0.0226 - accuracy: 0.9889 - val_loss: 0.3461 - val_accuracy: 0.9333 - 18ms/epoch - 6ms/step\n",
      "Epoch 900/1000\n",
      "3/3 - 0s - loss: 0.0250 - accuracy: 0.9889 - val_loss: 0.4164 - val_accuracy: 0.9333 - 18ms/epoch - 6ms/step\n",
      "Epoch 901/1000\n",
      "3/3 - 0s - loss: 0.0226 - accuracy: 0.9889 - val_loss: 0.6249 - val_accuracy: 0.9000 - 18ms/epoch - 6ms/step\n",
      "Epoch 902/1000\n",
      "3/3 - 0s - loss: 0.0461 - accuracy: 0.9778 - val_loss: 0.3312 - val_accuracy: 0.9333 - 17ms/epoch - 6ms/step\n",
      "Epoch 903/1000\n",
      "3/3 - 0s - loss: 0.0232 - accuracy: 0.9889 - val_loss: 0.1430 - val_accuracy: 0.9333 - 19ms/epoch - 6ms/step\n",
      "Epoch 904/1000\n",
      "3/3 - 0s - loss: 0.0345 - accuracy: 0.9889 - val_loss: 0.1946 - val_accuracy: 0.9333 - 18ms/epoch - 6ms/step\n",
      "Epoch 905/1000\n",
      "3/3 - 0s - loss: 0.0265 - accuracy: 0.9889 - val_loss: 0.3460 - val_accuracy: 0.9333 - 20ms/epoch - 7ms/step\n",
      "Epoch 906/1000\n",
      "3/3 - 0s - loss: 0.0214 - accuracy: 0.9889 - val_loss: 0.4905 - val_accuracy: 0.9333 - 19ms/epoch - 6ms/step\n",
      "Epoch 907/1000\n",
      "3/3 - 0s - loss: 0.0251 - accuracy: 1.0000 - val_loss: 0.5994 - val_accuracy: 0.9333 - 16ms/epoch - 5ms/step\n",
      "Epoch 908/1000\n",
      "3/3 - 0s - loss: 0.0431 - accuracy: 0.9667 - val_loss: 0.4683 - val_accuracy: 0.9333 - 18ms/epoch - 6ms/step\n",
      "Epoch 909/1000\n",
      "3/3 - 0s - loss: 0.0231 - accuracy: 0.9889 - val_loss: 0.4150 - val_accuracy: 0.9333 - 18ms/epoch - 6ms/step\n",
      "Epoch 910/1000\n",
      "3/3 - 0s - loss: 0.0226 - accuracy: 0.9889 - val_loss: 0.2921 - val_accuracy: 0.9333 - 16ms/epoch - 5ms/step\n",
      "Epoch 911/1000\n",
      "3/3 - 0s - loss: 0.0233 - accuracy: 0.9889 - val_loss: 0.2629 - val_accuracy: 0.9333 - 19ms/epoch - 6ms/step\n",
      "Epoch 912/1000\n",
      "3/3 - 0s - loss: 0.0244 - accuracy: 0.9889 - val_loss: 0.3057 - val_accuracy: 0.9333 - 19ms/epoch - 6ms/step\n",
      "Epoch 913/1000\n",
      "3/3 - 0s - loss: 0.0217 - accuracy: 0.9889 - val_loss: 0.4107 - val_accuracy: 0.9333 - 18ms/epoch - 6ms/step\n",
      "Epoch 914/1000\n",
      "3/3 - 0s - loss: 0.0357 - accuracy: 0.9778 - val_loss: 0.4396 - val_accuracy: 0.9333 - 18ms/epoch - 6ms/step\n",
      "Epoch 915/1000\n",
      "3/3 - 0s - loss: 0.0241 - accuracy: 0.9889 - val_loss: 0.1116 - val_accuracy: 0.9667 - 18ms/epoch - 6ms/step\n",
      "Epoch 916/1000\n",
      "3/3 - 0s - loss: 0.0439 - accuracy: 0.9889 - val_loss: 0.0938 - val_accuracy: 0.9667 - 17ms/epoch - 6ms/step\n",
      "Epoch 917/1000\n",
      "3/3 - 0s - loss: 0.0462 - accuracy: 0.9889 - val_loss: 0.3036 - val_accuracy: 0.9333 - 16ms/epoch - 5ms/step\n",
      "Epoch 918/1000\n",
      "3/3 - 0s - loss: 0.0243 - accuracy: 0.9889 - val_loss: 0.6760 - val_accuracy: 0.8667 - 18ms/epoch - 6ms/step\n",
      "Epoch 919/1000\n",
      "3/3 - 0s - loss: 0.0563 - accuracy: 0.9778 - val_loss: 0.3739 - val_accuracy: 0.9333 - 17ms/epoch - 6ms/step\n",
      "Epoch 920/1000\n",
      "3/3 - 0s - loss: 0.0188 - accuracy: 0.9889 - val_loss: 0.1151 - val_accuracy: 0.9667 - 18ms/epoch - 6ms/step\n",
      "Epoch 921/1000\n",
      "3/3 - 0s - loss: 0.0430 - accuracy: 0.9889 - val_loss: 0.1008 - val_accuracy: 0.9667 - 18ms/epoch - 6ms/step\n",
      "Epoch 922/1000\n",
      "3/3 - 0s - loss: 0.0442 - accuracy: 0.9778 - val_loss: 0.2755 - val_accuracy: 0.9333 - 18ms/epoch - 6ms/step\n",
      "Epoch 923/1000\n",
      "3/3 - 0s - loss: 0.0251 - accuracy: 0.9889 - val_loss: 0.4426 - val_accuracy: 0.9333 - 18ms/epoch - 6ms/step\n",
      "Epoch 924/1000\n",
      "3/3 - 0s - loss: 0.0273 - accuracy: 0.9889 - val_loss: 0.4496 - val_accuracy: 0.9333 - 17ms/epoch - 6ms/step\n",
      "Epoch 925/1000\n",
      "3/3 - 0s - loss: 0.0190 - accuracy: 0.9889 - val_loss: 0.2749 - val_accuracy: 0.9333 - 18ms/epoch - 6ms/step\n",
      "Epoch 926/1000\n",
      "3/3 - 0s - loss: 0.0284 - accuracy: 0.9889 - val_loss: 0.1741 - val_accuracy: 0.9333 - 18ms/epoch - 6ms/step\n",
      "Epoch 927/1000\n",
      "3/3 - 0s - loss: 0.0333 - accuracy: 0.9889 - val_loss: 0.2580 - val_accuracy: 0.9333 - 18ms/epoch - 6ms/step\n",
      "Epoch 928/1000\n",
      "3/3 - 0s - loss: 0.0244 - accuracy: 0.9889 - val_loss: 0.4220 - val_accuracy: 0.9333 - 19ms/epoch - 6ms/step\n",
      "Epoch 929/1000\n",
      "3/3 - 0s - loss: 0.0186 - accuracy: 0.9889 - val_loss: 0.6539 - val_accuracy: 0.9000 - 17ms/epoch - 6ms/step\n",
      "Epoch 930/1000\n",
      "3/3 - 0s - loss: 0.0513 - accuracy: 0.9778 - val_loss: 0.4191 - val_accuracy: 0.9333 - 23ms/epoch - 8ms/step\n",
      "Epoch 931/1000\n",
      "3/3 - 0s - loss: 0.0267 - accuracy: 0.9889 - val_loss: 0.1445 - val_accuracy: 0.9333 - 21ms/epoch - 7ms/step\n",
      "Epoch 932/1000\n",
      "3/3 - 0s - loss: 0.0365 - accuracy: 0.9889 - val_loss: 0.1294 - val_accuracy: 0.9333 - 20ms/epoch - 7ms/step\n",
      "Epoch 933/1000\n",
      "3/3 - 0s - loss: 0.0324 - accuracy: 0.9889 - val_loss: 0.2799 - val_accuracy: 0.9333 - 22ms/epoch - 7ms/step\n",
      "Epoch 934/1000\n",
      "3/3 - 0s - loss: 0.0231 - accuracy: 0.9889 - val_loss: 0.4974 - val_accuracy: 0.9333 - 24ms/epoch - 8ms/step\n",
      "Epoch 935/1000\n",
      "3/3 - 0s - loss: 0.0329 - accuracy: 0.9889 - val_loss: 0.4208 - val_accuracy: 0.9333 - 27ms/epoch - 9ms/step\n",
      "Epoch 936/1000\n",
      "3/3 - 0s - loss: 0.0157 - accuracy: 0.9889 - val_loss: 0.0923 - val_accuracy: 0.9667 - 23ms/epoch - 8ms/step\n",
      "Epoch 937/1000\n",
      "3/3 - 0s - loss: 0.0706 - accuracy: 0.9778 - val_loss: 0.0679 - val_accuracy: 0.9667 - 23ms/epoch - 8ms/step\n",
      "Epoch 938/1000\n",
      "3/3 - 0s - loss: 0.0833 - accuracy: 0.9667 - val_loss: 0.1273 - val_accuracy: 0.9667 - 23ms/epoch - 8ms/step\n"
     ]
    },
    {
     "name": "stdout",
     "output_type": "stream",
     "text": [
      "Epoch 939/1000\n",
      "3/3 - 0s - loss: 0.0231 - accuracy: 0.9889 - val_loss: 0.4670 - val_accuracy: 0.9333 - 26ms/epoch - 9ms/step\n",
      "Epoch 940/1000\n",
      "3/3 - 0s - loss: 0.0279 - accuracy: 0.9889 - val_loss: 0.6974 - val_accuracy: 0.8667 - 19ms/epoch - 6ms/step\n",
      "Epoch 941/1000\n",
      "3/3 - 0s - loss: 0.0657 - accuracy: 0.9556 - val_loss: 0.1868 - val_accuracy: 0.9333 - 16ms/epoch - 5ms/step\n",
      "Epoch 942/1000\n",
      "3/3 - 0s - loss: 0.0346 - accuracy: 0.9889 - val_loss: 0.0664 - val_accuracy: 0.9667 - 17ms/epoch - 6ms/step\n",
      "Epoch 943/1000\n",
      "3/3 - 0s - loss: 0.0506 - accuracy: 0.9778 - val_loss: 0.1305 - val_accuracy: 0.9333 - 17ms/epoch - 6ms/step\n",
      "Epoch 944/1000\n",
      "3/3 - 0s - loss: 0.0279 - accuracy: 0.9889 - val_loss: 0.3307 - val_accuracy: 0.9333 - 16ms/epoch - 5ms/step\n",
      "Epoch 945/1000\n",
      "3/3 - 0s - loss: 0.0233 - accuracy: 0.9889 - val_loss: 0.4494 - val_accuracy: 0.9333 - 17ms/epoch - 6ms/step\n",
      "Epoch 946/1000\n",
      "3/3 - 0s - loss: 0.0277 - accuracy: 0.9889 - val_loss: 0.5002 - val_accuracy: 0.9333 - 16ms/epoch - 5ms/step\n",
      "Epoch 947/1000\n",
      "3/3 - 0s - loss: 0.0309 - accuracy: 1.0000 - val_loss: 0.5437 - val_accuracy: 0.9333 - 17ms/epoch - 6ms/step\n",
      "Epoch 948/1000\n",
      "3/3 - 0s - loss: 0.0361 - accuracy: 0.9889 - val_loss: 0.5157 - val_accuracy: 0.9333 - 18ms/epoch - 6ms/step\n",
      "Epoch 949/1000\n",
      "3/3 - 0s - loss: 0.0259 - accuracy: 0.9889 - val_loss: 0.3981 - val_accuracy: 0.9333 - 18ms/epoch - 6ms/step\n",
      "Epoch 950/1000\n",
      "3/3 - 0s - loss: 0.0215 - accuracy: 0.9889 - val_loss: 0.3121 - val_accuracy: 0.9333 - 18ms/epoch - 6ms/step\n",
      "Epoch 951/1000\n",
      "3/3 - 0s - loss: 0.0255 - accuracy: 0.9889 - val_loss: 0.2866 - val_accuracy: 0.9333 - 18ms/epoch - 6ms/step\n",
      "Epoch 952/1000\n",
      "3/3 - 0s - loss: 0.0273 - accuracy: 0.9889 - val_loss: 0.3319 - val_accuracy: 0.9333 - 18ms/epoch - 6ms/step\n",
      "Epoch 953/1000\n",
      "3/3 - 0s - loss: 0.0255 - accuracy: 0.9889 - val_loss: 0.4089 - val_accuracy: 0.9333 - 17ms/epoch - 6ms/step\n",
      "Epoch 954/1000\n",
      "3/3 - 0s - loss: 0.0232 - accuracy: 0.9889 - val_loss: 0.4729 - val_accuracy: 0.9333 - 17ms/epoch - 6ms/step\n",
      "Epoch 955/1000\n",
      "3/3 - 0s - loss: 0.0225 - accuracy: 0.9889 - val_loss: 0.4913 - val_accuracy: 0.9333 - 17ms/epoch - 6ms/step\n",
      "Epoch 956/1000\n",
      "3/3 - 0s - loss: 0.0239 - accuracy: 0.9889 - val_loss: 0.5108 - val_accuracy: 0.9333 - 19ms/epoch - 6ms/step\n",
      "Epoch 957/1000\n",
      "3/3 - 0s - loss: 0.0232 - accuracy: 1.0000 - val_loss: 0.5742 - val_accuracy: 0.9333 - 17ms/epoch - 6ms/step\n",
      "Epoch 958/1000\n",
      "3/3 - 0s - loss: 0.0329 - accuracy: 0.9889 - val_loss: 0.4982 - val_accuracy: 0.9333 - 17ms/epoch - 6ms/step\n",
      "Epoch 959/1000\n",
      "3/3 - 0s - loss: 0.0220 - accuracy: 0.9889 - val_loss: 0.3602 - val_accuracy: 0.9333 - 17ms/epoch - 6ms/step\n",
      "Epoch 960/1000\n",
      "3/3 - 0s - loss: 0.0243 - accuracy: 0.9889 - val_loss: 0.2855 - val_accuracy: 0.9333 - 18ms/epoch - 6ms/step\n",
      "Epoch 961/1000\n",
      "3/3 - 0s - loss: 0.0260 - accuracy: 0.9889 - val_loss: 0.3220 - val_accuracy: 0.9333 - 18ms/epoch - 6ms/step\n",
      "Epoch 962/1000\n",
      "3/3 - 0s - loss: 0.0236 - accuracy: 0.9889 - val_loss: 0.4208 - val_accuracy: 0.9333 - 19ms/epoch - 6ms/step\n",
      "Epoch 963/1000\n",
      "3/3 - 0s - loss: 0.0216 - accuracy: 0.9889 - val_loss: 0.4825 - val_accuracy: 0.9333 - 18ms/epoch - 6ms/step\n",
      "Epoch 964/1000\n",
      "3/3 - 0s - loss: 0.0227 - accuracy: 0.9889 - val_loss: 0.5138 - val_accuracy: 0.9333 - 18ms/epoch - 6ms/step\n",
      "Epoch 965/1000\n",
      "3/3 - 0s - loss: 0.0265 - accuracy: 0.9889 - val_loss: 0.5525 - val_accuracy: 0.9333 - 18ms/epoch - 6ms/step\n",
      "Epoch 966/1000\n",
      "3/3 - 0s - loss: 0.0238 - accuracy: 0.9889 - val_loss: 0.4572 - val_accuracy: 0.9333 - 18ms/epoch - 6ms/step\n",
      "Epoch 967/1000\n",
      "3/3 - 0s - loss: 0.0177 - accuracy: 0.9889 - val_loss: 0.3557 - val_accuracy: 0.9333 - 20ms/epoch - 7ms/step\n",
      "Epoch 968/1000\n",
      "3/3 - 0s - loss: 0.0298 - accuracy: 0.9889 - val_loss: 0.2726 - val_accuracy: 0.9333 - 19ms/epoch - 6ms/step\n",
      "Epoch 969/1000\n",
      "3/3 - 0s - loss: 0.0323 - accuracy: 0.9889 - val_loss: 0.3551 - val_accuracy: 0.9333 - 18ms/epoch - 6ms/step\n",
      "Epoch 970/1000\n",
      "3/3 - 0s - loss: 0.0233 - accuracy: 0.9889 - val_loss: 0.4774 - val_accuracy: 0.9333 - 17ms/epoch - 6ms/step\n",
      "Epoch 971/1000\n",
      "3/3 - 0s - loss: 0.0193 - accuracy: 0.9889 - val_loss: 0.5333 - val_accuracy: 0.9333 - 16ms/epoch - 5ms/step\n",
      "Epoch 972/1000\n",
      "3/3 - 0s - loss: 0.0191 - accuracy: 0.9889 - val_loss: 0.4604 - val_accuracy: 0.9333 - 17ms/epoch - 6ms/step\n",
      "Epoch 973/1000\n",
      "3/3 - 0s - loss: 0.0183 - accuracy: 0.9889 - val_loss: 0.2934 - val_accuracy: 0.9333 - 15ms/epoch - 5ms/step\n",
      "Epoch 974/1000\n",
      "3/3 - 0s - loss: 0.0346 - accuracy: 0.9889 - val_loss: 0.2421 - val_accuracy: 0.9333 - 16ms/epoch - 5ms/step\n",
      "Epoch 975/1000\n",
      "3/3 - 0s - loss: 0.0317 - accuracy: 0.9889 - val_loss: 0.4496 - val_accuracy: 0.9333 - 16ms/epoch - 5ms/step\n",
      "Epoch 976/1000\n",
      "3/3 - 0s - loss: 0.0227 - accuracy: 1.0000 - val_loss: 0.8001 - val_accuracy: 0.8667 - 18ms/epoch - 6ms/step\n",
      "Epoch 977/1000\n",
      "3/3 - 0s - loss: 0.0886 - accuracy: 0.9667 - val_loss: 0.3542 - val_accuracy: 0.9333 - 17ms/epoch - 6ms/step\n",
      "Epoch 978/1000\n",
      "3/3 - 0s - loss: 0.0436 - accuracy: 0.9889 - val_loss: 0.1880 - val_accuracy: 0.9333 - 19ms/epoch - 6ms/step\n",
      "Epoch 979/1000\n",
      "3/3 - 0s - loss: 0.0125 - accuracy: 1.0000 - val_loss: 0.5865 - val_accuracy: 0.8667 - 18ms/epoch - 6ms/step\n",
      "Epoch 980/1000\n",
      "3/3 - 0s - loss: 0.0812 - accuracy: 0.9556 - val_loss: 0.5856 - val_accuracy: 0.8667 - 19ms/epoch - 6ms/step\n",
      "Epoch 981/1000\n",
      "3/3 - 0s - loss: 0.0483 - accuracy: 0.9778 - val_loss: 0.3446 - val_accuracy: 0.9333 - 19ms/epoch - 6ms/step\n",
      "Epoch 982/1000\n",
      "3/3 - 0s - loss: 0.0209 - accuracy: 0.9889 - val_loss: 0.1015 - val_accuracy: 0.9667 - 18ms/epoch - 6ms/step\n",
      "Epoch 983/1000\n",
      "3/3 - 0s - loss: 0.0389 - accuracy: 0.9778 - val_loss: 0.0721 - val_accuracy: 0.9333 - 23ms/epoch - 8ms/step\n",
      "Epoch 984/1000\n",
      "3/3 - 0s - loss: 0.0481 - accuracy: 0.9778 - val_loss: 0.1203 - val_accuracy: 0.9333 - 18ms/epoch - 6ms/step\n",
      "Epoch 985/1000\n",
      "3/3 - 0s - loss: 0.0288 - accuracy: 0.9889 - val_loss: 0.3062 - val_accuracy: 0.9333 - 20ms/epoch - 7ms/step\n",
      "Epoch 986/1000\n",
      "3/3 - 0s - loss: 0.0249 - accuracy: 0.9889 - val_loss: 0.4035 - val_accuracy: 0.9333 - 18ms/epoch - 6ms/step\n",
      "Epoch 987/1000\n",
      "3/3 - 0s - loss: 0.0234 - accuracy: 0.9889 - val_loss: 0.3605 - val_accuracy: 0.9333 - 19ms/epoch - 6ms/step\n",
      "Epoch 988/1000\n",
      "3/3 - 0s - loss: 0.0243 - accuracy: 0.9889 - val_loss: 0.3497 - val_accuracy: 0.9333 - 18ms/epoch - 6ms/step\n",
      "Epoch 989/1000\n",
      "3/3 - 0s - loss: 0.0206 - accuracy: 0.9889 - val_loss: 0.4645 - val_accuracy: 0.9333 - 18ms/epoch - 6ms/step\n",
      "Epoch 990/1000\n",
      "3/3 - 0s - loss: 0.0311 - accuracy: 0.9889 - val_loss: 0.5236 - val_accuracy: 0.9333 - 18ms/epoch - 6ms/step\n",
      "Epoch 991/1000\n",
      "3/3 - 0s - loss: 0.0265 - accuracy: 0.9889 - val_loss: 0.3860 - val_accuracy: 0.9333 - 17ms/epoch - 6ms/step\n",
      "Epoch 992/1000\n",
      "3/3 - 0s - loss: 0.0201 - accuracy: 0.9889 - val_loss: 0.2701 - val_accuracy: 0.9333 - 18ms/epoch - 6ms/step\n",
      "Epoch 993/1000\n",
      "3/3 - 0s - loss: 0.0295 - accuracy: 0.9889 - val_loss: 0.2842 - val_accuracy: 0.9333 - 21ms/epoch - 7ms/step\n",
      "Epoch 994/1000\n",
      "3/3 - 0s - loss: 0.0184 - accuracy: 0.9889 - val_loss: 0.5147 - val_accuracy: 0.9333 - 18ms/epoch - 6ms/step\n",
      "Epoch 995/1000\n",
      "3/3 - 0s - loss: 0.0288 - accuracy: 1.0000 - val_loss: 0.6379 - val_accuracy: 0.9000 - 16ms/epoch - 5ms/step\n",
      "Epoch 996/1000\n",
      "3/3 - 0s - loss: 0.0516 - accuracy: 0.9778 - val_loss: 0.3907 - val_accuracy: 0.9333 - 16ms/epoch - 5ms/step\n",
      "Epoch 997/1000\n",
      "3/3 - 0s - loss: 0.0208 - accuracy: 0.9889 - val_loss: 0.1163 - val_accuracy: 0.9333 - 17ms/epoch - 6ms/step\n",
      "Epoch 998/1000\n",
      "3/3 - 0s - loss: 0.0460 - accuracy: 0.9778 - val_loss: 0.0901 - val_accuracy: 0.9667 - 17ms/epoch - 6ms/step\n",
      "Epoch 999/1000\n",
      "3/3 - 0s - loss: 0.0363 - accuracy: 0.9889 - val_loss: 0.2654 - val_accuracy: 0.9333 - 17ms/epoch - 6ms/step\n",
      "Epoch 1000/1000\n",
      "3/3 - 0s - loss: 0.0228 - accuracy: 0.9889 - val_loss: 0.4616 - val_accuracy: 0.9333 - 16ms/epoch - 5ms/step\n"
     ]
    }
   ],
   "source": [
    "# 모델 훈련\n",
    "model1.compile(\n",
    "    optimizer='adam', \n",
    "    loss='categorical_crossentropy', \n",
    "    metrics=['accuracy']\n",
    ") # 1\n",
    "\n",
    "history1 = model1.fit(\n",
    "    X_train, \n",
    "    y_train, \n",
    "    epochs=1000, \n",
    "    validation_split=0.25, \n",
    "    batch_size=40, \n",
    "    verbose=2\n",
    ")"
   ]
  },
  {
   "cell_type": "markdown",
   "metadata": {},
   "source": [
    "- 1 : 옵티마이저로 아담 알고리즘을 적용하고, 손실함수로 크로스엔트로피를 적용"
   ]
  },
  {
   "cell_type": "code",
   "execution_count": 23,
   "metadata": {},
   "outputs": [
    {
     "data": {
      "image/png": "[encoded data removed]",
      "text/plain": [
       "<Figure size 432x288 with 2 Axes>"
      ]
     },
     "metadata": {
      "needs_background": "light"
     },
     "output_type": "display_data"
    }
   ],
   "source": [
    "# 훈련 결과 시각화\n",
    "%matplotlib inline # 1\n",
    "import matplotlib.pyplot as plt\n",
    "\n",
    "fig,loss_ax=plt.subplots() # subplots는 한번에 여러 그래프를 보여주는데 사용\n",
    "\n",
    "acc_ax=loss_ax.twinx() # twinx()를 사용하여 y축이 2개있는 플롯 구성\n",
    "\n",
    "loss_ax.plot(history1.history['loss'],'y',label='train loss') # 2\n",
    "loss_ax.plot(history1.history['val_loss'],'r',label='val loss') # plot는 선또는 마커 그래프 그리기에 사용되는 함수\n",
    "\n",
    "acc_ax.plot(history1.history['accuracy'],'b',label='train acc')\n",
    "acc_ax.plot(history1.history['val_accuracy'],'g',label='val acc')\n",
    "\n",
    "loss_ax.set_xlabel('epochs') # x축 라벨\n",
    "loss_ax.set_ylabel('loss') # y축 라벨\n",
    "acc_ax.set_ylabel('accuracy')\n",
    "\n",
    "loss_ax.legend(loc='lower right')\n",
    "acc_ax.legend(loc='upper right')\n",
    "plt.show()"
   ]
  },
  {
   "cell_type": "markdown",
   "metadata": {},
   "source": [
    "- 1 : matplotlib inline은 주피터 노트북을 실행한 웹 브라우저에서 바로 그림 형태로 출력 결과를 보여줄 수 있게 해줌\n",
    "- 2 : 모델을 학습시키기 위해 fit() 메서드를 사용하며, 이때 반환값으로 학습 이력(history) 정보가 반환"
   ]
  },
  {
   "cell_type": "code",
   "execution_count": 24,
   "metadata": {},
   "outputs": [
    {
     "name": "stdout",
     "output_type": "stream",
     "text": [
      "1/1 [==============================] - 0s 17ms/step - loss: 0.0819 - accuracy: 0.9333\n",
      "## 손실과 정확도 평가 ##\n",
      "[0.08191316574811935, 0.9333333373069763]\n"
     ]
    }
   ],
   "source": [
    "# 정확도와 손실 정보 표현\n",
    "loss_and_metrics=model1.evaluate(X_test,y_test)\n",
    "print('## 손실과 정확도 평가 ##')\n",
    "print(loss_and_metrics)"
   ]
  },
  {
   "cell_type": "code",
   "execution_count": 26,
   "metadata": {},
   "outputs": [
    {
     "name": "stdout",
     "output_type": "stream",
     "text": [
      "Model: \"sequential_3\"\n",
      "_________________________________________________________________\n",
      " Layer (type)                Output Shape              Param #   \n",
      "=================================================================\n",
      " dense_18 (Dense)            (None, 64)                320       \n",
      "                                                                 \n",
      " batch_normalization (BatchN  (None, 64)               256       \n",
      " ormalization)                                                   \n",
      "                                                                 \n",
      " dense_19 (Dense)            (None, 128)               8320      \n",
      "                                                                 \n",
      " batch_normalization_1 (Batc  (None, 128)              512       \n",
      " hNormalization)                                                 \n",
      "                                                                 \n",
      " dense_20 (Dense)            (None, 128)               16512     \n",
      "                                                                 \n",
      " batch_normalization_2 (Batc  (None, 128)              512       \n",
      " hNormalization)                                                 \n",
      "                                                                 \n",
      " dense_21 (Dense)            (None, 64)                8256      \n",
      "                                                                 \n",
      " batch_normalization_3 (Batc  (None, 64)               256       \n",
      " hNormalization)                                                 \n",
      "                                                                 \n",
      " dense_22 (Dense)            (None, 64)                4160      \n",
      "                                                                 \n",
      " batch_normalization_4 (Batc  (None, 64)               256       \n",
      " hNormalization)                                                 \n",
      "                                                                 \n",
      " dense_23 (Dense)            (None, 3)                 195       \n",
      "                                                                 \n",
      "=================================================================\n",
      "Total params: 39,555\n",
      "Trainable params: 38,659\n",
      "Non-trainable params: 896\n",
      "_________________________________________________________________\n"
     ]
    }
   ],
   "source": [
    "# 배치 정규화가 적용된 모델 생성\n",
    "from tensorflow.keras.initializers import RandomNormal, Constant\n",
    "model2 = Sequential([\n",
    "    Dense(64, input_shape=(4,), activation=\"relu\"),\n",
    "    BatchNormalization(),\n",
    "\n",
    "    Dense(128, activation='relu'),\n",
    "    BatchNormalization(),\n",
    "    Dense(128, activation='relu'),\n",
    "    BatchNormalization(),\n",
    "    Dense(64, activation='relu'),\n",
    "    BatchNormalization(),\n",
    "    Dense(64, activation='relu'),\n",
    "    BatchNormalization(\n",
    "        momentum=0.95, \n",
    "        epsilon=0.005,\n",
    "        beta_initializer=RandomNormal(mean=0.0, stddev=0.05), \n",
    "        gamma_initializer=Constant(value=0.9)\n",
    "    ), # 1\n",
    "    Dense(3, activation='softmax')\n",
    "]);\n",
    "model2.summary()"
   ]
  },
  {
   "cell_type": "markdown",
   "metadata": {},
   "source": [
    "- 1 : 배치 정규화에서 사용된 파라미터\n",
    "    - momentum : 엄청나게 많은 전체 훈련 데이터셋에 대한 평균과 표준편차를 계산하는 것이 어렵기 때문에, 미니 배치마다 평균과 표준편차를 구해서 전체 훈련 데이터셋의 평균과 표준편차로 대체, 하지만 배치 정규화에서는 이 방법 대신 모델 학습 단계에서 지수 감소를 이용하는 이동 평균법을 사용해 평균과 표준편차를 계산,\n",
    "    - 앞의 식은 모멘텀 값으로 일반적으로 1에 가까운 0.9,0.99,0.999로 설정하고, 이러한 이동평균과 이동 표준편차는 학습 단계에서 모든 미니 배치마다 업데이터해줌\n",
    "    - epsilon : 분산이 0으로 계산되는 것을 방지하기 위해 분산에 추가되는 작은 실수 값\n",
    "    - beta_initializer : 베타 가중치 초기값\n",
    "    - gamma_initializer : 감마 가중치 초기값"
   ]
  },
  {
   "cell_type": "code",
   "execution_count": 28,
   "metadata": {},
   "outputs": [
    {
     "name": "stdout",
     "output_type": "stream",
     "text": [
      "Epoch 1/1000\n",
      "3/3 - 1s - loss: 0.8722 - accuracy: 0.6667 - val_loss: 1.1018 - val_accuracy: 0.3333 - 836ms/epoch - 279ms/step\n",
      "Epoch 2/1000\n",
      "3/3 - 0s - loss: 0.1715 - accuracy: 0.9556 - val_loss: 1.0849 - val_accuracy: 0.3333 - 22ms/epoch - 7ms/step\n",
      "Epoch 3/1000\n",
      "3/3 - 0s - loss: 0.1255 - accuracy: 0.9778 - val_loss: 1.0787 - val_accuracy: 0.3333 - 18ms/epoch - 6ms/step\n",
      "Epoch 4/1000\n",
      "3/3 - 0s - loss: 0.0953 - accuracy: 0.9667 - val_loss: 1.0800 - val_accuracy: 0.3333 - 18ms/epoch - 6ms/step\n",
      "Epoch 5/1000\n",
      "3/3 - 0s - loss: 0.0721 - accuracy: 0.9778 - val_loss: 1.0888 - val_accuracy: 0.3333 - 18ms/epoch - 6ms/step\n",
      "Epoch 6/1000\n",
      "3/3 - 0s - loss: 0.1070 - accuracy: 0.9667 - val_loss: 1.1047 - val_accuracy: 0.3333 - 18ms/epoch - 6ms/step\n",
      "Epoch 7/1000\n",
      "3/3 - 0s - loss: 0.0355 - accuracy: 0.9889 - val_loss: 1.1289 - val_accuracy: 0.3333 - 18ms/epoch - 6ms/step\n",
      "Epoch 8/1000\n",
      "3/3 - 0s - loss: 0.0457 - accuracy: 0.9889 - val_loss: 1.1566 - val_accuracy: 0.3333 - 18ms/epoch - 6ms/step\n",
      "Epoch 9/1000\n",
      "3/3 - 0s - loss: 0.0904 - accuracy: 0.9667 - val_loss: 1.1793 - val_accuracy: 0.3667 - 19ms/epoch - 6ms/step\n",
      "Epoch 10/1000\n",
      "3/3 - 0s - loss: 0.0506 - accuracy: 0.9889 - val_loss: 1.1857 - val_accuracy: 0.3667 - 19ms/epoch - 6ms/step\n",
      "Epoch 11/1000\n",
      "3/3 - 0s - loss: 0.0413 - accuracy: 0.9889 - val_loss: 1.1810 - val_accuracy: 0.5333 - 18ms/epoch - 6ms/step\n",
      "Epoch 12/1000\n",
      "3/3 - 0s - loss: 0.0645 - accuracy: 0.9778 - val_loss: 1.1657 - val_accuracy: 0.6667 - 18ms/epoch - 6ms/step\n",
      "Epoch 13/1000\n",
      "3/3 - 0s - loss: 0.0490 - accuracy: 0.9778 - val_loss: 1.1464 - val_accuracy: 0.6667 - 18ms/epoch - 6ms/step\n",
      "Epoch 14/1000\n",
      "3/3 - 0s - loss: 0.0633 - accuracy: 0.9778 - val_loss: 1.1238 - val_accuracy: 0.6667 - 20ms/epoch - 7ms/step\n",
      "Epoch 15/1000\n",
      "3/3 - 0s - loss: 0.0585 - accuracy: 0.9667 - val_loss: 1.1218 - val_accuracy: 0.6667 - 19ms/epoch - 6ms/step\n",
      "Epoch 16/1000\n",
      "3/3 - 0s - loss: 0.0269 - accuracy: 1.0000 - val_loss: 1.1095 - val_accuracy: 0.6667 - 20ms/epoch - 7ms/step\n",
      "Epoch 17/1000\n",
      "3/3 - 0s - loss: 0.0586 - accuracy: 0.9889 - val_loss: 1.0944 - val_accuracy: 0.6667 - 19ms/epoch - 6ms/step\n",
      "Epoch 18/1000\n",
      "3/3 - 0s - loss: 0.1023 - accuracy: 0.9556 - val_loss: 1.0594 - val_accuracy: 0.6667 - 19ms/epoch - 6ms/step\n",
      "Epoch 19/1000\n",
      "3/3 - 0s - loss: 0.0403 - accuracy: 0.9889 - val_loss: 1.0051 - val_accuracy: 0.6667 - 19ms/epoch - 6ms/step\n",
      "Epoch 20/1000\n",
      "3/3 - 0s - loss: 0.0276 - accuracy: 1.0000 - val_loss: 0.9548 - val_accuracy: 0.6667 - 20ms/epoch - 7ms/step\n",
      "Epoch 21/1000\n",
      "3/3 - 0s - loss: 0.0582 - accuracy: 0.9889 - val_loss: 0.9202 - val_accuracy: 0.6667 - 18ms/epoch - 6ms/step\n",
      "Epoch 22/1000\n",
      "3/3 - 0s - loss: 0.0195 - accuracy: 1.0000 - val_loss: 0.8959 - val_accuracy: 0.6667 - 19ms/epoch - 6ms/step\n",
      "Epoch 23/1000\n",
      "3/3 - 0s - loss: 0.0426 - accuracy: 0.9889 - val_loss: 0.8763 - val_accuracy: 0.6667 - 19ms/epoch - 6ms/step\n",
      "Epoch 24/1000\n",
      "3/3 - 0s - loss: 0.0636 - accuracy: 0.9889 - val_loss: 0.8605 - val_accuracy: 0.6667 - 18ms/epoch - 6ms/step\n",
      "Epoch 25/1000\n",
      "3/3 - 0s - loss: 0.0362 - accuracy: 0.9889 - val_loss: 0.8508 - val_accuracy: 0.6667 - 19ms/epoch - 6ms/step\n",
      "Epoch 26/1000\n",
      "3/3 - 0s - loss: 0.0527 - accuracy: 0.9889 - val_loss: 0.8224 - val_accuracy: 0.6667 - 19ms/epoch - 6ms/step\n",
      "Epoch 27/1000\n",
      "3/3 - 0s - loss: 0.0988 - accuracy: 0.9667 - val_loss: 0.7830 - val_accuracy: 0.6667 - 19ms/epoch - 6ms/step\n",
      "Epoch 28/1000\n",
      "3/3 - 0s - loss: 0.0435 - accuracy: 0.9889 - val_loss: 0.7653 - val_accuracy: 0.6667 - 19ms/epoch - 6ms/step\n",
      "Epoch 29/1000\n",
      "3/3 - 0s - loss: 0.0285 - accuracy: 1.0000 - val_loss: 0.7455 - val_accuracy: 0.7000 - 18ms/epoch - 6ms/step\n",
      "Epoch 30/1000\n",
      "3/3 - 0s - loss: 0.0260 - accuracy: 1.0000 - val_loss: 0.7265 - val_accuracy: 0.7000 - 18ms/epoch - 6ms/step\n",
      "Epoch 31/1000\n",
      "3/3 - 0s - loss: 0.0208 - accuracy: 1.0000 - val_loss: 0.7091 - val_accuracy: 0.7000 - 18ms/epoch - 6ms/step\n",
      "Epoch 32/1000\n",
      "3/3 - 0s - loss: 0.0397 - accuracy: 0.9889 - val_loss: 0.6851 - val_accuracy: 0.7333 - 18ms/epoch - 6ms/step\n",
      "Epoch 33/1000\n",
      "3/3 - 0s - loss: 0.0413 - accuracy: 0.9889 - val_loss: 0.6646 - val_accuracy: 0.7667 - 19ms/epoch - 6ms/step\n",
      "Epoch 34/1000\n",
      "3/3 - 0s - loss: 0.0285 - accuracy: 1.0000 - val_loss: 0.6530 - val_accuracy: 0.7333 - 18ms/epoch - 6ms/step\n",
      "Epoch 35/1000\n",
      "3/3 - 0s - loss: 0.0184 - accuracy: 1.0000 - val_loss: 0.6438 - val_accuracy: 0.7333 - 19ms/epoch - 6ms/step\n",
      "Epoch 36/1000\n",
      "3/3 - 0s - loss: 0.0379 - accuracy: 1.0000 - val_loss: 0.6303 - val_accuracy: 0.7667 - 19ms/epoch - 6ms/step\n",
      "Epoch 37/1000\n",
      "3/3 - 0s - loss: 0.0390 - accuracy: 0.9889 - val_loss: 0.6174 - val_accuracy: 0.7333 - 19ms/epoch - 6ms/step\n",
      "Epoch 38/1000\n",
      "3/3 - 0s - loss: 0.1688 - accuracy: 0.9556 - val_loss: 0.6075 - val_accuracy: 0.7333 - 19ms/epoch - 6ms/step\n",
      "Epoch 39/1000\n",
      "3/3 - 0s - loss: 0.0338 - accuracy: 0.9778 - val_loss: 0.5792 - val_accuracy: 0.7667 - 18ms/epoch - 6ms/step\n",
      "Epoch 40/1000\n",
      "3/3 - 0s - loss: 0.0248 - accuracy: 0.9889 - val_loss: 0.5522 - val_accuracy: 0.7667 - 18ms/epoch - 6ms/step\n",
      "Epoch 41/1000\n",
      "3/3 - 0s - loss: 0.0365 - accuracy: 0.9889 - val_loss: 0.5190 - val_accuracy: 0.8333 - 19ms/epoch - 6ms/step\n",
      "Epoch 42/1000\n",
      "3/3 - 0s - loss: 0.0526 - accuracy: 0.9778 - val_loss: 0.4895 - val_accuracy: 0.8667 - 18ms/epoch - 6ms/step\n",
      "Epoch 43/1000\n",
      "3/3 - 0s - loss: 0.0299 - accuracy: 0.9889 - val_loss: 0.4595 - val_accuracy: 0.9000 - 18ms/epoch - 6ms/step\n",
      "Epoch 44/1000\n",
      "3/3 - 0s - loss: 0.0288 - accuracy: 0.9889 - val_loss: 0.4314 - val_accuracy: 0.9000 - 19ms/epoch - 6ms/step\n",
      "Epoch 45/1000\n",
      "3/3 - 0s - loss: 0.0144 - accuracy: 1.0000 - val_loss: 0.4008 - val_accuracy: 0.9000 - 18ms/epoch - 6ms/step\n",
      "Epoch 46/1000\n",
      "3/3 - 0s - loss: 0.0484 - accuracy: 0.9889 - val_loss: 0.3734 - val_accuracy: 0.9333 - 18ms/epoch - 6ms/step\n",
      "Epoch 47/1000\n",
      "3/3 - 0s - loss: 0.0835 - accuracy: 0.9667 - val_loss: 0.3576 - val_accuracy: 0.9333 - 19ms/epoch - 6ms/step\n",
      "Epoch 48/1000\n",
      "3/3 - 0s - loss: 0.0222 - accuracy: 1.0000 - val_loss: 0.3905 - val_accuracy: 0.9333 - 20ms/epoch - 7ms/step\n",
      "Epoch 49/1000\n",
      "3/3 - 0s - loss: 0.0348 - accuracy: 0.9889 - val_loss: 0.4110 - val_accuracy: 0.9000 - 18ms/epoch - 6ms/step\n",
      "Epoch 50/1000\n",
      "3/3 - 0s - loss: 0.0687 - accuracy: 0.9889 - val_loss: 0.4080 - val_accuracy: 0.9333 - 19ms/epoch - 6ms/step\n",
      "Epoch 51/1000\n",
      "3/3 - 0s - loss: 0.0192 - accuracy: 1.0000 - val_loss: 0.3900 - val_accuracy: 0.9667 - 20ms/epoch - 7ms/step\n",
      "Epoch 52/1000\n",
      "3/3 - 0s - loss: 0.0121 - accuracy: 1.0000 - val_loss: 0.3803 - val_accuracy: 0.9667 - 18ms/epoch - 6ms/step\n",
      "Epoch 53/1000\n",
      "3/3 - 0s - loss: 0.0132 - accuracy: 1.0000 - val_loss: 0.3944 - val_accuracy: 0.9333 - 19ms/epoch - 6ms/step\n",
      "Epoch 54/1000\n",
      "3/3 - 0s - loss: 0.0628 - accuracy: 0.9778 - val_loss: 0.4130 - val_accuracy: 0.9000 - 19ms/epoch - 6ms/step\n",
      "Epoch 55/1000\n",
      "3/3 - 0s - loss: 0.0119 - accuracy: 1.0000 - val_loss: 0.4334 - val_accuracy: 0.8667 - 19ms/epoch - 6ms/step\n",
      "Epoch 56/1000\n",
      "3/3 - 0s - loss: 0.0106 - accuracy: 1.0000 - val_loss: 0.4443 - val_accuracy: 0.8333 - 18ms/epoch - 6ms/step\n",
      "Epoch 57/1000\n",
      "3/3 - 0s - loss: 0.0727 - accuracy: 0.9778 - val_loss: 0.5044 - val_accuracy: 0.7667 - 18ms/epoch - 6ms/step\n",
      "Epoch 58/1000\n",
      "3/3 - 0s - loss: 0.0150 - accuracy: 1.0000 - val_loss: 0.6635 - val_accuracy: 0.7000 - 19ms/epoch - 6ms/step\n",
      "Epoch 59/1000\n",
      "3/3 - 0s - loss: 0.0406 - accuracy: 0.9889 - val_loss: 0.7047 - val_accuracy: 0.6667 - 18ms/epoch - 6ms/step\n",
      "Epoch 60/1000\n",
      "3/3 - 0s - loss: 0.0330 - accuracy: 1.0000 - val_loss: 0.6090 - val_accuracy: 0.7000 - 18ms/epoch - 6ms/step\n",
      "Epoch 61/1000\n",
      "3/3 - 0s - loss: 0.0339 - accuracy: 0.9889 - val_loss: 0.5019 - val_accuracy: 0.8000 - 19ms/epoch - 6ms/step\n",
      "Epoch 62/1000\n",
      "3/3 - 0s - loss: 0.0136 - accuracy: 1.0000 - val_loss: 0.4315 - val_accuracy: 0.8333 - 18ms/epoch - 6ms/step\n",
      "Epoch 63/1000\n",
      "3/3 - 0s - loss: 0.0412 - accuracy: 0.9778 - val_loss: 0.4197 - val_accuracy: 0.8333 - 18ms/epoch - 6ms/step\n",
      "Epoch 64/1000\n",
      "3/3 - 0s - loss: 0.0237 - accuracy: 0.9889 - val_loss: 0.4422 - val_accuracy: 0.8333 - 17ms/epoch - 6ms/step\n",
      "Epoch 65/1000\n",
      "3/3 - 0s - loss: 0.0097 - accuracy: 1.0000 - val_loss: 0.5579 - val_accuracy: 0.7667 - 18ms/epoch - 6ms/step\n",
      "Epoch 66/1000\n",
      "3/3 - 0s - loss: 0.0189 - accuracy: 1.0000 - val_loss: 0.6122 - val_accuracy: 0.7000 - 19ms/epoch - 6ms/step\n",
      "Epoch 67/1000\n",
      "3/3 - 0s - loss: 0.1015 - accuracy: 0.9778 - val_loss: 0.6239 - val_accuracy: 0.7000 - 18ms/epoch - 6ms/step\n"
     ]
    },
    {
     "name": "stdout",
     "output_type": "stream",
     "text": [
      "Epoch 68/1000\n",
      "3/3 - 0s - loss: 0.0267 - accuracy: 0.9889 - val_loss: 0.5630 - val_accuracy: 0.7333 - 19ms/epoch - 6ms/step\n",
      "Epoch 69/1000\n",
      "3/3 - 0s - loss: 0.0342 - accuracy: 0.9889 - val_loss: 0.4407 - val_accuracy: 0.7667 - 19ms/epoch - 6ms/step\n",
      "Epoch 70/1000\n",
      "3/3 - 0s - loss: 0.0550 - accuracy: 0.9778 - val_loss: 0.3858 - val_accuracy: 0.8333 - 18ms/epoch - 6ms/step\n",
      "Epoch 71/1000\n",
      "3/3 - 0s - loss: 0.0318 - accuracy: 0.9889 - val_loss: 0.3908 - val_accuracy: 0.8000 - 19ms/epoch - 6ms/step\n",
      "Epoch 72/1000\n",
      "3/3 - 0s - loss: 0.0259 - accuracy: 0.9889 - val_loss: 0.3656 - val_accuracy: 0.8333 - 20ms/epoch - 7ms/step\n",
      "Epoch 73/1000\n",
      "3/3 - 0s - loss: 0.0816 - accuracy: 0.9778 - val_loss: 0.3157 - val_accuracy: 0.8667 - 18ms/epoch - 6ms/step\n",
      "Epoch 74/1000\n",
      "3/3 - 0s - loss: 0.0342 - accuracy: 0.9778 - val_loss: 0.2587 - val_accuracy: 0.9000 - 19ms/epoch - 6ms/step\n",
      "Epoch 75/1000\n",
      "3/3 - 0s - loss: 0.0850 - accuracy: 0.9444 - val_loss: 0.2113 - val_accuracy: 0.9333 - 18ms/epoch - 6ms/step\n",
      "Epoch 76/1000\n",
      "3/3 - 0s - loss: 0.0378 - accuracy: 0.9889 - val_loss: 0.1995 - val_accuracy: 0.9333 - 18ms/epoch - 6ms/step\n",
      "Epoch 77/1000\n",
      "3/3 - 0s - loss: 0.0132 - accuracy: 1.0000 - val_loss: 0.2067 - val_accuracy: 0.9333 - 18ms/epoch - 6ms/step\n",
      "Epoch 78/1000\n",
      "3/3 - 0s - loss: 0.0514 - accuracy: 0.9778 - val_loss: 0.2098 - val_accuracy: 0.9000 - 18ms/epoch - 6ms/step\n",
      "Epoch 79/1000\n",
      "3/3 - 0s - loss: 0.0148 - accuracy: 1.0000 - val_loss: 0.2177 - val_accuracy: 0.8667 - 19ms/epoch - 6ms/step\n",
      "Epoch 80/1000\n",
      "3/3 - 0s - loss: 0.0526 - accuracy: 0.9778 - val_loss: 0.2034 - val_accuracy: 0.9333 - 21ms/epoch - 7ms/step\n",
      "Epoch 81/1000\n",
      "3/3 - 0s - loss: 0.0522 - accuracy: 0.9778 - val_loss: 0.1882 - val_accuracy: 0.9667 - 19ms/epoch - 6ms/step\n",
      "Epoch 82/1000\n",
      "3/3 - 0s - loss: 0.0282 - accuracy: 0.9889 - val_loss: 0.1709 - val_accuracy: 0.9333 - 21ms/epoch - 7ms/step\n",
      "Epoch 83/1000\n",
      "3/3 - 0s - loss: 0.0241 - accuracy: 1.0000 - val_loss: 0.1593 - val_accuracy: 0.9333 - 21ms/epoch - 7ms/step\n",
      "Epoch 84/1000\n",
      "3/3 - 0s - loss: 0.0459 - accuracy: 0.9889 - val_loss: 0.1512 - val_accuracy: 0.9333 - 21ms/epoch - 7ms/step\n",
      "Epoch 85/1000\n",
      "3/3 - 0s - loss: 0.0107 - accuracy: 1.0000 - val_loss: 0.1525 - val_accuracy: 0.9667 - 20ms/epoch - 7ms/step\n",
      "Epoch 86/1000\n",
      "3/3 - 0s - loss: 0.0164 - accuracy: 1.0000 - val_loss: 0.1578 - val_accuracy: 0.9667 - 20ms/epoch - 7ms/step\n",
      "Epoch 87/1000\n",
      "3/3 - 0s - loss: 0.0129 - accuracy: 1.0000 - val_loss: 0.1579 - val_accuracy: 0.9667 - 21ms/epoch - 7ms/step\n",
      "Epoch 88/1000\n",
      "3/3 - 0s - loss: 0.0346 - accuracy: 0.9889 - val_loss: 0.1971 - val_accuracy: 0.9333 - 20ms/epoch - 7ms/step\n",
      "Epoch 89/1000\n",
      "3/3 - 0s - loss: 0.0100 - accuracy: 1.0000 - val_loss: 0.3631 - val_accuracy: 0.8000 - 19ms/epoch - 6ms/step\n",
      "Epoch 90/1000\n",
      "3/3 - 0s - loss: 0.0298 - accuracy: 0.9889 - val_loss: 0.4517 - val_accuracy: 0.8000 - 20ms/epoch - 7ms/step\n",
      "Epoch 91/1000\n",
      "3/3 - 0s - loss: 0.0872 - accuracy: 0.9778 - val_loss: 0.3995 - val_accuracy: 0.8000 - 20ms/epoch - 7ms/step\n",
      "Epoch 92/1000\n",
      "3/3 - 0s - loss: 0.0620 - accuracy: 0.9667 - val_loss: 0.2555 - val_accuracy: 0.8667 - 19ms/epoch - 6ms/step\n",
      "Epoch 93/1000\n",
      "3/3 - 0s - loss: 0.0144 - accuracy: 1.0000 - val_loss: 0.1698 - val_accuracy: 0.9333 - 19ms/epoch - 6ms/step\n",
      "Epoch 94/1000\n",
      "3/3 - 0s - loss: 0.0148 - accuracy: 1.0000 - val_loss: 0.1608 - val_accuracy: 0.9333 - 18ms/epoch - 6ms/step\n",
      "Epoch 95/1000\n",
      "3/3 - 0s - loss: 0.0306 - accuracy: 1.0000 - val_loss: 0.1706 - val_accuracy: 0.9333 - 19ms/epoch - 6ms/step\n",
      "Epoch 96/1000\n",
      "3/3 - 0s - loss: 0.0152 - accuracy: 1.0000 - val_loss: 0.1649 - val_accuracy: 0.9333 - 20ms/epoch - 7ms/step\n",
      "Epoch 97/1000\n",
      "3/3 - 0s - loss: 0.0340 - accuracy: 0.9889 - val_loss: 0.1447 - val_accuracy: 0.9667 - 18ms/epoch - 6ms/step\n",
      "Epoch 98/1000\n",
      "3/3 - 0s - loss: 0.0379 - accuracy: 0.9889 - val_loss: 0.1247 - val_accuracy: 0.9333 - 18ms/epoch - 6ms/step\n",
      "Epoch 99/1000\n",
      "3/3 - 0s - loss: 0.0083 - accuracy: 1.0000 - val_loss: 0.1089 - val_accuracy: 0.9333 - 19ms/epoch - 6ms/step\n",
      "Epoch 100/1000\n",
      "3/3 - 0s - loss: 0.0727 - accuracy: 0.9889 - val_loss: 0.1040 - val_accuracy: 0.9333 - 19ms/epoch - 6ms/step\n",
      "Epoch 101/1000\n",
      "3/3 - 0s - loss: 0.0360 - accuracy: 0.9778 - val_loss: 0.0994 - val_accuracy: 0.9333 - 19ms/epoch - 6ms/step\n",
      "Epoch 102/1000\n",
      "3/3 - 0s - loss: 0.1147 - accuracy: 0.9556 - val_loss: 0.0932 - val_accuracy: 0.9333 - 19ms/epoch - 6ms/step\n",
      "Epoch 103/1000\n",
      "3/3 - 0s - loss: 0.0222 - accuracy: 0.9889 - val_loss: 0.0894 - val_accuracy: 0.9333 - 17ms/epoch - 6ms/step\n",
      "Epoch 104/1000\n",
      "3/3 - 0s - loss: 0.0158 - accuracy: 1.0000 - val_loss: 0.0966 - val_accuracy: 0.9667 - 19ms/epoch - 6ms/step\n",
      "Epoch 105/1000\n",
      "3/3 - 0s - loss: 0.0646 - accuracy: 0.9667 - val_loss: 0.1015 - val_accuracy: 0.9667 - 20ms/epoch - 7ms/step\n",
      "Epoch 106/1000\n",
      "3/3 - 0s - loss: 0.0419 - accuracy: 0.9778 - val_loss: 0.1034 - val_accuracy: 0.9333 - 19ms/epoch - 6ms/step\n",
      "Epoch 107/1000\n",
      "3/3 - 0s - loss: 0.0218 - accuracy: 1.0000 - val_loss: 0.1050 - val_accuracy: 0.9333 - 19ms/epoch - 6ms/step\n",
      "Epoch 108/1000\n",
      "3/3 - 0s - loss: 0.0176 - accuracy: 1.0000 - val_loss: 0.1047 - val_accuracy: 0.9333 - 18ms/epoch - 6ms/step\n",
      "Epoch 109/1000\n",
      "3/3 - 0s - loss: 0.0961 - accuracy: 0.9778 - val_loss: 0.1038 - val_accuracy: 0.9667 - 19ms/epoch - 6ms/step\n",
      "Epoch 110/1000\n",
      "3/3 - 0s - loss: 0.0223 - accuracy: 0.9889 - val_loss: 0.1108 - val_accuracy: 0.9667 - 20ms/epoch - 7ms/step\n",
      "Epoch 111/1000\n",
      "3/3 - 0s - loss: 0.3257 - accuracy: 0.9444 - val_loss: 0.1117 - val_accuracy: 0.9667 - 19ms/epoch - 6ms/step\n",
      "Epoch 112/1000\n",
      "3/3 - 0s - loss: 0.0178 - accuracy: 1.0000 - val_loss: 0.1091 - val_accuracy: 0.9333 - 19ms/epoch - 6ms/step\n",
      "Epoch 113/1000\n",
      "3/3 - 0s - loss: 0.0309 - accuracy: 0.9889 - val_loss: 0.1082 - val_accuracy: 0.9333 - 18ms/epoch - 6ms/step\n",
      "Epoch 114/1000\n",
      "3/3 - 0s - loss: 0.0393 - accuracy: 0.9889 - val_loss: 0.1087 - val_accuracy: 0.9333 - 21ms/epoch - 7ms/step\n",
      "Epoch 115/1000\n",
      "3/3 - 0s - loss: 0.0337 - accuracy: 0.9889 - val_loss: 0.1063 - val_accuracy: 0.9667 - 19ms/epoch - 6ms/step\n",
      "Epoch 116/1000\n",
      "3/3 - 0s - loss: 0.0286 - accuracy: 0.9889 - val_loss: 0.1115 - val_accuracy: 0.9667 - 19ms/epoch - 6ms/step\n",
      "Epoch 117/1000\n",
      "3/3 - 0s - loss: 0.0149 - accuracy: 1.0000 - val_loss: 0.1174 - val_accuracy: 0.9667 - 20ms/epoch - 7ms/step\n",
      "Epoch 118/1000\n",
      "3/3 - 0s - loss: 0.0564 - accuracy: 0.9889 - val_loss: 0.1276 - val_accuracy: 0.9667 - 19ms/epoch - 6ms/step\n",
      "Epoch 119/1000\n",
      "3/3 - 0s - loss: 0.0466 - accuracy: 0.9889 - val_loss: 0.1302 - val_accuracy: 0.9333 - 19ms/epoch - 6ms/step\n",
      "Epoch 120/1000\n",
      "3/3 - 0s - loss: 0.0315 - accuracy: 1.0000 - val_loss: 0.1139 - val_accuracy: 0.9333 - 20ms/epoch - 7ms/step\n",
      "Epoch 121/1000\n",
      "3/3 - 0s - loss: 0.0285 - accuracy: 1.0000 - val_loss: 0.1140 - val_accuracy: 0.9333 - 18ms/epoch - 6ms/step\n",
      "Epoch 122/1000\n",
      "3/3 - 0s - loss: 0.0449 - accuracy: 1.0000 - val_loss: 0.1086 - val_accuracy: 0.9333 - 19ms/epoch - 6ms/step\n",
      "Epoch 123/1000\n",
      "3/3 - 0s - loss: 0.0347 - accuracy: 0.9889 - val_loss: 0.1019 - val_accuracy: 0.9333 - 19ms/epoch - 6ms/step\n",
      "Epoch 124/1000\n",
      "3/3 - 0s - loss: 0.0624 - accuracy: 0.9889 - val_loss: 0.1026 - val_accuracy: 0.9667 - 20ms/epoch - 7ms/step\n",
      "Epoch 125/1000\n",
      "3/3 - 0s - loss: 0.0221 - accuracy: 1.0000 - val_loss: 0.1101 - val_accuracy: 0.9667 - 18ms/epoch - 6ms/step\n",
      "Epoch 126/1000\n",
      "3/3 - 0s - loss: 0.0268 - accuracy: 0.9889 - val_loss: 0.1333 - val_accuracy: 0.9667 - 19ms/epoch - 6ms/step\n",
      "Epoch 127/1000\n",
      "3/3 - 0s - loss: 0.0274 - accuracy: 0.9889 - val_loss: 0.1674 - val_accuracy: 0.9667 - 18ms/epoch - 6ms/step\n",
      "Epoch 128/1000\n",
      "3/3 - 0s - loss: 0.0699 - accuracy: 0.9778 - val_loss: 0.2134 - val_accuracy: 0.9333 - 19ms/epoch - 6ms/step\n",
      "Epoch 129/1000\n",
      "3/3 - 0s - loss: 0.0097 - accuracy: 1.0000 - val_loss: 0.2201 - val_accuracy: 0.9000 - 18ms/epoch - 6ms/step\n",
      "Epoch 130/1000\n",
      "3/3 - 0s - loss: 0.0791 - accuracy: 0.9889 - val_loss: 0.2250 - val_accuracy: 0.9000 - 19ms/epoch - 6ms/step\n",
      "Epoch 131/1000\n",
      "3/3 - 0s - loss: 0.0240 - accuracy: 1.0000 - val_loss: 0.2505 - val_accuracy: 0.9000 - 17ms/epoch - 6ms/step\n",
      "Epoch 132/1000\n",
      "3/3 - 0s - loss: 0.0195 - accuracy: 1.0000 - val_loss: 0.2654 - val_accuracy: 0.9000 - 18ms/epoch - 6ms/step\n",
      "Epoch 133/1000\n",
      "3/3 - 0s - loss: 0.0695 - accuracy: 0.9667 - val_loss: 0.2461 - val_accuracy: 0.9000 - 18ms/epoch - 6ms/step\n",
      "Epoch 134/1000\n",
      "3/3 - 0s - loss: 0.0486 - accuracy: 0.9889 - val_loss: 0.2272 - val_accuracy: 0.9333 - 20ms/epoch - 7ms/step\n"
     ]
    },
    {
     "name": "stdout",
     "output_type": "stream",
     "text": [
      "Epoch 135/1000\n",
      "3/3 - 0s - loss: 0.0208 - accuracy: 1.0000 - val_loss: 0.1736 - val_accuracy: 0.9333 - 18ms/epoch - 6ms/step\n",
      "Epoch 136/1000\n",
      "3/3 - 0s - loss: 0.0192 - accuracy: 1.0000 - val_loss: 0.1474 - val_accuracy: 0.9333 - 20ms/epoch - 7ms/step\n",
      "Epoch 137/1000\n",
      "3/3 - 0s - loss: 0.0355 - accuracy: 0.9889 - val_loss: 0.1250 - val_accuracy: 0.9333 - 19ms/epoch - 6ms/step\n",
      "Epoch 138/1000\n",
      "3/3 - 0s - loss: 0.0147 - accuracy: 0.9889 - val_loss: 0.1089 - val_accuracy: 0.9333 - 18ms/epoch - 6ms/step\n",
      "Epoch 139/1000\n",
      "3/3 - 0s - loss: 0.0217 - accuracy: 0.9889 - val_loss: 0.0986 - val_accuracy: 0.9667 - 18ms/epoch - 6ms/step\n",
      "Epoch 140/1000\n",
      "3/3 - 0s - loss: 0.0431 - accuracy: 0.9778 - val_loss: 0.1021 - val_accuracy: 0.9667 - 19ms/epoch - 6ms/step\n",
      "Epoch 141/1000\n",
      "3/3 - 0s - loss: 0.0103 - accuracy: 1.0000 - val_loss: 0.1051 - val_accuracy: 0.9667 - 18ms/epoch - 6ms/step\n",
      "Epoch 142/1000\n",
      "3/3 - 0s - loss: 0.0165 - accuracy: 1.0000 - val_loss: 0.1046 - val_accuracy: 0.9667 - 18ms/epoch - 6ms/step\n",
      "Epoch 143/1000\n",
      "3/3 - 0s - loss: 0.0145 - accuracy: 1.0000 - val_loss: 0.1099 - val_accuracy: 0.9667 - 18ms/epoch - 6ms/step\n",
      "Epoch 144/1000\n",
      "3/3 - 0s - loss: 0.0671 - accuracy: 0.9667 - val_loss: 0.1356 - val_accuracy: 0.9667 - 18ms/epoch - 6ms/step\n",
      "Epoch 145/1000\n",
      "3/3 - 0s - loss: 0.0108 - accuracy: 1.0000 - val_loss: 0.2043 - val_accuracy: 0.9000 - 19ms/epoch - 6ms/step\n",
      "Epoch 146/1000\n",
      "3/3 - 0s - loss: 0.0099 - accuracy: 1.0000 - val_loss: 0.3031 - val_accuracy: 0.9000 - 19ms/epoch - 6ms/step\n",
      "Epoch 147/1000\n",
      "3/3 - 0s - loss: 0.0352 - accuracy: 0.9889 - val_loss: 0.3385 - val_accuracy: 0.8667 - 19ms/epoch - 6ms/step\n",
      "Epoch 148/1000\n",
      "3/3 - 0s - loss: 0.0151 - accuracy: 1.0000 - val_loss: 0.2431 - val_accuracy: 0.9000 - 18ms/epoch - 6ms/step\n",
      "Epoch 149/1000\n",
      "3/3 - 0s - loss: 0.0413 - accuracy: 0.9889 - val_loss: 0.1427 - val_accuracy: 0.9333 - 19ms/epoch - 6ms/step\n",
      "Epoch 150/1000\n",
      "3/3 - 0s - loss: 0.0117 - accuracy: 1.0000 - val_loss: 0.0811 - val_accuracy: 0.9667 - 20ms/epoch - 7ms/step\n",
      "Epoch 151/1000\n",
      "3/3 - 0s - loss: 0.0323 - accuracy: 0.9889 - val_loss: 0.0817 - val_accuracy: 0.9667 - 18ms/epoch - 6ms/step\n",
      "Epoch 152/1000\n",
      "3/3 - 0s - loss: 0.0211 - accuracy: 1.0000 - val_loss: 0.0949 - val_accuracy: 0.9667 - 19ms/epoch - 6ms/step\n",
      "Epoch 153/1000\n",
      "3/3 - 0s - loss: 0.0098 - accuracy: 1.0000 - val_loss: 0.0884 - val_accuracy: 0.9667 - 18ms/epoch - 6ms/step\n",
      "Epoch 154/1000\n",
      "3/3 - 0s - loss: 0.0206 - accuracy: 1.0000 - val_loss: 0.0731 - val_accuracy: 0.9667 - 18ms/epoch - 6ms/step\n",
      "Epoch 155/1000\n",
      "3/3 - 0s - loss: 0.0263 - accuracy: 0.9889 - val_loss: 0.0865 - val_accuracy: 0.9667 - 20ms/epoch - 7ms/step\n",
      "Epoch 156/1000\n",
      "3/3 - 0s - loss: 0.0160 - accuracy: 0.9889 - val_loss: 0.1514 - val_accuracy: 0.9333 - 19ms/epoch - 6ms/step\n",
      "Epoch 157/1000\n",
      "3/3 - 0s - loss: 0.0529 - accuracy: 0.9889 - val_loss: 0.2104 - val_accuracy: 0.9333 - 18ms/epoch - 6ms/step\n",
      "Epoch 158/1000\n",
      "3/3 - 0s - loss: 0.0054 - accuracy: 1.0000 - val_loss: 0.2363 - val_accuracy: 0.9000 - 19ms/epoch - 6ms/step\n",
      "Epoch 159/1000\n",
      "3/3 - 0s - loss: 0.0040 - accuracy: 1.0000 - val_loss: 0.2697 - val_accuracy: 0.8333 - 18ms/epoch - 6ms/step\n",
      "Epoch 160/1000\n",
      "3/3 - 0s - loss: 0.0175 - accuracy: 1.0000 - val_loss: 0.2969 - val_accuracy: 0.8333 - 19ms/epoch - 6ms/step\n",
      "Epoch 161/1000\n",
      "3/3 - 0s - loss: 0.0054 - accuracy: 1.0000 - val_loss: 0.3238 - val_accuracy: 0.8333 - 18ms/epoch - 6ms/step\n",
      "Epoch 162/1000\n",
      "3/3 - 0s - loss: 0.0630 - accuracy: 0.9889 - val_loss: 0.3262 - val_accuracy: 0.8333 - 19ms/epoch - 6ms/step\n",
      "Epoch 163/1000\n",
      "3/3 - 0s - loss: 0.0048 - accuracy: 1.0000 - val_loss: 0.3115 - val_accuracy: 0.8333 - 19ms/epoch - 6ms/step\n",
      "Epoch 164/1000\n",
      "3/3 - 0s - loss: 0.1191 - accuracy: 0.9667 - val_loss: 0.2793 - val_accuracy: 0.9000 - 19ms/epoch - 6ms/step\n",
      "Epoch 165/1000\n",
      "3/3 - 0s - loss: 0.0091 - accuracy: 1.0000 - val_loss: 0.2108 - val_accuracy: 0.9667 - 19ms/epoch - 6ms/step\n",
      "Epoch 166/1000\n",
      "3/3 - 0s - loss: 0.0245 - accuracy: 0.9889 - val_loss: 0.1770 - val_accuracy: 0.9333 - 19ms/epoch - 6ms/step\n",
      "Epoch 167/1000\n",
      "3/3 - 0s - loss: 0.1004 - accuracy: 0.9667 - val_loss: 0.1671 - val_accuracy: 0.9333 - 17ms/epoch - 6ms/step\n",
      "Epoch 168/1000\n",
      "3/3 - 0s - loss: 0.0239 - accuracy: 0.9889 - val_loss: 0.1534 - val_accuracy: 0.9333 - 18ms/epoch - 6ms/step\n",
      "Epoch 169/1000\n",
      "3/3 - 0s - loss: 0.0257 - accuracy: 0.9889 - val_loss: 0.1432 - val_accuracy: 0.9667 - 17ms/epoch - 6ms/step\n",
      "Epoch 170/1000\n",
      "3/3 - 0s - loss: 0.0205 - accuracy: 1.0000 - val_loss: 0.1452 - val_accuracy: 0.9667 - 18ms/epoch - 6ms/step\n",
      "Epoch 171/1000\n",
      "3/3 - 0s - loss: 0.0195 - accuracy: 1.0000 - val_loss: 0.1401 - val_accuracy: 0.9667 - 18ms/epoch - 6ms/step\n",
      "Epoch 172/1000\n",
      "3/3 - 0s - loss: 0.0120 - accuracy: 1.0000 - val_loss: 0.1354 - val_accuracy: 0.9667 - 19ms/epoch - 6ms/step\n",
      "Epoch 173/1000\n",
      "3/3 - 0s - loss: 0.0249 - accuracy: 0.9889 - val_loss: 0.1295 - val_accuracy: 0.9667 - 18ms/epoch - 6ms/step\n",
      "Epoch 174/1000\n",
      "3/3 - 0s - loss: 0.0109 - accuracy: 1.0000 - val_loss: 0.1195 - val_accuracy: 0.9667 - 17ms/epoch - 6ms/step\n",
      "Epoch 175/1000\n",
      "3/3 - 0s - loss: 0.0617 - accuracy: 0.9778 - val_loss: 0.1135 - val_accuracy: 0.9667 - 18ms/epoch - 6ms/step\n",
      "Epoch 176/1000\n",
      "3/3 - 0s - loss: 0.0441 - accuracy: 0.9778 - val_loss: 0.1154 - val_accuracy: 0.9333 - 17ms/epoch - 6ms/step\n",
      "Epoch 177/1000\n",
      "3/3 - 0s - loss: 0.0091 - accuracy: 1.0000 - val_loss: 0.1241 - val_accuracy: 0.9000 - 20ms/epoch - 7ms/step\n",
      "Epoch 178/1000\n",
      "3/3 - 0s - loss: 0.0432 - accuracy: 0.9889 - val_loss: 0.1305 - val_accuracy: 0.9000 - 20ms/epoch - 7ms/step\n",
      "Epoch 179/1000\n",
      "3/3 - 0s - loss: 0.0133 - accuracy: 1.0000 - val_loss: 0.1441 - val_accuracy: 0.9000 - 20ms/epoch - 7ms/step\n",
      "Epoch 180/1000\n",
      "3/3 - 0s - loss: 0.0216 - accuracy: 0.9889 - val_loss: 0.1485 - val_accuracy: 0.9000 - 20ms/epoch - 7ms/step\n",
      "Epoch 181/1000\n",
      "3/3 - 0s - loss: 0.0239 - accuracy: 0.9889 - val_loss: 0.1473 - val_accuracy: 0.9000 - 20ms/epoch - 7ms/step\n",
      "Epoch 182/1000\n",
      "3/3 - 0s - loss: 0.0221 - accuracy: 0.9889 - val_loss: 0.1397 - val_accuracy: 0.9333 - 18ms/epoch - 6ms/step\n",
      "Epoch 183/1000\n",
      "3/3 - 0s - loss: 0.0075 - accuracy: 1.0000 - val_loss: 0.1299 - val_accuracy: 0.9333 - 19ms/epoch - 6ms/step\n",
      "Epoch 184/1000\n",
      "3/3 - 0s - loss: 0.0243 - accuracy: 0.9889 - val_loss: 0.1267 - val_accuracy: 0.9333 - 19ms/epoch - 6ms/step\n",
      "Epoch 185/1000\n",
      "3/3 - 0s - loss: 0.0065 - accuracy: 1.0000 - val_loss: 0.1315 - val_accuracy: 0.9333 - 19ms/epoch - 6ms/step\n",
      "Epoch 186/1000\n",
      "3/3 - 0s - loss: 0.0075 - accuracy: 1.0000 - val_loss: 0.1292 - val_accuracy: 0.9333 - 20ms/epoch - 7ms/step\n",
      "Epoch 187/1000\n",
      "3/3 - 0s - loss: 0.0363 - accuracy: 0.9778 - val_loss: 0.1309 - val_accuracy: 0.9333 - 20ms/epoch - 7ms/step\n",
      "Epoch 188/1000\n",
      "3/3 - 0s - loss: 0.0044 - accuracy: 1.0000 - val_loss: 0.1470 - val_accuracy: 0.9333 - 19ms/epoch - 6ms/step\n",
      "Epoch 189/1000\n",
      "3/3 - 0s - loss: 0.0044 - accuracy: 1.0000 - val_loss: 0.1760 - val_accuracy: 0.9667 - 20ms/epoch - 7ms/step\n",
      "Epoch 190/1000\n",
      "3/3 - 0s - loss: 0.0062 - accuracy: 1.0000 - val_loss: 0.2123 - val_accuracy: 0.9000 - 18ms/epoch - 6ms/step\n",
      "Epoch 191/1000\n",
      "3/3 - 0s - loss: 0.0122 - accuracy: 1.0000 - val_loss: 0.2286 - val_accuracy: 0.9000 - 18ms/epoch - 6ms/step\n",
      "Epoch 192/1000\n",
      "3/3 - 0s - loss: 0.0164 - accuracy: 1.0000 - val_loss: 0.2134 - val_accuracy: 0.9000 - 18ms/epoch - 6ms/step\n",
      "Epoch 193/1000\n",
      "3/3 - 0s - loss: 0.0473 - accuracy: 0.9889 - val_loss: 0.2565 - val_accuracy: 0.9000 - 20ms/epoch - 7ms/step\n",
      "Epoch 194/1000\n",
      "3/3 - 0s - loss: 0.0409 - accuracy: 0.9889 - val_loss: 0.4096 - val_accuracy: 0.8333 - 18ms/epoch - 6ms/step\n",
      "Epoch 195/1000\n",
      "3/3 - 0s - loss: 0.0076 - accuracy: 1.0000 - val_loss: 0.4865 - val_accuracy: 0.8333 - 20ms/epoch - 7ms/step\n",
      "Epoch 196/1000\n",
      "3/3 - 0s - loss: 0.0074 - accuracy: 1.0000 - val_loss: 0.5083 - val_accuracy: 0.8333 - 19ms/epoch - 6ms/step\n",
      "Epoch 197/1000\n",
      "3/3 - 0s - loss: 0.0232 - accuracy: 0.9778 - val_loss: 0.4386 - val_accuracy: 0.8333 - 19ms/epoch - 6ms/step\n",
      "Epoch 198/1000\n",
      "3/3 - 0s - loss: 0.0364 - accuracy: 0.9889 - val_loss: 0.3301 - val_accuracy: 0.8667 - 21ms/epoch - 7ms/step\n",
      "Epoch 199/1000\n",
      "3/3 - 0s - loss: 0.0126 - accuracy: 1.0000 - val_loss: 0.1935 - val_accuracy: 0.9333 - 20ms/epoch - 7ms/step\n",
      "Epoch 200/1000\n",
      "3/3 - 0s - loss: 0.0189 - accuracy: 0.9889 - val_loss: 0.1258 - val_accuracy: 0.9667 - 19ms/epoch - 6ms/step\n",
      "Epoch 201/1000\n",
      "3/3 - 0s - loss: 0.0307 - accuracy: 0.9889 - val_loss: 0.1068 - val_accuracy: 0.9667 - 19ms/epoch - 6ms/step\n"
     ]
    },
    {
     "name": "stdout",
     "output_type": "stream",
     "text": [
      "Epoch 202/1000\n",
      "3/3 - 0s - loss: 0.0664 - accuracy: 0.9778 - val_loss: 0.0959 - val_accuracy: 0.9667 - 20ms/epoch - 7ms/step\n",
      "Epoch 203/1000\n",
      "3/3 - 0s - loss: 0.0211 - accuracy: 0.9889 - val_loss: 0.0670 - val_accuracy: 0.9333 - 19ms/epoch - 6ms/step\n",
      "Epoch 204/1000\n",
      "3/3 - 0s - loss: 0.0772 - accuracy: 0.9889 - val_loss: 0.0602 - val_accuracy: 0.9667 - 20ms/epoch - 7ms/step\n",
      "Epoch 205/1000\n",
      "3/3 - 0s - loss: 0.0373 - accuracy: 0.9889 - val_loss: 0.1135 - val_accuracy: 0.9333 - 19ms/epoch - 6ms/step\n",
      "Epoch 206/1000\n",
      "3/3 - 0s - loss: 0.0679 - accuracy: 0.9667 - val_loss: 0.2034 - val_accuracy: 0.8667 - 18ms/epoch - 6ms/step\n",
      "Epoch 207/1000\n",
      "3/3 - 0s - loss: 0.0605 - accuracy: 0.9778 - val_loss: 0.1728 - val_accuracy: 0.9333 - 19ms/epoch - 6ms/step\n",
      "Epoch 208/1000\n",
      "3/3 - 0s - loss: 0.0629 - accuracy: 0.9778 - val_loss: 0.2492 - val_accuracy: 0.9000 - 19ms/epoch - 6ms/step\n",
      "Epoch 209/1000\n",
      "3/3 - 0s - loss: 0.0629 - accuracy: 0.9889 - val_loss: 0.3356 - val_accuracy: 0.9000 - 18ms/epoch - 6ms/step\n",
      "Epoch 210/1000\n",
      "3/3 - 0s - loss: 0.0798 - accuracy: 0.9667 - val_loss: 0.3001 - val_accuracy: 0.9000 - 19ms/epoch - 6ms/step\n",
      "Epoch 211/1000\n",
      "3/3 - 0s - loss: 0.0315 - accuracy: 1.0000 - val_loss: 0.2102 - val_accuracy: 0.9000 - 18ms/epoch - 6ms/step\n",
      "Epoch 212/1000\n",
      "3/3 - 0s - loss: 0.0562 - accuracy: 0.9778 - val_loss: 0.1597 - val_accuracy: 0.9000 - 19ms/epoch - 6ms/step\n",
      "Epoch 213/1000\n",
      "3/3 - 0s - loss: 0.0480 - accuracy: 0.9778 - val_loss: 0.1511 - val_accuracy: 0.8667 - 20ms/epoch - 7ms/step\n",
      "Epoch 214/1000\n",
      "3/3 - 0s - loss: 0.0249 - accuracy: 1.0000 - val_loss: 0.1318 - val_accuracy: 0.9000 - 19ms/epoch - 6ms/step\n",
      "Epoch 215/1000\n",
      "3/3 - 0s - loss: 0.0627 - accuracy: 0.9889 - val_loss: 0.1141 - val_accuracy: 0.9000 - 18ms/epoch - 6ms/step\n",
      "Epoch 216/1000\n",
      "3/3 - 0s - loss: 0.0118 - accuracy: 1.0000 - val_loss: 0.0957 - val_accuracy: 0.9333 - 19ms/epoch - 6ms/step\n",
      "Epoch 217/1000\n",
      "3/3 - 0s - loss: 0.0241 - accuracy: 0.9889 - val_loss: 0.0788 - val_accuracy: 0.9667 - 20ms/epoch - 7ms/step\n",
      "Epoch 218/1000\n",
      "3/3 - 0s - loss: 0.0501 - accuracy: 0.9778 - val_loss: 0.0711 - val_accuracy: 0.9667 - 19ms/epoch - 6ms/step\n",
      "Epoch 219/1000\n",
      "3/3 - 0s - loss: 0.0122 - accuracy: 1.0000 - val_loss: 0.0718 - val_accuracy: 0.9667 - 19ms/epoch - 6ms/step\n",
      "Epoch 220/1000\n",
      "3/3 - 0s - loss: 0.0121 - accuracy: 1.0000 - val_loss: 0.0650 - val_accuracy: 0.9667 - 19ms/epoch - 6ms/step\n",
      "Epoch 221/1000\n",
      "3/3 - 0s - loss: 0.2578 - accuracy: 0.9444 - val_loss: 0.0537 - val_accuracy: 1.0000 - 19ms/epoch - 6ms/step\n",
      "Epoch 222/1000\n",
      "3/3 - 0s - loss: 0.0090 - accuracy: 1.0000 - val_loss: 0.0607 - val_accuracy: 1.0000 - 20ms/epoch - 7ms/step\n",
      "Epoch 223/1000\n",
      "3/3 - 0s - loss: 0.0324 - accuracy: 0.9889 - val_loss: 0.0680 - val_accuracy: 1.0000 - 19ms/epoch - 6ms/step\n",
      "Epoch 224/1000\n",
      "3/3 - 0s - loss: 0.0219 - accuracy: 1.0000 - val_loss: 0.0801 - val_accuracy: 0.9667 - 18ms/epoch - 6ms/step\n",
      "Epoch 225/1000\n",
      "3/3 - 0s - loss: 0.0526 - accuracy: 0.9889 - val_loss: 0.0708 - val_accuracy: 1.0000 - 18ms/epoch - 6ms/step\n",
      "Epoch 226/1000\n",
      "3/3 - 0s - loss: 0.0423 - accuracy: 0.9889 - val_loss: 0.0525 - val_accuracy: 1.0000 - 19ms/epoch - 6ms/step\n",
      "Epoch 227/1000\n",
      "3/3 - 0s - loss: 0.0302 - accuracy: 0.9889 - val_loss: 0.1357 - val_accuracy: 0.9000 - 19ms/epoch - 6ms/step\n",
      "Epoch 228/1000\n",
      "3/3 - 0s - loss: 0.0989 - accuracy: 0.9778 - val_loss: 0.3199 - val_accuracy: 0.8333 - 19ms/epoch - 6ms/step\n",
      "Epoch 229/1000\n",
      "3/3 - 0s - loss: 0.0164 - accuracy: 1.0000 - val_loss: 0.2843 - val_accuracy: 0.8333 - 18ms/epoch - 6ms/step\n",
      "Epoch 230/1000\n",
      "3/3 - 0s - loss: 0.0228 - accuracy: 0.9889 - val_loss: 0.2467 - val_accuracy: 0.8333 - 20ms/epoch - 7ms/step\n",
      "Epoch 231/1000\n",
      "3/3 - 0s - loss: 0.0142 - accuracy: 1.0000 - val_loss: 0.2272 - val_accuracy: 0.8667 - 20ms/epoch - 7ms/step\n",
      "Epoch 232/1000\n",
      "3/3 - 0s - loss: 0.0405 - accuracy: 0.9889 - val_loss: 0.1760 - val_accuracy: 0.9333 - 19ms/epoch - 6ms/step\n",
      "Epoch 233/1000\n",
      "3/3 - 0s - loss: 0.0230 - accuracy: 0.9889 - val_loss: 0.0847 - val_accuracy: 0.9667 - 19ms/epoch - 6ms/step\n",
      "Epoch 234/1000\n",
      "3/3 - 0s - loss: 0.0077 - accuracy: 1.0000 - val_loss: 0.0358 - val_accuracy: 1.0000 - 18ms/epoch - 6ms/step\n",
      "Epoch 235/1000\n",
      "3/3 - 0s - loss: 0.0320 - accuracy: 0.9889 - val_loss: 0.0260 - val_accuracy: 1.0000 - 18ms/epoch - 6ms/step\n",
      "Epoch 236/1000\n",
      "3/3 - 0s - loss: 0.0147 - accuracy: 1.0000 - val_loss: 0.0242 - val_accuracy: 1.0000 - 19ms/epoch - 6ms/step\n",
      "Epoch 237/1000\n",
      "3/3 - 0s - loss: 0.0276 - accuracy: 0.9889 - val_loss: 0.0228 - val_accuracy: 1.0000 - 19ms/epoch - 6ms/step\n",
      "Epoch 238/1000\n",
      "3/3 - 0s - loss: 0.0120 - accuracy: 1.0000 - val_loss: 0.0230 - val_accuracy: 1.0000 - 18ms/epoch - 6ms/step\n",
      "Epoch 239/1000\n",
      "3/3 - 0s - loss: 0.0057 - accuracy: 1.0000 - val_loss: 0.0282 - val_accuracy: 1.0000 - 18ms/epoch - 6ms/step\n",
      "Epoch 240/1000\n",
      "3/3 - 0s - loss: 0.0072 - accuracy: 1.0000 - val_loss: 0.0359 - val_accuracy: 1.0000 - 18ms/epoch - 6ms/step\n",
      "Epoch 241/1000\n",
      "3/3 - 0s - loss: 0.0048 - accuracy: 1.0000 - val_loss: 0.0386 - val_accuracy: 1.0000 - 18ms/epoch - 6ms/step\n",
      "Epoch 242/1000\n",
      "3/3 - 0s - loss: 0.0761 - accuracy: 0.9667 - val_loss: 0.0286 - val_accuracy: 1.0000 - 19ms/epoch - 6ms/step\n",
      "Epoch 243/1000\n",
      "3/3 - 0s - loss: 0.0122 - accuracy: 1.0000 - val_loss: 0.0685 - val_accuracy: 0.9667 - 20ms/epoch - 7ms/step\n",
      "Epoch 244/1000\n",
      "3/3 - 0s - loss: 0.0361 - accuracy: 0.9889 - val_loss: 0.1223 - val_accuracy: 0.9667 - 20ms/epoch - 7ms/step\n",
      "Epoch 245/1000\n",
      "3/3 - 0s - loss: 0.1061 - accuracy: 0.9667 - val_loss: 0.1026 - val_accuracy: 0.9667 - 20ms/epoch - 7ms/step\n",
      "Epoch 246/1000\n",
      "3/3 - 0s - loss: 0.0411 - accuracy: 0.9889 - val_loss: 0.0987 - val_accuracy: 1.0000 - 19ms/epoch - 6ms/step\n",
      "Epoch 247/1000\n",
      "3/3 - 0s - loss: 0.0547 - accuracy: 0.9778 - val_loss: 0.2488 - val_accuracy: 0.9000 - 19ms/epoch - 6ms/step\n",
      "Epoch 248/1000\n",
      "3/3 - 0s - loss: 0.0339 - accuracy: 0.9778 - val_loss: 0.3682 - val_accuracy: 0.8667 - 23ms/epoch - 8ms/step\n",
      "Epoch 249/1000\n",
      "3/3 - 0s - loss: 0.0139 - accuracy: 1.0000 - val_loss: 0.3688 - val_accuracy: 0.9000 - 19ms/epoch - 6ms/step\n",
      "Epoch 250/1000\n",
      "3/3 - 0s - loss: 0.0432 - accuracy: 0.9778 - val_loss: 0.3533 - val_accuracy: 0.9000 - 18ms/epoch - 6ms/step\n",
      "Epoch 251/1000\n",
      "3/3 - 0s - loss: 0.0341 - accuracy: 0.9889 - val_loss: 0.3436 - val_accuracy: 0.9000 - 22ms/epoch - 7ms/step\n",
      "Epoch 252/1000\n",
      "3/3 - 0s - loss: 0.0122 - accuracy: 1.0000 - val_loss: 0.3422 - val_accuracy: 0.9000 - 23ms/epoch - 8ms/step\n",
      "Epoch 253/1000\n",
      "3/3 - 0s - loss: 0.0132 - accuracy: 1.0000 - val_loss: 0.3225 - val_accuracy: 0.9000 - 24ms/epoch - 8ms/step\n",
      "Epoch 254/1000\n",
      "3/3 - 0s - loss: 0.0114 - accuracy: 1.0000 - val_loss: 0.2991 - val_accuracy: 0.9000 - 24ms/epoch - 8ms/step\n",
      "Epoch 255/1000\n",
      "3/3 - 0s - loss: 0.0139 - accuracy: 1.0000 - val_loss: 0.2611 - val_accuracy: 0.9000 - 25ms/epoch - 8ms/step\n",
      "Epoch 256/1000\n",
      "3/3 - 0s - loss: 0.0112 - accuracy: 1.0000 - val_loss: 0.2117 - val_accuracy: 0.9000 - 24ms/epoch - 8ms/step\n",
      "Epoch 257/1000\n",
      "3/3 - 0s - loss: 0.0186 - accuracy: 1.0000 - val_loss: 0.2009 - val_accuracy: 0.9000 - 26ms/epoch - 9ms/step\n",
      "Epoch 258/1000\n",
      "3/3 - 0s - loss: 0.0204 - accuracy: 0.9889 - val_loss: 0.2549 - val_accuracy: 0.9000 - 23ms/epoch - 8ms/step\n",
      "Epoch 259/1000\n",
      "3/3 - 0s - loss: 0.0028 - accuracy: 1.0000 - val_loss: 0.2964 - val_accuracy: 0.8667 - 25ms/epoch - 8ms/step\n",
      "Epoch 260/1000\n",
      "3/3 - 0s - loss: 0.0052 - accuracy: 1.0000 - val_loss: 0.3314 - val_accuracy: 0.8333 - 21ms/epoch - 7ms/step\n",
      "Epoch 261/1000\n",
      "3/3 - 0s - loss: 0.0030 - accuracy: 1.0000 - val_loss: 0.3550 - val_accuracy: 0.8333 - 18ms/epoch - 6ms/step\n",
      "Epoch 262/1000\n",
      "3/3 - 0s - loss: 0.0406 - accuracy: 0.9889 - val_loss: 0.2250 - val_accuracy: 0.8333 - 17ms/epoch - 6ms/step\n",
      "Epoch 263/1000\n",
      "3/3 - 0s - loss: 0.0400 - accuracy: 0.9889 - val_loss: 0.1130 - val_accuracy: 0.9333 - 18ms/epoch - 6ms/step\n",
      "Epoch 264/1000\n",
      "3/3 - 0s - loss: 0.1796 - accuracy: 0.9444 - val_loss: 0.1303 - val_accuracy: 0.9000 - 18ms/epoch - 6ms/step\n",
      "Epoch 265/1000\n",
      "3/3 - 0s - loss: 0.0098 - accuracy: 1.0000 - val_loss: 0.1029 - val_accuracy: 0.9333 - 18ms/epoch - 6ms/step\n",
      "Epoch 266/1000\n",
      "3/3 - 0s - loss: 0.0467 - accuracy: 0.9778 - val_loss: 0.1348 - val_accuracy: 0.9333 - 18ms/epoch - 6ms/step\n",
      "Epoch 267/1000\n",
      "3/3 - 0s - loss: 0.0445 - accuracy: 0.9778 - val_loss: 0.3089 - val_accuracy: 0.8333 - 19ms/epoch - 6ms/step\n",
      "Epoch 268/1000\n",
      "3/3 - 0s - loss: 0.0479 - accuracy: 0.9889 - val_loss: 0.6450 - val_accuracy: 0.8000 - 18ms/epoch - 6ms/step\n"
     ]
    },
    {
     "name": "stdout",
     "output_type": "stream",
     "text": [
      "Epoch 269/1000\n",
      "3/3 - 0s - loss: 0.0479 - accuracy: 0.9889 - val_loss: 0.3656 - val_accuracy: 0.8333 - 19ms/epoch - 6ms/step\n",
      "Epoch 270/1000\n",
      "3/3 - 0s - loss: 0.0143 - accuracy: 1.0000 - val_loss: 0.0906 - val_accuracy: 0.9667 - 20ms/epoch - 7ms/step\n",
      "Epoch 271/1000\n",
      "3/3 - 0s - loss: 0.0482 - accuracy: 0.9778 - val_loss: 0.0661 - val_accuracy: 1.0000 - 20ms/epoch - 7ms/step\n",
      "Epoch 272/1000\n",
      "3/3 - 0s - loss: 0.0215 - accuracy: 1.0000 - val_loss: 0.0680 - val_accuracy: 1.0000 - 19ms/epoch - 6ms/step\n",
      "Epoch 273/1000\n",
      "3/3 - 0s - loss: 0.0295 - accuracy: 0.9778 - val_loss: 0.0745 - val_accuracy: 0.9667 - 20ms/epoch - 7ms/step\n",
      "Epoch 274/1000\n",
      "3/3 - 0s - loss: 0.0774 - accuracy: 0.9778 - val_loss: 0.0757 - val_accuracy: 0.9333 - 19ms/epoch - 6ms/step\n",
      "Epoch 275/1000\n",
      "3/3 - 0s - loss: 0.0309 - accuracy: 0.9889 - val_loss: 0.1170 - val_accuracy: 0.9333 - 18ms/epoch - 6ms/step\n",
      "Epoch 276/1000\n",
      "3/3 - 0s - loss: 0.0191 - accuracy: 1.0000 - val_loss: 0.2932 - val_accuracy: 0.8667 - 20ms/epoch - 7ms/step\n",
      "Epoch 277/1000\n",
      "3/3 - 0s - loss: 0.0486 - accuracy: 0.9778 - val_loss: 0.3199 - val_accuracy: 0.8667 - 19ms/epoch - 6ms/step\n",
      "Epoch 278/1000\n",
      "3/3 - 0s - loss: 0.0649 - accuracy: 0.9778 - val_loss: 0.2022 - val_accuracy: 0.8667 - 19ms/epoch - 6ms/step\n",
      "Epoch 279/1000\n",
      "3/3 - 0s - loss: 0.0089 - accuracy: 1.0000 - val_loss: 0.0940 - val_accuracy: 0.9333 - 19ms/epoch - 6ms/step\n",
      "Epoch 280/1000\n",
      "3/3 - 0s - loss: 0.0131 - accuracy: 1.0000 - val_loss: 0.0840 - val_accuracy: 0.9333 - 19ms/epoch - 6ms/step\n",
      "Epoch 281/1000\n",
      "3/3 - 0s - loss: 0.0098 - accuracy: 1.0000 - val_loss: 0.0948 - val_accuracy: 0.9333 - 18ms/epoch - 6ms/step\n",
      "Epoch 282/1000\n",
      "3/3 - 0s - loss: 0.0711 - accuracy: 0.9778 - val_loss: 0.1149 - val_accuracy: 0.9667 - 19ms/epoch - 6ms/step\n",
      "Epoch 283/1000\n",
      "3/3 - 0s - loss: 0.0096 - accuracy: 1.0000 - val_loss: 0.1379 - val_accuracy: 0.9667 - 20ms/epoch - 7ms/step\n",
      "Epoch 284/1000\n",
      "3/3 - 0s - loss: 0.0114 - accuracy: 1.0000 - val_loss: 0.1639 - val_accuracy: 0.9667 - 19ms/epoch - 6ms/step\n",
      "Epoch 285/1000\n",
      "3/3 - 0s - loss: 0.0163 - accuracy: 0.9889 - val_loss: 0.1868 - val_accuracy: 0.9667 - 20ms/epoch - 7ms/step\n",
      "Epoch 286/1000\n",
      "3/3 - 0s - loss: 0.0168 - accuracy: 1.0000 - val_loss: 0.1982 - val_accuracy: 0.9667 - 19ms/epoch - 6ms/step\n",
      "Epoch 287/1000\n",
      "3/3 - 0s - loss: 0.0262 - accuracy: 0.9889 - val_loss: 0.1982 - val_accuracy: 0.9667 - 20ms/epoch - 7ms/step\n",
      "Epoch 288/1000\n",
      "3/3 - 0s - loss: 0.1334 - accuracy: 0.9556 - val_loss: 0.1828 - val_accuracy: 0.9333 - 18ms/epoch - 6ms/step\n",
      "Epoch 289/1000\n",
      "3/3 - 0s - loss: 0.0096 - accuracy: 1.0000 - val_loss: 0.1605 - val_accuracy: 0.9333 - 18ms/epoch - 6ms/step\n",
      "Epoch 290/1000\n",
      "3/3 - 0s - loss: 0.0180 - accuracy: 1.0000 - val_loss: 0.1633 - val_accuracy: 0.9333 - 17ms/epoch - 6ms/step\n",
      "Epoch 291/1000\n",
      "3/3 - 0s - loss: 0.0272 - accuracy: 0.9889 - val_loss: 0.1643 - val_accuracy: 0.9333 - 19ms/epoch - 6ms/step\n",
      "Epoch 292/1000\n",
      "3/3 - 0s - loss: 0.0148 - accuracy: 1.0000 - val_loss: 0.2212 - val_accuracy: 0.8667 - 18ms/epoch - 6ms/step\n",
      "Epoch 293/1000\n",
      "3/3 - 0s - loss: 0.0281 - accuracy: 1.0000 - val_loss: 0.1996 - val_accuracy: 0.9000 - 19ms/epoch - 6ms/step\n",
      "Epoch 294/1000\n",
      "3/3 - 0s - loss: 0.1258 - accuracy: 0.9556 - val_loss: 0.1602 - val_accuracy: 0.9333 - 19ms/epoch - 6ms/step\n",
      "Epoch 295/1000\n",
      "3/3 - 0s - loss: 0.0114 - accuracy: 1.0000 - val_loss: 0.1664 - val_accuracy: 0.9333 - 19ms/epoch - 6ms/step\n",
      "Epoch 296/1000\n",
      "3/3 - 0s - loss: 0.0086 - accuracy: 1.0000 - val_loss: 0.1691 - val_accuracy: 0.9333 - 19ms/epoch - 6ms/step\n",
      "Epoch 297/1000\n",
      "3/3 - 0s - loss: 0.0655 - accuracy: 0.9667 - val_loss: 0.1715 - val_accuracy: 0.9333 - 19ms/epoch - 6ms/step\n",
      "Epoch 298/1000\n",
      "3/3 - 0s - loss: 0.0637 - accuracy: 0.9778 - val_loss: 0.1733 - val_accuracy: 0.9333 - 19ms/epoch - 6ms/step\n",
      "Epoch 299/1000\n",
      "3/3 - 0s - loss: 0.0232 - accuracy: 1.0000 - val_loss: 0.1623 - val_accuracy: 0.9333 - 19ms/epoch - 6ms/step\n",
      "Epoch 300/1000\n",
      "3/3 - 0s - loss: 0.0186 - accuracy: 1.0000 - val_loss: 0.1541 - val_accuracy: 0.9333 - 19ms/epoch - 6ms/step\n",
      "Epoch 301/1000\n",
      "3/3 - 0s - loss: 0.0347 - accuracy: 0.9889 - val_loss: 0.1561 - val_accuracy: 0.9333 - 20ms/epoch - 7ms/step\n",
      "Epoch 302/1000\n",
      "3/3 - 0s - loss: 0.0146 - accuracy: 1.0000 - val_loss: 0.1441 - val_accuracy: 0.9333 - 19ms/epoch - 6ms/step\n",
      "Epoch 303/1000\n",
      "3/3 - 0s - loss: 0.0204 - accuracy: 0.9889 - val_loss: 0.1369 - val_accuracy: 0.9333 - 19ms/epoch - 6ms/step\n",
      "Epoch 304/1000\n",
      "3/3 - 0s - loss: 0.0524 - accuracy: 0.9778 - val_loss: 0.1322 - val_accuracy: 0.9333 - 19ms/epoch - 6ms/step\n",
      "Epoch 305/1000\n",
      "3/3 - 0s - loss: 0.0068 - accuracy: 1.0000 - val_loss: 0.1808 - val_accuracy: 0.9333 - 18ms/epoch - 6ms/step\n",
      "Epoch 306/1000\n",
      "3/3 - 0s - loss: 0.0107 - accuracy: 1.0000 - val_loss: 0.2555 - val_accuracy: 0.9000 - 19ms/epoch - 6ms/step\n",
      "Epoch 307/1000\n",
      "3/3 - 0s - loss: 0.0184 - accuracy: 1.0000 - val_loss: 0.3074 - val_accuracy: 0.9000 - 20ms/epoch - 7ms/step\n",
      "Epoch 308/1000\n",
      "3/3 - 0s - loss: 0.0162 - accuracy: 1.0000 - val_loss: 0.3211 - val_accuracy: 0.9333 - 19ms/epoch - 6ms/step\n",
      "Epoch 309/1000\n",
      "3/3 - 0s - loss: 0.0288 - accuracy: 0.9778 - val_loss: 0.2957 - val_accuracy: 0.9333 - 18ms/epoch - 6ms/step\n",
      "Epoch 310/1000\n",
      "3/3 - 0s - loss: 0.0485 - accuracy: 0.9778 - val_loss: 0.2494 - val_accuracy: 0.9333 - 19ms/epoch - 6ms/step\n",
      "Epoch 311/1000\n",
      "3/3 - 0s - loss: 0.0102 - accuracy: 1.0000 - val_loss: 0.2205 - val_accuracy: 0.9000 - 18ms/epoch - 6ms/step\n",
      "Epoch 312/1000\n",
      "3/3 - 0s - loss: 0.0309 - accuracy: 0.9889 - val_loss: 0.1863 - val_accuracy: 0.9000 - 18ms/epoch - 6ms/step\n",
      "Epoch 313/1000\n",
      "3/3 - 0s - loss: 0.0637 - accuracy: 0.9778 - val_loss: 0.1493 - val_accuracy: 0.9000 - 19ms/epoch - 6ms/step\n",
      "Epoch 314/1000\n",
      "3/3 - 0s - loss: 0.1058 - accuracy: 0.9556 - val_loss: 0.1423 - val_accuracy: 0.9000 - 19ms/epoch - 6ms/step\n",
      "Epoch 315/1000\n",
      "3/3 - 0s - loss: 0.0654 - accuracy: 0.9667 - val_loss: 0.1180 - val_accuracy: 0.9000 - 22ms/epoch - 7ms/step\n",
      "Epoch 316/1000\n",
      "3/3 - 0s - loss: 0.0159 - accuracy: 1.0000 - val_loss: 0.1069 - val_accuracy: 0.9333 - 19ms/epoch - 6ms/step\n",
      "Epoch 317/1000\n",
      "3/3 - 0s - loss: 0.0943 - accuracy: 0.9667 - val_loss: 0.1083 - val_accuracy: 0.9000 - 18ms/epoch - 6ms/step\n",
      "Epoch 318/1000\n",
      "3/3 - 0s - loss: 0.1811 - accuracy: 0.9444 - val_loss: 0.1010 - val_accuracy: 0.9333 - 19ms/epoch - 6ms/step\n",
      "Epoch 319/1000\n",
      "3/3 - 0s - loss: 0.0750 - accuracy: 0.9667 - val_loss: 0.0894 - val_accuracy: 0.9333 - 21ms/epoch - 7ms/step\n",
      "Epoch 320/1000\n",
      "3/3 - 0s - loss: 0.0186 - accuracy: 1.0000 - val_loss: 0.0927 - val_accuracy: 0.9333 - 19ms/epoch - 6ms/step\n",
      "Epoch 321/1000\n",
      "3/3 - 0s - loss: 0.1417 - accuracy: 0.9556 - val_loss: 0.1033 - val_accuracy: 0.9333 - 18ms/epoch - 6ms/step\n",
      "Epoch 322/1000\n",
      "3/3 - 0s - loss: 0.0220 - accuracy: 1.0000 - val_loss: 0.1075 - val_accuracy: 0.9333 - 18ms/epoch - 6ms/step\n",
      "Epoch 323/1000\n",
      "3/3 - 0s - loss: 0.0322 - accuracy: 0.9889 - val_loss: 0.1043 - val_accuracy: 0.9333 - 19ms/epoch - 6ms/step\n",
      "Epoch 324/1000\n",
      "3/3 - 0s - loss: 0.0235 - accuracy: 0.9889 - val_loss: 0.0899 - val_accuracy: 0.9667 - 19ms/epoch - 6ms/step\n",
      "Epoch 325/1000\n",
      "3/3 - 0s - loss: 0.0164 - accuracy: 1.0000 - val_loss: 0.0751 - val_accuracy: 0.9667 - 19ms/epoch - 6ms/step\n",
      "Epoch 326/1000\n",
      "3/3 - 0s - loss: 0.0463 - accuracy: 0.9778 - val_loss: 0.0687 - val_accuracy: 0.9667 - 19ms/epoch - 6ms/step\n",
      "Epoch 327/1000\n",
      "3/3 - 0s - loss: 0.0425 - accuracy: 0.9889 - val_loss: 0.0974 - val_accuracy: 0.9667 - 19ms/epoch - 6ms/step\n",
      "Epoch 328/1000\n",
      "3/3 - 0s - loss: 0.0326 - accuracy: 0.9889 - val_loss: 0.1906 - val_accuracy: 0.9000 - 18ms/epoch - 6ms/step\n",
      "Epoch 329/1000\n",
      "3/3 - 0s - loss: 0.0368 - accuracy: 0.9889 - val_loss: 0.2751 - val_accuracy: 0.9000 - 18ms/epoch - 6ms/step\n",
      "Epoch 330/1000\n",
      "3/3 - 0s - loss: 0.0464 - accuracy: 0.9778 - val_loss: 0.2984 - val_accuracy: 0.9000 - 19ms/epoch - 6ms/step\n",
      "Epoch 331/1000\n",
      "3/3 - 0s - loss: 0.1370 - accuracy: 0.9556 - val_loss: 0.2647 - val_accuracy: 0.9000 - 18ms/epoch - 6ms/step\n",
      "Epoch 332/1000\n",
      "3/3 - 0s - loss: 0.0687 - accuracy: 0.9556 - val_loss: 0.1784 - val_accuracy: 0.9000 - 20ms/epoch - 7ms/step\n",
      "Epoch 333/1000\n",
      "3/3 - 0s - loss: 0.0350 - accuracy: 0.9778 - val_loss: 0.0716 - val_accuracy: 0.9667 - 19ms/epoch - 6ms/step\n",
      "Epoch 334/1000\n",
      "3/3 - 0s - loss: 0.0441 - accuracy: 0.9778 - val_loss: 0.0278 - val_accuracy: 1.0000 - 20ms/epoch - 7ms/step\n",
      "Epoch 335/1000\n",
      "3/3 - 0s - loss: 0.0436 - accuracy: 0.9889 - val_loss: 0.0240 - val_accuracy: 1.0000 - 20ms/epoch - 7ms/step\n"
     ]
    },
    {
     "name": "stdout",
     "output_type": "stream",
     "text": [
      "Epoch 336/1000\n",
      "3/3 - 0s - loss: 0.0092 - accuracy: 1.0000 - val_loss: 0.0497 - val_accuracy: 1.0000 - 20ms/epoch - 7ms/step\n",
      "Epoch 337/1000\n",
      "3/3 - 0s - loss: 0.0274 - accuracy: 0.9889 - val_loss: 0.0856 - val_accuracy: 0.9333 - 20ms/epoch - 7ms/step\n",
      "Epoch 338/1000\n",
      "3/3 - 0s - loss: 0.0404 - accuracy: 0.9889 - val_loss: 0.1143 - val_accuracy: 0.9000 - 20ms/epoch - 7ms/step\n",
      "Epoch 339/1000\n",
      "3/3 - 0s - loss: 0.0328 - accuracy: 0.9889 - val_loss: 0.1359 - val_accuracy: 0.9000 - 19ms/epoch - 6ms/step\n",
      "Epoch 340/1000\n",
      "3/3 - 0s - loss: 0.0427 - accuracy: 0.9889 - val_loss: 0.1389 - val_accuracy: 0.9000 - 18ms/epoch - 6ms/step\n",
      "Epoch 341/1000\n",
      "3/3 - 0s - loss: 0.0217 - accuracy: 0.9889 - val_loss: 0.1202 - val_accuracy: 0.9000 - 19ms/epoch - 6ms/step\n",
      "Epoch 342/1000\n",
      "3/3 - 0s - loss: 0.0125 - accuracy: 1.0000 - val_loss: 0.0993 - val_accuracy: 0.9333 - 19ms/epoch - 6ms/step\n",
      "Epoch 343/1000\n",
      "3/3 - 0s - loss: 0.0130 - accuracy: 1.0000 - val_loss: 0.0760 - val_accuracy: 0.9333 - 19ms/epoch - 6ms/step\n",
      "Epoch 344/1000\n",
      "3/3 - 0s - loss: 0.0130 - accuracy: 1.0000 - val_loss: 0.0530 - val_accuracy: 1.0000 - 20ms/epoch - 7ms/step\n",
      "Epoch 345/1000\n",
      "3/3 - 0s - loss: 0.0129 - accuracy: 0.9889 - val_loss: 0.0374 - val_accuracy: 1.0000 - 19ms/epoch - 6ms/step\n",
      "Epoch 346/1000\n",
      "3/3 - 0s - loss: 0.0074 - accuracy: 1.0000 - val_loss: 0.0292 - val_accuracy: 1.0000 - 19ms/epoch - 6ms/step\n",
      "Epoch 347/1000\n",
      "3/3 - 0s - loss: 0.1178 - accuracy: 0.9556 - val_loss: 0.0350 - val_accuracy: 1.0000 - 19ms/epoch - 6ms/step\n",
      "Epoch 348/1000\n",
      "3/3 - 0s - loss: 0.0057 - accuracy: 1.0000 - val_loss: 0.1331 - val_accuracy: 0.9000 - 18ms/epoch - 6ms/step\n",
      "Epoch 349/1000\n",
      "3/3 - 0s - loss: 0.0101 - accuracy: 1.0000 - val_loss: 0.2554 - val_accuracy: 0.9000 - 19ms/epoch - 6ms/step\n",
      "Epoch 350/1000\n",
      "3/3 - 0s - loss: 0.0306 - accuracy: 0.9889 - val_loss: 0.3127 - val_accuracy: 0.9000 - 19ms/epoch - 6ms/step\n",
      "Epoch 351/1000\n",
      "3/3 - 0s - loss: 0.0450 - accuracy: 0.9889 - val_loss: 0.2919 - val_accuracy: 0.9000 - 20ms/epoch - 7ms/step\n",
      "Epoch 352/1000\n",
      "3/3 - 0s - loss: 0.1316 - accuracy: 0.9667 - val_loss: 0.2231 - val_accuracy: 0.9000 - 20ms/epoch - 7ms/step\n",
      "Epoch 353/1000\n",
      "3/3 - 0s - loss: 0.0346 - accuracy: 0.9889 - val_loss: 0.2439 - val_accuracy: 0.8667 - 19ms/epoch - 6ms/step\n",
      "Epoch 354/1000\n",
      "3/3 - 0s - loss: 0.0813 - accuracy: 0.9444 - val_loss: 0.1155 - val_accuracy: 0.9667 - 20ms/epoch - 7ms/step\n",
      "Epoch 355/1000\n",
      "3/3 - 0s - loss: 0.0189 - accuracy: 1.0000 - val_loss: 0.0486 - val_accuracy: 1.0000 - 20ms/epoch - 7ms/step\n",
      "Epoch 356/1000\n",
      "3/3 - 0s - loss: 0.0067 - accuracy: 1.0000 - val_loss: 0.0376 - val_accuracy: 1.0000 - 21ms/epoch - 7ms/step\n",
      "Epoch 357/1000\n",
      "3/3 - 0s - loss: 0.0123 - accuracy: 1.0000 - val_loss: 0.0446 - val_accuracy: 0.9667 - 22ms/epoch - 7ms/step\n",
      "Epoch 358/1000\n",
      "3/3 - 0s - loss: 0.0084 - accuracy: 1.0000 - val_loss: 0.0492 - val_accuracy: 0.9667 - 20ms/epoch - 7ms/step\n",
      "Epoch 359/1000\n",
      "3/3 - 0s - loss: 0.0174 - accuracy: 0.9889 - val_loss: 0.0456 - val_accuracy: 0.9667 - 20ms/epoch - 7ms/step\n",
      "Epoch 360/1000\n",
      "3/3 - 0s - loss: 0.0252 - accuracy: 0.9778 - val_loss: 0.0314 - val_accuracy: 1.0000 - 18ms/epoch - 6ms/step\n",
      "Epoch 361/1000\n",
      "3/3 - 0s - loss: 0.0033 - accuracy: 1.0000 - val_loss: 0.0294 - val_accuracy: 1.0000 - 18ms/epoch - 6ms/step\n",
      "Epoch 362/1000\n",
      "3/3 - 0s - loss: 0.0139 - accuracy: 1.0000 - val_loss: 0.0395 - val_accuracy: 1.0000 - 20ms/epoch - 7ms/step\n",
      "Epoch 363/1000\n",
      "3/3 - 0s - loss: 0.0060 - accuracy: 1.0000 - val_loss: 0.0515 - val_accuracy: 0.9667 - 21ms/epoch - 7ms/step\n",
      "Epoch 364/1000\n",
      "3/3 - 0s - loss: 0.0062 - accuracy: 1.0000 - val_loss: 0.0562 - val_accuracy: 0.9667 - 19ms/epoch - 6ms/step\n",
      "Epoch 365/1000\n",
      "3/3 - 0s - loss: 0.0186 - accuracy: 0.9889 - val_loss: 0.0508 - val_accuracy: 0.9667 - 19ms/epoch - 6ms/step\n",
      "Epoch 366/1000\n",
      "3/3 - 0s - loss: 0.0078 - accuracy: 1.0000 - val_loss: 0.0479 - val_accuracy: 0.9667 - 20ms/epoch - 7ms/step\n",
      "Epoch 367/1000\n",
      "3/3 - 0s - loss: 0.0038 - accuracy: 1.0000 - val_loss: 0.0459 - val_accuracy: 0.9667 - 20ms/epoch - 7ms/step\n",
      "Epoch 368/1000\n",
      "3/3 - 0s - loss: 0.0053 - accuracy: 1.0000 - val_loss: 0.0435 - val_accuracy: 0.9667 - 19ms/epoch - 6ms/step\n",
      "Epoch 369/1000\n",
      "3/3 - 0s - loss: 0.0025 - accuracy: 1.0000 - val_loss: 0.0409 - val_accuracy: 0.9667 - 20ms/epoch - 7ms/step\n",
      "Epoch 370/1000\n",
      "3/3 - 0s - loss: 0.0189 - accuracy: 0.9889 - val_loss: 0.0355 - val_accuracy: 1.0000 - 20ms/epoch - 7ms/step\n",
      "Epoch 371/1000\n",
      "3/3 - 0s - loss: 0.0594 - accuracy: 0.9778 - val_loss: 0.0422 - val_accuracy: 0.9667 - 18ms/epoch - 6ms/step\n",
      "Epoch 372/1000\n",
      "3/3 - 0s - loss: 0.0095 - accuracy: 1.0000 - val_loss: 0.1238 - val_accuracy: 0.9333 - 19ms/epoch - 6ms/step\n",
      "Epoch 373/1000\n",
      "3/3 - 0s - loss: 0.0409 - accuracy: 0.9889 - val_loss: 0.1756 - val_accuracy: 0.9333 - 19ms/epoch - 6ms/step\n",
      "Epoch 374/1000\n",
      "3/3 - 0s - loss: 0.0203 - accuracy: 0.9889 - val_loss: 0.1818 - val_accuracy: 0.9333 - 19ms/epoch - 6ms/step\n",
      "Epoch 375/1000\n",
      "3/3 - 0s - loss: 0.0492 - accuracy: 0.9667 - val_loss: 0.1613 - val_accuracy: 0.9333 - 19ms/epoch - 6ms/step\n",
      "Epoch 376/1000\n",
      "3/3 - 0s - loss: 0.0214 - accuracy: 1.0000 - val_loss: 0.1315 - val_accuracy: 0.9333 - 20ms/epoch - 7ms/step\n",
      "Epoch 377/1000\n",
      "3/3 - 0s - loss: 0.0234 - accuracy: 0.9889 - val_loss: 0.1024 - val_accuracy: 0.9667 - 19ms/epoch - 6ms/step\n",
      "Epoch 378/1000\n",
      "3/3 - 0s - loss: 0.0130 - accuracy: 1.0000 - val_loss: 0.0824 - val_accuracy: 0.9667 - 19ms/epoch - 6ms/step\n",
      "Epoch 379/1000\n",
      "3/3 - 0s - loss: 0.0322 - accuracy: 0.9778 - val_loss: 0.0859 - val_accuracy: 0.9333 - 20ms/epoch - 7ms/step\n",
      "Epoch 380/1000\n",
      "3/3 - 0s - loss: 0.0089 - accuracy: 1.0000 - val_loss: 0.1153 - val_accuracy: 0.9333 - 20ms/epoch - 7ms/step\n",
      "Epoch 381/1000\n",
      "3/3 - 0s - loss: 0.0298 - accuracy: 0.9778 - val_loss: 0.1306 - val_accuracy: 0.9333 - 20ms/epoch - 7ms/step\n",
      "Epoch 382/1000\n",
      "3/3 - 0s - loss: 0.0157 - accuracy: 1.0000 - val_loss: 0.1176 - val_accuracy: 0.9667 - 20ms/epoch - 7ms/step\n",
      "Epoch 383/1000\n",
      "3/3 - 0s - loss: 0.0099 - accuracy: 1.0000 - val_loss: 0.0873 - val_accuracy: 0.9667 - 20ms/epoch - 7ms/step\n",
      "Epoch 384/1000\n",
      "3/3 - 0s - loss: 0.0203 - accuracy: 0.9889 - val_loss: 0.0710 - val_accuracy: 0.9667 - 19ms/epoch - 6ms/step\n",
      "Epoch 385/1000\n",
      "3/3 - 0s - loss: 0.0286 - accuracy: 0.9889 - val_loss: 0.0472 - val_accuracy: 0.9667 - 20ms/epoch - 7ms/step\n",
      "Epoch 386/1000\n",
      "3/3 - 0s - loss: 0.0099 - accuracy: 1.0000 - val_loss: 0.0546 - val_accuracy: 0.9667 - 19ms/epoch - 6ms/step\n",
      "Epoch 387/1000\n",
      "3/3 - 0s - loss: 0.0188 - accuracy: 0.9889 - val_loss: 0.0611 - val_accuracy: 0.9667 - 18ms/epoch - 6ms/step\n",
      "Epoch 388/1000\n",
      "3/3 - 0s - loss: 0.0189 - accuracy: 0.9889 - val_loss: 0.0664 - val_accuracy: 0.9667 - 19ms/epoch - 6ms/step\n",
      "Epoch 389/1000\n",
      "3/3 - 0s - loss: 0.0350 - accuracy: 0.9778 - val_loss: 0.0809 - val_accuracy: 0.9333 - 19ms/epoch - 6ms/step\n",
      "Epoch 390/1000\n",
      "3/3 - 0s - loss: 0.0335 - accuracy: 0.9778 - val_loss: 0.1348 - val_accuracy: 0.9333 - 20ms/epoch - 7ms/step\n",
      "Epoch 391/1000\n",
      "3/3 - 0s - loss: 0.0146 - accuracy: 1.0000 - val_loss: 0.2155 - val_accuracy: 0.9000 - 20ms/epoch - 7ms/step\n",
      "Epoch 392/1000\n",
      "3/3 - 0s - loss: 0.0121 - accuracy: 1.0000 - val_loss: 0.3091 - val_accuracy: 0.8667 - 19ms/epoch - 6ms/step\n",
      "Epoch 393/1000\n",
      "3/3 - 0s - loss: 0.0426 - accuracy: 0.9889 - val_loss: 0.3679 - val_accuracy: 0.8667 - 19ms/epoch - 6ms/step\n",
      "Epoch 394/1000\n",
      "3/3 - 0s - loss: 0.0873 - accuracy: 0.9778 - val_loss: 0.3112 - val_accuracy: 0.8667 - 20ms/epoch - 7ms/step\n",
      "Epoch 395/1000\n",
      "3/3 - 0s - loss: 0.0394 - accuracy: 0.9889 - val_loss: 0.2196 - val_accuracy: 0.9000 - 20ms/epoch - 7ms/step\n",
      "Epoch 396/1000\n",
      "3/3 - 0s - loss: 0.0968 - accuracy: 0.9667 - val_loss: 0.1275 - val_accuracy: 0.9667 - 19ms/epoch - 6ms/step\n",
      "Epoch 397/1000\n",
      "3/3 - 0s - loss: 0.0076 - accuracy: 1.0000 - val_loss: 0.0767 - val_accuracy: 0.9667 - 21ms/epoch - 7ms/step\n",
      "Epoch 398/1000\n",
      "3/3 - 0s - loss: 0.0097 - accuracy: 1.0000 - val_loss: 0.0540 - val_accuracy: 0.9667 - 20ms/epoch - 7ms/step\n",
      "Epoch 399/1000\n",
      "3/3 - 0s - loss: 0.0041 - accuracy: 1.0000 - val_loss: 0.0445 - val_accuracy: 0.9667 - 20ms/epoch - 7ms/step\n",
      "Epoch 400/1000\n",
      "3/3 - 0s - loss: 0.0084 - accuracy: 1.0000 - val_loss: 0.0360 - val_accuracy: 0.9667 - 18ms/epoch - 6ms/step\n",
      "Epoch 401/1000\n",
      "3/3 - 0s - loss: 0.0121 - accuracy: 1.0000 - val_loss: 0.0307 - val_accuracy: 1.0000 - 19ms/epoch - 6ms/step\n",
      "Epoch 402/1000\n",
      "3/3 - 0s - loss: 0.0030 - accuracy: 1.0000 - val_loss: 0.0277 - val_accuracy: 1.0000 - 19ms/epoch - 6ms/step\n"
     ]
    },
    {
     "name": "stdout",
     "output_type": "stream",
     "text": [
      "Epoch 403/1000\n",
      "3/3 - 0s - loss: 0.0141 - accuracy: 0.9889 - val_loss: 0.0234 - val_accuracy: 1.0000 - 19ms/epoch - 6ms/step\n",
      "Epoch 404/1000\n",
      "3/3 - 0s - loss: 0.0223 - accuracy: 0.9889 - val_loss: 0.0165 - val_accuracy: 1.0000 - 19ms/epoch - 6ms/step\n",
      "Epoch 405/1000\n",
      "3/3 - 0s - loss: 0.0091 - accuracy: 1.0000 - val_loss: 0.0147 - val_accuracy: 1.0000 - 19ms/epoch - 6ms/step\n",
      "Epoch 406/1000\n",
      "3/3 - 0s - loss: 0.0058 - accuracy: 1.0000 - val_loss: 0.0151 - val_accuracy: 1.0000 - 19ms/epoch - 6ms/step\n",
      "Epoch 407/1000\n",
      "3/3 - 0s - loss: 0.0064 - accuracy: 1.0000 - val_loss: 0.0152 - val_accuracy: 1.0000 - 19ms/epoch - 6ms/step\n",
      "Epoch 408/1000\n",
      "3/3 - 0s - loss: 0.0061 - accuracy: 1.0000 - val_loss: 0.0160 - val_accuracy: 1.0000 - 20ms/epoch - 7ms/step\n",
      "Epoch 409/1000\n",
      "3/3 - 0s - loss: 0.0450 - accuracy: 0.9778 - val_loss: 0.0175 - val_accuracy: 1.0000 - 20ms/epoch - 7ms/step\n",
      "Epoch 410/1000\n",
      "3/3 - 0s - loss: 0.0265 - accuracy: 0.9889 - val_loss: 0.0242 - val_accuracy: 1.0000 - 19ms/epoch - 6ms/step\n",
      "Epoch 411/1000\n",
      "3/3 - 0s - loss: 0.0484 - accuracy: 0.9778 - val_loss: 0.0604 - val_accuracy: 0.9667 - 20ms/epoch - 7ms/step\n",
      "Epoch 412/1000\n",
      "3/3 - 0s - loss: 0.0086 - accuracy: 1.0000 - val_loss: 0.0913 - val_accuracy: 0.9667 - 21ms/epoch - 7ms/step\n",
      "Epoch 413/1000\n",
      "3/3 - 0s - loss: 0.1209 - accuracy: 0.9667 - val_loss: 0.0999 - val_accuracy: 0.9667 - 20ms/epoch - 7ms/step\n",
      "Epoch 414/1000\n",
      "3/3 - 0s - loss: 0.0522 - accuracy: 0.9778 - val_loss: 0.1087 - val_accuracy: 0.9667 - 19ms/epoch - 6ms/step\n",
      "Epoch 415/1000\n",
      "3/3 - 0s - loss: 0.2016 - accuracy: 0.9556 - val_loss: 0.1194 - val_accuracy: 0.9333 - 21ms/epoch - 7ms/step\n",
      "Epoch 416/1000\n",
      "3/3 - 0s - loss: 0.0084 - accuracy: 1.0000 - val_loss: 0.1136 - val_accuracy: 0.9333 - 21ms/epoch - 7ms/step\n",
      "Epoch 417/1000\n",
      "3/3 - 0s - loss: 0.0087 - accuracy: 1.0000 - val_loss: 0.1201 - val_accuracy: 0.9667 - 18ms/epoch - 6ms/step\n",
      "Epoch 418/1000\n",
      "3/3 - 0s - loss: 0.0108 - accuracy: 1.0000 - val_loss: 0.1377 - val_accuracy: 0.9667 - 18ms/epoch - 6ms/step\n",
      "Epoch 419/1000\n",
      "3/3 - 0s - loss: 0.0264 - accuracy: 0.9889 - val_loss: 0.2271 - val_accuracy: 0.8667 - 18ms/epoch - 6ms/step\n",
      "Epoch 420/1000\n",
      "3/3 - 0s - loss: 0.0214 - accuracy: 1.0000 - val_loss: 0.5018 - val_accuracy: 0.8667 - 20ms/epoch - 7ms/step\n",
      "Epoch 421/1000\n",
      "3/3 - 0s - loss: 0.0150 - accuracy: 1.0000 - val_loss: 0.7615 - val_accuracy: 0.8333 - 19ms/epoch - 6ms/step\n",
      "Epoch 422/1000\n",
      "3/3 - 0s - loss: 0.0119 - accuracy: 1.0000 - val_loss: 0.9032 - val_accuracy: 0.8000 - 19ms/epoch - 6ms/step\n",
      "Epoch 423/1000\n",
      "3/3 - 0s - loss: 0.0400 - accuracy: 0.9889 - val_loss: 0.8819 - val_accuracy: 0.8000 - 18ms/epoch - 6ms/step\n",
      "Epoch 424/1000\n",
      "3/3 - 0s - loss: 0.0106 - accuracy: 1.0000 - val_loss: 0.7905 - val_accuracy: 0.8333 - 20ms/epoch - 7ms/step\n",
      "Epoch 425/1000\n",
      "3/3 - 0s - loss: 0.0106 - accuracy: 1.0000 - val_loss: 0.6401 - val_accuracy: 0.8667 - 20ms/epoch - 7ms/step\n",
      "Epoch 426/1000\n",
      "3/3 - 0s - loss: 0.0049 - accuracy: 1.0000 - val_loss: 0.5144 - val_accuracy: 0.8667 - 19ms/epoch - 6ms/step\n",
      "Epoch 427/1000\n",
      "3/3 - 0s - loss: 0.0065 - accuracy: 1.0000 - val_loss: 0.4160 - val_accuracy: 0.8667 - 20ms/epoch - 7ms/step\n",
      "Epoch 428/1000\n",
      "3/3 - 0s - loss: 0.0325 - accuracy: 0.9889 - val_loss: 0.3017 - val_accuracy: 0.9000 - 20ms/epoch - 7ms/step\n",
      "Epoch 429/1000\n",
      "3/3 - 0s - loss: 0.0063 - accuracy: 1.0000 - val_loss: 0.1982 - val_accuracy: 0.9333 - 20ms/epoch - 7ms/step\n",
      "Epoch 430/1000\n",
      "3/3 - 0s - loss: 0.0272 - accuracy: 0.9889 - val_loss: 0.2043 - val_accuracy: 0.9000 - 20ms/epoch - 7ms/step\n",
      "Epoch 431/1000\n",
      "3/3 - 0s - loss: 0.0099 - accuracy: 1.0000 - val_loss: 0.2725 - val_accuracy: 0.9000 - 20ms/epoch - 7ms/step\n",
      "Epoch 432/1000\n",
      "3/3 - 0s - loss: 0.0056 - accuracy: 1.0000 - val_loss: 0.3310 - val_accuracy: 0.8333 - 20ms/epoch - 7ms/step\n",
      "Epoch 433/1000\n",
      "3/3 - 0s - loss: 0.0162 - accuracy: 1.0000 - val_loss: 0.3909 - val_accuracy: 0.8333 - 19ms/epoch - 6ms/step\n",
      "Epoch 434/1000\n",
      "3/3 - 0s - loss: 0.0483 - accuracy: 0.9778 - val_loss: 0.4599 - val_accuracy: 0.8333 - 18ms/epoch - 6ms/step\n",
      "Epoch 435/1000\n",
      "3/3 - 0s - loss: 0.0584 - accuracy: 0.9778 - val_loss: 0.4711 - val_accuracy: 0.8667 - 18ms/epoch - 6ms/step\n",
      "Epoch 436/1000\n",
      "3/3 - 0s - loss: 0.0042 - accuracy: 1.0000 - val_loss: 0.3440 - val_accuracy: 0.9000 - 19ms/epoch - 6ms/step\n",
      "Epoch 437/1000\n",
      "3/3 - 0s - loss: 0.0059 - accuracy: 1.0000 - val_loss: 0.2649 - val_accuracy: 0.9000 - 19ms/epoch - 6ms/step\n",
      "Epoch 438/1000\n",
      "3/3 - 0s - loss: 0.0141 - accuracy: 0.9889 - val_loss: 0.2093 - val_accuracy: 0.9000 - 20ms/epoch - 7ms/step\n",
      "Epoch 439/1000\n",
      "3/3 - 0s - loss: 0.0618 - accuracy: 0.9778 - val_loss: 0.0893 - val_accuracy: 0.9333 - 18ms/epoch - 6ms/step\n",
      "Epoch 440/1000\n",
      "3/3 - 0s - loss: 0.0301 - accuracy: 0.9778 - val_loss: 0.1363 - val_accuracy: 0.9333 - 19ms/epoch - 6ms/step\n",
      "Epoch 441/1000\n",
      "3/3 - 0s - loss: 0.0422 - accuracy: 0.9778 - val_loss: 0.2476 - val_accuracy: 0.9333 - 19ms/epoch - 6ms/step\n",
      "Epoch 442/1000\n",
      "3/3 - 0s - loss: 0.0706 - accuracy: 0.9667 - val_loss: 0.2238 - val_accuracy: 0.9333 - 19ms/epoch - 6ms/step\n",
      "Epoch 443/1000\n",
      "3/3 - 0s - loss: 0.0584 - accuracy: 0.9778 - val_loss: 0.1464 - val_accuracy: 0.9333 - 21ms/epoch - 7ms/step\n",
      "Epoch 444/1000\n",
      "3/3 - 0s - loss: 0.0589 - accuracy: 0.9778 - val_loss: 0.0973 - val_accuracy: 0.9333 - 19ms/epoch - 6ms/step\n",
      "Epoch 445/1000\n",
      "3/3 - 0s - loss: 0.0280 - accuracy: 0.9889 - val_loss: 0.0992 - val_accuracy: 0.9333 - 20ms/epoch - 7ms/step\n",
      "Epoch 446/1000\n",
      "3/3 - 0s - loss: 0.0344 - accuracy: 0.9889 - val_loss: 0.1606 - val_accuracy: 0.9667 - 19ms/epoch - 6ms/step\n",
      "Epoch 447/1000\n",
      "3/3 - 0s - loss: 0.0678 - accuracy: 0.9778 - val_loss: 0.2943 - val_accuracy: 0.8667 - 19ms/epoch - 6ms/step\n",
      "Epoch 448/1000\n",
      "3/3 - 0s - loss: 0.0275 - accuracy: 0.9889 - val_loss: 0.3834 - val_accuracy: 0.8667 - 20ms/epoch - 7ms/step\n",
      "Epoch 449/1000\n",
      "3/3 - 0s - loss: 0.0086 - accuracy: 1.0000 - val_loss: 0.3941 - val_accuracy: 0.8667 - 21ms/epoch - 7ms/step\n",
      "Epoch 450/1000\n",
      "3/3 - 0s - loss: 0.0078 - accuracy: 1.0000 - val_loss: 0.3707 - val_accuracy: 0.8667 - 19ms/epoch - 6ms/step\n",
      "Epoch 451/1000\n",
      "3/3 - 0s - loss: 0.0068 - accuracy: 1.0000 - val_loss: 0.3740 - val_accuracy: 0.8667 - 19ms/epoch - 6ms/step\n",
      "Epoch 452/1000\n",
      "3/3 - 0s - loss: 0.0083 - accuracy: 1.0000 - val_loss: 0.3709 - val_accuracy: 0.8667 - 19ms/epoch - 6ms/step\n",
      "Epoch 453/1000\n",
      "3/3 - 0s - loss: 0.0332 - accuracy: 0.9889 - val_loss: 0.3642 - val_accuracy: 0.8667 - 19ms/epoch - 6ms/step\n",
      "Epoch 454/1000\n",
      "3/3 - 0s - loss: 0.0218 - accuracy: 0.9889 - val_loss: 0.4467 - val_accuracy: 0.8000 - 19ms/epoch - 6ms/step\n",
      "Epoch 455/1000\n",
      "3/3 - 0s - loss: 0.0103 - accuracy: 1.0000 - val_loss: 0.8576 - val_accuracy: 0.7000 - 19ms/epoch - 6ms/step\n",
      "Epoch 456/1000\n",
      "3/3 - 0s - loss: 0.0241 - accuracy: 0.9889 - val_loss: 1.2342 - val_accuracy: 0.7000 - 19ms/epoch - 6ms/step\n",
      "Epoch 457/1000\n",
      "3/3 - 0s - loss: 0.0357 - accuracy: 0.9889 - val_loss: 0.9781 - val_accuracy: 0.7333 - 19ms/epoch - 6ms/step\n",
      "Epoch 458/1000\n",
      "3/3 - 0s - loss: 0.0163 - accuracy: 1.0000 - val_loss: 0.5250 - val_accuracy: 0.8000 - 20ms/epoch - 7ms/step\n",
      "Epoch 459/1000\n",
      "3/3 - 0s - loss: 0.0451 - accuracy: 0.9667 - val_loss: 0.2772 - val_accuracy: 0.8667 - 19ms/epoch - 6ms/step\n",
      "Epoch 460/1000\n",
      "3/3 - 0s - loss: 0.0552 - accuracy: 0.9667 - val_loss: 0.1978 - val_accuracy: 0.9000 - 18ms/epoch - 6ms/step\n",
      "Epoch 461/1000\n",
      "3/3 - 0s - loss: 0.0079 - accuracy: 1.0000 - val_loss: 0.2012 - val_accuracy: 0.9000 - 20ms/epoch - 7ms/step\n",
      "Epoch 462/1000\n",
      "3/3 - 0s - loss: 0.0108 - accuracy: 0.9889 - val_loss: 0.2091 - val_accuracy: 0.9000 - 19ms/epoch - 6ms/step\n",
      "Epoch 463/1000\n",
      "3/3 - 0s - loss: 0.1354 - accuracy: 0.9556 - val_loss: 0.1571 - val_accuracy: 0.9333 - 19ms/epoch - 6ms/step\n",
      "Epoch 464/1000\n",
      "3/3 - 0s - loss: 0.0376 - accuracy: 0.9889 - val_loss: 0.1397 - val_accuracy: 0.9333 - 19ms/epoch - 6ms/step\n",
      "Epoch 465/1000\n",
      "3/3 - 0s - loss: 0.0161 - accuracy: 1.0000 - val_loss: 0.1535 - val_accuracy: 0.9333 - 18ms/epoch - 6ms/step\n",
      "Epoch 466/1000\n",
      "3/3 - 0s - loss: 0.0205 - accuracy: 1.0000 - val_loss: 0.1778 - val_accuracy: 0.9000 - 19ms/epoch - 6ms/step\n",
      "Epoch 467/1000\n",
      "3/3 - 0s - loss: 0.0576 - accuracy: 0.9667 - val_loss: 0.1702 - val_accuracy: 0.9000 - 18ms/epoch - 6ms/step\n",
      "Epoch 468/1000\n",
      "3/3 - 0s - loss: 0.0220 - accuracy: 1.0000 - val_loss: 0.1476 - val_accuracy: 0.9000 - 17ms/epoch - 6ms/step\n",
      "Epoch 469/1000\n",
      "3/3 - 0s - loss: 0.0156 - accuracy: 1.0000 - val_loss: 0.0883 - val_accuracy: 0.9667 - 18ms/epoch - 6ms/step\n"
     ]
    },
    {
     "name": "stdout",
     "output_type": "stream",
     "text": [
      "Epoch 470/1000\n",
      "3/3 - 0s - loss: 0.0132 - accuracy: 1.0000 - val_loss: 0.0572 - val_accuracy: 0.9667 - 20ms/epoch - 7ms/step\n",
      "Epoch 471/1000\n",
      "3/3 - 0s - loss: 0.0333 - accuracy: 0.9889 - val_loss: 0.0398 - val_accuracy: 1.0000 - 20ms/epoch - 7ms/step\n",
      "Epoch 472/1000\n",
      "3/3 - 0s - loss: 0.0164 - accuracy: 1.0000 - val_loss: 0.0317 - val_accuracy: 1.0000 - 19ms/epoch - 6ms/step\n",
      "Epoch 473/1000\n",
      "3/3 - 0s - loss: 0.0124 - accuracy: 1.0000 - val_loss: 0.0261 - val_accuracy: 1.0000 - 20ms/epoch - 7ms/step\n",
      "Epoch 474/1000\n",
      "3/3 - 0s - loss: 0.0096 - accuracy: 1.0000 - val_loss: 0.0231 - val_accuracy: 1.0000 - 20ms/epoch - 7ms/step\n",
      "Epoch 475/1000\n",
      "3/3 - 0s - loss: 0.0131 - accuracy: 1.0000 - val_loss: 0.0225 - val_accuracy: 1.0000 - 20ms/epoch - 7ms/step\n",
      "Epoch 476/1000\n",
      "3/3 - 0s - loss: 0.0132 - accuracy: 1.0000 - val_loss: 0.0250 - val_accuracy: 1.0000 - 20ms/epoch - 7ms/step\n",
      "Epoch 477/1000\n",
      "3/3 - 0s - loss: 0.0166 - accuracy: 1.0000 - val_loss: 0.0361 - val_accuracy: 1.0000 - 20ms/epoch - 7ms/step\n",
      "Epoch 478/1000\n",
      "3/3 - 0s - loss: 0.0182 - accuracy: 1.0000 - val_loss: 0.0727 - val_accuracy: 0.9667 - 20ms/epoch - 7ms/step\n",
      "Epoch 479/1000\n",
      "3/3 - 0s - loss: 0.0091 - accuracy: 1.0000 - val_loss: 0.1190 - val_accuracy: 0.9667 - 20ms/epoch - 7ms/step\n",
      "Epoch 480/1000\n",
      "3/3 - 0s - loss: 0.0172 - accuracy: 0.9889 - val_loss: 0.1088 - val_accuracy: 0.9667 - 20ms/epoch - 7ms/step\n",
      "Epoch 481/1000\n",
      "3/3 - 0s - loss: 0.0041 - accuracy: 1.0000 - val_loss: 0.0616 - val_accuracy: 0.9667 - 18ms/epoch - 6ms/step\n",
      "Epoch 482/1000\n",
      "3/3 - 0s - loss: 0.0211 - accuracy: 0.9889 - val_loss: 0.0581 - val_accuracy: 0.9667 - 18ms/epoch - 6ms/step\n",
      "Epoch 483/1000\n",
      "3/3 - 0s - loss: 0.0111 - accuracy: 1.0000 - val_loss: 0.0737 - val_accuracy: 0.9667 - 19ms/epoch - 6ms/step\n",
      "Epoch 484/1000\n",
      "3/3 - 0s - loss: 0.0344 - accuracy: 0.9778 - val_loss: 0.0936 - val_accuracy: 0.9667 - 18ms/epoch - 6ms/step\n",
      "Epoch 485/1000\n",
      "3/3 - 0s - loss: 0.0108 - accuracy: 1.0000 - val_loss: 0.1235 - val_accuracy: 0.9333 - 18ms/epoch - 6ms/step\n",
      "Epoch 486/1000\n",
      "3/3 - 0s - loss: 0.0062 - accuracy: 1.0000 - val_loss: 0.1562 - val_accuracy: 0.9333 - 20ms/epoch - 7ms/step\n",
      "Epoch 487/1000\n",
      "3/3 - 0s - loss: 0.0053 - accuracy: 1.0000 - val_loss: 0.1796 - val_accuracy: 0.9333 - 18ms/epoch - 6ms/step\n",
      "Epoch 488/1000\n",
      "3/3 - 0s - loss: 0.0274 - accuracy: 1.0000 - val_loss: 0.1902 - val_accuracy: 0.9333 - 20ms/epoch - 7ms/step\n",
      "Epoch 489/1000\n",
      "3/3 - 0s - loss: 0.0102 - accuracy: 1.0000 - val_loss: 0.1974 - val_accuracy: 0.9333 - 19ms/epoch - 6ms/step\n",
      "Epoch 490/1000\n",
      "3/3 - 0s - loss: 0.0050 - accuracy: 1.0000 - val_loss: 0.2026 - val_accuracy: 0.9333 - 19ms/epoch - 6ms/step\n",
      "Epoch 491/1000\n",
      "3/3 - 0s - loss: 0.0086 - accuracy: 1.0000 - val_loss: 0.2045 - val_accuracy: 0.9333 - 20ms/epoch - 7ms/step\n",
      "Epoch 492/1000\n",
      "3/3 - 0s - loss: 0.0048 - accuracy: 1.0000 - val_loss: 0.2053 - val_accuracy: 0.9333 - 21ms/epoch - 7ms/step\n",
      "Epoch 493/1000\n",
      "3/3 - 0s - loss: 0.0078 - accuracy: 1.0000 - val_loss: 0.2033 - val_accuracy: 0.9333 - 19ms/epoch - 6ms/step\n",
      "Epoch 494/1000\n",
      "3/3 - 0s - loss: 0.0040 - accuracy: 1.0000 - val_loss: 0.1947 - val_accuracy: 0.9333 - 19ms/epoch - 6ms/step\n",
      "Epoch 495/1000\n",
      "3/3 - 0s - loss: 0.0534 - accuracy: 0.9889 - val_loss: 0.1580 - val_accuracy: 0.9333 - 20ms/epoch - 7ms/step\n",
      "Epoch 496/1000\n",
      "3/3 - 0s - loss: 0.0052 - accuracy: 1.0000 - val_loss: 0.1192 - val_accuracy: 0.9667 - 19ms/epoch - 6ms/step\n",
      "Epoch 497/1000\n",
      "3/3 - 0s - loss: 0.0036 - accuracy: 1.0000 - val_loss: 0.1222 - val_accuracy: 0.9667 - 20ms/epoch - 7ms/step\n",
      "Epoch 498/1000\n",
      "3/3 - 0s - loss: 0.0151 - accuracy: 0.9889 - val_loss: 0.1242 - val_accuracy: 0.9667 - 19ms/epoch - 6ms/step\n",
      "Epoch 499/1000\n",
      "3/3 - 0s - loss: 0.0194 - accuracy: 0.9889 - val_loss: 0.1300 - val_accuracy: 0.9667 - 19ms/epoch - 6ms/step\n",
      "Epoch 500/1000\n",
      "3/3 - 0s - loss: 0.0177 - accuracy: 0.9889 - val_loss: 0.1750 - val_accuracy: 0.9333 - 19ms/epoch - 6ms/step\n",
      "Epoch 501/1000\n",
      "3/3 - 0s - loss: 0.0059 - accuracy: 1.0000 - val_loss: 0.3097 - val_accuracy: 0.9000 - 17ms/epoch - 6ms/step\n",
      "Epoch 502/1000\n",
      "3/3 - 0s - loss: 0.0527 - accuracy: 0.9889 - val_loss: 0.4220 - val_accuracy: 0.8667 - 19ms/epoch - 6ms/step\n",
      "Epoch 503/1000\n",
      "3/3 - 0s - loss: 0.0408 - accuracy: 0.9778 - val_loss: 0.3220 - val_accuracy: 0.9000 - 19ms/epoch - 6ms/step\n",
      "Epoch 504/1000\n",
      "3/3 - 0s - loss: 0.0084 - accuracy: 1.0000 - val_loss: 0.2396 - val_accuracy: 0.9000 - 21ms/epoch - 7ms/step\n",
      "Epoch 505/1000\n",
      "3/3 - 0s - loss: 0.0087 - accuracy: 1.0000 - val_loss: 0.1786 - val_accuracy: 0.9667 - 29ms/epoch - 10ms/step\n",
      "Epoch 506/1000\n",
      "3/3 - 0s - loss: 0.0123 - accuracy: 1.0000 - val_loss: 0.1641 - val_accuracy: 0.9667 - 25ms/epoch - 8ms/step\n",
      "Epoch 507/1000\n",
      "3/3 - 0s - loss: 0.0087 - accuracy: 1.0000 - val_loss: 0.1883 - val_accuracy: 0.9667 - 26ms/epoch - 9ms/step\n",
      "Epoch 508/1000\n",
      "3/3 - 0s - loss: 0.0183 - accuracy: 0.9889 - val_loss: 0.2133 - val_accuracy: 0.9333 - 29ms/epoch - 10ms/step\n",
      "Epoch 509/1000\n",
      "3/3 - 0s - loss: 0.1101 - accuracy: 0.9889 - val_loss: 0.2598 - val_accuracy: 0.9000 - 27ms/epoch - 9ms/step\n",
      "Epoch 510/1000\n",
      "3/3 - 0s - loss: 0.0214 - accuracy: 0.9889 - val_loss: 0.3383 - val_accuracy: 0.9000 - 26ms/epoch - 9ms/step\n",
      "Epoch 511/1000\n",
      "3/3 - 0s - loss: 0.0073 - accuracy: 1.0000 - val_loss: 0.3801 - val_accuracy: 0.9000 - 29ms/epoch - 10ms/step\n",
      "Epoch 512/1000\n",
      "3/3 - 0s - loss: 0.0053 - accuracy: 1.0000 - val_loss: 0.4042 - val_accuracy: 0.8667 - 28ms/epoch - 9ms/step\n",
      "Epoch 513/1000\n",
      "3/3 - 0s - loss: 0.0172 - accuracy: 0.9889 - val_loss: 0.4136 - val_accuracy: 0.8667 - 24ms/epoch - 8ms/step\n",
      "Epoch 514/1000\n",
      "3/3 - 0s - loss: 0.0186 - accuracy: 0.9889 - val_loss: 0.4498 - val_accuracy: 0.8333 - 19ms/epoch - 6ms/step\n",
      "Epoch 515/1000\n",
      "3/3 - 0s - loss: 0.0200 - accuracy: 0.9889 - val_loss: 0.3918 - val_accuracy: 0.8667 - 18ms/epoch - 6ms/step\n",
      "Epoch 516/1000\n",
      "3/3 - 0s - loss: 0.0120 - accuracy: 1.0000 - val_loss: 0.3029 - val_accuracy: 0.9333 - 19ms/epoch - 6ms/step\n",
      "Epoch 517/1000\n",
      "3/3 - 0s - loss: 0.0352 - accuracy: 0.9889 - val_loss: 0.2779 - val_accuracy: 0.9333 - 18ms/epoch - 6ms/step\n",
      "Epoch 518/1000\n",
      "3/3 - 0s - loss: 0.0631 - accuracy: 0.9889 - val_loss: 0.2897 - val_accuracy: 0.9000 - 20ms/epoch - 7ms/step\n",
      "Epoch 519/1000\n",
      "3/3 - 0s - loss: 0.0117 - accuracy: 1.0000 - val_loss: 0.4577 - val_accuracy: 0.8667 - 20ms/epoch - 7ms/step\n",
      "Epoch 520/1000\n",
      "3/3 - 0s - loss: 0.0056 - accuracy: 1.0000 - val_loss: 0.6990 - val_accuracy: 0.8000 - 19ms/epoch - 6ms/step\n",
      "Epoch 521/1000\n",
      "3/3 - 0s - loss: 0.0483 - accuracy: 0.9889 - val_loss: 0.9292 - val_accuracy: 0.7667 - 18ms/epoch - 6ms/step\n",
      "Epoch 522/1000\n",
      "3/3 - 0s - loss: 0.0712 - accuracy: 0.9667 - val_loss: 1.0335 - val_accuracy: 0.7667 - 20ms/epoch - 7ms/step\n",
      "Epoch 523/1000\n",
      "3/3 - 0s - loss: 0.0426 - accuracy: 0.9778 - val_loss: 0.7914 - val_accuracy: 0.7667 - 23ms/epoch - 8ms/step\n",
      "Epoch 524/1000\n",
      "3/3 - 0s - loss: 0.0137 - accuracy: 1.0000 - val_loss: 0.5729 - val_accuracy: 0.8000 - 19ms/epoch - 6ms/step\n",
      "Epoch 525/1000\n",
      "3/3 - 0s - loss: 0.0073 - accuracy: 1.0000 - val_loss: 0.4232 - val_accuracy: 0.8000 - 19ms/epoch - 6ms/step\n",
      "Epoch 526/1000\n",
      "3/3 - 0s - loss: 0.0066 - accuracy: 1.0000 - val_loss: 0.3509 - val_accuracy: 0.8667 - 20ms/epoch - 7ms/step\n",
      "Epoch 527/1000\n",
      "3/3 - 0s - loss: 0.0094 - accuracy: 1.0000 - val_loss: 0.3111 - val_accuracy: 0.9000 - 20ms/epoch - 7ms/step\n",
      "Epoch 528/1000\n",
      "3/3 - 0s - loss: 0.0593 - accuracy: 0.9889 - val_loss: 0.3185 - val_accuracy: 0.8667 - 18ms/epoch - 6ms/step\n",
      "Epoch 529/1000\n",
      "3/3 - 0s - loss: 0.0186 - accuracy: 0.9889 - val_loss: 0.3903 - val_accuracy: 0.8667 - 20ms/epoch - 7ms/step\n",
      "Epoch 530/1000\n",
      "3/3 - 0s - loss: 0.0082 - accuracy: 1.0000 - val_loss: 0.2737 - val_accuracy: 0.9000 - 18ms/epoch - 6ms/step\n",
      "Epoch 531/1000\n",
      "3/3 - 0s - loss: 0.0994 - accuracy: 0.9778 - val_loss: 0.1727 - val_accuracy: 0.9000 - 20ms/epoch - 7ms/step\n",
      "Epoch 532/1000\n",
      "3/3 - 0s - loss: 0.0538 - accuracy: 0.9778 - val_loss: 0.1797 - val_accuracy: 0.9000 - 18ms/epoch - 6ms/step\n",
      "Epoch 533/1000\n",
      "3/3 - 0s - loss: 0.0089 - accuracy: 1.0000 - val_loss: 0.1613 - val_accuracy: 0.9333 - 17ms/epoch - 6ms/step\n",
      "Epoch 534/1000\n",
      "3/3 - 0s - loss: 0.0141 - accuracy: 1.0000 - val_loss: 0.1507 - val_accuracy: 0.9333 - 18ms/epoch - 6ms/step\n",
      "Epoch 535/1000\n",
      "3/3 - 0s - loss: 0.0123 - accuracy: 1.0000 - val_loss: 0.1428 - val_accuracy: 0.9333 - 19ms/epoch - 6ms/step\n",
      "Epoch 536/1000\n",
      "3/3 - 0s - loss: 0.0351 - accuracy: 0.9778 - val_loss: 0.1452 - val_accuracy: 0.9000 - 22ms/epoch - 7ms/step\n"
     ]
    },
    {
     "name": "stdout",
     "output_type": "stream",
     "text": [
      "Epoch 537/1000\n",
      "3/3 - 0s - loss: 0.0105 - accuracy: 1.0000 - val_loss: 0.1592 - val_accuracy: 0.9333 - 19ms/epoch - 6ms/step\n",
      "Epoch 538/1000\n",
      "3/3 - 0s - loss: 0.0165 - accuracy: 0.9889 - val_loss: 0.1762 - val_accuracy: 0.9333 - 19ms/epoch - 6ms/step\n",
      "Epoch 539/1000\n",
      "3/3 - 0s - loss: 0.0343 - accuracy: 0.9889 - val_loss: 0.2009 - val_accuracy: 0.9333 - 21ms/epoch - 7ms/step\n",
      "Epoch 540/1000\n",
      "3/3 - 0s - loss: 0.1074 - accuracy: 0.9667 - val_loss: 0.1982 - val_accuracy: 0.9333 - 19ms/epoch - 6ms/step\n",
      "Epoch 541/1000\n",
      "3/3 - 0s - loss: 0.0084 - accuracy: 1.0000 - val_loss: 0.1733 - val_accuracy: 0.9333 - 19ms/epoch - 6ms/step\n",
      "Epoch 542/1000\n",
      "3/3 - 0s - loss: 0.0635 - accuracy: 0.9889 - val_loss: 0.1872 - val_accuracy: 0.9333 - 19ms/epoch - 6ms/step\n",
      "Epoch 543/1000\n",
      "3/3 - 0s - loss: 0.0209 - accuracy: 1.0000 - val_loss: 0.2198 - val_accuracy: 0.9333 - 21ms/epoch - 7ms/step\n",
      "Epoch 544/1000\n",
      "3/3 - 0s - loss: 0.0115 - accuracy: 1.0000 - val_loss: 0.2468 - val_accuracy: 0.9333 - 19ms/epoch - 6ms/step\n",
      "Epoch 545/1000\n",
      "3/3 - 0s - loss: 0.0263 - accuracy: 1.0000 - val_loss: 0.2659 - val_accuracy: 0.9333 - 19ms/epoch - 6ms/step\n",
      "Epoch 546/1000\n",
      "3/3 - 0s - loss: 0.0132 - accuracy: 1.0000 - val_loss: 0.2757 - val_accuracy: 0.9333 - 19ms/epoch - 6ms/step\n",
      "Epoch 547/1000\n",
      "3/3 - 0s - loss: 0.0067 - accuracy: 1.0000 - val_loss: 0.2777 - val_accuracy: 0.9333 - 18ms/epoch - 6ms/step\n",
      "Epoch 548/1000\n",
      "3/3 - 0s - loss: 0.0089 - accuracy: 1.0000 - val_loss: 0.2769 - val_accuracy: 0.9333 - 19ms/epoch - 6ms/step\n",
      "Epoch 549/1000\n",
      "3/3 - 0s - loss: 0.0046 - accuracy: 1.0000 - val_loss: 0.2810 - val_accuracy: 0.9333 - 19ms/epoch - 6ms/step\n",
      "Epoch 550/1000\n",
      "3/3 - 0s - loss: 0.0065 - accuracy: 1.0000 - val_loss: 0.2822 - val_accuracy: 0.9333 - 18ms/epoch - 6ms/step\n",
      "Epoch 551/1000\n",
      "3/3 - 0s - loss: 0.0055 - accuracy: 1.0000 - val_loss: 0.2786 - val_accuracy: 0.9333 - 18ms/epoch - 6ms/step\n",
      "Epoch 552/1000\n",
      "3/3 - 0s - loss: 0.0130 - accuracy: 1.0000 - val_loss: 0.2733 - val_accuracy: 0.9333 - 20ms/epoch - 7ms/step\n",
      "Epoch 553/1000\n",
      "3/3 - 0s - loss: 0.0043 - accuracy: 1.0000 - val_loss: 0.2615 - val_accuracy: 0.9333 - 20ms/epoch - 7ms/step\n",
      "Epoch 554/1000\n",
      "3/3 - 0s - loss: 0.0044 - accuracy: 1.0000 - val_loss: 0.2546 - val_accuracy: 0.9333 - 19ms/epoch - 6ms/step\n",
      "Epoch 555/1000\n",
      "3/3 - 0s - loss: 0.0042 - accuracy: 1.0000 - val_loss: 0.2484 - val_accuracy: 0.9333 - 19ms/epoch - 6ms/step\n",
      "Epoch 556/1000\n",
      "3/3 - 0s - loss: 0.0113 - accuracy: 1.0000 - val_loss: 0.2526 - val_accuracy: 0.9333 - 20ms/epoch - 7ms/step\n",
      "Epoch 557/1000\n",
      "3/3 - 0s - loss: 0.0038 - accuracy: 1.0000 - val_loss: 0.2570 - val_accuracy: 0.9333 - 19ms/epoch - 6ms/step\n",
      "Epoch 558/1000\n",
      "3/3 - 0s - loss: 0.0029 - accuracy: 1.0000 - val_loss: 0.2580 - val_accuracy: 0.9333 - 20ms/epoch - 7ms/step\n",
      "Epoch 559/1000\n",
      "3/3 - 0s - loss: 0.0069 - accuracy: 1.0000 - val_loss: 0.2590 - val_accuracy: 0.9333 - 20ms/epoch - 7ms/step\n",
      "Epoch 560/1000\n",
      "3/3 - 0s - loss: 0.0161 - accuracy: 0.9889 - val_loss: 0.2725 - val_accuracy: 0.9333 - 20ms/epoch - 7ms/step\n",
      "Epoch 561/1000\n",
      "3/3 - 0s - loss: 0.0081 - accuracy: 1.0000 - val_loss: 0.2732 - val_accuracy: 0.9333 - 19ms/epoch - 6ms/step\n",
      "Epoch 562/1000\n",
      "3/3 - 0s - loss: 0.0022 - accuracy: 1.0000 - val_loss: 0.2693 - val_accuracy: 0.9333 - 21ms/epoch - 7ms/step\n",
      "Epoch 563/1000\n",
      "3/3 - 0s - loss: 0.0064 - accuracy: 1.0000 - val_loss: 0.2626 - val_accuracy: 0.9333 - 20ms/epoch - 7ms/step\n",
      "Epoch 564/1000\n",
      "3/3 - 0s - loss: 0.0023 - accuracy: 1.0000 - val_loss: 0.2571 - val_accuracy: 0.9333 - 19ms/epoch - 6ms/step\n",
      "Epoch 565/1000\n",
      "3/3 - 0s - loss: 0.0041 - accuracy: 1.0000 - val_loss: 0.2572 - val_accuracy: 0.9333 - 17ms/epoch - 6ms/step\n",
      "Epoch 566/1000\n",
      "3/3 - 0s - loss: 0.0017 - accuracy: 1.0000 - val_loss: 0.2569 - val_accuracy: 0.9333 - 18ms/epoch - 6ms/step\n",
      "Epoch 567/1000\n",
      "3/3 - 0s - loss: 0.0055 - accuracy: 1.0000 - val_loss: 0.2605 - val_accuracy: 0.9333 - 18ms/epoch - 6ms/step\n",
      "Epoch 568/1000\n",
      "3/3 - 0s - loss: 0.0031 - accuracy: 1.0000 - val_loss: 0.2751 - val_accuracy: 0.9333 - 19ms/epoch - 6ms/step\n",
      "Epoch 569/1000\n",
      "3/3 - 0s - loss: 0.0014 - accuracy: 1.0000 - val_loss: 0.2823 - val_accuracy: 0.9333 - 19ms/epoch - 6ms/step\n",
      "Epoch 570/1000\n",
      "3/3 - 0s - loss: 0.0370 - accuracy: 0.9889 - val_loss: 0.3456 - val_accuracy: 0.9000 - 20ms/epoch - 7ms/step\n",
      "Epoch 571/1000\n",
      "3/3 - 0s - loss: 0.0234 - accuracy: 0.9889 - val_loss: 0.4041 - val_accuracy: 0.8333 - 19ms/epoch - 6ms/step\n",
      "Epoch 572/1000\n",
      "3/3 - 0s - loss: 0.0027 - accuracy: 1.0000 - val_loss: 0.2817 - val_accuracy: 0.9000 - 19ms/epoch - 6ms/step\n",
      "Epoch 573/1000\n",
      "3/3 - 0s - loss: 0.0031 - accuracy: 1.0000 - val_loss: 0.1924 - val_accuracy: 0.9000 - 21ms/epoch - 7ms/step\n",
      "Epoch 574/1000\n",
      "3/3 - 0s - loss: 0.0587 - accuracy: 0.9889 - val_loss: 0.1086 - val_accuracy: 0.9000 - 20ms/epoch - 7ms/step\n",
      "Epoch 575/1000\n",
      "3/3 - 0s - loss: 0.0327 - accuracy: 0.9889 - val_loss: 0.0859 - val_accuracy: 0.9333 - 20ms/epoch - 7ms/step\n",
      "Epoch 576/1000\n",
      "3/3 - 0s - loss: 0.0982 - accuracy: 0.9889 - val_loss: 0.1569 - val_accuracy: 0.9333 - 19ms/epoch - 6ms/step\n",
      "Epoch 577/1000\n",
      "3/3 - 0s - loss: 0.0253 - accuracy: 0.9889 - val_loss: 0.2585 - val_accuracy: 0.9000 - 19ms/epoch - 6ms/step\n",
      "Epoch 578/1000\n",
      "3/3 - 0s - loss: 0.0472 - accuracy: 0.9889 - val_loss: 0.2284 - val_accuracy: 0.9000 - 19ms/epoch - 6ms/step\n",
      "Epoch 579/1000\n",
      "3/3 - 0s - loss: 0.0197 - accuracy: 0.9889 - val_loss: 0.2302 - val_accuracy: 0.9000 - 20ms/epoch - 7ms/step\n",
      "Epoch 580/1000\n",
      "3/3 - 0s - loss: 0.0136 - accuracy: 1.0000 - val_loss: 0.2050 - val_accuracy: 0.9000 - 21ms/epoch - 7ms/step\n",
      "Epoch 581/1000\n",
      "3/3 - 0s - loss: 0.0302 - accuracy: 0.9889 - val_loss: 0.1864 - val_accuracy: 0.9333 - 19ms/epoch - 6ms/step\n",
      "Epoch 582/1000\n",
      "3/3 - 0s - loss: 0.0436 - accuracy: 0.9778 - val_loss: 0.1608 - val_accuracy: 0.9333 - 19ms/epoch - 6ms/step\n",
      "Epoch 583/1000\n",
      "3/3 - 0s - loss: 0.0044 - accuracy: 1.0000 - val_loss: 0.1408 - val_accuracy: 0.9333 - 20ms/epoch - 7ms/step\n",
      "Epoch 584/1000\n",
      "3/3 - 0s - loss: 0.0129 - accuracy: 1.0000 - val_loss: 0.1224 - val_accuracy: 0.9667 - 21ms/epoch - 7ms/step\n",
      "Epoch 585/1000\n",
      "3/3 - 0s - loss: 0.0225 - accuracy: 0.9889 - val_loss: 0.1267 - val_accuracy: 0.9667 - 19ms/epoch - 6ms/step\n",
      "Epoch 586/1000\n",
      "3/3 - 0s - loss: 0.0131 - accuracy: 0.9889 - val_loss: 0.1341 - val_accuracy: 0.9667 - 19ms/epoch - 6ms/step\n",
      "Epoch 587/1000\n",
      "3/3 - 0s - loss: 0.0068 - accuracy: 1.0000 - val_loss: 0.1553 - val_accuracy: 0.9333 - 17ms/epoch - 6ms/step\n",
      "Epoch 588/1000\n",
      "3/3 - 0s - loss: 0.0042 - accuracy: 1.0000 - val_loss: 0.1856 - val_accuracy: 0.9000 - 19ms/epoch - 6ms/step\n",
      "Epoch 589/1000\n",
      "3/3 - 0s - loss: 0.0174 - accuracy: 0.9889 - val_loss: 0.1895 - val_accuracy: 0.8667 - 20ms/epoch - 7ms/step\n",
      "Epoch 590/1000\n",
      "3/3 - 0s - loss: 0.0086 - accuracy: 1.0000 - val_loss: 0.1785 - val_accuracy: 0.8667 - 20ms/epoch - 7ms/step\n",
      "Epoch 591/1000\n",
      "3/3 - 0s - loss: 0.0066 - accuracy: 1.0000 - val_loss: 0.1718 - val_accuracy: 0.9000 - 20ms/epoch - 7ms/step\n",
      "Epoch 592/1000\n",
      "3/3 - 0s - loss: 0.0087 - accuracy: 1.0000 - val_loss: 0.1584 - val_accuracy: 0.9000 - 18ms/epoch - 6ms/step\n",
      "Epoch 593/1000\n",
      "3/3 - 0s - loss: 0.0385 - accuracy: 0.9778 - val_loss: 0.1476 - val_accuracy: 0.9333 - 19ms/epoch - 6ms/step\n",
      "Epoch 594/1000\n",
      "3/3 - 0s - loss: 0.0035 - accuracy: 1.0000 - val_loss: 0.1399 - val_accuracy: 0.9333 - 19ms/epoch - 6ms/step\n",
      "Epoch 595/1000\n",
      "3/3 - 0s - loss: 0.0036 - accuracy: 1.0000 - val_loss: 0.1347 - val_accuracy: 0.9333 - 20ms/epoch - 7ms/step\n",
      "Epoch 596/1000\n",
      "3/3 - 0s - loss: 0.0046 - accuracy: 1.0000 - val_loss: 0.1349 - val_accuracy: 0.9333 - 20ms/epoch - 7ms/step\n",
      "Epoch 597/1000\n",
      "3/3 - 0s - loss: 0.0082 - accuracy: 1.0000 - val_loss: 0.1266 - val_accuracy: 0.9333 - 21ms/epoch - 7ms/step\n",
      "Epoch 598/1000\n",
      "3/3 - 0s - loss: 0.0076 - accuracy: 1.0000 - val_loss: 0.1117 - val_accuracy: 0.9333 - 19ms/epoch - 6ms/step\n",
      "Epoch 599/1000\n",
      "3/3 - 0s - loss: 0.0065 - accuracy: 1.0000 - val_loss: 0.1327 - val_accuracy: 0.9333 - 20ms/epoch - 7ms/step\n",
      "Epoch 600/1000\n",
      "3/3 - 0s - loss: 0.0149 - accuracy: 0.9889 - val_loss: 0.1790 - val_accuracy: 0.8667 - 19ms/epoch - 6ms/step\n",
      "Epoch 601/1000\n",
      "3/3 - 0s - loss: 0.0571 - accuracy: 0.9889 - val_loss: 0.2857 - val_accuracy: 0.8667 - 21ms/epoch - 7ms/step\n",
      "Epoch 602/1000\n",
      "3/3 - 0s - loss: 0.0775 - accuracy: 0.9778 - val_loss: 0.4072 - val_accuracy: 0.8667 - 21ms/epoch - 7ms/step\n",
      "Epoch 603/1000\n",
      "3/3 - 0s - loss: 0.0241 - accuracy: 1.0000 - val_loss: 0.3939 - val_accuracy: 0.8667 - 20ms/epoch - 7ms/step\n"
     ]
    },
    {
     "name": "stdout",
     "output_type": "stream",
     "text": [
      "Epoch 604/1000\n",
      "3/3 - 0s - loss: 0.0111 - accuracy: 1.0000 - val_loss: 0.3388 - val_accuracy: 0.8667 - 20ms/epoch - 7ms/step\n",
      "Epoch 605/1000\n",
      "3/3 - 0s - loss: 0.1175 - accuracy: 0.9778 - val_loss: 0.2330 - val_accuracy: 0.9000 - 19ms/epoch - 6ms/step\n",
      "Epoch 606/1000\n",
      "3/3 - 0s - loss: 0.0117 - accuracy: 0.9889 - val_loss: 0.1899 - val_accuracy: 0.9333 - 19ms/epoch - 6ms/step\n",
      "Epoch 607/1000\n",
      "3/3 - 0s - loss: 0.0070 - accuracy: 1.0000 - val_loss: 0.2581 - val_accuracy: 0.9000 - 20ms/epoch - 7ms/step\n",
      "Epoch 608/1000\n",
      "3/3 - 0s - loss: 0.0162 - accuracy: 1.0000 - val_loss: 0.3264 - val_accuracy: 0.9000 - 19ms/epoch - 6ms/step\n",
      "Epoch 609/1000\n",
      "3/3 - 0s - loss: 0.0150 - accuracy: 1.0000 - val_loss: 0.3535 - val_accuracy: 0.9333 - 20ms/epoch - 7ms/step\n",
      "Epoch 610/1000\n",
      "3/3 - 0s - loss: 0.0230 - accuracy: 0.9889 - val_loss: 0.3600 - val_accuracy: 0.9333 - 19ms/epoch - 6ms/step\n",
      "Epoch 611/1000\n",
      "3/3 - 0s - loss: 0.0561 - accuracy: 0.9778 - val_loss: 0.3272 - val_accuracy: 0.9000 - 19ms/epoch - 6ms/step\n",
      "Epoch 612/1000\n",
      "3/3 - 0s - loss: 0.0197 - accuracy: 0.9889 - val_loss: 0.2916 - val_accuracy: 0.9000 - 19ms/epoch - 6ms/step\n",
      "Epoch 613/1000\n",
      "3/3 - 0s - loss: 0.0527 - accuracy: 0.9778 - val_loss: 0.2596 - val_accuracy: 0.9333 - 20ms/epoch - 7ms/step\n",
      "Epoch 614/1000\n",
      "3/3 - 0s - loss: 0.0093 - accuracy: 1.0000 - val_loss: 0.2617 - val_accuracy: 0.9333 - 20ms/epoch - 7ms/step\n",
      "Epoch 615/1000\n",
      "3/3 - 0s - loss: 0.0085 - accuracy: 1.0000 - val_loss: 0.2650 - val_accuracy: 0.9000 - 20ms/epoch - 7ms/step\n",
      "Epoch 616/1000\n",
      "3/3 - 0s - loss: 0.0103 - accuracy: 1.0000 - val_loss: 0.2647 - val_accuracy: 0.9000 - 22ms/epoch - 7ms/step\n",
      "Epoch 617/1000\n",
      "3/3 - 0s - loss: 0.0068 - accuracy: 1.0000 - val_loss: 0.2665 - val_accuracy: 0.9000 - 20ms/epoch - 7ms/step\n",
      "Epoch 618/1000\n",
      "3/3 - 0s - loss: 0.0111 - accuracy: 1.0000 - val_loss: 0.2433 - val_accuracy: 0.9000 - 19ms/epoch - 6ms/step\n",
      "Epoch 619/1000\n",
      "3/3 - 0s - loss: 0.0281 - accuracy: 0.9889 - val_loss: 0.2132 - val_accuracy: 0.9333 - 20ms/epoch - 7ms/step\n",
      "Epoch 620/1000\n",
      "3/3 - 0s - loss: 0.0250 - accuracy: 0.9889 - val_loss: 0.1722 - val_accuracy: 0.9333 - 21ms/epoch - 7ms/step\n",
      "Epoch 621/1000\n",
      "3/3 - 0s - loss: 0.0039 - accuracy: 1.0000 - val_loss: 0.1517 - val_accuracy: 0.9333 - 20ms/epoch - 7ms/step\n",
      "Epoch 622/1000\n",
      "3/3 - 0s - loss: 0.0079 - accuracy: 1.0000 - val_loss: 0.1391 - val_accuracy: 0.9667 - 19ms/epoch - 6ms/step\n",
      "Epoch 623/1000\n",
      "3/3 - 0s - loss: 0.0048 - accuracy: 1.0000 - val_loss: 0.1336 - val_accuracy: 0.9333 - 19ms/epoch - 6ms/step\n",
      "Epoch 624/1000\n",
      "3/3 - 0s - loss: 0.0051 - accuracy: 1.0000 - val_loss: 0.1311 - val_accuracy: 0.9333 - 18ms/epoch - 6ms/step\n",
      "Epoch 625/1000\n",
      "3/3 - 0s - loss: 0.0076 - accuracy: 1.0000 - val_loss: 0.1301 - val_accuracy: 0.9333 - 18ms/epoch - 6ms/step\n",
      "Epoch 626/1000\n",
      "3/3 - 0s - loss: 0.0048 - accuracy: 1.0000 - val_loss: 0.1259 - val_accuracy: 0.9333 - 18ms/epoch - 6ms/step\n",
      "Epoch 627/1000\n",
      "3/3 - 0s - loss: 0.0113 - accuracy: 1.0000 - val_loss: 0.1211 - val_accuracy: 0.9333 - 20ms/epoch - 7ms/step\n",
      "Epoch 628/1000\n",
      "3/3 - 0s - loss: 0.0021 - accuracy: 1.0000 - val_loss: 0.1131 - val_accuracy: 0.9333 - 19ms/epoch - 6ms/step\n",
      "Epoch 629/1000\n",
      "3/3 - 0s - loss: 0.0069 - accuracy: 1.0000 - val_loss: 0.1119 - val_accuracy: 0.9333 - 21ms/epoch - 7ms/step\n",
      "Epoch 630/1000\n",
      "3/3 - 0s - loss: 0.0188 - accuracy: 1.0000 - val_loss: 0.1076 - val_accuracy: 0.9333 - 19ms/epoch - 6ms/step\n",
      "Epoch 631/1000\n",
      "3/3 - 0s - loss: 0.0069 - accuracy: 1.0000 - val_loss: 0.1315 - val_accuracy: 0.9333 - 19ms/epoch - 6ms/step\n",
      "Epoch 632/1000\n",
      "3/3 - 0s - loss: 0.0066 - accuracy: 1.0000 - val_loss: 0.1915 - val_accuracy: 0.8667 - 19ms/epoch - 6ms/step\n",
      "Epoch 633/1000\n",
      "3/3 - 0s - loss: 0.0090 - accuracy: 1.0000 - val_loss: 0.2074 - val_accuracy: 0.8667 - 21ms/epoch - 7ms/step\n",
      "Epoch 634/1000\n",
      "3/3 - 0s - loss: 0.0106 - accuracy: 1.0000 - val_loss: 0.1687 - val_accuracy: 0.9000 - 21ms/epoch - 7ms/step\n",
      "Epoch 635/1000\n",
      "3/3 - 0s - loss: 0.0041 - accuracy: 1.0000 - val_loss: 0.1300 - val_accuracy: 0.9333 - 21ms/epoch - 7ms/step\n",
      "Epoch 636/1000\n",
      "3/3 - 0s - loss: 0.0166 - accuracy: 0.9889 - val_loss: 0.0916 - val_accuracy: 0.9667 - 20ms/epoch - 7ms/step\n",
      "Epoch 637/1000\n",
      "3/3 - 0s - loss: 0.0050 - accuracy: 1.0000 - val_loss: 0.0592 - val_accuracy: 0.9667 - 18ms/epoch - 6ms/step\n",
      "Epoch 638/1000\n",
      "3/3 - 0s - loss: 0.0022 - accuracy: 1.0000 - val_loss: 0.0513 - val_accuracy: 0.9667 - 18ms/epoch - 6ms/step\n",
      "Epoch 639/1000\n",
      "3/3 - 0s - loss: 0.0253 - accuracy: 0.9778 - val_loss: 0.0613 - val_accuracy: 0.9667 - 18ms/epoch - 6ms/step\n",
      "Epoch 640/1000\n",
      "3/3 - 0s - loss: 0.0262 - accuracy: 0.9889 - val_loss: 0.1023 - val_accuracy: 0.9333 - 18ms/epoch - 6ms/step\n",
      "Epoch 641/1000\n",
      "3/3 - 0s - loss: 0.0024 - accuracy: 1.0000 - val_loss: 0.1263 - val_accuracy: 0.9333 - 20ms/epoch - 7ms/step\n",
      "Epoch 642/1000\n",
      "3/3 - 0s - loss: 0.0039 - accuracy: 1.0000 - val_loss: 0.1514 - val_accuracy: 0.9333 - 20ms/epoch - 7ms/step\n",
      "Epoch 643/1000\n",
      "3/3 - 0s - loss: 0.0041 - accuracy: 1.0000 - val_loss: 0.1663 - val_accuracy: 0.9333 - 19ms/epoch - 6ms/step\n",
      "Epoch 644/1000\n",
      "3/3 - 0s - loss: 0.0369 - accuracy: 0.9889 - val_loss: 0.1634 - val_accuracy: 0.9333 - 19ms/epoch - 6ms/step\n",
      "Epoch 645/1000\n",
      "3/3 - 0s - loss: 0.0095 - accuracy: 1.0000 - val_loss: 0.1899 - val_accuracy: 0.9333 - 20ms/epoch - 7ms/step\n",
      "Epoch 646/1000\n",
      "3/3 - 0s - loss: 0.0033 - accuracy: 1.0000 - val_loss: 0.2688 - val_accuracy: 0.9000 - 20ms/epoch - 7ms/step\n",
      "Epoch 647/1000\n",
      "3/3 - 0s - loss: 0.1158 - accuracy: 0.9556 - val_loss: 0.2958 - val_accuracy: 0.9000 - 20ms/epoch - 7ms/step\n",
      "Epoch 648/1000\n",
      "3/3 - 0s - loss: 0.0640 - accuracy: 0.9778 - val_loss: 0.2966 - val_accuracy: 0.9000 - 24ms/epoch - 8ms/step\n",
      "Epoch 649/1000\n",
      "3/3 - 0s - loss: 0.0277 - accuracy: 0.9889 - val_loss: 0.2768 - val_accuracy: 0.9000 - 19ms/epoch - 6ms/step\n",
      "Epoch 650/1000\n",
      "3/3 - 0s - loss: 0.2016 - accuracy: 0.9778 - val_loss: 0.2186 - val_accuracy: 0.9333 - 20ms/epoch - 7ms/step\n",
      "Epoch 651/1000\n",
      "3/3 - 0s - loss: 0.0066 - accuracy: 1.0000 - val_loss: 0.2139 - val_accuracy: 0.9000 - 23ms/epoch - 8ms/step\n",
      "Epoch 652/1000\n",
      "3/3 - 0s - loss: 0.0668 - accuracy: 0.9778 - val_loss: 0.4579 - val_accuracy: 0.8000 - 20ms/epoch - 7ms/step\n",
      "Epoch 653/1000\n",
      "3/3 - 0s - loss: 0.0786 - accuracy: 0.9667 - val_loss: 0.5441 - val_accuracy: 0.7667 - 18ms/epoch - 6ms/step\n",
      "Epoch 654/1000\n",
      "3/3 - 0s - loss: 0.0478 - accuracy: 0.9667 - val_loss: 0.5551 - val_accuracy: 0.8000 - 20ms/epoch - 7ms/step\n",
      "Epoch 655/1000\n",
      "3/3 - 0s - loss: 0.0130 - accuracy: 1.0000 - val_loss: 0.6178 - val_accuracy: 0.8000 - 20ms/epoch - 7ms/step\n",
      "Epoch 656/1000\n",
      "3/3 - 0s - loss: 0.0087 - accuracy: 1.0000 - val_loss: 0.6215 - val_accuracy: 0.8000 - 19ms/epoch - 6ms/step\n",
      "Epoch 657/1000\n",
      "3/3 - 0s - loss: 0.0058 - accuracy: 1.0000 - val_loss: 0.6053 - val_accuracy: 0.8000 - 18ms/epoch - 6ms/step\n",
      "Epoch 658/1000\n",
      "3/3 - 0s - loss: 0.0110 - accuracy: 1.0000 - val_loss: 0.5963 - val_accuracy: 0.8000 - 19ms/epoch - 6ms/step\n",
      "Epoch 659/1000\n",
      "3/3 - 0s - loss: 0.0064 - accuracy: 1.0000 - val_loss: 0.5361 - val_accuracy: 0.8000 - 19ms/epoch - 6ms/step\n",
      "Epoch 660/1000\n",
      "3/3 - 0s - loss: 0.0393 - accuracy: 0.9889 - val_loss: 0.4949 - val_accuracy: 0.8000 - 19ms/epoch - 6ms/step\n",
      "Epoch 661/1000\n",
      "3/3 - 0s - loss: 0.0051 - accuracy: 1.0000 - val_loss: 0.4680 - val_accuracy: 0.8333 - 19ms/epoch - 6ms/step\n",
      "Epoch 662/1000\n",
      "3/3 - 0s - loss: 0.0059 - accuracy: 1.0000 - val_loss: 0.4701 - val_accuracy: 0.8333 - 19ms/epoch - 6ms/step\n",
      "Epoch 663/1000\n",
      "3/3 - 0s - loss: 0.0095 - accuracy: 1.0000 - val_loss: 0.4402 - val_accuracy: 0.8333 - 17ms/epoch - 6ms/step\n",
      "Epoch 664/1000\n",
      "3/3 - 0s - loss: 0.0102 - accuracy: 1.0000 - val_loss: 0.3743 - val_accuracy: 0.8667 - 17ms/epoch - 6ms/step\n",
      "Epoch 665/1000\n",
      "3/3 - 0s - loss: 0.0516 - accuracy: 0.9778 - val_loss: 0.2589 - val_accuracy: 0.9333 - 18ms/epoch - 6ms/step\n",
      "Epoch 666/1000\n",
      "3/3 - 0s - loss: 0.0214 - accuracy: 0.9889 - val_loss: 0.2041 - val_accuracy: 0.9333 - 19ms/epoch - 6ms/step\n",
      "Epoch 667/1000\n",
      "3/3 - 0s - loss: 0.0097 - accuracy: 1.0000 - val_loss: 0.2010 - val_accuracy: 0.9333 - 20ms/epoch - 7ms/step\n",
      "Epoch 668/1000\n",
      "3/3 - 0s - loss: 0.0114 - accuracy: 1.0000 - val_loss: 0.2109 - val_accuracy: 0.9000 - 19ms/epoch - 6ms/step\n",
      "Epoch 669/1000\n",
      "3/3 - 0s - loss: 0.0266 - accuracy: 0.9889 - val_loss: 0.2269 - val_accuracy: 0.9000 - 18ms/epoch - 6ms/step\n",
      "Epoch 670/1000\n",
      "3/3 - 0s - loss: 0.0110 - accuracy: 1.0000 - val_loss: 0.2364 - val_accuracy: 0.9000 - 20ms/epoch - 7ms/step\n"
     ]
    },
    {
     "name": "stdout",
     "output_type": "stream",
     "text": [
      "Epoch 671/1000\n",
      "3/3 - 0s - loss: 0.0209 - accuracy: 0.9889 - val_loss: 0.2469 - val_accuracy: 0.9333 - 19ms/epoch - 6ms/step\n",
      "Epoch 672/1000\n",
      "3/3 - 0s - loss: 0.0450 - accuracy: 0.9889 - val_loss: 0.2821 - val_accuracy: 0.9333 - 19ms/epoch - 6ms/step\n",
      "Epoch 673/1000\n",
      "3/3 - 0s - loss: 0.0144 - accuracy: 1.0000 - val_loss: 0.2995 - val_accuracy: 0.9333 - 20ms/epoch - 7ms/step\n",
      "Epoch 674/1000\n",
      "3/3 - 0s - loss: 0.0278 - accuracy: 0.9778 - val_loss: 0.2641 - val_accuracy: 0.9000 - 19ms/epoch - 6ms/step\n",
      "Epoch 675/1000\n",
      "3/3 - 0s - loss: 0.0229 - accuracy: 0.9889 - val_loss: 0.2088 - val_accuracy: 0.9333 - 19ms/epoch - 6ms/step\n",
      "Epoch 676/1000\n",
      "3/3 - 0s - loss: 0.0063 - accuracy: 1.0000 - val_loss: 0.1958 - val_accuracy: 0.9333 - 19ms/epoch - 6ms/step\n",
      "Epoch 677/1000\n",
      "3/3 - 0s - loss: 0.0463 - accuracy: 0.9667 - val_loss: 0.2098 - val_accuracy: 0.9000 - 19ms/epoch - 6ms/step\n",
      "Epoch 678/1000\n",
      "3/3 - 0s - loss: 0.0094 - accuracy: 1.0000 - val_loss: 0.2745 - val_accuracy: 0.9000 - 20ms/epoch - 7ms/step\n",
      "Epoch 679/1000\n",
      "3/3 - 0s - loss: 0.0156 - accuracy: 0.9889 - val_loss: 0.3480 - val_accuracy: 0.8333 - 20ms/epoch - 7ms/step\n",
      "Epoch 680/1000\n",
      "3/3 - 0s - loss: 0.0081 - accuracy: 1.0000 - val_loss: 0.3957 - val_accuracy: 0.8667 - 20ms/epoch - 7ms/step\n",
      "Epoch 681/1000\n",
      "3/3 - 0s - loss: 0.0073 - accuracy: 1.0000 - val_loss: 0.4037 - val_accuracy: 0.8667 - 19ms/epoch - 6ms/step\n",
      "Epoch 682/1000\n",
      "3/3 - 0s - loss: 0.0025 - accuracy: 1.0000 - val_loss: 0.3682 - val_accuracy: 0.9000 - 20ms/epoch - 7ms/step\n",
      "Epoch 683/1000\n",
      "3/3 - 0s - loss: 0.0054 - accuracy: 1.0000 - val_loss: 0.3205 - val_accuracy: 0.9000 - 21ms/epoch - 7ms/step\n",
      "Epoch 684/1000\n",
      "3/3 - 0s - loss: 0.0253 - accuracy: 0.9889 - val_loss: 0.2805 - val_accuracy: 0.9333 - 19ms/epoch - 6ms/step\n",
      "Epoch 685/1000\n",
      "3/3 - 0s - loss: 0.0120 - accuracy: 0.9889 - val_loss: 0.2435 - val_accuracy: 0.9333 - 18ms/epoch - 6ms/step\n",
      "Epoch 686/1000\n",
      "3/3 - 0s - loss: 0.0044 - accuracy: 1.0000 - val_loss: 0.1943 - val_accuracy: 0.9000 - 18ms/epoch - 6ms/step\n",
      "Epoch 687/1000\n",
      "3/3 - 0s - loss: 0.0389 - accuracy: 0.9889 - val_loss: 0.1284 - val_accuracy: 0.9333 - 19ms/epoch - 6ms/step\n",
      "Epoch 688/1000\n",
      "3/3 - 0s - loss: 0.0051 - accuracy: 1.0000 - val_loss: 0.1152 - val_accuracy: 0.9333 - 19ms/epoch - 6ms/step\n",
      "Epoch 689/1000\n",
      "3/3 - 0s - loss: 0.0196 - accuracy: 0.9889 - val_loss: 0.1225 - val_accuracy: 0.9333 - 19ms/epoch - 6ms/step\n",
      "Epoch 690/1000\n",
      "3/3 - 0s - loss: 0.0226 - accuracy: 1.0000 - val_loss: 0.1273 - val_accuracy: 0.9333 - 20ms/epoch - 7ms/step\n",
      "Epoch 691/1000\n",
      "3/3 - 0s - loss: 0.0146 - accuracy: 0.9889 - val_loss: 0.1364 - val_accuracy: 0.9333 - 20ms/epoch - 7ms/step\n",
      "Epoch 692/1000\n",
      "3/3 - 0s - loss: 0.0024 - accuracy: 1.0000 - val_loss: 0.1485 - val_accuracy: 0.9333 - 19ms/epoch - 6ms/step\n",
      "Epoch 693/1000\n",
      "3/3 - 0s - loss: 0.0071 - accuracy: 1.0000 - val_loss: 0.1571 - val_accuracy: 0.9333 - 18ms/epoch - 6ms/step\n",
      "Epoch 694/1000\n",
      "3/3 - 0s - loss: 0.0059 - accuracy: 1.0000 - val_loss: 0.1625 - val_accuracy: 0.9333 - 18ms/epoch - 6ms/step\n",
      "Epoch 695/1000\n",
      "3/3 - 0s - loss: 0.0035 - accuracy: 1.0000 - val_loss: 0.1624 - val_accuracy: 0.9333 - 18ms/epoch - 6ms/step\n",
      "Epoch 696/1000\n",
      "3/3 - 0s - loss: 0.0068 - accuracy: 1.0000 - val_loss: 0.1588 - val_accuracy: 0.9333 - 18ms/epoch - 6ms/step\n",
      "Epoch 697/1000\n",
      "3/3 - 0s - loss: 0.0132 - accuracy: 0.9889 - val_loss: 0.1512 - val_accuracy: 0.9333 - 20ms/epoch - 7ms/step\n",
      "Epoch 698/1000\n",
      "3/3 - 0s - loss: 0.0058 - accuracy: 1.0000 - val_loss: 0.1286 - val_accuracy: 0.9333 - 19ms/epoch - 6ms/step\n",
      "Epoch 699/1000\n",
      "3/3 - 0s - loss: 0.0033 - accuracy: 1.0000 - val_loss: 0.1083 - val_accuracy: 0.9333 - 19ms/epoch - 6ms/step\n",
      "Epoch 700/1000\n",
      "3/3 - 0s - loss: 0.0057 - accuracy: 1.0000 - val_loss: 0.0965 - val_accuracy: 0.9333 - 17ms/epoch - 6ms/step\n",
      "Epoch 701/1000\n",
      "3/3 - 0s - loss: 0.0841 - accuracy: 0.9889 - val_loss: 0.0931 - val_accuracy: 0.9333 - 19ms/epoch - 6ms/step\n",
      "Epoch 702/1000\n",
      "3/3 - 0s - loss: 0.0017 - accuracy: 1.0000 - val_loss: 0.0989 - val_accuracy: 0.9333 - 18ms/epoch - 6ms/step\n",
      "Epoch 703/1000\n",
      "3/3 - 0s - loss: 0.0184 - accuracy: 0.9889 - val_loss: 0.1134 - val_accuracy: 0.9667 - 20ms/epoch - 7ms/step\n",
      "Epoch 704/1000\n",
      "3/3 - 0s - loss: 0.0039 - accuracy: 1.0000 - val_loss: 0.2140 - val_accuracy: 0.9333 - 19ms/epoch - 6ms/step\n",
      "Epoch 705/1000\n",
      "3/3 - 0s - loss: 0.0139 - accuracy: 0.9889 - val_loss: 0.5056 - val_accuracy: 0.8333 - 19ms/epoch - 6ms/step\n",
      "Epoch 706/1000\n",
      "3/3 - 0s - loss: 0.0638 - accuracy: 0.9778 - val_loss: 0.6154 - val_accuracy: 0.8000 - 19ms/epoch - 6ms/step\n",
      "Epoch 707/1000\n",
      "3/3 - 0s - loss: 0.0160 - accuracy: 0.9889 - val_loss: 0.2647 - val_accuracy: 0.9000 - 19ms/epoch - 6ms/step\n",
      "Epoch 708/1000\n",
      "3/3 - 0s - loss: 0.0031 - accuracy: 1.0000 - val_loss: 0.1763 - val_accuracy: 0.9333 - 19ms/epoch - 6ms/step\n",
      "Epoch 709/1000\n",
      "3/3 - 0s - loss: 0.0058 - accuracy: 1.0000 - val_loss: 0.1334 - val_accuracy: 0.9333 - 18ms/epoch - 6ms/step\n",
      "Epoch 710/1000\n",
      "3/3 - 0s - loss: 0.0035 - accuracy: 1.0000 - val_loss: 0.1114 - val_accuracy: 0.9667 - 18ms/epoch - 6ms/step\n",
      "Epoch 711/1000\n",
      "3/3 - 0s - loss: 0.0064 - accuracy: 1.0000 - val_loss: 0.0947 - val_accuracy: 0.9667 - 17ms/epoch - 6ms/step\n",
      "Epoch 712/1000\n",
      "3/3 - 0s - loss: 0.0020 - accuracy: 1.0000 - val_loss: 0.0832 - val_accuracy: 0.9667 - 18ms/epoch - 6ms/step\n",
      "Epoch 713/1000\n",
      "3/3 - 0s - loss: 0.0064 - accuracy: 1.0000 - val_loss: 0.0791 - val_accuracy: 0.9667 - 19ms/epoch - 6ms/step\n",
      "Epoch 714/1000\n",
      "3/3 - 0s - loss: 0.0125 - accuracy: 1.0000 - val_loss: 0.0782 - val_accuracy: 0.9667 - 20ms/epoch - 7ms/step\n",
      "Epoch 715/1000\n",
      "3/3 - 0s - loss: 0.0421 - accuracy: 0.9778 - val_loss: 0.0800 - val_accuracy: 0.9667 - 19ms/epoch - 6ms/step\n",
      "Epoch 716/1000\n",
      "3/3 - 0s - loss: 0.0077 - accuracy: 1.0000 - val_loss: 0.0895 - val_accuracy: 0.9667 - 19ms/epoch - 6ms/step\n",
      "Epoch 717/1000\n",
      "3/3 - 0s - loss: 0.0121 - accuracy: 1.0000 - val_loss: 0.0979 - val_accuracy: 0.9667 - 18ms/epoch - 6ms/step\n",
      "Epoch 718/1000\n",
      "3/3 - 0s - loss: 0.0052 - accuracy: 1.0000 - val_loss: 0.1018 - val_accuracy: 0.9333 - 26ms/epoch - 9ms/step\n",
      "Epoch 719/1000\n",
      "3/3 - 0s - loss: 0.0040 - accuracy: 1.0000 - val_loss: 0.0979 - val_accuracy: 0.9333 - 19ms/epoch - 6ms/step\n",
      "Epoch 720/1000\n",
      "3/3 - 0s - loss: 0.0169 - accuracy: 0.9889 - val_loss: 0.0937 - val_accuracy: 0.9333 - 19ms/epoch - 6ms/step\n",
      "Epoch 721/1000\n",
      "3/3 - 0s - loss: 0.0065 - accuracy: 1.0000 - val_loss: 0.0922 - val_accuracy: 0.9333 - 19ms/epoch - 6ms/step\n",
      "Epoch 722/1000\n",
      "3/3 - 0s - loss: 0.0272 - accuracy: 0.9889 - val_loss: 0.0953 - val_accuracy: 0.9333 - 19ms/epoch - 6ms/step\n",
      "Epoch 723/1000\n",
      "3/3 - 0s - loss: 0.0045 - accuracy: 1.0000 - val_loss: 0.1112 - val_accuracy: 0.9333 - 19ms/epoch - 6ms/step\n",
      "Epoch 724/1000\n",
      "3/3 - 0s - loss: 0.0042 - accuracy: 1.0000 - val_loss: 0.1261 - val_accuracy: 0.9333 - 19ms/epoch - 6ms/step\n",
      "Epoch 725/1000\n",
      "3/3 - 0s - loss: 0.0029 - accuracy: 1.0000 - val_loss: 0.1392 - val_accuracy: 0.9333 - 19ms/epoch - 6ms/step\n",
      "Epoch 726/1000\n",
      "3/3 - 0s - loss: 0.0081 - accuracy: 1.0000 - val_loss: 0.1463 - val_accuracy: 0.9333 - 19ms/epoch - 6ms/step\n",
      "Epoch 727/1000\n",
      "3/3 - 0s - loss: 0.0208 - accuracy: 0.9889 - val_loss: 0.1545 - val_accuracy: 0.9333 - 19ms/epoch - 6ms/step\n",
      "Epoch 728/1000\n",
      "3/3 - 0s - loss: 0.0118 - accuracy: 0.9889 - val_loss: 0.1537 - val_accuracy: 0.9333 - 18ms/epoch - 6ms/step\n",
      "Epoch 729/1000\n",
      "3/3 - 0s - loss: 0.0061 - accuracy: 1.0000 - val_loss: 0.1603 - val_accuracy: 0.9667 - 18ms/epoch - 6ms/step\n",
      "Epoch 730/1000\n",
      "3/3 - 0s - loss: 0.0268 - accuracy: 0.9889 - val_loss: 0.1657 - val_accuracy: 0.9667 - 18ms/epoch - 6ms/step\n",
      "Epoch 731/1000\n",
      "3/3 - 0s - loss: 0.0177 - accuracy: 0.9889 - val_loss: 0.1068 - val_accuracy: 0.9667 - 19ms/epoch - 6ms/step\n",
      "Epoch 732/1000\n",
      "3/3 - 0s - loss: 0.0060 - accuracy: 1.0000 - val_loss: 0.0745 - val_accuracy: 0.9333 - 19ms/epoch - 6ms/step\n",
      "Epoch 733/1000\n",
      "3/3 - 0s - loss: 0.0293 - accuracy: 0.9889 - val_loss: 0.0862 - val_accuracy: 0.9667 - 19ms/epoch - 6ms/step\n",
      "Epoch 734/1000\n",
      "3/3 - 0s - loss: 0.0026 - accuracy: 1.0000 - val_loss: 0.1331 - val_accuracy: 0.9667 - 20ms/epoch - 7ms/step\n",
      "Epoch 735/1000\n",
      "3/3 - 0s - loss: 0.0486 - accuracy: 0.9778 - val_loss: 0.1537 - val_accuracy: 0.9667 - 20ms/epoch - 7ms/step\n",
      "Epoch 736/1000\n",
      "3/3 - 0s - loss: 0.0418 - accuracy: 0.9778 - val_loss: 0.1516 - val_accuracy: 0.9667 - 18ms/epoch - 6ms/step\n",
      "Epoch 737/1000\n",
      "3/3 - 0s - loss: 0.0024 - accuracy: 1.0000 - val_loss: 0.1625 - val_accuracy: 0.9667 - 19ms/epoch - 6ms/step\n"
     ]
    },
    {
     "name": "stdout",
     "output_type": "stream",
     "text": [
      "Epoch 738/1000\n",
      "3/3 - 0s - loss: 0.0042 - accuracy: 1.0000 - val_loss: 0.1715 - val_accuracy: 0.9667 - 21ms/epoch - 7ms/step\n",
      "Epoch 739/1000\n",
      "3/3 - 0s - loss: 0.0271 - accuracy: 0.9889 - val_loss: 0.1900 - val_accuracy: 0.9667 - 19ms/epoch - 6ms/step\n",
      "Epoch 740/1000\n",
      "3/3 - 0s - loss: 0.0079 - accuracy: 1.0000 - val_loss: 0.2146 - val_accuracy: 0.9667 - 19ms/epoch - 6ms/step\n",
      "Epoch 741/1000\n",
      "3/3 - 0s - loss: 0.0758 - accuracy: 0.9778 - val_loss: 0.2137 - val_accuracy: 0.9667 - 19ms/epoch - 6ms/step\n",
      "Epoch 742/1000\n",
      "3/3 - 0s - loss: 0.0586 - accuracy: 0.9889 - val_loss: 0.1931 - val_accuracy: 0.9667 - 19ms/epoch - 6ms/step\n",
      "Epoch 743/1000\n",
      "3/3 - 0s - loss: 0.0049 - accuracy: 1.0000 - val_loss: 0.1809 - val_accuracy: 0.9333 - 18ms/epoch - 6ms/step\n",
      "Epoch 744/1000\n",
      "3/3 - 0s - loss: 0.0793 - accuracy: 0.9778 - val_loss: 0.1837 - val_accuracy: 0.9333 - 18ms/epoch - 6ms/step\n",
      "Epoch 745/1000\n",
      "3/3 - 0s - loss: 0.0081 - accuracy: 1.0000 - val_loss: 0.1884 - val_accuracy: 0.9333 - 18ms/epoch - 6ms/step\n",
      "Epoch 746/1000\n",
      "3/3 - 0s - loss: 0.0114 - accuracy: 0.9889 - val_loss: 0.1942 - val_accuracy: 0.9333 - 18ms/epoch - 6ms/step\n",
      "Epoch 747/1000\n",
      "3/3 - 0s - loss: 0.0079 - accuracy: 1.0000 - val_loss: 0.1951 - val_accuracy: 0.9333 - 18ms/epoch - 6ms/step\n",
      "Epoch 748/1000\n",
      "3/3 - 0s - loss: 0.0079 - accuracy: 1.0000 - val_loss: 0.1904 - val_accuracy: 0.9333 - 19ms/epoch - 6ms/step\n",
      "Epoch 749/1000\n",
      "3/3 - 0s - loss: 0.0126 - accuracy: 1.0000 - val_loss: 0.1824 - val_accuracy: 0.9333 - 21ms/epoch - 7ms/step\n",
      "Epoch 750/1000\n",
      "3/3 - 0s - loss: 0.0079 - accuracy: 1.0000 - val_loss: 0.1710 - val_accuracy: 0.9333 - 19ms/epoch - 6ms/step\n",
      "Epoch 751/1000\n",
      "3/3 - 0s - loss: 0.0109 - accuracy: 0.9889 - val_loss: 0.1581 - val_accuracy: 0.9333 - 18ms/epoch - 6ms/step\n",
      "Epoch 752/1000\n",
      "3/3 - 0s - loss: 0.0057 - accuracy: 1.0000 - val_loss: 0.1526 - val_accuracy: 0.9333 - 19ms/epoch - 6ms/step\n",
      "Epoch 753/1000\n",
      "3/3 - 0s - loss: 0.0028 - accuracy: 1.0000 - val_loss: 0.1522 - val_accuracy: 0.9333 - 19ms/epoch - 6ms/step\n",
      "Epoch 754/1000\n",
      "3/3 - 0s - loss: 0.0061 - accuracy: 1.0000 - val_loss: 0.1512 - val_accuracy: 0.9333 - 20ms/epoch - 7ms/step\n",
      "Epoch 755/1000\n",
      "3/3 - 0s - loss: 0.0019 - accuracy: 1.0000 - val_loss: 0.1499 - val_accuracy: 0.9333 - 18ms/epoch - 6ms/step\n",
      "Epoch 756/1000\n",
      "3/3 - 0s - loss: 0.0049 - accuracy: 1.0000 - val_loss: 0.1581 - val_accuracy: 0.9333 - 18ms/epoch - 6ms/step\n",
      "Epoch 757/1000\n",
      "3/3 - 0s - loss: 0.0506 - accuracy: 0.9667 - val_loss: 0.1749 - val_accuracy: 0.9333 - 23ms/epoch - 8ms/step\n",
      "Epoch 758/1000\n",
      "3/3 - 0s - loss: 0.0097 - accuracy: 1.0000 - val_loss: 0.1703 - val_accuracy: 0.9333 - 23ms/epoch - 8ms/step\n",
      "Epoch 759/1000\n",
      "3/3 - 0s - loss: 0.0027 - accuracy: 1.0000 - val_loss: 0.1658 - val_accuracy: 0.9333 - 23ms/epoch - 8ms/step\n",
      "Epoch 760/1000\n",
      "3/3 - 0s - loss: 0.0049 - accuracy: 1.0000 - val_loss: 0.1694 - val_accuracy: 0.9333 - 35ms/epoch - 12ms/step\n",
      "Epoch 761/1000\n",
      "3/3 - 0s - loss: 0.1411 - accuracy: 0.9667 - val_loss: 0.1679 - val_accuracy: 0.9333 - 29ms/epoch - 10ms/step\n",
      "Epoch 762/1000\n",
      "3/3 - 0s - loss: 0.0083 - accuracy: 1.0000 - val_loss: 0.1714 - val_accuracy: 0.9333 - 25ms/epoch - 8ms/step\n",
      "Epoch 763/1000\n",
      "3/3 - 0s - loss: 0.0072 - accuracy: 1.0000 - val_loss: 0.1829 - val_accuracy: 0.9667 - 27ms/epoch - 9ms/step\n",
      "Epoch 764/1000\n",
      "3/3 - 0s - loss: 0.0119 - accuracy: 1.0000 - val_loss: 0.1926 - val_accuracy: 0.9667 - 27ms/epoch - 9ms/step\n",
      "Epoch 765/1000\n",
      "3/3 - 0s - loss: 0.0028 - accuracy: 1.0000 - val_loss: 0.1991 - val_accuracy: 0.9333 - 27ms/epoch - 9ms/step\n",
      "Epoch 766/1000\n",
      "3/3 - 0s - loss: 0.0141 - accuracy: 1.0000 - val_loss: 0.2010 - val_accuracy: 0.9333 - 24ms/epoch - 8ms/step\n",
      "Epoch 767/1000\n",
      "3/3 - 0s - loss: 0.0081 - accuracy: 1.0000 - val_loss: 0.1899 - val_accuracy: 0.9333 - 19ms/epoch - 6ms/step\n",
      "Epoch 768/1000\n",
      "3/3 - 0s - loss: 0.0047 - accuracy: 1.0000 - val_loss: 0.1698 - val_accuracy: 0.9333 - 20ms/epoch - 7ms/step\n",
      "Epoch 769/1000\n",
      "3/3 - 0s - loss: 0.0089 - accuracy: 1.0000 - val_loss: 0.1654 - val_accuracy: 0.9333 - 20ms/epoch - 7ms/step\n",
      "Epoch 770/1000\n",
      "3/3 - 0s - loss: 0.0112 - accuracy: 1.0000 - val_loss: 0.1709 - val_accuracy: 0.9333 - 18ms/epoch - 6ms/step\n",
      "Epoch 771/1000\n",
      "3/3 - 0s - loss: 0.0036 - accuracy: 1.0000 - val_loss: 0.1712 - val_accuracy: 0.9333 - 19ms/epoch - 6ms/step\n",
      "Epoch 772/1000\n",
      "3/3 - 0s - loss: 0.0373 - accuracy: 0.9889 - val_loss: 0.1731 - val_accuracy: 0.9333 - 22ms/epoch - 7ms/step\n",
      "Epoch 773/1000\n",
      "3/3 - 0s - loss: 0.0025 - accuracy: 1.0000 - val_loss: 0.1872 - val_accuracy: 0.9333 - 20ms/epoch - 7ms/step\n",
      "Epoch 774/1000\n",
      "3/3 - 0s - loss: 0.0196 - accuracy: 0.9889 - val_loss: 0.1951 - val_accuracy: 0.9667 - 19ms/epoch - 6ms/step\n",
      "Epoch 775/1000\n",
      "3/3 - 0s - loss: 0.0031 - accuracy: 1.0000 - val_loss: 0.1965 - val_accuracy: 0.9667 - 20ms/epoch - 7ms/step\n",
      "Epoch 776/1000\n",
      "3/3 - 0s - loss: 0.0219 - accuracy: 0.9889 - val_loss: 0.1951 - val_accuracy: 0.9667 - 20ms/epoch - 7ms/step\n",
      "Epoch 777/1000\n",
      "3/3 - 0s - loss: 0.0122 - accuracy: 0.9889 - val_loss: 0.1946 - val_accuracy: 0.9667 - 20ms/epoch - 7ms/step\n",
      "Epoch 778/1000\n",
      "3/3 - 0s - loss: 0.0025 - accuracy: 1.0000 - val_loss: 0.1900 - val_accuracy: 0.9000 - 20ms/epoch - 7ms/step\n",
      "Epoch 779/1000\n",
      "3/3 - 0s - loss: 0.0031 - accuracy: 1.0000 - val_loss: 0.1880 - val_accuracy: 0.9000 - 21ms/epoch - 7ms/step\n",
      "Epoch 780/1000\n",
      "3/3 - 0s - loss: 0.0014 - accuracy: 1.0000 - val_loss: 0.1856 - val_accuracy: 0.9000 - 20ms/epoch - 7ms/step\n",
      "Epoch 781/1000\n",
      "3/3 - 0s - loss: 0.0038 - accuracy: 1.0000 - val_loss: 0.1785 - val_accuracy: 0.9333 - 19ms/epoch - 6ms/step\n",
      "Epoch 782/1000\n",
      "3/3 - 0s - loss: 0.0087 - accuracy: 1.0000 - val_loss: 0.1703 - val_accuracy: 0.9333 - 21ms/epoch - 7ms/step\n",
      "Epoch 783/1000\n",
      "3/3 - 0s - loss: 0.0075 - accuracy: 1.0000 - val_loss: 0.1621 - val_accuracy: 0.9333 - 20ms/epoch - 7ms/step\n",
      "Epoch 784/1000\n",
      "3/3 - 0s - loss: 0.0033 - accuracy: 1.0000 - val_loss: 0.1526 - val_accuracy: 0.9333 - 20ms/epoch - 7ms/step\n",
      "Epoch 785/1000\n",
      "3/3 - 0s - loss: 0.0074 - accuracy: 1.0000 - val_loss: 0.1408 - val_accuracy: 0.9333 - 19ms/epoch - 6ms/step\n",
      "Epoch 786/1000\n",
      "3/3 - 0s - loss: 0.0108 - accuracy: 0.9889 - val_loss: 0.1353 - val_accuracy: 0.9333 - 20ms/epoch - 7ms/step\n",
      "Epoch 787/1000\n",
      "3/3 - 0s - loss: 0.0060 - accuracy: 1.0000 - val_loss: 0.1313 - val_accuracy: 0.9667 - 19ms/epoch - 6ms/step\n",
      "Epoch 788/1000\n",
      "3/3 - 0s - loss: 0.0103 - accuracy: 1.0000 - val_loss: 0.1213 - val_accuracy: 0.9667 - 20ms/epoch - 7ms/step\n",
      "Epoch 789/1000\n",
      "3/3 - 0s - loss: 0.0058 - accuracy: 1.0000 - val_loss: 0.1083 - val_accuracy: 0.9667 - 19ms/epoch - 6ms/step\n",
      "Epoch 790/1000\n",
      "3/3 - 0s - loss: 0.0230 - accuracy: 0.9778 - val_loss: 0.1063 - val_accuracy: 0.9667 - 20ms/epoch - 7ms/step\n",
      "Epoch 791/1000\n",
      "3/3 - 0s - loss: 0.0026 - accuracy: 1.0000 - val_loss: 0.1011 - val_accuracy: 0.9333 - 20ms/epoch - 7ms/step\n",
      "Epoch 792/1000\n",
      "3/3 - 0s - loss: 0.0055 - accuracy: 1.0000 - val_loss: 0.1031 - val_accuracy: 0.9333 - 19ms/epoch - 6ms/step\n",
      "Epoch 793/1000\n",
      "3/3 - 0s - loss: 0.0068 - accuracy: 1.0000 - val_loss: 0.1026 - val_accuracy: 0.9333 - 20ms/epoch - 7ms/step\n",
      "Epoch 794/1000\n",
      "3/3 - 0s - loss: 0.0059 - accuracy: 1.0000 - val_loss: 0.1115 - val_accuracy: 0.9333 - 21ms/epoch - 7ms/step\n",
      "Epoch 795/1000\n",
      "3/3 - 0s - loss: 0.0148 - accuracy: 0.9889 - val_loss: 0.1561 - val_accuracy: 0.9333 - 20ms/epoch - 7ms/step\n",
      "Epoch 796/1000\n",
      "3/3 - 0s - loss: 0.0183 - accuracy: 0.9889 - val_loss: 0.2032 - val_accuracy: 0.9333 - 19ms/epoch - 6ms/step\n",
      "Epoch 797/1000\n",
      "3/3 - 0s - loss: 0.0174 - accuracy: 1.0000 - val_loss: 0.2172 - val_accuracy: 0.9333 - 19ms/epoch - 6ms/step\n",
      "Epoch 798/1000\n",
      "3/3 - 0s - loss: 0.0469 - accuracy: 0.9889 - val_loss: 0.2061 - val_accuracy: 0.9667 - 21ms/epoch - 7ms/step\n",
      "Epoch 799/1000\n",
      "3/3 - 0s - loss: 0.0215 - accuracy: 0.9889 - val_loss: 0.1938 - val_accuracy: 0.9667 - 19ms/epoch - 6ms/step\n",
      "Epoch 800/1000\n",
      "3/3 - 0s - loss: 0.0316 - accuracy: 0.9889 - val_loss: 0.1497 - val_accuracy: 0.9667 - 20ms/epoch - 7ms/step\n",
      "Epoch 801/1000\n",
      "3/3 - 0s - loss: 0.0696 - accuracy: 0.9778 - val_loss: 0.1239 - val_accuracy: 0.9667 - 21ms/epoch - 7ms/step\n",
      "Epoch 802/1000\n",
      "3/3 - 0s - loss: 0.0030 - accuracy: 1.0000 - val_loss: 0.1328 - val_accuracy: 0.9667 - 20ms/epoch - 7ms/step\n",
      "Epoch 803/1000\n",
      "3/3 - 0s - loss: 0.0074 - accuracy: 1.0000 - val_loss: 0.1568 - val_accuracy: 0.9667 - 20ms/epoch - 7ms/step\n",
      "Epoch 804/1000\n",
      "3/3 - 0s - loss: 0.0054 - accuracy: 1.0000 - val_loss: 0.1850 - val_accuracy: 0.9333 - 19ms/epoch - 6ms/step\n"
     ]
    },
    {
     "name": "stdout",
     "output_type": "stream",
     "text": [
      "Epoch 805/1000\n",
      "3/3 - 0s - loss: 0.0117 - accuracy: 1.0000 - val_loss: 0.1827 - val_accuracy: 0.9333 - 20ms/epoch - 7ms/step\n",
      "Epoch 806/1000\n",
      "3/3 - 0s - loss: 0.0040 - accuracy: 1.0000 - val_loss: 0.1492 - val_accuracy: 0.9667 - 20ms/epoch - 7ms/step\n",
      "Epoch 807/1000\n",
      "3/3 - 0s - loss: 0.0143 - accuracy: 0.9889 - val_loss: 0.1475 - val_accuracy: 0.9667 - 20ms/epoch - 7ms/step\n",
      "Epoch 808/1000\n",
      "3/3 - 0s - loss: 0.0803 - accuracy: 0.9889 - val_loss: 0.1491 - val_accuracy: 0.9667 - 21ms/epoch - 7ms/step\n",
      "Epoch 809/1000\n",
      "3/3 - 0s - loss: 0.0044 - accuracy: 1.0000 - val_loss: 0.1856 - val_accuracy: 0.9000 - 20ms/epoch - 7ms/step\n",
      "Epoch 810/1000\n",
      "3/3 - 0s - loss: 0.0063 - accuracy: 1.0000 - val_loss: 0.2231 - val_accuracy: 0.9000 - 21ms/epoch - 7ms/step\n",
      "Epoch 811/1000\n",
      "3/3 - 0s - loss: 0.0034 - accuracy: 1.0000 - val_loss: 0.2555 - val_accuracy: 0.9000 - 20ms/epoch - 7ms/step\n",
      "Epoch 812/1000\n",
      "3/3 - 0s - loss: 0.0038 - accuracy: 1.0000 - val_loss: 0.2649 - val_accuracy: 0.9000 - 20ms/epoch - 7ms/step\n",
      "Epoch 813/1000\n",
      "3/3 - 0s - loss: 0.0808 - accuracy: 0.9889 - val_loss: 0.2274 - val_accuracy: 0.9000 - 21ms/epoch - 7ms/step\n",
      "Epoch 814/1000\n",
      "3/3 - 0s - loss: 0.0050 - accuracy: 1.0000 - val_loss: 0.1365 - val_accuracy: 0.9333 - 19ms/epoch - 6ms/step\n",
      "Epoch 815/1000\n",
      "3/3 - 0s - loss: 0.0029 - accuracy: 1.0000 - val_loss: 0.0977 - val_accuracy: 0.9667 - 21ms/epoch - 7ms/step\n",
      "Epoch 816/1000\n",
      "3/3 - 0s - loss: 0.0040 - accuracy: 1.0000 - val_loss: 0.0825 - val_accuracy: 0.9667 - 21ms/epoch - 7ms/step\n",
      "Epoch 817/1000\n",
      "3/3 - 0s - loss: 0.0033 - accuracy: 1.0000 - val_loss: 0.0896 - val_accuracy: 0.9667 - 20ms/epoch - 7ms/step\n",
      "Epoch 818/1000\n",
      "3/3 - 0s - loss: 0.0065 - accuracy: 1.0000 - val_loss: 0.0993 - val_accuracy: 0.9667 - 20ms/epoch - 7ms/step\n",
      "Epoch 819/1000\n",
      "3/3 - 0s - loss: 0.0331 - accuracy: 0.9889 - val_loss: 0.1171 - val_accuracy: 0.9333 - 21ms/epoch - 7ms/step\n",
      "Epoch 820/1000\n",
      "3/3 - 0s - loss: 0.0042 - accuracy: 1.0000 - val_loss: 0.1595 - val_accuracy: 0.9333 - 20ms/epoch - 7ms/step\n",
      "Epoch 821/1000\n",
      "3/3 - 0s - loss: 0.0040 - accuracy: 1.0000 - val_loss: 0.2086 - val_accuracy: 0.9333 - 19ms/epoch - 6ms/step\n",
      "Epoch 822/1000\n",
      "3/3 - 0s - loss: 0.0060 - accuracy: 1.0000 - val_loss: 0.2444 - val_accuracy: 0.9333 - 19ms/epoch - 6ms/step\n",
      "Epoch 823/1000\n",
      "3/3 - 0s - loss: 0.0391 - accuracy: 0.9778 - val_loss: 0.2271 - val_accuracy: 0.9333 - 20ms/epoch - 7ms/step\n",
      "Epoch 824/1000\n",
      "3/3 - 0s - loss: 0.0181 - accuracy: 1.0000 - val_loss: 0.2175 - val_accuracy: 0.9333 - 20ms/epoch - 7ms/step\n",
      "Epoch 825/1000\n",
      "3/3 - 0s - loss: 0.0225 - accuracy: 0.9889 - val_loss: 0.3056 - val_accuracy: 0.9333 - 20ms/epoch - 7ms/step\n",
      "Epoch 826/1000\n",
      "3/3 - 0s - loss: 0.0581 - accuracy: 0.9778 - val_loss: 0.4477 - val_accuracy: 0.8667 - 20ms/epoch - 7ms/step\n",
      "Epoch 827/1000\n",
      "3/3 - 0s - loss: 0.0043 - accuracy: 1.0000 - val_loss: 0.6655 - val_accuracy: 0.8333 - 20ms/epoch - 7ms/step\n",
      "Epoch 828/1000\n",
      "3/3 - 0s - loss: 0.0230 - accuracy: 0.9889 - val_loss: 0.5298 - val_accuracy: 0.8667 - 19ms/epoch - 6ms/step\n",
      "Epoch 829/1000\n",
      "3/3 - 0s - loss: 0.0235 - accuracy: 0.9889 - val_loss: 0.2304 - val_accuracy: 0.9000 - 20ms/epoch - 7ms/step\n",
      "Epoch 830/1000\n",
      "3/3 - 0s - loss: 0.0167 - accuracy: 0.9889 - val_loss: 0.1228 - val_accuracy: 0.9333 - 20ms/epoch - 7ms/step\n",
      "Epoch 831/1000\n",
      "3/3 - 0s - loss: 0.0060 - accuracy: 1.0000 - val_loss: 0.1110 - val_accuracy: 0.9333 - 20ms/epoch - 7ms/step\n",
      "Epoch 832/1000\n",
      "3/3 - 0s - loss: 0.0942 - accuracy: 0.9667 - val_loss: 0.1077 - val_accuracy: 0.9333 - 21ms/epoch - 7ms/step\n",
      "Epoch 833/1000\n",
      "3/3 - 0s - loss: 0.0206 - accuracy: 1.0000 - val_loss: 0.1287 - val_accuracy: 0.9333 - 20ms/epoch - 7ms/step\n",
      "Epoch 834/1000\n",
      "3/3 - 0s - loss: 0.0730 - accuracy: 0.9444 - val_loss: 0.1504 - val_accuracy: 0.9333 - 20ms/epoch - 7ms/step\n",
      "Epoch 835/1000\n",
      "3/3 - 0s - loss: 0.0924 - accuracy: 0.9778 - val_loss: 0.1245 - val_accuracy: 0.9333 - 20ms/epoch - 7ms/step\n",
      "Epoch 836/1000\n",
      "3/3 - 0s - loss: 0.0411 - accuracy: 0.9889 - val_loss: 0.0759 - val_accuracy: 0.9333 - 20ms/epoch - 7ms/step\n",
      "Epoch 837/1000\n",
      "3/3 - 0s - loss: 0.0099 - accuracy: 1.0000 - val_loss: 0.0883 - val_accuracy: 0.9667 - 20ms/epoch - 7ms/step\n",
      "Epoch 838/1000\n",
      "3/3 - 0s - loss: 0.0089 - accuracy: 1.0000 - val_loss: 0.1351 - val_accuracy: 0.9333 - 19ms/epoch - 6ms/step\n",
      "Epoch 839/1000\n",
      "3/3 - 0s - loss: 0.0184 - accuracy: 1.0000 - val_loss: 0.1743 - val_accuracy: 0.9000 - 19ms/epoch - 6ms/step\n",
      "Epoch 840/1000\n",
      "3/3 - 0s - loss: 0.0078 - accuracy: 1.0000 - val_loss: 0.1952 - val_accuracy: 0.9000 - 20ms/epoch - 7ms/step\n",
      "Epoch 841/1000\n",
      "3/3 - 0s - loss: 0.0383 - accuracy: 0.9778 - val_loss: 0.1615 - val_accuracy: 0.9000 - 22ms/epoch - 7ms/step\n",
      "Epoch 842/1000\n",
      "3/3 - 0s - loss: 0.0174 - accuracy: 1.0000 - val_loss: 0.0872 - val_accuracy: 0.9667 - 19ms/epoch - 6ms/step\n",
      "Epoch 843/1000\n",
      "3/3 - 0s - loss: 0.0124 - accuracy: 1.0000 - val_loss: 0.0617 - val_accuracy: 0.9667 - 19ms/epoch - 6ms/step\n",
      "Epoch 844/1000\n",
      "3/3 - 0s - loss: 0.0054 - accuracy: 1.0000 - val_loss: 0.0618 - val_accuracy: 0.9667 - 20ms/epoch - 7ms/step\n",
      "Epoch 845/1000\n",
      "3/3 - 0s - loss: 0.0089 - accuracy: 1.0000 - val_loss: 0.0664 - val_accuracy: 0.9667 - 20ms/epoch - 7ms/step\n",
      "Epoch 846/1000\n",
      "3/3 - 0s - loss: 0.0693 - accuracy: 0.9889 - val_loss: 0.0797 - val_accuracy: 0.9667 - 19ms/epoch - 6ms/step\n",
      "Epoch 847/1000\n",
      "3/3 - 0s - loss: 0.0042 - accuracy: 1.0000 - val_loss: 0.1009 - val_accuracy: 0.9667 - 18ms/epoch - 6ms/step\n",
      "Epoch 848/1000\n",
      "3/3 - 0s - loss: 0.0084 - accuracy: 1.0000 - val_loss: 0.1020 - val_accuracy: 0.9667 - 21ms/epoch - 7ms/step\n",
      "Epoch 849/1000\n",
      "3/3 - 0s - loss: 0.0148 - accuracy: 1.0000 - val_loss: 0.1025 - val_accuracy: 0.9333 - 19ms/epoch - 6ms/step\n",
      "Epoch 850/1000\n",
      "3/3 - 0s - loss: 0.0045 - accuracy: 1.0000 - val_loss: 0.1137 - val_accuracy: 0.9333 - 20ms/epoch - 7ms/step\n",
      "Epoch 851/1000\n",
      "3/3 - 0s - loss: 0.0213 - accuracy: 0.9889 - val_loss: 0.1311 - val_accuracy: 0.9333 - 20ms/epoch - 7ms/step\n",
      "Epoch 852/1000\n",
      "3/3 - 0s - loss: 0.0049 - accuracy: 1.0000 - val_loss: 0.1523 - val_accuracy: 0.9333 - 20ms/epoch - 7ms/step\n",
      "Epoch 853/1000\n",
      "3/3 - 0s - loss: 0.0346 - accuracy: 0.9889 - val_loss: 0.1529 - val_accuracy: 0.9333 - 19ms/epoch - 6ms/step\n",
      "Epoch 854/1000\n",
      "3/3 - 0s - loss: 0.0052 - accuracy: 1.0000 - val_loss: 0.1575 - val_accuracy: 0.9333 - 19ms/epoch - 6ms/step\n",
      "Epoch 855/1000\n",
      "3/3 - 0s - loss: 0.0151 - accuracy: 0.9889 - val_loss: 0.1573 - val_accuracy: 0.9333 - 18ms/epoch - 6ms/step\n",
      "Epoch 856/1000\n",
      "3/3 - 0s - loss: 0.0124 - accuracy: 1.0000 - val_loss: 0.1517 - val_accuracy: 0.9333 - 19ms/epoch - 6ms/step\n",
      "Epoch 857/1000\n",
      "3/3 - 0s - loss: 0.0255 - accuracy: 0.9778 - val_loss: 0.1512 - val_accuracy: 0.9333 - 19ms/epoch - 6ms/step\n",
      "Epoch 858/1000\n",
      "3/3 - 0s - loss: 0.0378 - accuracy: 0.9889 - val_loss: 0.1736 - val_accuracy: 0.9333 - 20ms/epoch - 7ms/step\n",
      "Epoch 859/1000\n",
      "3/3 - 0s - loss: 0.0739 - accuracy: 0.9667 - val_loss: 0.1909 - val_accuracy: 0.9333 - 20ms/epoch - 7ms/step\n",
      "Epoch 860/1000\n",
      "3/3 - 0s - loss: 0.0626 - accuracy: 0.9778 - val_loss: 0.1894 - val_accuracy: 0.9333 - 21ms/epoch - 7ms/step\n",
      "Epoch 861/1000\n",
      "3/3 - 0s - loss: 0.0227 - accuracy: 0.9889 - val_loss: 0.1925 - val_accuracy: 0.9333 - 20ms/epoch - 7ms/step\n",
      "Epoch 862/1000\n",
      "3/3 - 0s - loss: 0.0263 - accuracy: 0.9889 - val_loss: 0.1791 - val_accuracy: 0.9333 - 20ms/epoch - 7ms/step\n",
      "Epoch 863/1000\n",
      "3/3 - 0s - loss: 0.0077 - accuracy: 1.0000 - val_loss: 0.1614 - val_accuracy: 0.9333 - 20ms/epoch - 7ms/step\n",
      "Epoch 864/1000\n",
      "3/3 - 0s - loss: 0.0103 - accuracy: 1.0000 - val_loss: 0.1477 - val_accuracy: 0.9333 - 20ms/epoch - 7ms/step\n",
      "Epoch 865/1000\n",
      "3/3 - 0s - loss: 0.0078 - accuracy: 1.0000 - val_loss: 0.1325 - val_accuracy: 0.9667 - 19ms/epoch - 6ms/step\n",
      "Epoch 866/1000\n",
      "3/3 - 0s - loss: 0.0073 - accuracy: 1.0000 - val_loss: 0.1188 - val_accuracy: 0.9667 - 21ms/epoch - 7ms/step\n",
      "Epoch 867/1000\n",
      "3/3 - 0s - loss: 0.0258 - accuracy: 0.9889 - val_loss: 0.1065 - val_accuracy: 0.9667 - 21ms/epoch - 7ms/step\n",
      "Epoch 868/1000\n",
      "3/3 - 0s - loss: 0.0077 - accuracy: 1.0000 - val_loss: 0.0980 - val_accuracy: 0.9667 - 20ms/epoch - 7ms/step\n",
      "Epoch 869/1000\n",
      "3/3 - 0s - loss: 0.0028 - accuracy: 1.0000 - val_loss: 0.0929 - val_accuracy: 0.9667 - 20ms/epoch - 7ms/step\n",
      "Epoch 870/1000\n",
      "3/3 - 0s - loss: 0.0043 - accuracy: 1.0000 - val_loss: 0.0894 - val_accuracy: 0.9667 - 19ms/epoch - 6ms/step\n",
      "Epoch 871/1000\n",
      "3/3 - 0s - loss: 0.0053 - accuracy: 1.0000 - val_loss: 0.0840 - val_accuracy: 0.9667 - 19ms/epoch - 6ms/step\n"
     ]
    },
    {
     "name": "stdout",
     "output_type": "stream",
     "text": [
      "Epoch 872/1000\n",
      "3/3 - 0s - loss: 0.0109 - accuracy: 0.9889 - val_loss: 0.0850 - val_accuracy: 0.9667 - 19ms/epoch - 6ms/step\n",
      "Epoch 873/1000\n",
      "3/3 - 0s - loss: 0.0030 - accuracy: 1.0000 - val_loss: 0.0916 - val_accuracy: 0.9667 - 19ms/epoch - 6ms/step\n",
      "Epoch 874/1000\n",
      "3/3 - 0s - loss: 0.0053 - accuracy: 1.0000 - val_loss: 0.0998 - val_accuracy: 0.9667 - 19ms/epoch - 6ms/step\n",
      "Epoch 875/1000\n",
      "3/3 - 0s - loss: 0.0048 - accuracy: 1.0000 - val_loss: 0.1086 - val_accuracy: 0.9667 - 18ms/epoch - 6ms/step\n",
      "Epoch 876/1000\n",
      "3/3 - 0s - loss: 0.0022 - accuracy: 1.0000 - val_loss: 0.1119 - val_accuracy: 0.9667 - 19ms/epoch - 6ms/step\n",
      "Epoch 877/1000\n",
      "3/3 - 0s - loss: 0.0071 - accuracy: 1.0000 - val_loss: 0.1132 - val_accuracy: 0.9667 - 17ms/epoch - 6ms/step\n",
      "Epoch 878/1000\n",
      "3/3 - 0s - loss: 0.0062 - accuracy: 1.0000 - val_loss: 0.1122 - val_accuracy: 0.9667 - 17ms/epoch - 6ms/step\n",
      "Epoch 879/1000\n",
      "3/3 - 0s - loss: 0.0027 - accuracy: 1.0000 - val_loss: 0.1109 - val_accuracy: 0.9667 - 20ms/epoch - 7ms/step\n",
      "Epoch 880/1000\n",
      "3/3 - 0s - loss: 0.0062 - accuracy: 1.0000 - val_loss: 0.1081 - val_accuracy: 0.9667 - 19ms/epoch - 6ms/step\n",
      "Epoch 881/1000\n",
      "3/3 - 0s - loss: 0.0023 - accuracy: 1.0000 - val_loss: 0.1062 - val_accuracy: 0.9667 - 19ms/epoch - 6ms/step\n",
      "Epoch 882/1000\n",
      "3/3 - 0s - loss: 0.0031 - accuracy: 1.0000 - val_loss: 0.1044 - val_accuracy: 0.9667 - 19ms/epoch - 6ms/step\n",
      "Epoch 883/1000\n",
      "3/3 - 0s - loss: 0.0050 - accuracy: 1.0000 - val_loss: 0.0954 - val_accuracy: 0.9667 - 19ms/epoch - 6ms/step\n",
      "Epoch 884/1000\n",
      "3/3 - 0s - loss: 0.0014 - accuracy: 1.0000 - val_loss: 0.0780 - val_accuracy: 0.9667 - 20ms/epoch - 7ms/step\n",
      "Epoch 885/1000\n",
      "3/3 - 0s - loss: 0.0032 - accuracy: 1.0000 - val_loss: 0.0668 - val_accuracy: 0.9667 - 19ms/epoch - 6ms/step\n",
      "Epoch 886/1000\n",
      "3/3 - 0s - loss: 0.0042 - accuracy: 1.0000 - val_loss: 0.0615 - val_accuracy: 0.9333 - 21ms/epoch - 7ms/step\n",
      "Epoch 887/1000\n",
      "3/3 - 0s - loss: 0.0018 - accuracy: 1.0000 - val_loss: 0.0611 - val_accuracy: 0.9333 - 19ms/epoch - 6ms/step\n",
      "Epoch 888/1000\n",
      "3/3 - 0s - loss: 0.0012 - accuracy: 1.0000 - val_loss: 0.0598 - val_accuracy: 0.9667 - 21ms/epoch - 7ms/step\n",
      "Epoch 889/1000\n",
      "3/3 - 0s - loss: 0.0014 - accuracy: 1.0000 - val_loss: 0.0599 - val_accuracy: 0.9667 - 20ms/epoch - 7ms/step\n",
      "Epoch 890/1000\n",
      "3/3 - 0s - loss: 0.0016 - accuracy: 1.0000 - val_loss: 0.0616 - val_accuracy: 0.9667 - 20ms/epoch - 7ms/step\n",
      "Epoch 891/1000\n",
      "3/3 - 0s - loss: 0.0618 - accuracy: 0.9889 - val_loss: 0.0680 - val_accuracy: 0.9667 - 20ms/epoch - 7ms/step\n",
      "Epoch 892/1000\n",
      "3/3 - 0s - loss: 0.0040 - accuracy: 1.0000 - val_loss: 0.1076 - val_accuracy: 0.9333 - 19ms/epoch - 6ms/step\n",
      "Epoch 893/1000\n",
      "3/3 - 0s - loss: 0.0022 - accuracy: 1.0000 - val_loss: 0.1023 - val_accuracy: 0.9333 - 20ms/epoch - 7ms/step\n",
      "Epoch 894/1000\n",
      "3/3 - 0s - loss: 0.0024 - accuracy: 1.0000 - val_loss: 0.0979 - val_accuracy: 0.9333 - 19ms/epoch - 6ms/step\n",
      "Epoch 895/1000\n",
      "3/3 - 0s - loss: 0.0230 - accuracy: 0.9778 - val_loss: 0.0924 - val_accuracy: 0.9333 - 20ms/epoch - 7ms/step\n",
      "Epoch 896/1000\n",
      "3/3 - 0s - loss: 0.0116 - accuracy: 1.0000 - val_loss: 0.0794 - val_accuracy: 0.9667 - 19ms/epoch - 6ms/step\n",
      "Epoch 897/1000\n",
      "3/3 - 0s - loss: 0.0310 - accuracy: 0.9889 - val_loss: 0.0679 - val_accuracy: 0.9667 - 18ms/epoch - 6ms/step\n",
      "Epoch 898/1000\n",
      "3/3 - 0s - loss: 0.0054 - accuracy: 1.0000 - val_loss: 0.0674 - val_accuracy: 0.9667 - 19ms/epoch - 6ms/step\n",
      "Epoch 899/1000\n",
      "3/3 - 0s - loss: 0.0025 - accuracy: 1.0000 - val_loss: 0.0662 - val_accuracy: 0.9667 - 19ms/epoch - 6ms/step\n",
      "Epoch 900/1000\n",
      "3/3 - 0s - loss: 0.1352 - accuracy: 0.9556 - val_loss: 0.0803 - val_accuracy: 0.9667 - 20ms/epoch - 7ms/step\n",
      "Epoch 901/1000\n",
      "3/3 - 0s - loss: 0.0017 - accuracy: 1.0000 - val_loss: 0.2024 - val_accuracy: 0.9000 - 19ms/epoch - 6ms/step\n",
      "Epoch 902/1000\n",
      "3/3 - 0s - loss: 0.0174 - accuracy: 0.9889 - val_loss: 0.2939 - val_accuracy: 0.8667 - 19ms/epoch - 6ms/step\n",
      "Epoch 903/1000\n",
      "3/3 - 0s - loss: 0.0035 - accuracy: 1.0000 - val_loss: 0.3378 - val_accuracy: 0.8667 - 19ms/epoch - 6ms/step\n",
      "Epoch 904/1000\n",
      "3/3 - 0s - loss: 0.0114 - accuracy: 1.0000 - val_loss: 0.3207 - val_accuracy: 0.8667 - 21ms/epoch - 7ms/step\n",
      "Epoch 905/1000\n",
      "3/3 - 0s - loss: 0.0164 - accuracy: 0.9889 - val_loss: 0.2598 - val_accuracy: 0.8667 - 21ms/epoch - 7ms/step\n",
      "Epoch 906/1000\n",
      "3/3 - 0s - loss: 0.0093 - accuracy: 1.0000 - val_loss: 0.2351 - val_accuracy: 0.8667 - 19ms/epoch - 6ms/step\n",
      "Epoch 907/1000\n",
      "3/3 - 0s - loss: 0.0025 - accuracy: 1.0000 - val_loss: 0.2210 - val_accuracy: 0.9000 - 18ms/epoch - 6ms/step\n",
      "Epoch 908/1000\n",
      "3/3 - 0s - loss: 0.0048 - accuracy: 1.0000 - val_loss: 0.2084 - val_accuracy: 0.9333 - 20ms/epoch - 7ms/step\n",
      "Epoch 909/1000\n",
      "3/3 - 0s - loss: 0.0033 - accuracy: 1.0000 - val_loss: 0.1993 - val_accuracy: 0.9333 - 19ms/epoch - 6ms/step\n",
      "Epoch 910/1000\n",
      "3/3 - 0s - loss: 0.0073 - accuracy: 1.0000 - val_loss: 0.1916 - val_accuracy: 0.9333 - 18ms/epoch - 6ms/step\n",
      "Epoch 911/1000\n",
      "3/3 - 0s - loss: 0.0439 - accuracy: 0.9778 - val_loss: 0.1934 - val_accuracy: 0.9333 - 19ms/epoch - 6ms/step\n",
      "Epoch 912/1000\n",
      "3/3 - 0s - loss: 0.0639 - accuracy: 0.9778 - val_loss: 0.2071 - val_accuracy: 0.9333 - 19ms/epoch - 6ms/step\n",
      "Epoch 913/1000\n",
      "3/3 - 0s - loss: 0.0030 - accuracy: 1.0000 - val_loss: 0.2218 - val_accuracy: 0.9000 - 19ms/epoch - 6ms/step\n",
      "Epoch 914/1000\n",
      "3/3 - 0s - loss: 0.0135 - accuracy: 1.0000 - val_loss: 0.2186 - val_accuracy: 0.9000 - 18ms/epoch - 6ms/step\n",
      "Epoch 915/1000\n",
      "3/3 - 0s - loss: 0.0055 - accuracy: 1.0000 - val_loss: 0.1969 - val_accuracy: 0.9000 - 19ms/epoch - 6ms/step\n",
      "Epoch 916/1000\n",
      "3/3 - 0s - loss: 0.0089 - accuracy: 1.0000 - val_loss: 0.1978 - val_accuracy: 0.9000 - 20ms/epoch - 7ms/step\n",
      "Epoch 917/1000\n",
      "3/3 - 0s - loss: 0.0145 - accuracy: 1.0000 - val_loss: 0.1957 - val_accuracy: 0.9667 - 21ms/epoch - 7ms/step\n",
      "Epoch 918/1000\n",
      "3/3 - 0s - loss: 0.0221 - accuracy: 1.0000 - val_loss: 0.1941 - val_accuracy: 0.9667 - 19ms/epoch - 6ms/step\n",
      "Epoch 919/1000\n",
      "3/3 - 0s - loss: 0.0041 - accuracy: 1.0000 - val_loss: 0.2078 - val_accuracy: 0.9667 - 21ms/epoch - 7ms/step\n",
      "Epoch 920/1000\n",
      "3/3 - 0s - loss: 0.0080 - accuracy: 1.0000 - val_loss: 0.2288 - val_accuracy: 0.9333 - 19ms/epoch - 6ms/step\n",
      "Epoch 921/1000\n",
      "3/3 - 0s - loss: 0.0187 - accuracy: 0.9889 - val_loss: 0.2358 - val_accuracy: 0.9000 - 19ms/epoch - 6ms/step\n",
      "Epoch 922/1000\n",
      "3/3 - 0s - loss: 0.0096 - accuracy: 1.0000 - val_loss: 0.2117 - val_accuracy: 0.9333 - 20ms/epoch - 7ms/step\n",
      "Epoch 923/1000\n",
      "3/3 - 0s - loss: 0.0077 - accuracy: 1.0000 - val_loss: 0.1829 - val_accuracy: 0.9667 - 19ms/epoch - 6ms/step\n",
      "Epoch 924/1000\n",
      "3/3 - 0s - loss: 0.0054 - accuracy: 1.0000 - val_loss: 0.1689 - val_accuracy: 0.9667 - 18ms/epoch - 6ms/step\n",
      "Epoch 925/1000\n",
      "3/3 - 0s - loss: 0.0029 - accuracy: 1.0000 - val_loss: 0.1750 - val_accuracy: 0.9667 - 19ms/epoch - 6ms/step\n",
      "Epoch 926/1000\n",
      "3/3 - 0s - loss: 0.0031 - accuracy: 1.0000 - val_loss: 0.1890 - val_accuracy: 0.9333 - 19ms/epoch - 6ms/step\n",
      "Epoch 927/1000\n",
      "3/3 - 0s - loss: 0.0037 - accuracy: 1.0000 - val_loss: 0.2011 - val_accuracy: 0.9333 - 18ms/epoch - 6ms/step\n",
      "Epoch 928/1000\n",
      "3/3 - 0s - loss: 0.0835 - accuracy: 0.9667 - val_loss: 0.1934 - val_accuracy: 0.9667 - 20ms/epoch - 7ms/step\n",
      "Epoch 929/1000\n",
      "3/3 - 0s - loss: 0.1260 - accuracy: 0.9667 - val_loss: 0.4209 - val_accuracy: 0.8667 - 20ms/epoch - 7ms/step\n",
      "Epoch 930/1000\n",
      "3/3 - 0s - loss: 0.0124 - accuracy: 1.0000 - val_loss: 0.6398 - val_accuracy: 0.8000 - 20ms/epoch - 7ms/step\n",
      "Epoch 931/1000\n",
      "3/3 - 0s - loss: 0.0105 - accuracy: 1.0000 - val_loss: 0.6374 - val_accuracy: 0.8000 - 20ms/epoch - 7ms/step\n",
      "Epoch 932/1000\n",
      "3/3 - 0s - loss: 0.0720 - accuracy: 0.9778 - val_loss: 0.3431 - val_accuracy: 0.9000 - 18ms/epoch - 6ms/step\n",
      "Epoch 933/1000\n",
      "3/3 - 0s - loss: 0.0236 - accuracy: 0.9889 - val_loss: 0.1406 - val_accuracy: 0.9000 - 21ms/epoch - 7ms/step\n",
      "Epoch 934/1000\n",
      "3/3 - 0s - loss: 0.0528 - accuracy: 0.9889 - val_loss: 0.1512 - val_accuracy: 0.9000 - 18ms/epoch - 6ms/step\n",
      "Epoch 935/1000\n",
      "3/3 - 0s - loss: 0.0425 - accuracy: 0.9667 - val_loss: 0.1616 - val_accuracy: 0.9333 - 18ms/epoch - 6ms/step\n",
      "Epoch 936/1000\n",
      "3/3 - 0s - loss: 0.0300 - accuracy: 0.9778 - val_loss: 0.1503 - val_accuracy: 0.9333 - 18ms/epoch - 6ms/step\n",
      "Epoch 937/1000\n",
      "3/3 - 0s - loss: 0.0093 - accuracy: 1.0000 - val_loss: 0.1088 - val_accuracy: 0.9333 - 18ms/epoch - 6ms/step\n",
      "Epoch 938/1000\n",
      "3/3 - 0s - loss: 0.0552 - accuracy: 0.9778 - val_loss: 0.0665 - val_accuracy: 0.9667 - 19ms/epoch - 6ms/step\n"
     ]
    },
    {
     "name": "stdout",
     "output_type": "stream",
     "text": [
      "Epoch 939/1000\n",
      "3/3 - 0s - loss: 0.0066 - accuracy: 1.0000 - val_loss: 0.0584 - val_accuracy: 0.9667 - 20ms/epoch - 7ms/step\n",
      "Epoch 940/1000\n",
      "3/3 - 0s - loss: 0.0073 - accuracy: 1.0000 - val_loss: 0.0584 - val_accuracy: 0.9667 - 20ms/epoch - 7ms/step\n",
      "Epoch 941/1000\n",
      "3/3 - 0s - loss: 0.0709 - accuracy: 0.9889 - val_loss: 0.0527 - val_accuracy: 0.9667 - 20ms/epoch - 7ms/step\n",
      "Epoch 942/1000\n",
      "3/3 - 0s - loss: 0.0147 - accuracy: 0.9889 - val_loss: 0.0434 - val_accuracy: 1.0000 - 20ms/epoch - 7ms/step\n",
      "Epoch 943/1000\n",
      "3/3 - 0s - loss: 0.0134 - accuracy: 1.0000 - val_loss: 0.0438 - val_accuracy: 1.0000 - 21ms/epoch - 7ms/step\n",
      "Epoch 944/1000\n",
      "3/3 - 0s - loss: 0.0085 - accuracy: 1.0000 - val_loss: 0.0474 - val_accuracy: 1.0000 - 22ms/epoch - 7ms/step\n",
      "Epoch 945/1000\n",
      "3/3 - 0s - loss: 0.0294 - accuracy: 0.9889 - val_loss: 0.0471 - val_accuracy: 1.0000 - 22ms/epoch - 7ms/step\n",
      "Epoch 946/1000\n",
      "3/3 - 0s - loss: 0.0058 - accuracy: 1.0000 - val_loss: 0.0481 - val_accuracy: 1.0000 - 21ms/epoch - 7ms/step\n",
      "Epoch 947/1000\n",
      "3/3 - 0s - loss: 0.0157 - accuracy: 0.9889 - val_loss: 0.0493 - val_accuracy: 0.9667 - 20ms/epoch - 7ms/step\n",
      "Epoch 948/1000\n",
      "3/3 - 0s - loss: 0.0101 - accuracy: 1.0000 - val_loss: 0.0531 - val_accuracy: 0.9667 - 21ms/epoch - 7ms/step\n",
      "Epoch 949/1000\n",
      "3/3 - 0s - loss: 0.0230 - accuracy: 0.9889 - val_loss: 0.0669 - val_accuracy: 0.9667 - 19ms/epoch - 6ms/step\n",
      "Epoch 950/1000\n",
      "3/3 - 0s - loss: 0.0070 - accuracy: 1.0000 - val_loss: 0.0862 - val_accuracy: 0.9667 - 20ms/epoch - 7ms/step\n",
      "Epoch 951/1000\n",
      "3/3 - 0s - loss: 0.0121 - accuracy: 1.0000 - val_loss: 0.1052 - val_accuracy: 0.9667 - 20ms/epoch - 7ms/step\n",
      "Epoch 952/1000\n",
      "3/3 - 0s - loss: 0.0183 - accuracy: 1.0000 - val_loss: 0.0927 - val_accuracy: 0.9667 - 20ms/epoch - 7ms/step\n",
      "Epoch 953/1000\n",
      "3/3 - 0s - loss: 0.0047 - accuracy: 1.0000 - val_loss: 0.0828 - val_accuracy: 0.9667 - 19ms/epoch - 6ms/step\n",
      "Epoch 954/1000\n",
      "3/3 - 0s - loss: 0.0073 - accuracy: 1.0000 - val_loss: 0.0710 - val_accuracy: 0.9667 - 19ms/epoch - 6ms/step\n",
      "Epoch 955/1000\n",
      "3/3 - 0s - loss: 0.0122 - accuracy: 0.9889 - val_loss: 0.0555 - val_accuracy: 0.9667 - 18ms/epoch - 6ms/step\n",
      "Epoch 956/1000\n",
      "3/3 - 0s - loss: 0.0065 - accuracy: 1.0000 - val_loss: 0.0405 - val_accuracy: 0.9667 - 18ms/epoch - 6ms/step\n",
      "Epoch 957/1000\n",
      "3/3 - 0s - loss: 0.0064 - accuracy: 1.0000 - val_loss: 0.0327 - val_accuracy: 1.0000 - 19ms/epoch - 6ms/step\n",
      "Epoch 958/1000\n",
      "3/3 - 0s - loss: 0.0201 - accuracy: 0.9889 - val_loss: 0.0373 - val_accuracy: 0.9667 - 19ms/epoch - 6ms/step\n",
      "Epoch 959/1000\n",
      "3/3 - 0s - loss: 0.0141 - accuracy: 0.9889 - val_loss: 0.0533 - val_accuracy: 0.9667 - 21ms/epoch - 7ms/step\n",
      "Epoch 960/1000\n",
      "3/3 - 0s - loss: 0.0023 - accuracy: 1.0000 - val_loss: 0.0682 - val_accuracy: 0.9667 - 20ms/epoch - 7ms/step\n",
      "Epoch 961/1000\n",
      "3/3 - 0s - loss: 0.0099 - accuracy: 1.0000 - val_loss: 0.0727 - val_accuracy: 0.9667 - 20ms/epoch - 7ms/step\n",
      "Epoch 962/1000\n",
      "3/3 - 0s - loss: 0.0517 - accuracy: 0.9889 - val_loss: 0.0658 - val_accuracy: 0.9667 - 20ms/epoch - 7ms/step\n",
      "Epoch 963/1000\n",
      "3/3 - 0s - loss: 0.0082 - accuracy: 1.0000 - val_loss: 0.0468 - val_accuracy: 0.9667 - 20ms/epoch - 7ms/step\n",
      "Epoch 964/1000\n",
      "3/3 - 0s - loss: 0.0068 - accuracy: 1.0000 - val_loss: 0.0514 - val_accuracy: 0.9667 - 18ms/epoch - 6ms/step\n",
      "Epoch 965/1000\n",
      "3/3 - 0s - loss: 0.0046 - accuracy: 1.0000 - val_loss: 0.0676 - val_accuracy: 0.9667 - 18ms/epoch - 6ms/step\n",
      "Epoch 966/1000\n",
      "3/3 - 0s - loss: 0.0072 - accuracy: 1.0000 - val_loss: 0.0782 - val_accuracy: 0.9667 - 19ms/epoch - 6ms/step\n",
      "Epoch 967/1000\n",
      "3/3 - 0s - loss: 0.0058 - accuracy: 1.0000 - val_loss: 0.0829 - val_accuracy: 0.9667 - 19ms/epoch - 6ms/step\n",
      "Epoch 968/1000\n",
      "3/3 - 0s - loss: 0.0256 - accuracy: 0.9889 - val_loss: 0.0803 - val_accuracy: 0.9667 - 22ms/epoch - 7ms/step\n",
      "Epoch 969/1000\n",
      "3/3 - 0s - loss: 0.0037 - accuracy: 1.0000 - val_loss: 0.0869 - val_accuracy: 0.9667 - 20ms/epoch - 7ms/step\n",
      "Epoch 970/1000\n",
      "3/3 - 0s - loss: 0.0641 - accuracy: 0.9778 - val_loss: 0.0891 - val_accuracy: 0.9667 - 19ms/epoch - 6ms/step\n",
      "Epoch 971/1000\n",
      "3/3 - 0s - loss: 0.0049 - accuracy: 1.0000 - val_loss: 0.0676 - val_accuracy: 0.9667 - 20ms/epoch - 7ms/step\n",
      "Epoch 972/1000\n",
      "3/3 - 0s - loss: 0.0194 - accuracy: 0.9889 - val_loss: 0.0413 - val_accuracy: 0.9667 - 20ms/epoch - 7ms/step\n",
      "Epoch 973/1000\n",
      "3/3 - 0s - loss: 0.0470 - accuracy: 0.9889 - val_loss: 0.0306 - val_accuracy: 1.0000 - 20ms/epoch - 7ms/step\n",
      "Epoch 974/1000\n",
      "3/3 - 0s - loss: 0.0548 - accuracy: 0.9889 - val_loss: 0.0507 - val_accuracy: 0.9667 - 19ms/epoch - 6ms/step\n",
      "Epoch 975/1000\n",
      "3/3 - 0s - loss: 0.0099 - accuracy: 1.0000 - val_loss: 0.0960 - val_accuracy: 0.9667 - 20ms/epoch - 7ms/step\n",
      "Epoch 976/1000\n",
      "3/3 - 0s - loss: 0.0313 - accuracy: 0.9778 - val_loss: 0.1259 - val_accuracy: 0.9333 - 20ms/epoch - 7ms/step\n",
      "Epoch 977/1000\n",
      "3/3 - 0s - loss: 0.0025 - accuracy: 1.0000 - val_loss: 0.1313 - val_accuracy: 0.9333 - 18ms/epoch - 6ms/step\n",
      "Epoch 978/1000\n",
      "3/3 - 0s - loss: 0.0088 - accuracy: 1.0000 - val_loss: 0.1365 - val_accuracy: 0.9333 - 18ms/epoch - 6ms/step\n",
      "Epoch 979/1000\n",
      "3/3 - 0s - loss: 0.0093 - accuracy: 1.0000 - val_loss: 0.1456 - val_accuracy: 0.9333 - 21ms/epoch - 7ms/step\n",
      "Epoch 980/1000\n",
      "3/3 - 0s - loss: 0.0293 - accuracy: 0.9778 - val_loss: 0.1516 - val_accuracy: 0.9333 - 20ms/epoch - 7ms/step\n",
      "Epoch 981/1000\n",
      "3/3 - 0s - loss: 0.0211 - accuracy: 0.9889 - val_loss: 0.1540 - val_accuracy: 0.9333 - 21ms/epoch - 7ms/step\n",
      "Epoch 982/1000\n",
      "3/3 - 0s - loss: 0.0021 - accuracy: 1.0000 - val_loss: 0.1684 - val_accuracy: 0.9000 - 19ms/epoch - 6ms/step\n",
      "Epoch 983/1000\n",
      "3/3 - 0s - loss: 0.0043 - accuracy: 1.0000 - val_loss: 0.1750 - val_accuracy: 0.9000 - 18ms/epoch - 6ms/step\n",
      "Epoch 984/1000\n",
      "3/3 - 0s - loss: 0.0039 - accuracy: 1.0000 - val_loss: 0.1619 - val_accuracy: 0.9000 - 19ms/epoch - 6ms/step\n",
      "Epoch 985/1000\n",
      "3/3 - 0s - loss: 0.0038 - accuracy: 1.0000 - val_loss: 0.1521 - val_accuracy: 0.9000 - 19ms/epoch - 6ms/step\n",
      "Epoch 986/1000\n",
      "3/3 - 0s - loss: 0.0062 - accuracy: 1.0000 - val_loss: 0.1410 - val_accuracy: 0.9333 - 19ms/epoch - 6ms/step\n",
      "Epoch 987/1000\n",
      "3/3 - 0s - loss: 0.0095 - accuracy: 1.0000 - val_loss: 0.1328 - val_accuracy: 0.9333 - 18ms/epoch - 6ms/step\n",
      "Epoch 988/1000\n",
      "3/3 - 0s - loss: 0.0046 - accuracy: 1.0000 - val_loss: 0.1275 - val_accuracy: 0.9333 - 19ms/epoch - 6ms/step\n",
      "Epoch 989/1000\n",
      "3/3 - 0s - loss: 0.0033 - accuracy: 1.0000 - val_loss: 0.1252 - val_accuracy: 0.9333 - 20ms/epoch - 7ms/step\n",
      "Epoch 990/1000\n",
      "3/3 - 0s - loss: 0.0014 - accuracy: 1.0000 - val_loss: 0.1274 - val_accuracy: 0.9333 - 21ms/epoch - 7ms/step\n",
      "Epoch 991/1000\n",
      "3/3 - 0s - loss: 0.0029 - accuracy: 1.0000 - val_loss: 0.1304 - val_accuracy: 0.9333 - 19ms/epoch - 6ms/step\n",
      "Epoch 992/1000\n",
      "3/3 - 0s - loss: 0.0598 - accuracy: 0.9778 - val_loss: 0.1157 - val_accuracy: 0.9333 - 19ms/epoch - 6ms/step\n",
      "Epoch 993/1000\n",
      "3/3 - 0s - loss: 0.0024 - accuracy: 1.0000 - val_loss: 0.0748 - val_accuracy: 0.9667 - 19ms/epoch - 6ms/step\n",
      "Epoch 994/1000\n",
      "3/3 - 0s - loss: 0.0029 - accuracy: 1.0000 - val_loss: 0.0645 - val_accuracy: 0.9667 - 18ms/epoch - 6ms/step\n",
      "Epoch 995/1000\n",
      "3/3 - 0s - loss: 0.0028 - accuracy: 1.0000 - val_loss: 0.0589 - val_accuracy: 0.9667 - 19ms/epoch - 6ms/step\n",
      "Epoch 996/1000\n",
      "3/3 - 0s - loss: 0.0231 - accuracy: 0.9889 - val_loss: 0.0559 - val_accuracy: 0.9667 - 19ms/epoch - 6ms/step\n",
      "Epoch 997/1000\n",
      "3/3 - 0s - loss: 0.0241 - accuracy: 0.9889 - val_loss: 0.0521 - val_accuracy: 0.9667 - 21ms/epoch - 7ms/step\n",
      "Epoch 998/1000\n",
      "3/3 - 0s - loss: 0.0071 - accuracy: 1.0000 - val_loss: 0.0532 - val_accuracy: 0.9667 - 19ms/epoch - 6ms/step\n",
      "Epoch 999/1000\n",
      "3/3 - 0s - loss: 0.0028 - accuracy: 1.0000 - val_loss: 0.0592 - val_accuracy: 0.9667 - 19ms/epoch - 6ms/step\n",
      "Epoch 1000/1000\n",
      "3/3 - 0s - loss: 0.0389 - accuracy: 0.9889 - val_loss: 0.0676 - val_accuracy: 0.9333 - 19ms/epoch - 6ms/step\n"
     ]
    }
   ],
   "source": [
    "# 모델 훈련\n",
    "model2.compile(\n",
    "    optimizer='adam', \n",
    "    loss='categorical_crossentropy', \n",
    "    metrics=['accuracy']\n",
    ")\n",
    "\n",
    "history2 = model2.fit(\n",
    "    X_train, \n",
    "    y_train, \n",
    "    epochs=1000, \n",
    "    validation_split=0.25, \n",
    "    batch_size=40, \n",
    "    verbose=2\n",
    ")"
   ]
  },
  {
   "cell_type": "code",
   "execution_count": 29,
   "metadata": {},
   "outputs": [
    {
     "data": {
      "image/png": "[encoded data removed]",
      "text/plain": [
       "<Figure size 432x288 with 2 Axes>"
      ]
     },
     "metadata": {
      "needs_background": "light"
     },
     "output_type": "display_data"
    }
   ],
   "source": [
    "# 훈련 결과 시각화\n",
    "%matplotlib inline\n",
    "import matplotlib.pyplot as plt\n",
    "\n",
    "fig,loss_ax=plt.subplots()\n",
    "\n",
    "acc_ax=loss_ax.twinx()\n",
    "\n",
    "loss_ax.plot(history2.history['loss'], 'y', label='train loss')\n",
    "loss_ax.plot(history2.history['val_loss'], 'r', label='val loss')\n",
    "\n",
    "acc_ax.plot(history2.history['accuracy'], 'b', label='train acc')\n",
    "acc_ax.plot(history2.history['val_accuracy'], 'g', label='val acc')\n",
    "\n",
    "loss_ax.set_xlabel('epoch')\n",
    "loss_ax.set_ylabel('loss')\n",
    "acc_ax.set_ylabel('accuracy')\n",
    "\n",
    "loss_ax.legend(loc='lower right')\n",
    "acc_ax.legend(loc='upper right')\n",
    "plt.show()"
   ]
  },
  {
   "cell_type": "code",
   "execution_count": 30,
   "metadata": {},
   "outputs": [
    {
     "name": "stdout",
     "output_type": "stream",
     "text": [
      "1/1 [==============================] - 0s 0s/step - loss: 0.0179 - accuracy: 1.0000\n",
      "## 손실과 정확도 평가  ##\n",
      "[0.01793276146054268, 1.0]\n"
     ]
    }
   ],
   "source": [
    "# 모델 평가\n",
    "loss_and_metrics = model2.evaluate(X_test, y_test)\n",
    "print('## 손실과 정확도 평가  ##')\n",
    "print(loss_and_metrics)"
   ]
  },
  {
   "cell_type": "markdown",
   "metadata": {},
   "source": [
    "# 드롭 아웃을 이용한 성능 최적화"
   ]
  },
  {
   "cell_type": "code",
   "execution_count": 33,
   "metadata": {},
   "outputs": [
    {
     "name": "stdout",
     "output_type": "stream",
     "text": [
      "Collecting tensorflow_datasets\n",
      "  Downloading tensorflow_datasets-4.4.0-py3-none-any.whl (4.0 MB)\n",
      "Requirement already satisfied: termcolor in c:\\anaconda\\lib\\site-packages (from tensorflow_datasets) (1.1.0)\n",
      "Requirement already satisfied: absl-py in c:\\anaconda\\lib\\site-packages (from tensorflow_datasets) (0.15.0)\n",
      "Requirement already satisfied: six in c:\\anaconda\\lib\\site-packages (from tensorflow_datasets) (1.16.0)\n",
      "Requirement already satisfied: future in c:\\anaconda\\lib\\site-packages (from tensorflow_datasets) (0.18.2)\n",
      "Requirement already satisfied: protobuf>=3.12.2 in c:\\anaconda\\lib\\site-packages (from tensorflow_datasets) (3.17.3)\n",
      "Collecting dill\n",
      "  Downloading dill-0.3.4-py2.py3-none-any.whl (86 kB)\n",
      "Collecting tensorflow-metadata\n",
      "  Downloading tensorflow_metadata-1.5.0-py3-none-any.whl (48 kB)\n",
      "Requirement already satisfied: numpy in c:\\anaconda\\lib\\site-packages (from tensorflow_datasets) (1.21.5+vanilla)\n",
      "Requirement already satisfied: attrs>=18.1.0 in c:\\anaconda\\lib\\site-packages (from tensorflow_datasets) (20.3.0)\n",
      "Requirement already satisfied: requests>=2.19.0 in c:\\anaconda\\lib\\site-packages (from tensorflow_datasets) (2.24.0)\n",
      "Requirement already satisfied: promise in c:\\anaconda\\lib\\site-packages (from tensorflow_datasets) (2.3)\n",
      "Requirement already satisfied: tqdm in c:\\anaconda\\lib\\site-packages (from tensorflow_datasets) (4.50.2)\n",
      "Collecting importlib-resources; python_version < \"3.9\"\n",
      "  Downloading importlib_resources-5.4.0-py3-none-any.whl (28 kB)\n",
      "Collecting googleapis-common-protos<2,>=1.52.0\n",
      "  Downloading googleapis_common_protos-1.54.0-py2.py3-none-any.whl (207 kB)\n",
      "Requirement already satisfied: urllib3!=1.25.0,!=1.25.1,<1.26,>=1.21.1 in c:\\anaconda\\lib\\site-packages (from requests>=2.19.0->tensorflow_datasets) (1.25.11)\n",
      "Requirement already satisfied: idna<3,>=2.5 in c:\\anaconda\\lib\\site-packages (from requests>=2.19.0->tensorflow_datasets) (2.10)\n",
      "Requirement already satisfied: certifi>=2017.4.17 in c:\\anaconda\\lib\\site-packages (from requests>=2.19.0->tensorflow_datasets) (2020.6.20)\n",
      "Requirement already satisfied: chardet<4,>=3.0.2 in c:\\anaconda\\lib\\site-packages (from requests>=2.19.0->tensorflow_datasets) (3.0.4)\n",
      "Requirement already satisfied: zipp>=3.1.0; python_version < \"3.10\" in c:\\anaconda\\lib\\site-packages (from importlib-resources; python_version < \"3.9\"->tensorflow_datasets) (3.4.0)\n",
      "Installing collected packages: dill, googleapis-common-protos, tensorflow-metadata, importlib-resources, tensorflow-datasets\n",
      "Successfully installed dill-0.3.4 googleapis-common-protos-1.54.0 importlib-resources-5.4.0 tensorflow-datasets-4.4.0 tensorflow-metadata-1.5.0\n",
      "Note: you may need to restart the kernel to use updated packages.\n"
     ]
    },
    {
     "name": "stderr",
     "output_type": "stream",
     "text": [
      "ERROR: After October 2020 you may experience errors when installing or updating packages. This is because pip will change the way that it resolves dependency conflicts.\n",
      "\n",
      "We recommend you use --use-feature=2020-resolver to test your packages with the new resolver before it becomes the default.\n",
      "\n",
      "tensorflow-metadata 1.5.0 requires absl-py<0.13,>=0.9, but you'll have absl-py 0.15.0 which is incompatible.\n"
     ]
    }
   ],
   "source": [
    "pip install tensorflow_datasets"
   ]
  },
  {
   "cell_type": "code",
   "execution_count": 34,
   "metadata": {},
   "outputs": [],
   "source": [
    "# 라이브러리 호출\n",
    "import tensorflow_datasets as tfds\n",
    "import tensorflow as tf"
   ]
  },
  {
   "cell_type": "code",
   "execution_count": 36,
   "metadata": {},
   "outputs": [
    {
     "name": "stderr",
     "output_type": "stream",
     "text": [
      "WARNING:absl:TFDS datasets with text encoding are deprecated and will be removed in a future version. Instead, you should use the plain text version and tokenize the text using `tensorflow_text` (See: https://www.tensorflow.org/tutorials/tensorflow_text/intro#tfdata_example)\n"
     ]
    },
    {
     "name": "stdout",
     "output_type": "stream",
     "text": [
      "\u001b[1mDownloading and preparing dataset Unknown size (download: Unknown size, generated: Unknown size, total: Unknown size) to C:\\Users\\이신행\\tensorflow_datasets\\imdb_reviews\\subwords8k\\1.0.0...\u001b[0m\n"
     ]
    },
    {
     "data": {
      "application/vnd.jupyter.widget-view+json": {
       "model_id": "7f57754ccc0e482394bc16acf6f4a5c5",
       "version_major": 2,
       "version_minor": 0
      },
      "text/plain": [
       "HBox(children=(HTML(value='Dl Completed...'), FloatProgress(value=1.0, bar_style='info', layout=Layout(width='…"
      ]
     },
     "metadata": {},
     "output_type": "display_data"
    },
    {
     "data": {
      "application/vnd.jupyter.widget-view+json": {
       "model_id": "95f5adff576145c3ad79dc78b699d2e0",
       "version_major": 2,
       "version_minor": 0
      },
      "text/plain": [
       "HBox(children=(HTML(value='Dl Size...'), FloatProgress(value=1.0, bar_style='info', layout=Layout(width='20px'…"
      ]
     },
     "metadata": {},
     "output_type": "display_data"
    },
    {
     "name": "stdout",
     "output_type": "stream",
     "text": [
      "\n",
      "\n"
     ]
    },
    {
     "data": {
      "application/vnd.jupyter.widget-view+json": {
       "model_id": "",
       "version_major": 2,
       "version_minor": 0
      },
      "text/plain": [
       "HBox(children=(HTML(value='Generating splits...'), FloatProgress(value=0.0, max=3.0), HTML(value='')))"
      ]
     },
     "metadata": {},
     "output_type": "display_data"
    },
    {
     "data": {
      "application/vnd.jupyter.widget-view+json": {
       "model_id": "",
       "version_major": 2,
       "version_minor": 0
      },
      "text/plain": [
       "HBox(children=(HTML(value='Generating train examples...'), FloatProgress(value=1.0, bar_style='info', layout=L…"
      ]
     },
     "metadata": {},
     "output_type": "display_data"
    },
    {
     "data": {
      "application/vnd.jupyter.widget-view+json": {
       "model_id": "",
       "version_major": 2,
       "version_minor": 0
      },
      "text/plain": [
       "HBox(children=(HTML(value='Shuffling imdb_reviews-train.tfrecord...'), FloatProgress(value=0.0, max=25000.0), …"
      ]
     },
     "metadata": {},
     "output_type": "display_data"
    },
    {
     "data": {
      "application/vnd.jupyter.widget-view+json": {
       "model_id": "",
       "version_major": 2,
       "version_minor": 0
      },
      "text/plain": [
       "HBox(children=(HTML(value='Generating test examples...'), FloatProgress(value=1.0, bar_style='info', layout=La…"
      ]
     },
     "metadata": {},
     "output_type": "display_data"
    },
    {
     "data": {
      "application/vnd.jupyter.widget-view+json": {
       "model_id": "",
       "version_major": 2,
       "version_minor": 0
      },
      "text/plain": [
       "HBox(children=(HTML(value='Shuffling imdb_reviews-test.tfrecord...'), FloatProgress(value=0.0, max=25000.0), H…"
      ]
     },
     "metadata": {},
     "output_type": "display_data"
    },
    {
     "data": {
      "application/vnd.jupyter.widget-view+json": {
       "model_id": "",
       "version_major": 2,
       "version_minor": 0
      },
      "text/plain": [
       "HBox(children=(HTML(value='Generating unsupervised examples...'), FloatProgress(value=1.0, bar_style='info', l…"
      ]
     },
     "metadata": {},
     "output_type": "display_data"
    },
    {
     "data": {
      "application/vnd.jupyter.widget-view+json": {
       "model_id": "",
       "version_major": 2,
       "version_minor": 0
      },
      "text/plain": [
       "HBox(children=(HTML(value='Shuffling imdb_reviews-unsupervised.tfrecord...'), FloatProgress(value=0.0, max=500…"
      ]
     },
     "metadata": {},
     "output_type": "display_data"
    },
    {
     "name": "stderr",
     "output_type": "stream",
     "text": [
      "WARNING:absl:Dataset is using deprecated text encoder API which will be removed soon. Please use the plain_text version of the dataset and migrate to `tensorflow_text`.\n"
     ]
    },
    {
     "name": "stdout",
     "output_type": "stream",
     "text": [
      "\u001b[1mDataset imdb_reviews downloaded and prepared to C:\\Users\\이신행\\tensorflow_datasets\\imdb_reviews\\subwords8k\\1.0.0. Subsequent calls will reuse this data.\u001b[0m\n"
     ]
    }
   ],
   "source": [
    "# 데이터셋 내려받기\n",
    "(train_data, test_data), info = tfds.load(\n",
    "    'imdb_reviews/subwords8k', \n",
    "    split = (tfds.Split.TRAIN, tfds.Split.TEST), \n",
    "    with_info=True, as_supervised=True) # 1\n",
    "padded_shapes = ([None],())\n",
    "train_batches = train_data.shuffle(1000).padded_batch(10, padded_shapes = padded_shapes) # 2\n",
    "test_batches = test_data.shuffle(1000).padded_batch(10, padded_shapes = padded_shapes)"
   ]
  },
  {
   "cell_type": "markdown",
   "metadata": {},
   "source": [
    "- 1 : tensorflow_datasets 라이브러리는 다음 메서드를 제공함\n",
    "     - list_builders() : 데이터 목록 출력\n",
    "     - load() 데이터 로드\n",
    "     여기서는 load() 메서드를 사용하여 데잉터셋을 내려받은 후, 훈련과 검증용으로 데이터 분리\n",
    "     - tfds.load('imdb_reviews/subwords8k', split = (tfds.Split.TRAIN, tfds.Split.TEST), with_info=True, as_supervised=True)에서\n",
    "     - 'imdb_reviews/subwords8k' : 내려받을 데이터셋의 이름 지정\n",
    "     - split : 내려받은 데이터셋을 훈련과 검증용으로 분리\n",
    "     - with_info=True : 전체 데이터에 대한 메타 정보도 함께 불러옴\n",
    "     - as_supervised=True : 데이터를 (input,label) 튜플 형태로 반환\n",
    "- 2 : padded_batch메서드는 배치에서 가장 긴 문자열의 길이를 기준으로 시퀀스를 0으로 채움"
   ]
  },
  {
   "cell_type": "code",
   "execution_count": 37,
   "metadata": {},
   "outputs": [
    {
     "data": {
      "text/plain": [
       "array([[ 173,   29,    4, ...,    0,    0,    0],\n",
       "       [3953,  579,  177, ...,    0,    0,    0],\n",
       "       [  62,    9,  547, ...,    0,    0,    0],\n",
       "       ...,\n",
       "       [  12,  118,  284, ...,    0,    0,    0],\n",
       "       [  12,  258, 2599, ...,    0,    0,    0],\n",
       "       [2518,  148,   63, ...,    0,    0,    0]], dtype=int64)"
      ]
     },
     "execution_count": 37,
     "metadata": {},
     "output_type": "execute_result"
    }
   ],
   "source": [
    "# 데이터 배열로 변환\n",
    "train_batch,train_labels=next(iter(train_batches)) # iter는 반복 가능한 객체에서 이터레이터를 반환하고, next는 이터레이터에서 값을 차례로 꺼냄\n",
    "train_batch.numpy() # 배열로 변환"
   ]
  },
  {
   "cell_type": "code",
   "execution_count": 38,
   "metadata": {},
   "outputs": [],
   "source": [
    "# 드롭 아웃이 적용되지 않은 모델\n",
    "encoder=info.features['text'].encoder\n",
    "model=tf.keras.Sequential([\n",
    "    tf.keras.layers.Embedding(encoder.vocab_size,64),\n",
    "    tf.keras.layers.LSTM(64),\n",
    "    tf.keras.layers.Dense(64,activation='relu'),\n",
    "    tf.keras.layers.Dense(1,activation='sigmoid')\n",
    "]) # 1"
   ]
  },
  {
   "cell_type": "markdown",
   "metadata": {},
   "source": [
    "- 1 : 임베딩층은 단어당 하나의 벡터 저장, 임베딩이 호출되면 단어 인덱스 시퀀스를 벡터 시퀀스로 변환. 훈련 후 유사한 의미를 가진 단어는 종종 유사한 벡터를 가짐. 임베딩 층 다음으로 RNN의 변형인 LSTM층이 있음. LSTM층은 유닛 64개로 구성되어있고, 이후에 유닛 64개로 구성된 밀집층이 존재하며, 렐루 활성화 함수를 사용. 또한 마지막으로 출력층은 하나의 유닛으로 구성되며, 소프트맥스 활성화 함수로 사용"
   ]
  },
  {
   "cell_type": "code",
   "execution_count": 41,
   "metadata": {},
   "outputs": [
    {
     "name": "stdout",
     "output_type": "stream",
     "text": [
      "Epoch 1/5\n",
      "2500/2500 [==============================] - 514s 205ms/step - loss: 0.6930 - accuracy: 0.5021 - val_loss: 0.6921 - val_accuracy: 0.5533\n",
      "Epoch 2/5\n",
      "2500/2500 [==============================] - 519s 208ms/step - loss: 0.6897 - accuracy: 0.5167 - val_loss: 0.6884 - val_accuracy: 0.5033\n",
      "Epoch 3/5\n",
      "2500/2500 [==============================] - 518s 207ms/step - loss: 0.6728 - accuracy: 0.5421 - val_loss: 0.6787 - val_accuracy: 0.5400\n",
      "Epoch 4/5\n",
      "2500/2500 [==============================] - 523s 209ms/step - loss: 0.6571 - accuracy: 0.5487 - val_loss: 0.6725 - val_accuracy: 0.5100\n",
      "Epoch 5/5\n",
      "2500/2500 [==============================] - 1590s 636ms/step - loss: 0.6662 - accuracy: 0.5642 - val_loss: 0.6348 - val_accuracy: 0.5967\n"
     ]
    }
   ],
   "source": [
    "# 모델 훈련\n",
    "model.compile(loss='binary_crossentropy',\n",
    "             optimizer=tf.keras.optimizers.Adam(1e-4),metrics=['accuracy'])\n",
    "history=model.fit(train_batches,epochs=5,validation_data=test_batches,validation_steps=30)"
   ]
  },
  {
   "cell_type": "code",
   "execution_count": 45,
   "metadata": {},
   "outputs": [
    {
     "data": {
      "image/png": "[encoded data removed]",
      "text/plain": [
       "<Figure size 288x216 with 1 Axes>"
      ]
     },
     "metadata": {
      "needs_background": "light"
     },
     "output_type": "display_data"
    },
    {
     "data": {
      "image/png": "[encoded data removed]",
      "text/plain": [
       "<Figure size 288x216 with 1 Axes>"
      ]
     },
     "metadata": {
      "needs_background": "light"
     },
     "output_type": "display_data"
    }
   ],
   "source": [
    "# 훈련 결과 시각화\n",
    "BUFFER_SIZE=10000\n",
    "BATCH_SIZE=64\n",
    "train_dataset=train_batches.shuffle(BUFFER_SIZE)\n",
    "import matplotlib.pyplot as plt\n",
    "history_dict=history.history # 학습 이력 정보를 history_dict에 저장\n",
    "acc=history_dict['accuracy'] # history_dict에 저장된 accuracy를 acc에 저장\n",
    "val_acc=history_dict['val_accuracy'] # history_dict에 저장된 val_accuracy 데이터를 val_acc에 저장\n",
    "loss=history_dict['loss'] # history_dict에 저장된 loss 데이터를 loss에 저장\n",
    "val_loss=history_dict['val_loss'] # history_dict에 저장된 val_loss를 val_loss에 저장\n",
    "epochs=range(1,len(acc)+1) # 에포크 지정\n",
    "plt.figure(figsize=(4,3)) # figure는 그래프 크기를 지칭하는 것으로 가로 4인치, 세로 3인치로 설정\n",
    "plt.plot(epochs,loss,'bo',label='Training loss')\n",
    "plt.plot(epochs,val_loss,'b.',label='Validation loss')\n",
    "plt.title('Training and validation loss')\n",
    "plt.xlabel('Epochs')\n",
    "plt.ylabel('Loss')\n",
    "plt.legend()\n",
    "plt.show()\n",
    "\n",
    "plt.figure(figsize=(4,3))\n",
    "plt.plot(epochs,acc,'bo',label='Training acc')\n",
    "plt.plot(epochs,val_acc,'b.',label='Validation acc')\n",
    "plt.title('Training and validation accuracy')\n",
    "plt.xlabel('Epochs')\n",
    "plt.ylabel('Accuracy')\n",
    "plt.legend(loc='lower right')\n",
    "plt.ylim((0.5,1))\n",
    "plt.show()"
   ]
  },
  {
   "cell_type": "markdown",
   "metadata": {},
   "source": [
    "- 결과가 정상적으로 보이지 않음. 검증에 대한 손실이 네번째 에포크에서 다시 높아지고 있음\n",
    "- 정확도 역시 낮음"
   ]
  },
  {
   "cell_type": "code",
   "execution_count": 46,
   "metadata": {},
   "outputs": [
    {
     "name": "stdout",
     "output_type": "stream",
     "text": [
      "Model: \"sequential_5\"\n",
      "_________________________________________________________________\n",
      " Layer (type)                Output Shape              Param #   \n",
      "=================================================================\n",
      " embedding_1 (Embedding)     (None, None, 64)          523840    \n",
      "                                                                 \n",
      " bidirectional (Bidirectiona  (None, None, 128)        66048     \n",
      " l)                                                              \n",
      "                                                                 \n",
      " bidirectional_1 (Bidirectio  (None, 64)               41216     \n",
      " nal)                                                            \n",
      "                                                                 \n",
      " dense_26 (Dense)            (None, 64)                4160      \n",
      "                                                                 \n",
      " dropout (Dropout)           (None, 64)                0         \n",
      "                                                                 \n",
      " dense_27 (Dense)            (None, 1)                 65        \n",
      "                                                                 \n",
      "=================================================================\n",
      "Total params: 635,329\n",
      "Trainable params: 635,329\n",
      "Non-trainable params: 0\n",
      "_________________________________________________________________\n"
     ]
    }
   ],
   "source": [
    "# 들보앙수이 적용된 모델 (성능 향상을 위해 LSTM 대신 Bidirectional RNN로 바꿈)\n",
    "model = tf.keras.Sequential([\n",
    "tf.keras.layers.Embedding(encoder.vocab_size, 64),\n",
    "tf.keras.layers.Bidirectional(tf.keras.layers.LSTM(64, return_sequences=True)), # LSTM 대신 양방향 RNN 사용\n",
    "tf.keras.layers.Bidirectional(tf.keras.layers.LSTM(32)),\n",
    "tf.keras.layers.Dense(64, activation='relu'),\n",
    "tf.keras.layers.Dropout(0.5), # 1\n",
    "tf.keras.layers.Dense(1, activation='sigmoid')\n",
    "])\n",
    "model.summary()"
   ]
  },
  {
   "cell_type": "markdown",
   "metadata": {},
   "source": [
    "- 1 : 드롭아웃을 적용하며(랜덤하게 노드를 끄는 비율을 50%), 주의할 점은 학습할때만 드롭아웃을 사용해야 한다는 것. 따라서 정확도를 측정할 때에는 모든 노드를 사용해야 함"
   ]
  },
  {
   "cell_type": "code",
   "execution_count": 47,
   "metadata": {},
   "outputs": [
    {
     "name": "stdout",
     "output_type": "stream",
     "text": [
      "Epoch 1/5\n",
      "2500/2500 [==============================] - 1507s 601ms/step - loss: 0.5451 - accuracy: 0.7004 - val_loss: 0.5234 - val_accuracy: 0.7467\n",
      "Epoch 2/5\n",
      "2500/2500 [==============================] - 1487s 595ms/step - loss: 0.3318 - accuracy: 0.8714 - val_loss: 0.3442 - val_accuracy: 0.8400\n",
      "Epoch 3/5\n",
      "2500/2500 [==============================] - 1497s 599ms/step - loss: 0.2440 - accuracy: 0.9161 - val_loss: 0.3416 - val_accuracy: 0.8600\n",
      "Epoch 4/5\n",
      "2500/2500 [==============================] - 1452s 581ms/step - loss: 0.2075 - accuracy: 0.9300 - val_loss: 0.4305 - val_accuracy: 0.8500\n",
      "Epoch 5/5\n",
      "2500/2500 [==============================] - 2052s 821ms/step - loss: 0.1816 - accuracy: 0.9423 - val_loss: 0.4809 - val_accuracy: 0.8333\n"
     ]
    }
   ],
   "source": [
    "# 모델 컴파일\n",
    "model.compile(loss='binary_crossentropy',          \n",
    "              optimizer=tf.keras.optimizers.Adam(1e-4),metrics=['accuracy'])\n",
    "history = model.fit(train_batches, epochs=5, validation_data=test_batches, validation_steps=30)"
   ]
  },
  {
   "cell_type": "code",
   "execution_count": 48,
   "metadata": {},
   "outputs": [
    {
     "data": {
      "image/png": "[encoded data removed]",
      "text/plain": [
       "<Figure size 288x216 with 1 Axes>"
      ]
     },
     "metadata": {
      "needs_background": "light"
     },
     "output_type": "display_data"
    },
    {
     "data": {
      "image/png": "[encoded data removed]",
      "text/plain": [
       "<Figure size 288x216 with 1 Axes>"
      ]
     },
     "metadata": {
      "needs_background": "light"
     },
     "output_type": "display_data"
    }
   ],
   "source": [
    "# 훈련에 대한 시각화\n",
    "BUFFER_SIZE = 10000\n",
    "BATCH_SIZE = 64\n",
    "train_dataset = train_batches.shuffle(BUFFER_SIZE)\n",
    "import matplotlib.pyplot as plt\n",
    "history_dict = history.history\n",
    "acc = history_dict['accuracy']\n",
    "val_acc = history_dict['val_accuracy']\n",
    "loss = history_dict['loss']\n",
    "val_loss = history_dict['val_loss']\n",
    "epochs = range(1, len(acc) + 1)\n",
    "plt.figure(figsize=(4,3))\n",
    "plt.plot(epochs, loss, 'bo', label='Training loss')\n",
    "plt.plot(epochs, val_loss, 'b', label='Validation loss')\n",
    "plt.title('Training and validation loss')\n",
    "plt.xlabel('Epochs')\n",
    "plt.ylabel('Loss')\n",
    "plt.legend()\n",
    "plt.show()\n",
    "\n",
    "plt.figure(figsize=(4,3))\n",
    "plt.plot(epochs, acc, 'bo', label='Training acc')\n",
    "plt.plot(epochs, val_acc, 'b', label='Validation acc')\n",
    "plt.title('Training and validation accuracy')\n",
    "plt.xlabel('Epochs')\n",
    "plt.ylabel('Accuracy')\n",
    "plt.legend(loc='lower right')\n",
    "plt.ylim((0.5,1))\n",
    "plt.show()"
   ]
  },
  {
   "cell_type": "code",
   "execution_count": 49,
   "metadata": {},
   "outputs": [
    {
     "name": "stdout",
     "output_type": "stream",
     "text": [
      "Model: \"sequential_6\"\n",
      "_________________________________________________________________\n",
      " Layer (type)                Output Shape              Param #   \n",
      "=================================================================\n",
      " embedding_2 (Embedding)     (None, None, 64)          523840    \n",
      "                                                                 \n",
      " bidirectional_2 (Bidirectio  (None, 128)              66048     \n",
      " nal)                                                            \n",
      "                                                                 \n",
      " dense_28 (Dense)            (None, 64)                8256      \n",
      "                                                                 \n",
      " dense_29 (Dense)            (None, 1)                 65        \n",
      "                                                                 \n",
      "=================================================================\n",
      "Total params: 598,209\n",
      "Trainable params: 598,209\n",
      "Non-trainable params: 0\n",
      "_________________________________________________________________\n"
     ]
    }
   ],
   "source": [
    "# 드롭아웃 제거하고 양방향 RNN만 적용한 \n",
    "model=tf.keras.Sequential([\n",
    "    tf.keras.layers.Embedding(encoder.vocab_size,64),\n",
    "    tf.keras.layers.Bidirectional(tf.keras.layers.LSTM(64)),\n",
    "    tf.keras.layers.Dense(64,activation='relu'),\n",
    "    tf.keras.layers.Dense(1,activation='sigmoid')\n",
    "])\n",
    "model.summary()"
   ]
  },
  {
   "cell_type": "code",
   "execution_count": 50,
   "metadata": {},
   "outputs": [
    {
     "name": "stdout",
     "output_type": "stream",
     "text": [
      "Epoch 1/5\n",
      "2500/2500 [==============================] - 2473s 989ms/step - loss: 0.4825 - accuracy: 0.7464 - val_loss: 0.3571 - val_accuracy: 0.8533\n",
      "Epoch 2/5\n",
      "2500/2500 [==============================] - 2645s 1s/step - loss: 0.2694 - accuracy: 0.8987 - val_loss: 0.3235 - val_accuracy: 0.8800\n",
      "Epoch 3/5\n",
      "2500/2500 [==============================] - 839s 335ms/step - loss: 0.2364 - accuracy: 0.9158 - val_loss: 0.3737 - val_accuracy: 0.8733\n",
      "Epoch 4/5\n",
      "2500/2500 [==============================] - 841s 337ms/step - loss: 0.1907 - accuracy: 0.9346 - val_loss: 0.3471 - val_accuracy: 0.8800\n",
      "Epoch 5/5\n",
      "2500/2500 [==============================] - 1714s 686ms/step - loss: 0.1695 - accuracy: 0.9426 - val_loss: 0.3476 - val_accuracy: 0.8767\n"
     ]
    }
   ],
   "source": [
    "# 모델 훈련\n",
    "model.compile(loss='binary_crossentropy',\n",
    "             optimizer=tf.keras.optimizers.Adam(1e-4),metrics=['accuracy'])\n",
    "history=model.fit(train_batches,epochs=5,validation_data=test_batches,validation_steps=30)"
   ]
  },
  {
   "cell_type": "code",
   "execution_count": 51,
   "metadata": {},
   "outputs": [
    {
     "data": {
      "image/png": "[encoded data removed]",
      "text/plain": [
       "<Figure size 288x216 with 1 Axes>"
      ]
     },
     "metadata": {
      "needs_background": "light"
     },
     "output_type": "display_data"
    },
    {
     "data": {
      "image/png": "[encoded data removed]",
      "text/plain": [
       "<Figure size 288x216 with 1 Axes>"
      ]
     },
     "metadata": {
      "needs_background": "light"
     },
     "output_type": "display_data"
    }
   ],
   "source": [
    "# 모델 훈련에 대한 시각화\n",
    "BUFFER_SIZE=10000\n",
    "BATCH_SIZE=64\n",
    "trian_dataset=train_batches.shuffle(BUFFER_SIZE)\n",
    "import matplotlib.pyplot as plt\n",
    "history_dict=history.history\n",
    "acc=history_dict['accuracy']\n",
    "val_acc=history_dict['val_accuracy']\n",
    "loss=history_dict['loss']\n",
    "val_loss=history_dict['val_loss']\n",
    "epochs=range(1,len(acc)+1)\n",
    "plt.figure(figsize=(4,3))\n",
    "plt.plot(epochs, loss, 'bo', label='Training loss')\n",
    "plt.plot(epochs, val_loss, 'b', label='Validation loss')\n",
    "plt.title('Training and validation loss')\n",
    "plt.xlabel('Epochs')\n",
    "plt.ylabel('Loss')\n",
    "plt.legend()\n",
    "plt.show()\n",
    "\n",
    "plt.figure(figsize=(4,3))\n",
    "plt.plot(epochs, acc, 'bo', label='Training acc')\n",
    "plt.plot(epochs, val_acc, 'b', label='Validation acc')\n",
    "plt.title('Training and validation accuracy')\n",
    "plt.xlabel('Epochs')\n",
    "plt.ylabel('Accuracy')\n",
    "plt.legend(loc='lower right')\n",
    "plt.ylim((0.5,1))\n",
    "plt.show()"
   ]
  },
  {
   "cell_type": "markdown",
   "metadata": {},
   "source": [
    "- 정확도는 높아지지만, 검증에 대한 손실 역시 높아짐"
   ]
  },
  {
   "cell_type": "markdown",
   "metadata": {},
   "source": [
    "# 조기종료를 이용한 성능 최적화"
   ]
  },
  {
   "cell_type": "code",
   "execution_count": 52,
   "metadata": {},
   "outputs": [],
   "source": [
    "# 라이브러리 호출\n",
    "from tensorflow.keras.preprocessing import sequence\n",
    "from tensorflow.keras.models import Sequential\n",
    "from tensorflow.keras.layers import Dense,Dropout,Activation\n",
    "from tensorflow.keras.layers import Embedding\n",
    "from tensorflow.keras.layers import Conv1D,GlobalMaxPooling1D\n",
    "from tensorflow.keras.datasets import imdb\n",
    "import tensorflow as tf\n",
    "import numpy as np"
   ]
  },
  {
   "cell_type": "code",
   "execution_count": 53,
   "metadata": {},
   "outputs": [],
   "source": [
    "# 하이퍼파라미터 초기화\n",
    "max_features = 5000\n",
    "maxlen = 400\n",
    "batch_size = 32\n",
    "embedding_dims = 50\n",
    "filters = 250\n",
    "kernel_size = 3\n",
    "hidden_dims = 250\n",
    "epochs = 300\n",
    "np.random.seed(7)"
   ]
  },
  {
   "cell_type": "code",
   "execution_count": 54,
   "metadata": {},
   "outputs": [],
   "source": [
    "# 체크포인트 설정\n",
    "import os\n",
    "checkpoint_path = \"training_1/cp.ckpt\"\n",
    "checkpoint_dir=os.path.dirname(checkpoint_path)\n",
    "\n",
    "cp_callback=tf.keras.callbacks.ModelCheckpoint(filepath=checkpoint_path,verbose=1)# 1"
   ]
  },
  {
   "cell_type": "markdown",
   "metadata": {},
   "source": [
    "- 1 : 훈련하는 동안 체크포인트를 지정하기 위해 tf.keras.callbacks.ModelCheckpoint 콜백 함수를 사용함. 콜백함수는 훈련 중간과 마지막에 체크포인트를 지정하는데 가장 많이 사용하는 방법임. 또한 다시 훈련하지 않고 모델을 재사용하거나 의도치않게 훈련이 중지된 경우 이어서 훈련할 수 있음"
   ]
  },
  {
   "cell_type": "code",
   "execution_count": 55,
   "metadata": {},
   "outputs": [],
   "source": [
    "# 데이터셋 메모리로 로딩\n",
    "(x_train,y_train),(x_test,y_test)=imdb.load_data(num_words=max_features)\n",
    "x_train=sequence.pad_sequences(x_train, maxlen=maxlen) # 모양이 같은 벡터를 만들기 위해 0으로 시퀀스를 채움\n",
    "x_test = sequence.pad_sequences(x_test, maxlen=maxlen)"
   ]
  },
  {
   "cell_type": "code",
   "execution_count": 56,
   "metadata": {},
   "outputs": [
    {
     "name": "stdout",
     "output_type": "stream",
     "text": [
      "Model: \"sequential_7\"\n",
      "_________________________________________________________________\n",
      " Layer (type)                Output Shape              Param #   \n",
      "=================================================================\n",
      " embedding_3 (Embedding)     (None, 400, 50)           250000    \n",
      "                                                                 \n",
      " dropout_1 (Dropout)         (None, 400, 50)           0         \n",
      "                                                                 \n",
      " conv1d (Conv1D)             (None, 398, 250)          37750     \n",
      "                                                                 \n",
      " global_max_pooling1d (Globa  (None, 250)              0         \n",
      " lMaxPooling1D)                                                  \n",
      "                                                                 \n",
      " dense_30 (Dense)            (None, 250)               62750     \n",
      "                                                                 \n",
      " dropout_2 (Dropout)         (None, 250)               0         \n",
      "                                                                 \n",
      " activation (Activation)     (None, 250)               0         \n",
      "                                                                 \n",
      " dense_31 (Dense)            (None, 1)                 251       \n",
      "                                                                 \n",
      " activation_1 (Activation)   (None, 1)                 0         \n",
      "                                                                 \n",
      "=================================================================\n",
      "Total params: 350,751\n",
      "Trainable params: 350,751\n",
      "Non-trainable params: 0\n",
      "_________________________________________________________________\n"
     ]
    }
   ],
   "source": [
    "# 모델 생성\n",
    "model=Sequential()\n",
    "model.add(Embedding(max_features,\n",
    "                   embedding_dims,\n",
    "                   input_length=maxlen)) # 1\n",
    "model.add(Dropout(0.2)) # 무작위로 20%의 뉴런을 다음 층의 입력에서 무시\n",
    "model.add(Conv1D(filters,\n",
    "                kernel_size,\n",
    "                padding='valid',\n",
    "                activation='relu',\n",
    "                strides=1)) # 2\n",
    "model.add(GlobalMaxPooling1D())\n",
    "model.add(Dense(hidden_dims))\n",
    "model.add(Dropout(0.2))\n",
    "model.add(Activation('relu'))\n",
    "model.add(Dense(1))\n",
    "model.add(Activation('sigmoid'))\n",
    "model.summary()"
   ]
  },
  {
   "cell_type": "markdown",
   "metadata": {},
   "source": [
    "- 1 : 임베딩은 텍스트를 양의 정수로 변환해 주는 역할을 하며, 파라미터는 다음과 같음\n",
    "    - max_features : 단어 사전의 크기로, 단어 종류가 5000개, 이 값은 imdb.load_data() 메서드의 num_words 파라미터 값과 동일해야 함\n",
    "    - embedding_dims : 단어를 인코딩 한 후 나오는 벡터 크기, 이 값이 50이라면, 단어가 50차원의 기하 공간에 표현된거임\n",
    "    - input_length : 단어 수, 즉 문장 길이. 임베딩층 다음 플래튼 층이 온다면 반드시 input_length를 지정해줘야 함. 플래튼층이라면 입력 크기를 알아야 이를 1차원적으로 만들어서 밀집층에 전달할 수 있기 때문\n",
    "- 2 : 문장 해석을 위해 합성곱층(Conv1D) 이용, 합성곱층은 위치를 무시하고 지역적인 특성을 잘 뽑아내야함. 합성곱을 문장에 적용한다면, 주요 단어가 문장앞뒤에 있더라도 전후 문맥을 고려하여 특성을 뽑아낼 수 있음. 글로벌 최대 풀링(GlobalMaxPooling)층은 합성곱층이 문장을 훑어가면서 뽑아낸 특성 벡터 중 가장 큰 벡터를 선택, 즉 문맥을 보면서 주요 특성을 뽑아내고, 그중 가장 두드러지는 특성을 선택함"
   ]
  },
  {
   "cell_type": "code",
   "execution_count": 57,
   "metadata": {},
   "outputs": [
    {
     "name": "stdout",
     "output_type": "stream",
     "text": [
      "Epoch 1/300\n",
      "625/625 [==============================] - ETA: 0s - loss: 0.4325 - accuracy: 0.7803\n",
      "Epoch 00001: saving model to training_1\\cp.ckpt\n",
      "INFO:tensorflow:Assets written to: training_1\\cp.ckpt\\assets\n"
     ]
    },
    {
     "name": "stderr",
     "output_type": "stream",
     "text": [
      "INFO:tensorflow:Assets written to: training_1\\cp.ckpt\\assets\n"
     ]
    },
    {
     "name": "stdout",
     "output_type": "stream",
     "text": [
      "625/625 [==============================] - 38s 61ms/step - loss: 0.4325 - accuracy: 0.7803 - val_loss: 0.2939 - val_accuracy: 0.8802\n",
      "Epoch 2/300\n",
      "625/625 [==============================] - ETA: 0s - loss: 0.2447 - accuracy: 0.9007\n",
      "Epoch 00002: saving model to training_1\\cp.ckpt\n",
      "INFO:tensorflow:Assets written to: training_1\\cp.ckpt\\assets\n"
     ]
    },
    {
     "name": "stderr",
     "output_type": "stream",
     "text": [
      "INFO:tensorflow:Assets written to: training_1\\cp.ckpt\\assets\n"
     ]
    },
    {
     "name": "stdout",
     "output_type": "stream",
     "text": [
      "625/625 [==============================] - 37s 59ms/step - loss: 0.2447 - accuracy: 0.9007 - val_loss: 0.2625 - val_accuracy: 0.8956\n",
      "Epoch 3/300\n",
      "625/625 [==============================] - ETA: 0s - loss: 0.1681 - accuracy: 0.9348\n",
      "Epoch 00003: saving model to training_1\\cp.ckpt\n",
      "INFO:tensorflow:Assets written to: training_1\\cp.ckpt\\assets\n"
     ]
    },
    {
     "name": "stderr",
     "output_type": "stream",
     "text": [
      "INFO:tensorflow:Assets written to: training_1\\cp.ckpt\\assets\n"
     ]
    },
    {
     "name": "stdout",
     "output_type": "stream",
     "text": [
      "625/625 [==============================] - 37s 59ms/step - loss: 0.1681 - accuracy: 0.9348 - val_loss: 0.2758 - val_accuracy: 0.8902\n",
      "Epoch 4/300\n",
      "625/625 [==============================] - ETA: 0s - loss: 0.1143 - accuracy: 0.9579\n",
      "Epoch 00004: saving model to training_1\\cp.ckpt\n",
      "INFO:tensorflow:Assets written to: training_1\\cp.ckpt\\assets\n"
     ]
    },
    {
     "name": "stderr",
     "output_type": "stream",
     "text": [
      "INFO:tensorflow:Assets written to: training_1\\cp.ckpt\\assets\n"
     ]
    },
    {
     "name": "stdout",
     "output_type": "stream",
     "text": [
      "625/625 [==============================] - 37s 59ms/step - loss: 0.1143 - accuracy: 0.9579 - val_loss: 0.3128 - val_accuracy: 0.8906\n",
      "Epoch 5/300\n",
      "625/625 [==============================] - ETA: 0s - loss: 0.0724 - accuracy: 0.9750\n",
      "Epoch 00005: saving model to training_1\\cp.ckpt\n",
      "INFO:tensorflow:Assets written to: training_1\\cp.ckpt\\assets\n"
     ]
    },
    {
     "name": "stderr",
     "output_type": "stream",
     "text": [
      "INFO:tensorflow:Assets written to: training_1\\cp.ckpt\\assets\n"
     ]
    },
    {
     "name": "stdout",
     "output_type": "stream",
     "text": [
      "625/625 [==============================] - 37s 60ms/step - loss: 0.0724 - accuracy: 0.9750 - val_loss: 0.3562 - val_accuracy: 0.8934\n",
      "Epoch 6/300\n",
      "625/625 [==============================] - ETA: 0s - loss: 0.0520 - accuracy: 0.9814\n",
      "Epoch 00006: saving model to training_1\\cp.ckpt\n",
      "INFO:tensorflow:Assets written to: training_1\\cp.ckpt\\assets\n"
     ]
    },
    {
     "name": "stderr",
     "output_type": "stream",
     "text": [
      "INFO:tensorflow:Assets written to: training_1\\cp.ckpt\\assets\n"
     ]
    },
    {
     "name": "stdout",
     "output_type": "stream",
     "text": [
      "625/625 [==============================] - 38s 60ms/step - loss: 0.0520 - accuracy: 0.9814 - val_loss: 0.4170 - val_accuracy: 0.8812\n",
      "Epoch 7/300\n",
      "625/625 [==============================] - ETA: 0s - loss: 0.0384 - accuracy: 0.9871\n",
      "Epoch 00007: saving model to training_1\\cp.ckpt\n",
      "INFO:tensorflow:Assets written to: training_1\\cp.ckpt\\assets\n"
     ]
    },
    {
     "name": "stderr",
     "output_type": "stream",
     "text": [
      "INFO:tensorflow:Assets written to: training_1\\cp.ckpt\\assets\n"
     ]
    },
    {
     "name": "stdout",
     "output_type": "stream",
     "text": [
      "625/625 [==============================] - 37s 60ms/step - loss: 0.0384 - accuracy: 0.9871 - val_loss: 0.4583 - val_accuracy: 0.8832\n",
      "Epoch 8/300\n",
      "625/625 [==============================] - ETA: 0s - loss: 0.0325 - accuracy: 0.9883\n",
      "Epoch 00008: saving model to training_1\\cp.ckpt\n",
      "INFO:tensorflow:Assets written to: training_1\\cp.ckpt\\assets\n"
     ]
    },
    {
     "name": "stderr",
     "output_type": "stream",
     "text": [
      "INFO:tensorflow:Assets written to: training_1\\cp.ckpt\\assets\n"
     ]
    },
    {
     "name": "stdout",
     "output_type": "stream",
     "text": [
      "625/625 [==============================] - 37s 59ms/step - loss: 0.0325 - accuracy: 0.9883 - val_loss: 0.5059 - val_accuracy: 0.8772\n",
      "Epoch 9/300\n",
      "625/625 [==============================] - ETA: 0s - loss: 0.0286 - accuracy: 0.9908\n",
      "Epoch 00009: saving model to training_1\\cp.ckpt\n",
      "INFO:tensorflow:Assets written to: training_1\\cp.ckpt\\assets\n"
     ]
    },
    {
     "name": "stderr",
     "output_type": "stream",
     "text": [
      "INFO:tensorflow:Assets written to: training_1\\cp.ckpt\\assets\n"
     ]
    },
    {
     "name": "stdout",
     "output_type": "stream",
     "text": [
      "625/625 [==============================] - 37s 59ms/step - loss: 0.0286 - accuracy: 0.9908 - val_loss: 0.5013 - val_accuracy: 0.8878\n",
      "Epoch 10/300\n",
      "625/625 [==============================] - ETA: 0s - loss: 0.0273 - accuracy: 0.9901\n",
      "Epoch 00010: saving model to training_1\\cp.ckpt\n",
      "INFO:tensorflow:Assets written to: training_1\\cp.ckpt\\assets\n"
     ]
    },
    {
     "name": "stderr",
     "output_type": "stream",
     "text": [
      "INFO:tensorflow:Assets written to: training_1\\cp.ckpt\\assets\n"
     ]
    },
    {
     "name": "stdout",
     "output_type": "stream",
     "text": [
      "625/625 [==============================] - 37s 60ms/step - loss: 0.0273 - accuracy: 0.9901 - val_loss: 0.5324 - val_accuracy: 0.8874\n",
      "Epoch 11/300\n",
      "625/625 [==============================] - ETA: 0s - loss: 0.0289 - accuracy: 0.9887\n",
      "Epoch 00011: saving model to training_1\\cp.ckpt\n",
      "INFO:tensorflow:Assets written to: training_1\\cp.ckpt\\assets\n"
     ]
    },
    {
     "name": "stderr",
     "output_type": "stream",
     "text": [
      "INFO:tensorflow:Assets written to: training_1\\cp.ckpt\\assets\n"
     ]
    },
    {
     "name": "stdout",
     "output_type": "stream",
     "text": [
      "625/625 [==============================] - 37s 59ms/step - loss: 0.0289 - accuracy: 0.9887 - val_loss: 0.5659 - val_accuracy: 0.8856\n",
      "Epoch 12/300\n",
      "625/625 [==============================] - ETA: 0s - loss: 0.0208 - accuracy: 0.9928\n",
      "Epoch 00012: saving model to training_1\\cp.ckpt\n",
      "INFO:tensorflow:Assets written to: training_1\\cp.ckpt\\assets\n"
     ]
    },
    {
     "name": "stderr",
     "output_type": "stream",
     "text": [
      "INFO:tensorflow:Assets written to: training_1\\cp.ckpt\\assets\n"
     ]
    },
    {
     "name": "stdout",
     "output_type": "stream",
     "text": [
      "625/625 [==============================] - 37s 59ms/step - loss: 0.0208 - accuracy: 0.9928 - val_loss: 0.5565 - val_accuracy: 0.8830\n",
      "Epoch 13/300\n",
      "624/625 [============================>.] - ETA: 0s - loss: 0.0205 - accuracy: 0.9926\n",
      "Epoch 00013: saving model to training_1\\cp.ckpt\n",
      "INFO:tensorflow:Assets written to: training_1\\cp.ckpt\\assets\n"
     ]
    },
    {
     "name": "stderr",
     "output_type": "stream",
     "text": [
      "INFO:tensorflow:Assets written to: training_1\\cp.ckpt\\assets\n"
     ]
    },
    {
     "name": "stdout",
     "output_type": "stream",
     "text": [
      "625/625 [==============================] - 37s 60ms/step - loss: 0.0204 - accuracy: 0.9926 - val_loss: 0.5136 - val_accuracy: 0.8884\n",
      "Epoch 14/300\n",
      "625/625 [==============================] - ETA: 0s - loss: 0.0214 - accuracy: 0.9922\n",
      "Epoch 00014: saving model to training_1\\cp.ckpt\n",
      "INFO:tensorflow:Assets written to: training_1\\cp.ckpt\\assets\n"
     ]
    },
    {
     "name": "stderr",
     "output_type": "stream",
     "text": [
      "INFO:tensorflow:Assets written to: training_1\\cp.ckpt\\assets\n"
     ]
    },
    {
     "name": "stdout",
     "output_type": "stream",
     "text": [
      "625/625 [==============================] - 37s 60ms/step - loss: 0.0214 - accuracy: 0.9922 - val_loss: 0.5574 - val_accuracy: 0.8870\n",
      "Epoch 15/300\n",
      "625/625 [==============================] - ETA: 0s - loss: 0.0153 - accuracy: 0.9951\n",
      "Epoch 00015: saving model to training_1\\cp.ckpt\n",
      "INFO:tensorflow:Assets written to: training_1\\cp.ckpt\\assets\n"
     ]
    },
    {
     "name": "stderr",
     "output_type": "stream",
     "text": [
      "INFO:tensorflow:Assets written to: training_1\\cp.ckpt\\assets\n"
     ]
    },
    {
     "name": "stdout",
     "output_type": "stream",
     "text": [
      "625/625 [==============================] - 37s 60ms/step - loss: 0.0153 - accuracy: 0.9951 - val_loss: 0.6707 - val_accuracy: 0.8810\n",
      "Epoch 16/300\n",
      "625/625 [==============================] - ETA: 0s - loss: 0.0189 - accuracy: 0.9930\n",
      "Epoch 00016: saving model to training_1\\cp.ckpt\n",
      "INFO:tensorflow:Assets written to: training_1\\cp.ckpt\\assets\n"
     ]
    },
    {
     "name": "stderr",
     "output_type": "stream",
     "text": [
      "INFO:tensorflow:Assets written to: training_1\\cp.ckpt\\assets\n"
     ]
    },
    {
     "name": "stdout",
     "output_type": "stream",
     "text": [
      "625/625 [==============================] - 37s 59ms/step - loss: 0.0189 - accuracy: 0.9930 - val_loss: 0.6365 - val_accuracy: 0.8832\n",
      "Epoch 17/300\n",
      "625/625 [==============================] - ETA: 0s - loss: 0.0195 - accuracy: 0.9928\n",
      "Epoch 00017: saving model to training_1\\cp.ckpt\n",
      "INFO:tensorflow:Assets written to: training_1\\cp.ckpt\\assets\n"
     ]
    },
    {
     "name": "stderr",
     "output_type": "stream",
     "text": [
      "INFO:tensorflow:Assets written to: training_1\\cp.ckpt\\assets\n"
     ]
    },
    {
     "name": "stdout",
     "output_type": "stream",
     "text": [
      "625/625 [==============================] - 37s 59ms/step - loss: 0.0195 - accuracy: 0.9928 - val_loss: 0.5916 - val_accuracy: 0.8840\n",
      "Epoch 18/300\n",
      "625/625 [==============================] - ETA: 0s - loss: 0.0150 - accuracy: 0.9950\n",
      "Epoch 00018: saving model to training_1\\cp.ckpt\n",
      "INFO:tensorflow:Assets written to: training_1\\cp.ckpt\\assets\n"
     ]
    },
    {
     "name": "stderr",
     "output_type": "stream",
     "text": [
      "INFO:tensorflow:Assets written to: training_1\\cp.ckpt\\assets\n"
     ]
    },
    {
     "name": "stdout",
     "output_type": "stream",
     "text": [
      "625/625 [==============================] - 38s 60ms/step - loss: 0.0150 - accuracy: 0.9950 - val_loss: 0.6304 - val_accuracy: 0.8860\n",
      "Epoch 19/300\n",
      "625/625 [==============================] - ETA: 0s - loss: 0.0156 - accuracy: 0.9935\n",
      "Epoch 00019: saving model to training_1\\cp.ckpt\n",
      "INFO:tensorflow:Assets written to: training_1\\cp.ckpt\\assets\n"
     ]
    },
    {
     "name": "stderr",
     "output_type": "stream",
     "text": [
      "INFO:tensorflow:Assets written to: training_1\\cp.ckpt\\assets\n"
     ]
    },
    {
     "name": "stdout",
     "output_type": "stream",
     "text": [
      "625/625 [==============================] - 37s 60ms/step - loss: 0.0156 - accuracy: 0.9935 - val_loss: 0.6840 - val_accuracy: 0.8820\n",
      "Epoch 20/300\n",
      "625/625 [==============================] - ETA: 0s - loss: 0.0177 - accuracy: 0.9935\n",
      "Epoch 00020: saving model to training_1\\cp.ckpt\n",
      "INFO:tensorflow:Assets written to: training_1\\cp.ckpt\\assets\n"
     ]
    },
    {
     "name": "stderr",
     "output_type": "stream",
     "text": [
      "INFO:tensorflow:Assets written to: training_1\\cp.ckpt\\assets\n"
     ]
    },
    {
     "name": "stdout",
     "output_type": "stream",
     "text": [
      "625/625 [==============================] - 37s 60ms/step - loss: 0.0177 - accuracy: 0.9935 - val_loss: 0.6336 - val_accuracy: 0.8854\n",
      "Epoch 21/300\n",
      "625/625 [==============================] - ETA: 0s - loss: 0.0147 - accuracy: 0.9941\n",
      "Epoch 00021: saving model to training_1\\cp.ckpt\n",
      "INFO:tensorflow:Assets written to: training_1\\cp.ckpt\\assets\n"
     ]
    },
    {
     "name": "stderr",
     "output_type": "stream",
     "text": [
      "INFO:tensorflow:Assets written to: training_1\\cp.ckpt\\assets\n"
     ]
    },
    {
     "name": "stdout",
     "output_type": "stream",
     "text": [
      "625/625 [==============================] - 37s 60ms/step - loss: 0.0147 - accuracy: 0.9941 - val_loss: 0.6966 - val_accuracy: 0.8822\n",
      "Epoch 22/300\n",
      "625/625 [==============================] - ETA: 0s - loss: 0.0149 - accuracy: 0.9948\n",
      "Epoch 00022: saving model to training_1\\cp.ckpt\n",
      "INFO:tensorflow:Assets written to: training_1\\cp.ckpt\\assets\n"
     ]
    },
    {
     "name": "stderr",
     "output_type": "stream",
     "text": [
      "INFO:tensorflow:Assets written to: training_1\\cp.ckpt\\assets\n"
     ]
    },
    {
     "name": "stdout",
     "output_type": "stream",
     "text": [
      "625/625 [==============================] - 38s 61ms/step - loss: 0.0149 - accuracy: 0.9948 - val_loss: 0.6358 - val_accuracy: 0.8834\n",
      "Epoch 23/300\n",
      "625/625 [==============================] - ETA: 0s - loss: 0.0159 - accuracy: 0.9941\n",
      "Epoch 00023: saving model to training_1\\cp.ckpt\n",
      "INFO:tensorflow:Assets written to: training_1\\cp.ckpt\\assets\n"
     ]
    },
    {
     "name": "stderr",
     "output_type": "stream",
     "text": [
      "INFO:tensorflow:Assets written to: training_1\\cp.ckpt\\assets\n"
     ]
    },
    {
     "name": "stdout",
     "output_type": "stream",
     "text": [
      "625/625 [==============================] - 37s 59ms/step - loss: 0.0159 - accuracy: 0.9941 - val_loss: 0.6131 - val_accuracy: 0.8898\n",
      "Epoch 24/300\n",
      "625/625 [==============================] - ETA: 0s - loss: 0.0144 - accuracy: 0.9946\n",
      "Epoch 00024: saving model to training_1\\cp.ckpt\n",
      "INFO:tensorflow:Assets written to: training_1\\cp.ckpt\\assets\n"
     ]
    },
    {
     "name": "stderr",
     "output_type": "stream",
     "text": [
      "INFO:tensorflow:Assets written to: training_1\\cp.ckpt\\assets\n"
     ]
    },
    {
     "name": "stdout",
     "output_type": "stream",
     "text": [
      "625/625 [==============================] - 38s 60ms/step - loss: 0.0144 - accuracy: 0.9946 - val_loss: 0.6217 - val_accuracy: 0.8832\n",
      "Epoch 25/300\n",
      "625/625 [==============================] - ETA: 0s - loss: 0.0130 - accuracy: 0.9951\n",
      "Epoch 00025: saving model to training_1\\cp.ckpt\n",
      "INFO:tensorflow:Assets written to: training_1\\cp.ckpt\\assets\n"
     ]
    },
    {
     "name": "stderr",
     "output_type": "stream",
     "text": [
      "INFO:tensorflow:Assets written to: training_1\\cp.ckpt\\assets\n"
     ]
    },
    {
     "name": "stdout",
     "output_type": "stream",
     "text": [
      "625/625 [==============================] - 37s 59ms/step - loss: 0.0130 - accuracy: 0.9951 - val_loss: 0.6769 - val_accuracy: 0.8840\n",
      "Epoch 26/300\n",
      "625/625 [==============================] - ETA: 0s - loss: 0.0088 - accuracy: 0.9967\n",
      "Epoch 00026: saving model to training_1\\cp.ckpt\n",
      "INFO:tensorflow:Assets written to: training_1\\cp.ckpt\\assets\n"
     ]
    },
    {
     "name": "stderr",
     "output_type": "stream",
     "text": [
      "INFO:tensorflow:Assets written to: training_1\\cp.ckpt\\assets\n"
     ]
    },
    {
     "name": "stdout",
     "output_type": "stream",
     "text": [
      "625/625 [==============================] - 37s 59ms/step - loss: 0.0088 - accuracy: 0.9967 - val_loss: 0.6673 - val_accuracy: 0.8838\n",
      "Epoch 27/300\n",
      "625/625 [==============================] - ETA: 0s - loss: 0.0120 - accuracy: 0.9956\n",
      "Epoch 00027: saving model to training_1\\cp.ckpt\n",
      "INFO:tensorflow:Assets written to: training_1\\cp.ckpt\\assets\n"
     ]
    },
    {
     "name": "stderr",
     "output_type": "stream",
     "text": [
      "INFO:tensorflow:Assets written to: training_1\\cp.ckpt\\assets\n"
     ]
    },
    {
     "name": "stdout",
     "output_type": "stream",
     "text": [
      "625/625 [==============================] - 37s 59ms/step - loss: 0.0120 - accuracy: 0.9956 - val_loss: 0.7543 - val_accuracy: 0.8858\n",
      "Epoch 28/300\n",
      "625/625 [==============================] - ETA: 0s - loss: 0.0132 - accuracy: 0.9951\n",
      "Epoch 00028: saving model to training_1\\cp.ckpt\n",
      "INFO:tensorflow:Assets written to: training_1\\cp.ckpt\\assets\n"
     ]
    },
    {
     "name": "stderr",
     "output_type": "stream",
     "text": [
      "INFO:tensorflow:Assets written to: training_1\\cp.ckpt\\assets\n"
     ]
    },
    {
     "name": "stdout",
     "output_type": "stream",
     "text": [
      "625/625 [==============================] - 37s 60ms/step - loss: 0.0132 - accuracy: 0.9951 - val_loss: 0.6702 - val_accuracy: 0.8834\n",
      "Epoch 29/300\n",
      "625/625 [==============================] - ETA: 0s - loss: 0.0100 - accuracy: 0.9961\n",
      "Epoch 00029: saving model to training_1\\cp.ckpt\n",
      "INFO:tensorflow:Assets written to: training_1\\cp.ckpt\\assets\n"
     ]
    },
    {
     "name": "stderr",
     "output_type": "stream",
     "text": [
      "INFO:tensorflow:Assets written to: training_1\\cp.ckpt\\assets\n"
     ]
    },
    {
     "name": "stdout",
     "output_type": "stream",
     "text": [
      "625/625 [==============================] - 37s 59ms/step - loss: 0.0100 - accuracy: 0.9961 - val_loss: 0.6995 - val_accuracy: 0.8872\n",
      "Epoch 30/300\n",
      "625/625 [==============================] - ETA: 0s - loss: 0.0118 - accuracy: 0.9955\n",
      "Epoch 00030: saving model to training_1\\cp.ckpt\n",
      "INFO:tensorflow:Assets written to: training_1\\cp.ckpt\\assets\n"
     ]
    },
    {
     "name": "stderr",
     "output_type": "stream",
     "text": [
      "INFO:tensorflow:Assets written to: training_1\\cp.ckpt\\assets\n"
     ]
    },
    {
     "name": "stdout",
     "output_type": "stream",
     "text": [
      "625/625 [==============================] - 38s 60ms/step - loss: 0.0118 - accuracy: 0.9955 - val_loss: 0.8125 - val_accuracy: 0.8806\n",
      "Epoch 31/300\n",
      "625/625 [==============================] - ETA: 0s - loss: 0.0122 - accuracy: 0.9961\n",
      "Epoch 00031: saving model to training_1\\cp.ckpt\n",
      "INFO:tensorflow:Assets written to: training_1\\cp.ckpt\\assets\n"
     ]
    },
    {
     "name": "stderr",
     "output_type": "stream",
     "text": [
      "INFO:tensorflow:Assets written to: training_1\\cp.ckpt\\assets\n"
     ]
    },
    {
     "name": "stdout",
     "output_type": "stream",
     "text": [
      "625/625 [==============================] - 37s 60ms/step - loss: 0.0122 - accuracy: 0.9961 - val_loss: 0.7342 - val_accuracy: 0.8808\n",
      "Epoch 32/300\n",
      "625/625 [==============================] - ETA: 0s - loss: 0.0106 - accuracy: 0.9966\n",
      "Epoch 00032: saving model to training_1\\cp.ckpt\n",
      "INFO:tensorflow:Assets written to: training_1\\cp.ckpt\\assets\n"
     ]
    },
    {
     "name": "stderr",
     "output_type": "stream",
     "text": [
      "INFO:tensorflow:Assets written to: training_1\\cp.ckpt\\assets\n"
     ]
    },
    {
     "name": "stdout",
     "output_type": "stream",
     "text": [
      "625/625 [==============================] - 37s 60ms/step - loss: 0.0106 - accuracy: 0.9966 - val_loss: 0.7007 - val_accuracy: 0.8842\n",
      "Epoch 33/300\n",
      "625/625 [==============================] - ETA: 0s - loss: 0.0102 - accuracy: 0.9964\n",
      "Epoch 00033: saving model to training_1\\cp.ckpt\n",
      "INFO:tensorflow:Assets written to: training_1\\cp.ckpt\\assets\n"
     ]
    },
    {
     "name": "stderr",
     "output_type": "stream",
     "text": [
      "INFO:tensorflow:Assets written to: training_1\\cp.ckpt\\assets\n"
     ]
    },
    {
     "name": "stdout",
     "output_type": "stream",
     "text": [
      "625/625 [==============================] - 37s 60ms/step - loss: 0.0102 - accuracy: 0.9964 - val_loss: 0.6618 - val_accuracy: 0.8808\n",
      "Epoch 34/300\n",
      "625/625 [==============================] - ETA: 0s - loss: 0.0089 - accuracy: 0.9969\n",
      "Epoch 00034: saving model to training_1\\cp.ckpt\n",
      "INFO:tensorflow:Assets written to: training_1\\cp.ckpt\\assets\n"
     ]
    },
    {
     "name": "stderr",
     "output_type": "stream",
     "text": [
      "INFO:tensorflow:Assets written to: training_1\\cp.ckpt\\assets\n"
     ]
    },
    {
     "name": "stdout",
     "output_type": "stream",
     "text": [
      "625/625 [==============================] - 37s 59ms/step - loss: 0.0089 - accuracy: 0.9969 - val_loss: 0.7279 - val_accuracy: 0.8848\n",
      "Epoch 35/300\n",
      "625/625 [==============================] - ETA: 0s - loss: 0.0131 - accuracy: 0.9954\n",
      "Epoch 00035: saving model to training_1\\cp.ckpt\n",
      "INFO:tensorflow:Assets written to: training_1\\cp.ckpt\\assets\n"
     ]
    },
    {
     "name": "stderr",
     "output_type": "stream",
     "text": [
      "INFO:tensorflow:Assets written to: training_1\\cp.ckpt\\assets\n"
     ]
    },
    {
     "name": "stdout",
     "output_type": "stream",
     "text": [
      "625/625 [==============================] - 38s 61ms/step - loss: 0.0131 - accuracy: 0.9954 - val_loss: 0.7515 - val_accuracy: 0.8852\n",
      "Epoch 36/300\n",
      "625/625 [==============================] - ETA: 0s - loss: 0.0084 - accuracy: 0.9967\n",
      "Epoch 00036: saving model to training_1\\cp.ckpt\n",
      "INFO:tensorflow:Assets written to: training_1\\cp.ckpt\\assets\n"
     ]
    },
    {
     "name": "stderr",
     "output_type": "stream",
     "text": [
      "INFO:tensorflow:Assets written to: training_1\\cp.ckpt\\assets\n"
     ]
    },
    {
     "name": "stdout",
     "output_type": "stream",
     "text": [
      "625/625 [==============================] - 37s 59ms/step - loss: 0.0084 - accuracy: 0.9967 - val_loss: 0.7449 - val_accuracy: 0.8882\n",
      "Epoch 37/300\n",
      "625/625 [==============================] - ETA: 0s - loss: 0.0082 - accuracy: 0.9969\n",
      "Epoch 00037: saving model to training_1\\cp.ckpt\n",
      "INFO:tensorflow:Assets written to: training_1\\cp.ckpt\\assets\n"
     ]
    },
    {
     "name": "stderr",
     "output_type": "stream",
     "text": [
      "INFO:tensorflow:Assets written to: training_1\\cp.ckpt\\assets\n"
     ]
    },
    {
     "name": "stdout",
     "output_type": "stream",
     "text": [
      "625/625 [==============================] - 37s 59ms/step - loss: 0.0082 - accuracy: 0.9969 - val_loss: 0.8294 - val_accuracy: 0.8836\n",
      "Epoch 38/300\n",
      "625/625 [==============================] - ETA: 0s - loss: 0.0104 - accuracy: 0.9959\n",
      "Epoch 00038: saving model to training_1\\cp.ckpt\n",
      "INFO:tensorflow:Assets written to: training_1\\cp.ckpt\\assets\n"
     ]
    },
    {
     "name": "stderr",
     "output_type": "stream",
     "text": [
      "INFO:tensorflow:Assets written to: training_1\\cp.ckpt\\assets\n"
     ]
    },
    {
     "name": "stdout",
     "output_type": "stream",
     "text": [
      "625/625 [==============================] - 37s 59ms/step - loss: 0.0104 - accuracy: 0.9959 - val_loss: 0.8309 - val_accuracy: 0.8800\n",
      "Epoch 39/300\n",
      "625/625 [==============================] - ETA: 0s - loss: 0.0093 - accuracy: 0.9965\n",
      "Epoch 00039: saving model to training_1\\cp.ckpt\n",
      "INFO:tensorflow:Assets written to: training_1\\cp.ckpt\\assets\n"
     ]
    },
    {
     "name": "stderr",
     "output_type": "stream",
     "text": [
      "INFO:tensorflow:Assets written to: training_1\\cp.ckpt\\assets\n"
     ]
    },
    {
     "name": "stdout",
     "output_type": "stream",
     "text": [
      "625/625 [==============================] - 37s 59ms/step - loss: 0.0093 - accuracy: 0.9965 - val_loss: 0.8120 - val_accuracy: 0.8750\n",
      "Epoch 40/300\n",
      "625/625 [==============================] - ETA: 0s - loss: 0.0109 - accuracy: 0.9963\n",
      "Epoch 00040: saving model to training_1\\cp.ckpt\n",
      "INFO:tensorflow:Assets written to: training_1\\cp.ckpt\\assets\n"
     ]
    },
    {
     "name": "stderr",
     "output_type": "stream",
     "text": [
      "INFO:tensorflow:Assets written to: training_1\\cp.ckpt\\assets\n"
     ]
    },
    {
     "name": "stdout",
     "output_type": "stream",
     "text": [
      "625/625 [==============================] - 37s 59ms/step - loss: 0.0109 - accuracy: 0.9963 - val_loss: 0.7607 - val_accuracy: 0.8880\n",
      "Epoch 41/300\n",
      "625/625 [==============================] - ETA: 0s - loss: 0.0079 - accuracy: 0.9973\n",
      "Epoch 00041: saving model to training_1\\cp.ckpt\n",
      "INFO:tensorflow:Assets written to: training_1\\cp.ckpt\\assets\n"
     ]
    },
    {
     "name": "stderr",
     "output_type": "stream",
     "text": [
      "INFO:tensorflow:Assets written to: training_1\\cp.ckpt\\assets\n"
     ]
    },
    {
     "name": "stdout",
     "output_type": "stream",
     "text": [
      "625/625 [==============================] - 37s 59ms/step - loss: 0.0079 - accuracy: 0.9973 - val_loss: 0.7726 - val_accuracy: 0.8856\n",
      "Epoch 42/300\n",
      "625/625 [==============================] - ETA: 0s - loss: 0.0066 - accuracy: 0.9979\n",
      "Epoch 00042: saving model to training_1\\cp.ckpt\n",
      "INFO:tensorflow:Assets written to: training_1\\cp.ckpt\\assets\n"
     ]
    },
    {
     "name": "stderr",
     "output_type": "stream",
     "text": [
      "INFO:tensorflow:Assets written to: training_1\\cp.ckpt\\assets\n"
     ]
    },
    {
     "name": "stdout",
     "output_type": "stream",
     "text": [
      "625/625 [==============================] - 37s 60ms/step - loss: 0.0066 - accuracy: 0.9979 - val_loss: 0.7895 - val_accuracy: 0.8860\n",
      "Epoch 43/300\n",
      "625/625 [==============================] - ETA: 0s - loss: 0.0089 - accuracy: 0.9966\n",
      "Epoch 00043: saving model to training_1\\cp.ckpt\n",
      "INFO:tensorflow:Assets written to: training_1\\cp.ckpt\\assets\n"
     ]
    },
    {
     "name": "stderr",
     "output_type": "stream",
     "text": [
      "INFO:tensorflow:Assets written to: training_1\\cp.ckpt\\assets\n"
     ]
    },
    {
     "name": "stdout",
     "output_type": "stream",
     "text": [
      "625/625 [==============================] - 37s 60ms/step - loss: 0.0089 - accuracy: 0.9966 - val_loss: 0.7333 - val_accuracy: 0.8892\n",
      "Epoch 44/300\n",
      "625/625 [==============================] - ETA: 0s - loss: 0.0083 - accuracy: 0.9972\n",
      "Epoch 00044: saving model to training_1\\cp.ckpt\n",
      "INFO:tensorflow:Assets written to: training_1\\cp.ckpt\\assets\n"
     ]
    },
    {
     "name": "stderr",
     "output_type": "stream",
     "text": [
      "INFO:tensorflow:Assets written to: training_1\\cp.ckpt\\assets\n"
     ]
    },
    {
     "name": "stdout",
     "output_type": "stream",
     "text": [
      "625/625 [==============================] - 37s 60ms/step - loss: 0.0083 - accuracy: 0.9972 - val_loss: 0.6951 - val_accuracy: 0.8862\n",
      "Epoch 45/300\n",
      "625/625 [==============================] - ETA: 0s - loss: 0.0045 - accuracy: 0.9983\n",
      "Epoch 00045: saving model to training_1\\cp.ckpt\n",
      "INFO:tensorflow:Assets written to: training_1\\cp.ckpt\\assets\n"
     ]
    },
    {
     "name": "stderr",
     "output_type": "stream",
     "text": [
      "INFO:tensorflow:Assets written to: training_1\\cp.ckpt\\assets\n"
     ]
    },
    {
     "name": "stdout",
     "output_type": "stream",
     "text": [
      "625/625 [==============================] - 37s 59ms/step - loss: 0.0045 - accuracy: 0.9983 - val_loss: 0.8330 - val_accuracy: 0.8888\n",
      "Epoch 46/300\n",
      "625/625 [==============================] - ETA: 0s - loss: 0.0071 - accuracy: 0.9977\n",
      "Epoch 00046: saving model to training_1\\cp.ckpt\n",
      "INFO:tensorflow:Assets written to: training_1\\cp.ckpt\\assets\n"
     ]
    },
    {
     "name": "stderr",
     "output_type": "stream",
     "text": [
      "INFO:tensorflow:Assets written to: training_1\\cp.ckpt\\assets\n"
     ]
    },
    {
     "name": "stdout",
     "output_type": "stream",
     "text": [
      "625/625 [==============================] - 37s 60ms/step - loss: 0.0071 - accuracy: 0.9977 - val_loss: 0.7799 - val_accuracy: 0.8886\n",
      "Epoch 47/300\n",
      "625/625 [==============================] - ETA: 0s - loss: 0.0094 - accuracy: 0.9970\n",
      "Epoch 00047: saving model to training_1\\cp.ckpt\n",
      "INFO:tensorflow:Assets written to: training_1\\cp.ckpt\\assets\n"
     ]
    },
    {
     "name": "stderr",
     "output_type": "stream",
     "text": [
      "INFO:tensorflow:Assets written to: training_1\\cp.ckpt\\assets\n"
     ]
    },
    {
     "name": "stdout",
     "output_type": "stream",
     "text": [
      "625/625 [==============================] - 37s 60ms/step - loss: 0.0094 - accuracy: 0.9970 - val_loss: 0.8245 - val_accuracy: 0.8774\n",
      "Epoch 48/300\n",
      "625/625 [==============================] - ETA: 0s - loss: 0.0074 - accuracy: 0.9970\n",
      "Epoch 00048: saving model to training_1\\cp.ckpt\n",
      "INFO:tensorflow:Assets written to: training_1\\cp.ckpt\\assets\n"
     ]
    },
    {
     "name": "stderr",
     "output_type": "stream",
     "text": [
      "INFO:tensorflow:Assets written to: training_1\\cp.ckpt\\assets\n"
     ]
    },
    {
     "name": "stdout",
     "output_type": "stream",
     "text": [
      "625/625 [==============================] - 37s 60ms/step - loss: 0.0074 - accuracy: 0.9970 - val_loss: 0.8137 - val_accuracy: 0.8852\n",
      "Epoch 49/300\n",
      "625/625 [==============================] - ETA: 0s - loss: 0.0069 - accuracy: 0.9976\n",
      "Epoch 00049: saving model to training_1\\cp.ckpt\n",
      "INFO:tensorflow:Assets written to: training_1\\cp.ckpt\\assets\n"
     ]
    },
    {
     "name": "stderr",
     "output_type": "stream",
     "text": [
      "INFO:tensorflow:Assets written to: training_1\\cp.ckpt\\assets\n"
     ]
    },
    {
     "name": "stdout",
     "output_type": "stream",
     "text": [
      "625/625 [==============================] - 37s 59ms/step - loss: 0.0069 - accuracy: 0.9976 - val_loss: 0.7865 - val_accuracy: 0.8846\n",
      "Epoch 50/300\n",
      "625/625 [==============================] - ETA: 0s - loss: 0.0063 - accuracy: 0.9980\n",
      "Epoch 00050: saving model to training_1\\cp.ckpt\n",
      "INFO:tensorflow:Assets written to: training_1\\cp.ckpt\\assets\n"
     ]
    },
    {
     "name": "stderr",
     "output_type": "stream",
     "text": [
      "INFO:tensorflow:Assets written to: training_1\\cp.ckpt\\assets\n"
     ]
    },
    {
     "name": "stdout",
     "output_type": "stream",
     "text": [
      "625/625 [==============================] - 37s 59ms/step - loss: 0.0063 - accuracy: 0.9980 - val_loss: 0.7403 - val_accuracy: 0.8872\n",
      "Epoch 51/300\n",
      "625/625 [==============================] - ETA: 0s - loss: 0.0068 - accuracy: 0.9975\n",
      "Epoch 00051: saving model to training_1\\cp.ckpt\n",
      "INFO:tensorflow:Assets written to: training_1\\cp.ckpt\\assets\n"
     ]
    },
    {
     "name": "stderr",
     "output_type": "stream",
     "text": [
      "INFO:tensorflow:Assets written to: training_1\\cp.ckpt\\assets\n"
     ]
    },
    {
     "name": "stdout",
     "output_type": "stream",
     "text": [
      "625/625 [==============================] - 37s 60ms/step - loss: 0.0068 - accuracy: 0.9975 - val_loss: 0.7713 - val_accuracy: 0.8852\n",
      "Epoch 52/300\n",
      "625/625 [==============================] - ETA: 0s - loss: 0.0099 - accuracy: 0.9969\n",
      "Epoch 00052: saving model to training_1\\cp.ckpt\n",
      "INFO:tensorflow:Assets written to: training_1\\cp.ckpt\\assets\n"
     ]
    },
    {
     "name": "stderr",
     "output_type": "stream",
     "text": [
      "INFO:tensorflow:Assets written to: training_1\\cp.ckpt\\assets\n"
     ]
    },
    {
     "name": "stdout",
     "output_type": "stream",
     "text": [
      "625/625 [==============================] - 37s 59ms/step - loss: 0.0099 - accuracy: 0.9969 - val_loss: 0.8491 - val_accuracy: 0.8776\n",
      "Epoch 53/300\n",
      "625/625 [==============================] - ETA: 0s - loss: 0.0052 - accuracy: 0.9980\n",
      "Epoch 00053: saving model to training_1\\cp.ckpt\n",
      "INFO:tensorflow:Assets written to: training_1\\cp.ckpt\\assets\n"
     ]
    },
    {
     "name": "stderr",
     "output_type": "stream",
     "text": [
      "INFO:tensorflow:Assets written to: training_1\\cp.ckpt\\assets\n"
     ]
    },
    {
     "name": "stdout",
     "output_type": "stream",
     "text": [
      "625/625 [==============================] - 37s 59ms/step - loss: 0.0052 - accuracy: 0.9980 - val_loss: 0.8870 - val_accuracy: 0.8822\n",
      "Epoch 54/300\n",
      "625/625 [==============================] - ETA: 0s - loss: 0.0094 - accuracy: 0.9972\n",
      "Epoch 00054: saving model to training_1\\cp.ckpt\n",
      "INFO:tensorflow:Assets written to: training_1\\cp.ckpt\\assets\n"
     ]
    },
    {
     "name": "stderr",
     "output_type": "stream",
     "text": [
      "INFO:tensorflow:Assets written to: training_1\\cp.ckpt\\assets\n"
     ]
    },
    {
     "name": "stdout",
     "output_type": "stream",
     "text": [
      "625/625 [==============================] - 37s 59ms/step - loss: 0.0094 - accuracy: 0.9972 - val_loss: 0.7021 - val_accuracy: 0.8798\n",
      "Epoch 55/300\n",
      "625/625 [==============================] - ETA: 0s - loss: 0.0045 - accuracy: 0.9984\n",
      "Epoch 00055: saving model to training_1\\cp.ckpt\n",
      "INFO:tensorflow:Assets written to: training_1\\cp.ckpt\\assets\n"
     ]
    },
    {
     "name": "stderr",
     "output_type": "stream",
     "text": [
      "INFO:tensorflow:Assets written to: training_1\\cp.ckpt\\assets\n"
     ]
    },
    {
     "name": "stdout",
     "output_type": "stream",
     "text": [
      "625/625 [==============================] - 40s 63ms/step - loss: 0.0045 - accuracy: 0.9984 - val_loss: 0.8928 - val_accuracy: 0.8784\n",
      "Epoch 56/300\n",
      "625/625 [==============================] - ETA: 0s - loss: 0.0059 - accuracy: 0.9979\n",
      "Epoch 00056: saving model to training_1\\cp.ckpt\n",
      "INFO:tensorflow:Assets written to: training_1\\cp.ckpt\\assets\n"
     ]
    },
    {
     "name": "stderr",
     "output_type": "stream",
     "text": [
      "INFO:tensorflow:Assets written to: training_1\\cp.ckpt\\assets\n"
     ]
    },
    {
     "name": "stdout",
     "output_type": "stream",
     "text": [
      "625/625 [==============================] - 40s 64ms/step - loss: 0.0059 - accuracy: 0.9979 - val_loss: 0.7446 - val_accuracy: 0.8872\n",
      "Epoch 57/300\n",
      "625/625 [==============================] - ETA: 0s - loss: 0.0046 - accuracy: 0.9984\n",
      "Epoch 00057: saving model to training_1\\cp.ckpt\n",
      "INFO:tensorflow:Assets written to: training_1\\cp.ckpt\\assets\n"
     ]
    },
    {
     "name": "stderr",
     "output_type": "stream",
     "text": [
      "INFO:tensorflow:Assets written to: training_1\\cp.ckpt\\assets\n"
     ]
    },
    {
     "name": "stdout",
     "output_type": "stream",
     "text": [
      "625/625 [==============================] - 40s 64ms/step - loss: 0.0046 - accuracy: 0.9984 - val_loss: 0.8523 - val_accuracy: 0.8806\n",
      "Epoch 58/300\n",
      "625/625 [==============================] - ETA: 0s - loss: 0.0074 - accuracy: 0.9976\n",
      "Epoch 00058: saving model to training_1\\cp.ckpt\n",
      "INFO:tensorflow:Assets written to: training_1\\cp.ckpt\\assets\n"
     ]
    },
    {
     "name": "stderr",
     "output_type": "stream",
     "text": [
      "INFO:tensorflow:Assets written to: training_1\\cp.ckpt\\assets\n"
     ]
    },
    {
     "name": "stdout",
     "output_type": "stream",
     "text": [
      "625/625 [==============================] - 40s 64ms/step - loss: 0.0074 - accuracy: 0.9976 - val_loss: 0.7739 - val_accuracy: 0.8866\n",
      "Epoch 59/300\n",
      "625/625 [==============================] - ETA: 0s - loss: 0.0072 - accuracy: 0.9973\n",
      "Epoch 00059: saving model to training_1\\cp.ckpt\n",
      "INFO:tensorflow:Assets written to: training_1\\cp.ckpt\\assets\n"
     ]
    },
    {
     "name": "stderr",
     "output_type": "stream",
     "text": [
      "INFO:tensorflow:Assets written to: training_1\\cp.ckpt\\assets\n"
     ]
    },
    {
     "name": "stdout",
     "output_type": "stream",
     "text": [
      "625/625 [==============================] - 40s 63ms/step - loss: 0.0072 - accuracy: 0.9973 - val_loss: 0.7381 - val_accuracy: 0.8846\n",
      "Epoch 60/300\n",
      "625/625 [==============================] - ETA: 0s - loss: 0.0091 - accuracy: 0.9967\n",
      "Epoch 00060: saving model to training_1\\cp.ckpt\n",
      "INFO:tensorflow:Assets written to: training_1\\cp.ckpt\\assets\n"
     ]
    },
    {
     "name": "stderr",
     "output_type": "stream",
     "text": [
      "INFO:tensorflow:Assets written to: training_1\\cp.ckpt\\assets\n"
     ]
    },
    {
     "name": "stdout",
     "output_type": "stream",
     "text": [
      "625/625 [==============================] - 40s 64ms/step - loss: 0.0091 - accuracy: 0.9967 - val_loss: 0.7496 - val_accuracy: 0.8842\n",
      "Epoch 61/300\n",
      "625/625 [==============================] - ETA: 0s - loss: 0.0049 - accuracy: 0.9981\n",
      "Epoch 00061: saving model to training_1\\cp.ckpt\n",
      "INFO:tensorflow:Assets written to: training_1\\cp.ckpt\\assets\n"
     ]
    },
    {
     "name": "stderr",
     "output_type": "stream",
     "text": [
      "INFO:tensorflow:Assets written to: training_1\\cp.ckpt\\assets\n"
     ]
    },
    {
     "name": "stdout",
     "output_type": "stream",
     "text": [
      "625/625 [==============================] - 40s 64ms/step - loss: 0.0049 - accuracy: 0.9981 - val_loss: 0.8502 - val_accuracy: 0.8822\n",
      "Epoch 62/300\n",
      "625/625 [==============================] - ETA: 0s - loss: 0.0066 - accuracy: 0.9980\n",
      "Epoch 00062: saving model to training_1\\cp.ckpt\n",
      "INFO:tensorflow:Assets written to: training_1\\cp.ckpt\\assets\n"
     ]
    },
    {
     "name": "stderr",
     "output_type": "stream",
     "text": [
      "INFO:tensorflow:Assets written to: training_1\\cp.ckpt\\assets\n"
     ]
    },
    {
     "name": "stdout",
     "output_type": "stream",
     "text": [
      "625/625 [==============================] - 40s 64ms/step - loss: 0.0066 - accuracy: 0.9980 - val_loss: 0.8550 - val_accuracy: 0.8862\n",
      "Epoch 63/300\n",
      "625/625 [==============================] - ETA: 0s - loss: 0.0036 - accuracy: 0.9988\n",
      "Epoch 00063: saving model to training_1\\cp.ckpt\n",
      "INFO:tensorflow:Assets written to: training_1\\cp.ckpt\\assets\n"
     ]
    },
    {
     "name": "stderr",
     "output_type": "stream",
     "text": [
      "INFO:tensorflow:Assets written to: training_1\\cp.ckpt\\assets\n"
     ]
    },
    {
     "name": "stdout",
     "output_type": "stream",
     "text": [
      "625/625 [==============================] - 39s 63ms/step - loss: 0.0036 - accuracy: 0.9988 - val_loss: 0.9517 - val_accuracy: 0.8824\n",
      "Epoch 64/300\n",
      "625/625 [==============================] - ETA: 0s - loss: 0.0060 - accuracy: 0.9980\n",
      "Epoch 00064: saving model to training_1\\cp.ckpt\n",
      "INFO:tensorflow:Assets written to: training_1\\cp.ckpt\\assets\n"
     ]
    },
    {
     "name": "stderr",
     "output_type": "stream",
     "text": [
      "INFO:tensorflow:Assets written to: training_1\\cp.ckpt\\assets\n"
     ]
    },
    {
     "name": "stdout",
     "output_type": "stream",
     "text": [
      "625/625 [==============================] - 40s 64ms/step - loss: 0.0060 - accuracy: 0.9980 - val_loss: 0.8629 - val_accuracy: 0.8802\n",
      "Epoch 65/300\n",
      "625/625 [==============================] - ETA: 0s - loss: 0.0060 - accuracy: 0.9979\n",
      "Epoch 00065: saving model to training_1\\cp.ckpt\n",
      "INFO:tensorflow:Assets written to: training_1\\cp.ckpt\\assets\n"
     ]
    },
    {
     "name": "stderr",
     "output_type": "stream",
     "text": [
      "INFO:tensorflow:Assets written to: training_1\\cp.ckpt\\assets\n"
     ]
    },
    {
     "name": "stdout",
     "output_type": "stream",
     "text": [
      "625/625 [==============================] - 40s 63ms/step - loss: 0.0060 - accuracy: 0.9979 - val_loss: 0.7923 - val_accuracy: 0.8808\n",
      "Epoch 66/300\n",
      "625/625 [==============================] - ETA: 0s - loss: 0.0058 - accuracy: 0.9980\n",
      "Epoch 00066: saving model to training_1\\cp.ckpt\n",
      "INFO:tensorflow:Assets written to: training_1\\cp.ckpt\\assets\n"
     ]
    },
    {
     "name": "stderr",
     "output_type": "stream",
     "text": [
      "INFO:tensorflow:Assets written to: training_1\\cp.ckpt\\assets\n"
     ]
    },
    {
     "name": "stdout",
     "output_type": "stream",
     "text": [
      "625/625 [==============================] - 39s 63ms/step - loss: 0.0058 - accuracy: 0.9980 - val_loss: 0.7884 - val_accuracy: 0.8826\n",
      "Epoch 67/300\n",
      "625/625 [==============================] - ETA: 0s - loss: 0.0039 - accuracy: 0.9985\n",
      "Epoch 00067: saving model to training_1\\cp.ckpt\n",
      "INFO:tensorflow:Assets written to: training_1\\cp.ckpt\\assets\n"
     ]
    },
    {
     "name": "stderr",
     "output_type": "stream",
     "text": [
      "INFO:tensorflow:Assets written to: training_1\\cp.ckpt\\assets\n"
     ]
    },
    {
     "name": "stdout",
     "output_type": "stream",
     "text": [
      "625/625 [==============================] - 40s 64ms/step - loss: 0.0039 - accuracy: 0.9985 - val_loss: 0.9764 - val_accuracy: 0.8814\n",
      "Epoch 68/300\n",
      "625/625 [==============================] - ETA: 0s - loss: 0.0050 - accuracy: 0.9983\n",
      "Epoch 00068: saving model to training_1\\cp.ckpt\n",
      "INFO:tensorflow:Assets written to: training_1\\cp.ckpt\\assets\n"
     ]
    },
    {
     "name": "stderr",
     "output_type": "stream",
     "text": [
      "INFO:tensorflow:Assets written to: training_1\\cp.ckpt\\assets\n"
     ]
    },
    {
     "name": "stdout",
     "output_type": "stream",
     "text": [
      "625/625 [==============================] - 39s 63ms/step - loss: 0.0050 - accuracy: 0.9983 - val_loss: 0.8726 - val_accuracy: 0.8830\n",
      "Epoch 69/300\n",
      "624/625 [============================>.] - ETA: 0s - loss: 0.0050 - accuracy: 0.9982\n",
      "Epoch 00069: saving model to training_1\\cp.ckpt\n",
      "INFO:tensorflow:Assets written to: training_1\\cp.ckpt\\assets\n"
     ]
    },
    {
     "name": "stderr",
     "output_type": "stream",
     "text": [
      "INFO:tensorflow:Assets written to: training_1\\cp.ckpt\\assets\n"
     ]
    },
    {
     "name": "stdout",
     "output_type": "stream",
     "text": [
      "625/625 [==============================] - 40s 63ms/step - loss: 0.0050 - accuracy: 0.9983 - val_loss: 0.7554 - val_accuracy: 0.8808\n",
      "Epoch 70/300\n",
      "625/625 [==============================] - ETA: 0s - loss: 0.0069 - accuracy: 0.9977\n",
      "Epoch 00070: saving model to training_1\\cp.ckpt\n",
      "INFO:tensorflow:Assets written to: training_1\\cp.ckpt\\assets\n"
     ]
    },
    {
     "name": "stderr",
     "output_type": "stream",
     "text": [
      "INFO:tensorflow:Assets written to: training_1\\cp.ckpt\\assets\n"
     ]
    },
    {
     "name": "stdout",
     "output_type": "stream",
     "text": [
      "625/625 [==============================] - 40s 64ms/step - loss: 0.0069 - accuracy: 0.9977 - val_loss: 0.9279 - val_accuracy: 0.8834\n",
      "Epoch 71/300\n",
      "625/625 [==============================] - ETA: 0s - loss: 0.0040 - accuracy: 0.9990\n",
      "Epoch 00071: saving model to training_1\\cp.ckpt\n",
      "INFO:tensorflow:Assets written to: training_1\\cp.ckpt\\assets\n"
     ]
    },
    {
     "name": "stderr",
     "output_type": "stream",
     "text": [
      "INFO:tensorflow:Assets written to: training_1\\cp.ckpt\\assets\n"
     ]
    },
    {
     "name": "stdout",
     "output_type": "stream",
     "text": [
      "625/625 [==============================] - 40s 64ms/step - loss: 0.0040 - accuracy: 0.9990 - val_loss: 0.8209 - val_accuracy: 0.8856\n",
      "Epoch 72/300\n",
      "625/625 [==============================] - ETA: 0s - loss: 0.0045 - accuracy: 0.9985\n",
      "Epoch 00072: saving model to training_1\\cp.ckpt\n",
      "INFO:tensorflow:Assets written to: training_1\\cp.ckpt\\assets\n"
     ]
    },
    {
     "name": "stderr",
     "output_type": "stream",
     "text": [
      "INFO:tensorflow:Assets written to: training_1\\cp.ckpt\\assets\n"
     ]
    },
    {
     "name": "stdout",
     "output_type": "stream",
     "text": [
      "625/625 [==============================] - 40s 63ms/step - loss: 0.0045 - accuracy: 0.9985 - val_loss: 0.8966 - val_accuracy: 0.8822\n",
      "Epoch 73/300\n",
      "625/625 [==============================] - ETA: 0s - loss: 0.0033 - accuracy: 0.9990\n",
      "Epoch 00073: saving model to training_1\\cp.ckpt\n",
      "INFO:tensorflow:Assets written to: training_1\\cp.ckpt\\assets\n"
     ]
    },
    {
     "name": "stderr",
     "output_type": "stream",
     "text": [
      "INFO:tensorflow:Assets written to: training_1\\cp.ckpt\\assets\n"
     ]
    },
    {
     "name": "stdout",
     "output_type": "stream",
     "text": [
      "625/625 [==============================] - 39s 63ms/step - loss: 0.0033 - accuracy: 0.9990 - val_loss: 0.8928 - val_accuracy: 0.8832\n",
      "Epoch 74/300\n",
      "624/625 [============================>.] - ETA: 0s - loss: 0.0048 - accuracy: 0.9983\n",
      "Epoch 00074: saving model to training_1\\cp.ckpt\n",
      "INFO:tensorflow:Assets written to: training_1\\cp.ckpt\\assets\n"
     ]
    },
    {
     "name": "stderr",
     "output_type": "stream",
     "text": [
      "INFO:tensorflow:Assets written to: training_1\\cp.ckpt\\assets\n"
     ]
    },
    {
     "name": "stdout",
     "output_type": "stream",
     "text": [
      "625/625 [==============================] - 39s 63ms/step - loss: 0.0048 - accuracy: 0.9984 - val_loss: 0.8337 - val_accuracy: 0.8836\n",
      "Epoch 75/300\n",
      "625/625 [==============================] - ETA: 0s - loss: 0.0048 - accuracy: 0.9981\n",
      "Epoch 00075: saving model to training_1\\cp.ckpt\n",
      "INFO:tensorflow:Assets written to: training_1\\cp.ckpt\\assets\n"
     ]
    },
    {
     "name": "stderr",
     "output_type": "stream",
     "text": [
      "INFO:tensorflow:Assets written to: training_1\\cp.ckpt\\assets\n"
     ]
    },
    {
     "name": "stdout",
     "output_type": "stream",
     "text": [
      "625/625 [==============================] - 39s 63ms/step - loss: 0.0048 - accuracy: 0.9981 - val_loss: 0.8263 - val_accuracy: 0.8826\n",
      "Epoch 76/300\n",
      "625/625 [==============================] - ETA: 0s - loss: 0.0060 - accuracy: 0.9980\n",
      "Epoch 00076: saving model to training_1\\cp.ckpt\n",
      "INFO:tensorflow:Assets written to: training_1\\cp.ckpt\\assets\n"
     ]
    },
    {
     "name": "stderr",
     "output_type": "stream",
     "text": [
      "INFO:tensorflow:Assets written to: training_1\\cp.ckpt\\assets\n"
     ]
    },
    {
     "name": "stdout",
     "output_type": "stream",
     "text": [
      "625/625 [==============================] - 39s 63ms/step - loss: 0.0060 - accuracy: 0.9980 - val_loss: 0.9447 - val_accuracy: 0.8826\n",
      "Epoch 77/300\n",
      "625/625 [==============================] - ETA: 0s - loss: 0.0037 - accuracy: 0.9991\n",
      "Epoch 00077: saving model to training_1\\cp.ckpt\n",
      "INFO:tensorflow:Assets written to: training_1\\cp.ckpt\\assets\n"
     ]
    },
    {
     "name": "stderr",
     "output_type": "stream",
     "text": [
      "INFO:tensorflow:Assets written to: training_1\\cp.ckpt\\assets\n"
     ]
    },
    {
     "name": "stdout",
     "output_type": "stream",
     "text": [
      "625/625 [==============================] - 39s 62ms/step - loss: 0.0037 - accuracy: 0.9991 - val_loss: 0.8895 - val_accuracy: 0.8812\n",
      "Epoch 78/300\n",
      "625/625 [==============================] - ETA: 0s - loss: 0.0035 - accuracy: 0.9988\n",
      "Epoch 00078: saving model to training_1\\cp.ckpt\n",
      "INFO:tensorflow:Assets written to: training_1\\cp.ckpt\\assets\n"
     ]
    },
    {
     "name": "stderr",
     "output_type": "stream",
     "text": [
      "INFO:tensorflow:Assets written to: training_1\\cp.ckpt\\assets\n"
     ]
    },
    {
     "name": "stdout",
     "output_type": "stream",
     "text": [
      "625/625 [==============================] - 40s 63ms/step - loss: 0.0035 - accuracy: 0.9988 - val_loss: 0.8763 - val_accuracy: 0.8802\n",
      "Epoch 79/300\n",
      "625/625 [==============================] - ETA: 0s - loss: 0.0054 - accuracy: 0.9980\n",
      "Epoch 00079: saving model to training_1\\cp.ckpt\n",
      "INFO:tensorflow:Assets written to: training_1\\cp.ckpt\\assets\n"
     ]
    },
    {
     "name": "stderr",
     "output_type": "stream",
     "text": [
      "INFO:tensorflow:Assets written to: training_1\\cp.ckpt\\assets\n"
     ]
    },
    {
     "name": "stdout",
     "output_type": "stream",
     "text": [
      "625/625 [==============================] - 40s 64ms/step - loss: 0.0054 - accuracy: 0.9980 - val_loss: 0.8865 - val_accuracy: 0.8826\n",
      "Epoch 80/300\n",
      "625/625 [==============================] - ETA: 0s - loss: 0.0049 - accuracy: 0.9981\n",
      "Epoch 00080: saving model to training_1\\cp.ckpt\n",
      "INFO:tensorflow:Assets written to: training_1\\cp.ckpt\\assets\n"
     ]
    },
    {
     "name": "stderr",
     "output_type": "stream",
     "text": [
      "INFO:tensorflow:Assets written to: training_1\\cp.ckpt\\assets\n"
     ]
    },
    {
     "name": "stdout",
     "output_type": "stream",
     "text": [
      "625/625 [==============================] - 40s 65ms/step - loss: 0.0049 - accuracy: 0.9981 - val_loss: 0.9195 - val_accuracy: 0.8776\n",
      "Epoch 81/300\n",
      "625/625 [==============================] - ETA: 0s - loss: 0.0041 - accuracy: 0.9986\n",
      "Epoch 00081: saving model to training_1\\cp.ckpt\n",
      "INFO:tensorflow:Assets written to: training_1\\cp.ckpt\\assets\n"
     ]
    },
    {
     "name": "stderr",
     "output_type": "stream",
     "text": [
      "INFO:tensorflow:Assets written to: training_1\\cp.ckpt\\assets\n"
     ]
    },
    {
     "name": "stdout",
     "output_type": "stream",
     "text": [
      "625/625 [==============================] - 40s 64ms/step - loss: 0.0041 - accuracy: 0.9986 - val_loss: 0.9788 - val_accuracy: 0.8838\n",
      "Epoch 82/300\n",
      "625/625 [==============================] - ETA: 0s - loss: 0.0028 - accuracy: 0.9991\n",
      "Epoch 00082: saving model to training_1\\cp.ckpt\n",
      "INFO:tensorflow:Assets written to: training_1\\cp.ckpt\\assets\n"
     ]
    },
    {
     "name": "stderr",
     "output_type": "stream",
     "text": [
      "INFO:tensorflow:Assets written to: training_1\\cp.ckpt\\assets\n"
     ]
    },
    {
     "name": "stdout",
     "output_type": "stream",
     "text": [
      "625/625 [==============================] - 40s 63ms/step - loss: 0.0028 - accuracy: 0.9991 - val_loss: 1.1031 - val_accuracy: 0.8734\n",
      "Epoch 83/300\n",
      "625/625 [==============================] - ETA: 0s - loss: 0.0050 - accuracy: 0.9982\n",
      "Epoch 00083: saving model to training_1\\cp.ckpt\n",
      "INFO:tensorflow:Assets written to: training_1\\cp.ckpt\\assets\n"
     ]
    },
    {
     "name": "stderr",
     "output_type": "stream",
     "text": [
      "INFO:tensorflow:Assets written to: training_1\\cp.ckpt\\assets\n"
     ]
    },
    {
     "name": "stdout",
     "output_type": "stream",
     "text": [
      "625/625 [==============================] - 40s 63ms/step - loss: 0.0050 - accuracy: 0.9982 - val_loss: 0.9240 - val_accuracy: 0.8796\n",
      "Epoch 84/300\n",
      "625/625 [==============================] - ETA: 0s - loss: 0.0054 - accuracy: 0.9981\n",
      "Epoch 00084: saving model to training_1\\cp.ckpt\n",
      "INFO:tensorflow:Assets written to: training_1\\cp.ckpt\\assets\n"
     ]
    },
    {
     "name": "stderr",
     "output_type": "stream",
     "text": [
      "INFO:tensorflow:Assets written to: training_1\\cp.ckpt\\assets\n"
     ]
    },
    {
     "name": "stdout",
     "output_type": "stream",
     "text": [
      "625/625 [==============================] - 40s 63ms/step - loss: 0.0054 - accuracy: 0.9981 - val_loss: 0.9238 - val_accuracy: 0.8792\n",
      "Epoch 85/300\n",
      "625/625 [==============================] - ETA: 0s - loss: 0.0040 - accuracy: 0.9987\n",
      "Epoch 00085: saving model to training_1\\cp.ckpt\n",
      "INFO:tensorflow:Assets written to: training_1\\cp.ckpt\\assets\n"
     ]
    },
    {
     "name": "stderr",
     "output_type": "stream",
     "text": [
      "INFO:tensorflow:Assets written to: training_1\\cp.ckpt\\assets\n"
     ]
    },
    {
     "name": "stdout",
     "output_type": "stream",
     "text": [
      "625/625 [==============================] - 40s 63ms/step - loss: 0.0040 - accuracy: 0.9987 - val_loss: 1.3296 - val_accuracy: 0.8768\n",
      "Epoch 86/300\n",
      "625/625 [==============================] - ETA: 0s - loss: 0.0033 - accuracy: 0.9988\n",
      "Epoch 00086: saving model to training_1\\cp.ckpt\n",
      "INFO:tensorflow:Assets written to: training_1\\cp.ckpt\\assets\n"
     ]
    },
    {
     "name": "stderr",
     "output_type": "stream",
     "text": [
      "INFO:tensorflow:Assets written to: training_1\\cp.ckpt\\assets\n"
     ]
    },
    {
     "name": "stdout",
     "output_type": "stream",
     "text": [
      "625/625 [==============================] - 39s 62ms/step - loss: 0.0033 - accuracy: 0.9988 - val_loss: 1.0226 - val_accuracy: 0.8834\n",
      "Epoch 87/300\n",
      "625/625 [==============================] - ETA: 0s - loss: 0.0025 - accuracy: 0.9993\n",
      "Epoch 00087: saving model to training_1\\cp.ckpt\n",
      "INFO:tensorflow:Assets written to: training_1\\cp.ckpt\\assets\n"
     ]
    },
    {
     "name": "stderr",
     "output_type": "stream",
     "text": [
      "INFO:tensorflow:Assets written to: training_1\\cp.ckpt\\assets\n"
     ]
    },
    {
     "name": "stdout",
     "output_type": "stream",
     "text": [
      "625/625 [==============================] - 40s 63ms/step - loss: 0.0025 - accuracy: 0.9993 - val_loss: 0.9762 - val_accuracy: 0.8804\n",
      "Epoch 88/300\n",
      "625/625 [==============================] - ETA: 0s - loss: 0.0050 - accuracy: 0.9984\n",
      "Epoch 00088: saving model to training_1\\cp.ckpt\n",
      "INFO:tensorflow:Assets written to: training_1\\cp.ckpt\\assets\n"
     ]
    },
    {
     "name": "stderr",
     "output_type": "stream",
     "text": [
      "INFO:tensorflow:Assets written to: training_1\\cp.ckpt\\assets\n"
     ]
    },
    {
     "name": "stdout",
     "output_type": "stream",
     "text": [
      "625/625 [==============================] - 39s 63ms/step - loss: 0.0050 - accuracy: 0.9984 - val_loss: 0.8727 - val_accuracy: 0.8848\n",
      "Epoch 89/300\n",
      "625/625 [==============================] - ETA: 0s - loss: 0.0035 - accuracy: 0.9987\n",
      "Epoch 00089: saving model to training_1\\cp.ckpt\n",
      "INFO:tensorflow:Assets written to: training_1\\cp.ckpt\\assets\n"
     ]
    },
    {
     "name": "stderr",
     "output_type": "stream",
     "text": [
      "INFO:tensorflow:Assets written to: training_1\\cp.ckpt\\assets\n"
     ]
    },
    {
     "name": "stdout",
     "output_type": "stream",
     "text": [
      "625/625 [==============================] - 40s 64ms/step - loss: 0.0035 - accuracy: 0.9987 - val_loss: 1.0518 - val_accuracy: 0.8744\n",
      "Epoch 90/300\n",
      "625/625 [==============================] - ETA: 0s - loss: 0.0044 - accuracy: 0.9983\n",
      "Epoch 00090: saving model to training_1\\cp.ckpt\n",
      "INFO:tensorflow:Assets written to: training_1\\cp.ckpt\\assets\n"
     ]
    },
    {
     "name": "stderr",
     "output_type": "stream",
     "text": [
      "INFO:tensorflow:Assets written to: training_1\\cp.ckpt\\assets\n"
     ]
    },
    {
     "name": "stdout",
     "output_type": "stream",
     "text": [
      "625/625 [==============================] - 40s 64ms/step - loss: 0.0044 - accuracy: 0.9983 - val_loss: 0.9408 - val_accuracy: 0.8806\n",
      "Epoch 91/300\n",
      "625/625 [==============================] - ETA: 0s - loss: 0.0056 - accuracy: 0.9980\n",
      "Epoch 00091: saving model to training_1\\cp.ckpt\n",
      "INFO:tensorflow:Assets written to: training_1\\cp.ckpt\\assets\n"
     ]
    },
    {
     "name": "stderr",
     "output_type": "stream",
     "text": [
      "INFO:tensorflow:Assets written to: training_1\\cp.ckpt\\assets\n"
     ]
    },
    {
     "name": "stdout",
     "output_type": "stream",
     "text": [
      "625/625 [==============================] - 39s 63ms/step - loss: 0.0056 - accuracy: 0.9980 - val_loss: 0.8544 - val_accuracy: 0.8796\n",
      "Epoch 92/300\n",
      "625/625 [==============================] - ETA: 0s - loss: 0.0057 - accuracy: 0.9981\n",
      "Epoch 00092: saving model to training_1\\cp.ckpt\n",
      "INFO:tensorflow:Assets written to: training_1\\cp.ckpt\\assets\n"
     ]
    },
    {
     "name": "stderr",
     "output_type": "stream",
     "text": [
      "INFO:tensorflow:Assets written to: training_1\\cp.ckpt\\assets\n"
     ]
    },
    {
     "name": "stdout",
     "output_type": "stream",
     "text": [
      "625/625 [==============================] - 39s 63ms/step - loss: 0.0057 - accuracy: 0.9981 - val_loss: 0.7396 - val_accuracy: 0.8800\n",
      "Epoch 93/300\n",
      "625/625 [==============================] - ETA: 0s - loss: 0.0031 - accuracy: 0.9987\n",
      "Epoch 00093: saving model to training_1\\cp.ckpt\n",
      "INFO:tensorflow:Assets written to: training_1\\cp.ckpt\\assets\n"
     ]
    },
    {
     "name": "stderr",
     "output_type": "stream",
     "text": [
      "INFO:tensorflow:Assets written to: training_1\\cp.ckpt\\assets\n"
     ]
    },
    {
     "name": "stdout",
     "output_type": "stream",
     "text": [
      "625/625 [==============================] - 40s 64ms/step - loss: 0.0031 - accuracy: 0.9987 - val_loss: 0.9608 - val_accuracy: 0.8862\n",
      "Epoch 94/300\n",
      "625/625 [==============================] - ETA: 0s - loss: 0.0018 - accuracy: 0.9994\n",
      "Epoch 00094: saving model to training_1\\cp.ckpt\n",
      "INFO:tensorflow:Assets written to: training_1\\cp.ckpt\\assets\n"
     ]
    },
    {
     "name": "stderr",
     "output_type": "stream",
     "text": [
      "INFO:tensorflow:Assets written to: training_1\\cp.ckpt\\assets\n"
     ]
    },
    {
     "name": "stdout",
     "output_type": "stream",
     "text": [
      "625/625 [==============================] - 39s 62ms/step - loss: 0.0018 - accuracy: 0.9994 - val_loss: 1.0975 - val_accuracy: 0.8800\n",
      "Epoch 95/300\n",
      "625/625 [==============================] - ETA: 0s - loss: 0.0032 - accuracy: 0.9988\n",
      "Epoch 00095: saving model to training_1\\cp.ckpt\n",
      "INFO:tensorflow:Assets written to: training_1\\cp.ckpt\\assets\n"
     ]
    },
    {
     "name": "stderr",
     "output_type": "stream",
     "text": [
      "INFO:tensorflow:Assets written to: training_1\\cp.ckpt\\assets\n"
     ]
    },
    {
     "name": "stdout",
     "output_type": "stream",
     "text": [
      "625/625 [==============================] - 39s 62ms/step - loss: 0.0032 - accuracy: 0.9988 - val_loss: 1.0462 - val_accuracy: 0.8882\n",
      "Epoch 96/300\n",
      "625/625 [==============================] - ETA: 0s - loss: 0.0035 - accuracy: 0.9984\n",
      "Epoch 00096: saving model to training_1\\cp.ckpt\n",
      "INFO:tensorflow:Assets written to: training_1\\cp.ckpt\\assets\n"
     ]
    },
    {
     "name": "stderr",
     "output_type": "stream",
     "text": [
      "INFO:tensorflow:Assets written to: training_1\\cp.ckpt\\assets\n"
     ]
    },
    {
     "name": "stdout",
     "output_type": "stream",
     "text": [
      "625/625 [==============================] - 39s 63ms/step - loss: 0.0035 - accuracy: 0.9984 - val_loss: 1.0894 - val_accuracy: 0.8874\n",
      "Epoch 97/300\n",
      "625/625 [==============================] - ETA: 0s - loss: 0.0036 - accuracy: 0.9990\n",
      "Epoch 00097: saving model to training_1\\cp.ckpt\n",
      "INFO:tensorflow:Assets written to: training_1\\cp.ckpt\\assets\n"
     ]
    },
    {
     "name": "stderr",
     "output_type": "stream",
     "text": [
      "INFO:tensorflow:Assets written to: training_1\\cp.ckpt\\assets\n"
     ]
    },
    {
     "name": "stdout",
     "output_type": "stream",
     "text": [
      "625/625 [==============================] - 39s 62ms/step - loss: 0.0036 - accuracy: 0.9990 - val_loss: 1.1701 - val_accuracy: 0.8888\n",
      "Epoch 98/300\n",
      "625/625 [==============================] - ETA: 0s - loss: 0.0024 - accuracy: 0.9992\n",
      "Epoch 00098: saving model to training_1\\cp.ckpt\n",
      "INFO:tensorflow:Assets written to: training_1\\cp.ckpt\\assets\n"
     ]
    },
    {
     "name": "stderr",
     "output_type": "stream",
     "text": [
      "INFO:tensorflow:Assets written to: training_1\\cp.ckpt\\assets\n"
     ]
    },
    {
     "name": "stdout",
     "output_type": "stream",
     "text": [
      "625/625 [==============================] - 39s 63ms/step - loss: 0.0024 - accuracy: 0.9992 - val_loss: 1.1075 - val_accuracy: 0.8852\n",
      "Epoch 99/300\n",
      "625/625 [==============================] - ETA: 0s - loss: 0.0043 - accuracy: 0.9984\n",
      "Epoch 00099: saving model to training_1\\cp.ckpt\n",
      "INFO:tensorflow:Assets written to: training_1\\cp.ckpt\\assets\n"
     ]
    },
    {
     "name": "stderr",
     "output_type": "stream",
     "text": [
      "INFO:tensorflow:Assets written to: training_1\\cp.ckpt\\assets\n"
     ]
    },
    {
     "name": "stdout",
     "output_type": "stream",
     "text": [
      "625/625 [==============================] - 39s 62ms/step - loss: 0.0043 - accuracy: 0.9984 - val_loss: 1.1934 - val_accuracy: 0.8842\n",
      "Epoch 100/300\n",
      "625/625 [==============================] - ETA: 0s - loss: 0.0033 - accuracy: 0.9988\n",
      "Epoch 00100: saving model to training_1\\cp.ckpt\n",
      "INFO:tensorflow:Assets written to: training_1\\cp.ckpt\\assets\n"
     ]
    },
    {
     "name": "stderr",
     "output_type": "stream",
     "text": [
      "INFO:tensorflow:Assets written to: training_1\\cp.ckpt\\assets\n"
     ]
    },
    {
     "name": "stdout",
     "output_type": "stream",
     "text": [
      "625/625 [==============================] - 38s 61ms/step - loss: 0.0033 - accuracy: 0.9988 - val_loss: 0.9051 - val_accuracy: 0.8838\n",
      "Epoch 101/300\n",
      "625/625 [==============================] - ETA: 0s - loss: 0.0029 - accuracy: 0.9990\n",
      "Epoch 00101: saving model to training_1\\cp.ckpt\n",
      "INFO:tensorflow:Assets written to: training_1\\cp.ckpt\\assets\n"
     ]
    },
    {
     "name": "stderr",
     "output_type": "stream",
     "text": [
      "INFO:tensorflow:Assets written to: training_1\\cp.ckpt\\assets\n"
     ]
    },
    {
     "name": "stdout",
     "output_type": "stream",
     "text": [
      "625/625 [==============================] - 39s 62ms/step - loss: 0.0029 - accuracy: 0.9990 - val_loss: 1.0324 - val_accuracy: 0.8832\n",
      "Epoch 102/300\n",
      "625/625 [==============================] - ETA: 0s - loss: 0.0024 - accuracy: 0.9992\n",
      "Epoch 00102: saving model to training_1\\cp.ckpt\n",
      "INFO:tensorflow:Assets written to: training_1\\cp.ckpt\\assets\n"
     ]
    },
    {
     "name": "stderr",
     "output_type": "stream",
     "text": [
      "INFO:tensorflow:Assets written to: training_1\\cp.ckpt\\assets\n"
     ]
    },
    {
     "name": "stdout",
     "output_type": "stream",
     "text": [
      "625/625 [==============================] - 39s 62ms/step - loss: 0.0024 - accuracy: 0.9992 - val_loss: 1.1739 - val_accuracy: 0.8768\n",
      "Epoch 103/300\n",
      "624/625 [============================>.] - ETA: 0s - loss: 0.0043 - accuracy: 0.9987\n",
      "Epoch 00103: saving model to training_1\\cp.ckpt\n",
      "INFO:tensorflow:Assets written to: training_1\\cp.ckpt\\assets\n"
     ]
    },
    {
     "name": "stderr",
     "output_type": "stream",
     "text": [
      "INFO:tensorflow:Assets written to: training_1\\cp.ckpt\\assets\n"
     ]
    },
    {
     "name": "stdout",
     "output_type": "stream",
     "text": [
      "625/625 [==============================] - 39s 62ms/step - loss: 0.0043 - accuracy: 0.9987 - val_loss: 0.9466 - val_accuracy: 0.8804\n",
      "Epoch 104/300\n",
      "624/625 [============================>.] - ETA: 0s - loss: 0.0041 - accuracy: 0.9990\n",
      "Epoch 00104: saving model to training_1\\cp.ckpt\n",
      "INFO:tensorflow:Assets written to: training_1\\cp.ckpt\\assets\n"
     ]
    },
    {
     "name": "stderr",
     "output_type": "stream",
     "text": [
      "INFO:tensorflow:Assets written to: training_1\\cp.ckpt\\assets\n"
     ]
    },
    {
     "name": "stdout",
     "output_type": "stream",
     "text": [
      "625/625 [==============================] - 39s 62ms/step - loss: 0.0041 - accuracy: 0.9990 - val_loss: 0.9322 - val_accuracy: 0.8814\n",
      "Epoch 105/300\n",
      "625/625 [==============================] - ETA: 0s - loss: 0.0032 - accuracy: 0.9988\n",
      "Epoch 00105: saving model to training_1\\cp.ckpt\n",
      "INFO:tensorflow:Assets written to: training_1\\cp.ckpt\\assets\n"
     ]
    },
    {
     "name": "stderr",
     "output_type": "stream",
     "text": [
      "INFO:tensorflow:Assets written to: training_1\\cp.ckpt\\assets\n"
     ]
    },
    {
     "name": "stdout",
     "output_type": "stream",
     "text": [
      "625/625 [==============================] - 39s 63ms/step - loss: 0.0032 - accuracy: 0.9988 - val_loss: 1.0398 - val_accuracy: 0.8852\n",
      "Epoch 106/300\n",
      "625/625 [==============================] - ETA: 0s - loss: 0.0051 - accuracy: 0.9984\n",
      "Epoch 00106: saving model to training_1\\cp.ckpt\n",
      "INFO:tensorflow:Assets written to: training_1\\cp.ckpt\\assets\n"
     ]
    },
    {
     "name": "stderr",
     "output_type": "stream",
     "text": [
      "INFO:tensorflow:Assets written to: training_1\\cp.ckpt\\assets\n"
     ]
    },
    {
     "name": "stdout",
     "output_type": "stream",
     "text": [
      "625/625 [==============================] - 39s 63ms/step - loss: 0.0051 - accuracy: 0.9984 - val_loss: 0.9398 - val_accuracy: 0.8828\n",
      "Epoch 107/300\n",
      "625/625 [==============================] - ETA: 0s - loss: 0.0021 - accuracy: 0.9994\n",
      "Epoch 00107: saving model to training_1\\cp.ckpt\n",
      "INFO:tensorflow:Assets written to: training_1\\cp.ckpt\\assets\n"
     ]
    },
    {
     "name": "stderr",
     "output_type": "stream",
     "text": [
      "INFO:tensorflow:Assets written to: training_1\\cp.ckpt\\assets\n"
     ]
    },
    {
     "name": "stdout",
     "output_type": "stream",
     "text": [
      "625/625 [==============================] - 39s 63ms/step - loss: 0.0021 - accuracy: 0.9994 - val_loss: 1.0321 - val_accuracy: 0.8856\n",
      "Epoch 108/300\n",
      "625/625 [==============================] - ETA: 0s - loss: 0.0027 - accuracy: 0.9992\n",
      "Epoch 00108: saving model to training_1\\cp.ckpt\n",
      "INFO:tensorflow:Assets written to: training_1\\cp.ckpt\\assets\n"
     ]
    },
    {
     "name": "stderr",
     "output_type": "stream",
     "text": [
      "INFO:tensorflow:Assets written to: training_1\\cp.ckpt\\assets\n"
     ]
    },
    {
     "name": "stdout",
     "output_type": "stream",
     "text": [
      "625/625 [==============================] - 39s 62ms/step - loss: 0.0027 - accuracy: 0.9992 - val_loss: 1.1332 - val_accuracy: 0.8828\n",
      "Epoch 109/300\n",
      "625/625 [==============================] - ETA: 0s - loss: 0.0035 - accuracy: 0.9987\n",
      "Epoch 00109: saving model to training_1\\cp.ckpt\n",
      "INFO:tensorflow:Assets written to: training_1\\cp.ckpt\\assets\n"
     ]
    },
    {
     "name": "stderr",
     "output_type": "stream",
     "text": [
      "INFO:tensorflow:Assets written to: training_1\\cp.ckpt\\assets\n"
     ]
    },
    {
     "name": "stdout",
     "output_type": "stream",
     "text": [
      "625/625 [==============================] - 39s 63ms/step - loss: 0.0035 - accuracy: 0.9987 - val_loss: 0.9448 - val_accuracy: 0.8850\n",
      "Epoch 110/300\n",
      "625/625 [==============================] - ETA: 0s - loss: 0.0055 - accuracy: 0.9980\n",
      "Epoch 00110: saving model to training_1\\cp.ckpt\n",
      "INFO:tensorflow:Assets written to: training_1\\cp.ckpt\\assets\n"
     ]
    },
    {
     "name": "stderr",
     "output_type": "stream",
     "text": [
      "INFO:tensorflow:Assets written to: training_1\\cp.ckpt\\assets\n"
     ]
    },
    {
     "name": "stdout",
     "output_type": "stream",
     "text": [
      "625/625 [==============================] - 39s 63ms/step - loss: 0.0055 - accuracy: 0.9980 - val_loss: 1.0361 - val_accuracy: 0.8842\n",
      "Epoch 111/300\n",
      "625/625 [==============================] - ETA: 0s - loss: 0.0030 - accuracy: 0.9990\n",
      "Epoch 00111: saving model to training_1\\cp.ckpt\n",
      "INFO:tensorflow:Assets written to: training_1\\cp.ckpt\\assets\n"
     ]
    },
    {
     "name": "stderr",
     "output_type": "stream",
     "text": [
      "INFO:tensorflow:Assets written to: training_1\\cp.ckpt\\assets\n"
     ]
    },
    {
     "name": "stdout",
     "output_type": "stream",
     "text": [
      "625/625 [==============================] - 39s 62ms/step - loss: 0.0030 - accuracy: 0.9990 - val_loss: 1.0329 - val_accuracy: 0.8796\n",
      "Epoch 112/300\n",
      "625/625 [==============================] - ETA: 0s - loss: 0.0020 - accuracy: 0.9994\n",
      "Epoch 00112: saving model to training_1\\cp.ckpt\n",
      "INFO:tensorflow:Assets written to: training_1\\cp.ckpt\\assets\n"
     ]
    },
    {
     "name": "stderr",
     "output_type": "stream",
     "text": [
      "INFO:tensorflow:Assets written to: training_1\\cp.ckpt\\assets\n"
     ]
    },
    {
     "name": "stdout",
     "output_type": "stream",
     "text": [
      "625/625 [==============================] - 39s 63ms/step - loss: 0.0020 - accuracy: 0.9994 - val_loss: 1.0460 - val_accuracy: 0.8844\n",
      "Epoch 113/300\n",
      "625/625 [==============================] - ETA: 0s - loss: 0.0043 - accuracy: 0.9985\n",
      "Epoch 00113: saving model to training_1\\cp.ckpt\n",
      "INFO:tensorflow:Assets written to: training_1\\cp.ckpt\\assets\n"
     ]
    },
    {
     "name": "stderr",
     "output_type": "stream",
     "text": [
      "INFO:tensorflow:Assets written to: training_1\\cp.ckpt\\assets\n"
     ]
    },
    {
     "name": "stdout",
     "output_type": "stream",
     "text": [
      "625/625 [==============================] - 39s 63ms/step - loss: 0.0043 - accuracy: 0.9985 - val_loss: 0.8728 - val_accuracy: 0.8820\n",
      "Epoch 114/300\n",
      "625/625 [==============================] - ETA: 0s - loss: 0.0029 - accuracy: 0.9992\n",
      "Epoch 00114: saving model to training_1\\cp.ckpt\n",
      "INFO:tensorflow:Assets written to: training_1\\cp.ckpt\\assets\n"
     ]
    },
    {
     "name": "stderr",
     "output_type": "stream",
     "text": [
      "INFO:tensorflow:Assets written to: training_1\\cp.ckpt\\assets\n"
     ]
    },
    {
     "name": "stdout",
     "output_type": "stream",
     "text": [
      "625/625 [==============================] - 39s 62ms/step - loss: 0.0029 - accuracy: 0.9992 - val_loss: 1.0984 - val_accuracy: 0.8794\n",
      "Epoch 115/300\n",
      "625/625 [==============================] - ETA: 0s - loss: 0.0031 - accuracy: 0.9991\n",
      "Epoch 00115: saving model to training_1\\cp.ckpt\n",
      "INFO:tensorflow:Assets written to: training_1\\cp.ckpt\\assets\n"
     ]
    },
    {
     "name": "stderr",
     "output_type": "stream",
     "text": [
      "INFO:tensorflow:Assets written to: training_1\\cp.ckpt\\assets\n"
     ]
    },
    {
     "name": "stdout",
     "output_type": "stream",
     "text": [
      "625/625 [==============================] - 39s 62ms/step - loss: 0.0031 - accuracy: 0.9991 - val_loss: 1.1221 - val_accuracy: 0.8790\n",
      "Epoch 116/300\n",
      "625/625 [==============================] - ETA: 0s - loss: 0.0046 - accuracy: 0.9984\n",
      "Epoch 00116: saving model to training_1\\cp.ckpt\n",
      "INFO:tensorflow:Assets written to: training_1\\cp.ckpt\\assets\n"
     ]
    },
    {
     "name": "stderr",
     "output_type": "stream",
     "text": [
      "INFO:tensorflow:Assets written to: training_1\\cp.ckpt\\assets\n"
     ]
    },
    {
     "name": "stdout",
     "output_type": "stream",
     "text": [
      "625/625 [==============================] - 39s 62ms/step - loss: 0.0046 - accuracy: 0.9984 - val_loss: 0.9817 - val_accuracy: 0.8826\n",
      "Epoch 117/300\n",
      "625/625 [==============================] - ETA: 0s - loss: 0.0029 - accuracy: 0.9991\n",
      "Epoch 00117: saving model to training_1\\cp.ckpt\n",
      "INFO:tensorflow:Assets written to: training_1\\cp.ckpt\\assets\n"
     ]
    },
    {
     "name": "stderr",
     "output_type": "stream",
     "text": [
      "INFO:tensorflow:Assets written to: training_1\\cp.ckpt\\assets\n"
     ]
    },
    {
     "name": "stdout",
     "output_type": "stream",
     "text": [
      "625/625 [==============================] - 39s 63ms/step - loss: 0.0029 - accuracy: 0.9991 - val_loss: 1.0839 - val_accuracy: 0.8822\n",
      "Epoch 118/300\n",
      "625/625 [==============================] - ETA: 0s - loss: 0.0014 - accuracy: 0.9998\n",
      "Epoch 00118: saving model to training_1\\cp.ckpt\n",
      "INFO:tensorflow:Assets written to: training_1\\cp.ckpt\\assets\n"
     ]
    },
    {
     "name": "stderr",
     "output_type": "stream",
     "text": [
      "INFO:tensorflow:Assets written to: training_1\\cp.ckpt\\assets\n"
     ]
    },
    {
     "name": "stdout",
     "output_type": "stream",
     "text": [
      "625/625 [==============================] - 41s 65ms/step - loss: 0.0014 - accuracy: 0.9998 - val_loss: 1.1081 - val_accuracy: 0.8814\n",
      "Epoch 119/300\n",
      "625/625 [==============================] - ETA: 0s - loss: 0.0023 - accuracy: 0.9992\n",
      "Epoch 00119: saving model to training_1\\cp.ckpt\n",
      "INFO:tensorflow:Assets written to: training_1\\cp.ckpt\\assets\n"
     ]
    },
    {
     "name": "stderr",
     "output_type": "stream",
     "text": [
      "INFO:tensorflow:Assets written to: training_1\\cp.ckpt\\assets\n"
     ]
    },
    {
     "name": "stdout",
     "output_type": "stream",
     "text": [
      "625/625 [==============================] - 40s 65ms/step - loss: 0.0023 - accuracy: 0.9992 - val_loss: 1.2656 - val_accuracy: 0.8800\n",
      "Epoch 120/300\n",
      "625/625 [==============================] - ETA: 0s - loss: 0.0057 - accuracy: 0.9984\n",
      "Epoch 00120: saving model to training_1\\cp.ckpt\n",
      "INFO:tensorflow:Assets written to: training_1\\cp.ckpt\\assets\n"
     ]
    },
    {
     "name": "stderr",
     "output_type": "stream",
     "text": [
      "INFO:tensorflow:Assets written to: training_1\\cp.ckpt\\assets\n"
     ]
    },
    {
     "name": "stdout",
     "output_type": "stream",
     "text": [
      "625/625 [==============================] - 41s 65ms/step - loss: 0.0057 - accuracy: 0.9984 - val_loss: 1.1213 - val_accuracy: 0.8832\n",
      "Epoch 121/300\n",
      "625/625 [==============================] - ETA: 0s - loss: 0.0022 - accuracy: 0.9991\n",
      "Epoch 00121: saving model to training_1\\cp.ckpt\n",
      "INFO:tensorflow:Assets written to: training_1\\cp.ckpt\\assets\n"
     ]
    },
    {
     "name": "stderr",
     "output_type": "stream",
     "text": [
      "INFO:tensorflow:Assets written to: training_1\\cp.ckpt\\assets\n"
     ]
    },
    {
     "name": "stdout",
     "output_type": "stream",
     "text": [
      "625/625 [==============================] - 41s 65ms/step - loss: 0.0022 - accuracy: 0.9991 - val_loss: 1.1248 - val_accuracy: 0.8836\n",
      "Epoch 122/300\n",
      "625/625 [==============================] - ETA: 0s - loss: 0.0037 - accuracy: 0.9994\n",
      "Epoch 00122: saving model to training_1\\cp.ckpt\n",
      "INFO:tensorflow:Assets written to: training_1\\cp.ckpt\\assets\n"
     ]
    },
    {
     "name": "stderr",
     "output_type": "stream",
     "text": [
      "INFO:tensorflow:Assets written to: training_1\\cp.ckpt\\assets\n"
     ]
    },
    {
     "name": "stdout",
     "output_type": "stream",
     "text": [
      "625/625 [==============================] - 40s 65ms/step - loss: 0.0037 - accuracy: 0.9994 - val_loss: 0.9650 - val_accuracy: 0.8858\n",
      "Epoch 123/300\n",
      "625/625 [==============================] - ETA: 0s - loss: 0.0018 - accuracy: 0.9995\n",
      "Epoch 00123: saving model to training_1\\cp.ckpt\n",
      "INFO:tensorflow:Assets written to: training_1\\cp.ckpt\\assets\n"
     ]
    },
    {
     "name": "stderr",
     "output_type": "stream",
     "text": [
      "INFO:tensorflow:Assets written to: training_1\\cp.ckpt\\assets\n"
     ]
    },
    {
     "name": "stdout",
     "output_type": "stream",
     "text": [
      "625/625 [==============================] - 41s 65ms/step - loss: 0.0018 - accuracy: 0.9995 - val_loss: 1.3027 - val_accuracy: 0.8762\n",
      "Epoch 124/300\n",
      "625/625 [==============================] - ETA: 0s - loss: 0.0038 - accuracy: 0.9988\n",
      "Epoch 00124: saving model to training_1\\cp.ckpt\n",
      "INFO:tensorflow:Assets written to: training_1\\cp.ckpt\\assets\n"
     ]
    },
    {
     "name": "stderr",
     "output_type": "stream",
     "text": [
      "INFO:tensorflow:Assets written to: training_1\\cp.ckpt\\assets\n"
     ]
    },
    {
     "name": "stdout",
     "output_type": "stream",
     "text": [
      "625/625 [==============================] - 41s 65ms/step - loss: 0.0038 - accuracy: 0.9988 - val_loss: 1.0699 - val_accuracy: 0.8856\n",
      "Epoch 125/300\n",
      "625/625 [==============================] - ETA: 0s - loss: 0.0034 - accuracy: 0.9987\n",
      "Epoch 00125: saving model to training_1\\cp.ckpt\n",
      "INFO:tensorflow:Assets written to: training_1\\cp.ckpt\\assets\n"
     ]
    },
    {
     "name": "stderr",
     "output_type": "stream",
     "text": [
      "INFO:tensorflow:Assets written to: training_1\\cp.ckpt\\assets\n"
     ]
    },
    {
     "name": "stdout",
     "output_type": "stream",
     "text": [
      "625/625 [==============================] - 40s 65ms/step - loss: 0.0034 - accuracy: 0.9987 - val_loss: 1.0513 - val_accuracy: 0.8848\n",
      "Epoch 126/300\n",
      "625/625 [==============================] - ETA: 0s - loss: 0.0037 - accuracy: 0.9990\n",
      "Epoch 00126: saving model to training_1\\cp.ckpt\n",
      "INFO:tensorflow:Assets written to: training_1\\cp.ckpt\\assets\n"
     ]
    },
    {
     "name": "stderr",
     "output_type": "stream",
     "text": [
      "INFO:tensorflow:Assets written to: training_1\\cp.ckpt\\assets\n"
     ]
    },
    {
     "name": "stdout",
     "output_type": "stream",
     "text": [
      "625/625 [==============================] - 40s 65ms/step - loss: 0.0037 - accuracy: 0.9990 - val_loss: 0.9518 - val_accuracy: 0.8878\n",
      "Epoch 127/300\n",
      "625/625 [==============================] - ETA: 0s - loss: 0.0025 - accuracy: 0.9991\n",
      "Epoch 00127: saving model to training_1\\cp.ckpt\n",
      "INFO:tensorflow:Assets written to: training_1\\cp.ckpt\\assets\n"
     ]
    },
    {
     "name": "stderr",
     "output_type": "stream",
     "text": [
      "INFO:tensorflow:Assets written to: training_1\\cp.ckpt\\assets\n"
     ]
    },
    {
     "name": "stdout",
     "output_type": "stream",
     "text": [
      "625/625 [==============================] - 41s 65ms/step - loss: 0.0025 - accuracy: 0.9991 - val_loss: 1.1124 - val_accuracy: 0.8784\n",
      "Epoch 128/300\n",
      "625/625 [==============================] - ETA: 0s - loss: 0.0054 - accuracy: 0.9984\n",
      "Epoch 00128: saving model to training_1\\cp.ckpt\n",
      "INFO:tensorflow:Assets written to: training_1\\cp.ckpt\\assets\n"
     ]
    },
    {
     "name": "stderr",
     "output_type": "stream",
     "text": [
      "INFO:tensorflow:Assets written to: training_1\\cp.ckpt\\assets\n"
     ]
    },
    {
     "name": "stdout",
     "output_type": "stream",
     "text": [
      "625/625 [==============================] - 41s 65ms/step - loss: 0.0054 - accuracy: 0.9984 - val_loss: 0.8916 - val_accuracy: 0.8862\n",
      "Epoch 129/300\n",
      "625/625 [==============================] - ETA: 0s - loss: 0.0027 - accuracy: 0.9992\n",
      "Epoch 00129: saving model to training_1\\cp.ckpt\n",
      "INFO:tensorflow:Assets written to: training_1\\cp.ckpt\\assets\n"
     ]
    },
    {
     "name": "stderr",
     "output_type": "stream",
     "text": [
      "INFO:tensorflow:Assets written to: training_1\\cp.ckpt\\assets\n"
     ]
    },
    {
     "name": "stdout",
     "output_type": "stream",
     "text": [
      "625/625 [==============================] - 41s 65ms/step - loss: 0.0027 - accuracy: 0.9992 - val_loss: 0.8908 - val_accuracy: 0.8830\n",
      "Epoch 130/300\n",
      "625/625 [==============================] - ETA: 0s - loss: 0.0031 - accuracy: 0.9991\n",
      "Epoch 00130: saving model to training_1\\cp.ckpt\n",
      "INFO:tensorflow:Assets written to: training_1\\cp.ckpt\\assets\n"
     ]
    },
    {
     "name": "stderr",
     "output_type": "stream",
     "text": [
      "INFO:tensorflow:Assets written to: training_1\\cp.ckpt\\assets\n"
     ]
    },
    {
     "name": "stdout",
     "output_type": "stream",
     "text": [
      "625/625 [==============================] - 41s 66ms/step - loss: 0.0031 - accuracy: 0.9991 - val_loss: 0.9394 - val_accuracy: 0.8858\n",
      "Epoch 131/300\n",
      "625/625 [==============================] - ETA: 0s - loss: 0.0029 - accuracy: 0.9992\n",
      "Epoch 00131: saving model to training_1\\cp.ckpt\n",
      "INFO:tensorflow:Assets written to: training_1\\cp.ckpt\\assets\n"
     ]
    },
    {
     "name": "stderr",
     "output_type": "stream",
     "text": [
      "INFO:tensorflow:Assets written to: training_1\\cp.ckpt\\assets\n"
     ]
    },
    {
     "name": "stdout",
     "output_type": "stream",
     "text": [
      "625/625 [==============================] - 42s 67ms/step - loss: 0.0029 - accuracy: 0.9992 - val_loss: 0.8909 - val_accuracy: 0.8864\n",
      "Epoch 132/300\n",
      "625/625 [==============================] - ETA: 0s - loss: 0.0017 - accuracy: 0.9995\n",
      "Epoch 00132: saving model to training_1\\cp.ckpt\n",
      "INFO:tensorflow:Assets written to: training_1\\cp.ckpt\\assets\n"
     ]
    },
    {
     "name": "stderr",
     "output_type": "stream",
     "text": [
      "INFO:tensorflow:Assets written to: training_1\\cp.ckpt\\assets\n"
     ]
    },
    {
     "name": "stdout",
     "output_type": "stream",
     "text": [
      "625/625 [==============================] - 42s 67ms/step - loss: 0.0017 - accuracy: 0.9995 - val_loss: 1.0914 - val_accuracy: 0.8846\n",
      "Epoch 133/300\n",
      "625/625 [==============================] - ETA: 0s - loss: 0.0018 - accuracy: 0.9994\n",
      "Epoch 00133: saving model to training_1\\cp.ckpt\n",
      "INFO:tensorflow:Assets written to: training_1\\cp.ckpt\\assets\n"
     ]
    },
    {
     "name": "stderr",
     "output_type": "stream",
     "text": [
      "INFO:tensorflow:Assets written to: training_1\\cp.ckpt\\assets\n"
     ]
    },
    {
     "name": "stdout",
     "output_type": "stream",
     "text": [
      "625/625 [==============================] - 42s 67ms/step - loss: 0.0018 - accuracy: 0.9994 - val_loss: 1.1345 - val_accuracy: 0.8734\n",
      "Epoch 134/300\n",
      "625/625 [==============================] - ETA: 0s - loss: 0.0040 - accuracy: 0.9988\n",
      "Epoch 00134: saving model to training_1\\cp.ckpt\n",
      "INFO:tensorflow:Assets written to: training_1\\cp.ckpt\\assets\n"
     ]
    },
    {
     "name": "stderr",
     "output_type": "stream",
     "text": [
      "INFO:tensorflow:Assets written to: training_1\\cp.ckpt\\assets\n"
     ]
    },
    {
     "name": "stdout",
     "output_type": "stream",
     "text": [
      "625/625 [==============================] - 42s 67ms/step - loss: 0.0040 - accuracy: 0.9988 - val_loss: 0.9731 - val_accuracy: 0.8850\n",
      "Epoch 135/300\n",
      "625/625 [==============================] - ETA: 0s - loss: 0.0027 - accuracy: 0.9991\n",
      "Epoch 00135: saving model to training_1\\cp.ckpt\n",
      "INFO:tensorflow:Assets written to: training_1\\cp.ckpt\\assets\n"
     ]
    },
    {
     "name": "stderr",
     "output_type": "stream",
     "text": [
      "INFO:tensorflow:Assets written to: training_1\\cp.ckpt\\assets\n"
     ]
    },
    {
     "name": "stdout",
     "output_type": "stream",
     "text": [
      "625/625 [==============================] - 42s 67ms/step - loss: 0.0027 - accuracy: 0.9991 - val_loss: 1.0307 - val_accuracy: 0.8850\n",
      "Epoch 136/300\n",
      "625/625 [==============================] - ETA: 0s - loss: 0.0038 - accuracy: 0.9987\n",
      "Epoch 00136: saving model to training_1\\cp.ckpt\n",
      "INFO:tensorflow:Assets written to: training_1\\cp.ckpt\\assets\n"
     ]
    },
    {
     "name": "stderr",
     "output_type": "stream",
     "text": [
      "INFO:tensorflow:Assets written to: training_1\\cp.ckpt\\assets\n"
     ]
    },
    {
     "name": "stdout",
     "output_type": "stream",
     "text": [
      "625/625 [==============================] - 42s 67ms/step - loss: 0.0038 - accuracy: 0.9987 - val_loss: 1.1186 - val_accuracy: 0.8846\n",
      "Epoch 137/300\n",
      "625/625 [==============================] - ETA: 0s - loss: 0.0018 - accuracy: 0.9992\n",
      "Epoch 00137: saving model to training_1\\cp.ckpt\n",
      "INFO:tensorflow:Assets written to: training_1\\cp.ckpt\\assets\n"
     ]
    },
    {
     "name": "stderr",
     "output_type": "stream",
     "text": [
      "INFO:tensorflow:Assets written to: training_1\\cp.ckpt\\assets\n"
     ]
    },
    {
     "name": "stdout",
     "output_type": "stream",
     "text": [
      "625/625 [==============================] - 42s 67ms/step - loss: 0.0018 - accuracy: 0.9992 - val_loss: 1.1382 - val_accuracy: 0.8840\n",
      "Epoch 138/300\n",
      "625/625 [==============================] - ETA: 0s - loss: 0.0019 - accuracy: 0.9992\n",
      "Epoch 00138: saving model to training_1\\cp.ckpt\n",
      "INFO:tensorflow:Assets written to: training_1\\cp.ckpt\\assets\n"
     ]
    },
    {
     "name": "stderr",
     "output_type": "stream",
     "text": [
      "INFO:tensorflow:Assets written to: training_1\\cp.ckpt\\assets\n"
     ]
    },
    {
     "name": "stdout",
     "output_type": "stream",
     "text": [
      "625/625 [==============================] - 41s 66ms/step - loss: 0.0019 - accuracy: 0.9992 - val_loss: 1.1052 - val_accuracy: 0.8832\n",
      "Epoch 139/300\n",
      "625/625 [==============================] - ETA: 0s - loss: 0.0017 - accuracy: 0.9995\n",
      "Epoch 00139: saving model to training_1\\cp.ckpt\n",
      "INFO:tensorflow:Assets written to: training_1\\cp.ckpt\\assets\n"
     ]
    },
    {
     "name": "stderr",
     "output_type": "stream",
     "text": [
      "INFO:tensorflow:Assets written to: training_1\\cp.ckpt\\assets\n"
     ]
    },
    {
     "name": "stdout",
     "output_type": "stream",
     "text": [
      "625/625 [==============================] - 41s 66ms/step - loss: 0.0017 - accuracy: 0.9995 - val_loss: 1.2056 - val_accuracy: 0.8806\n",
      "Epoch 140/300\n",
      "625/625 [==============================] - ETA: 0s - loss: 0.0024 - accuracy: 0.9993\n",
      "Epoch 00140: saving model to training_1\\cp.ckpt\n",
      "INFO:tensorflow:Assets written to: training_1\\cp.ckpt\\assets\n"
     ]
    },
    {
     "name": "stderr",
     "output_type": "stream",
     "text": [
      "INFO:tensorflow:Assets written to: training_1\\cp.ckpt\\assets\n"
     ]
    },
    {
     "name": "stdout",
     "output_type": "stream",
     "text": [
      "625/625 [==============================] - 42s 67ms/step - loss: 0.0024 - accuracy: 0.9993 - val_loss: 1.1398 - val_accuracy: 0.8828\n",
      "Epoch 141/300\n",
      "625/625 [==============================] - ETA: 0s - loss: 0.0034 - accuracy: 0.9989\n",
      "Epoch 00141: saving model to training_1\\cp.ckpt\n",
      "INFO:tensorflow:Assets written to: training_1\\cp.ckpt\\assets\n"
     ]
    },
    {
     "name": "stderr",
     "output_type": "stream",
     "text": [
      "INFO:tensorflow:Assets written to: training_1\\cp.ckpt\\assets\n"
     ]
    },
    {
     "name": "stdout",
     "output_type": "stream",
     "text": [
      "625/625 [==============================] - 42s 67ms/step - loss: 0.0034 - accuracy: 0.9989 - val_loss: 1.1979 - val_accuracy: 0.8816\n",
      "Epoch 142/300\n",
      "625/625 [==============================] - ETA: 0s - loss: 0.0029 - accuracy: 0.9991\n",
      "Epoch 00142: saving model to training_1\\cp.ckpt\n",
      "INFO:tensorflow:Assets written to: training_1\\cp.ckpt\\assets\n"
     ]
    },
    {
     "name": "stderr",
     "output_type": "stream",
     "text": [
      "INFO:tensorflow:Assets written to: training_1\\cp.ckpt\\assets\n"
     ]
    },
    {
     "name": "stdout",
     "output_type": "stream",
     "text": [
      "625/625 [==============================] - 43s 69ms/step - loss: 0.0029 - accuracy: 0.9991 - val_loss: 1.2892 - val_accuracy: 0.8770\n",
      "Epoch 143/300\n",
      "625/625 [==============================] - ETA: 0s - loss: 0.0032 - accuracy: 0.9991\n",
      "Epoch 00143: saving model to training_1\\cp.ckpt\n",
      "INFO:tensorflow:Assets written to: training_1\\cp.ckpt\\assets\n"
     ]
    },
    {
     "name": "stderr",
     "output_type": "stream",
     "text": [
      "INFO:tensorflow:Assets written to: training_1\\cp.ckpt\\assets\n"
     ]
    },
    {
     "name": "stdout",
     "output_type": "stream",
     "text": [
      "625/625 [==============================] - 42s 67ms/step - loss: 0.0032 - accuracy: 0.9991 - val_loss: 1.3002 - val_accuracy: 0.8852\n",
      "Epoch 144/300\n",
      "625/625 [==============================] - ETA: 0s - loss: 0.0024 - accuracy: 0.9991\n",
      "Epoch 00144: saving model to training_1\\cp.ckpt\n",
      "INFO:tensorflow:Assets written to: training_1\\cp.ckpt\\assets\n"
     ]
    },
    {
     "name": "stderr",
     "output_type": "stream",
     "text": [
      "INFO:tensorflow:Assets written to: training_1\\cp.ckpt\\assets\n"
     ]
    },
    {
     "name": "stdout",
     "output_type": "stream",
     "text": [
      "625/625 [==============================] - 42s 67ms/step - loss: 0.0024 - accuracy: 0.9991 - val_loss: 1.2785 - val_accuracy: 0.8838\n",
      "Epoch 145/300\n",
      "625/625 [==============================] - ETA: 0s - loss: 0.0020 - accuracy: 0.9992\n",
      "Epoch 00145: saving model to training_1\\cp.ckpt\n",
      "INFO:tensorflow:Assets written to: training_1\\cp.ckpt\\assets\n"
     ]
    },
    {
     "name": "stderr",
     "output_type": "stream",
     "text": [
      "INFO:tensorflow:Assets written to: training_1\\cp.ckpt\\assets\n"
     ]
    },
    {
     "name": "stdout",
     "output_type": "stream",
     "text": [
      "625/625 [==============================] - 42s 67ms/step - loss: 0.0020 - accuracy: 0.9992 - val_loss: 1.3768 - val_accuracy: 0.8806\n",
      "Epoch 146/300\n",
      "625/625 [==============================] - ETA: 0s - loss: 0.0030 - accuracy: 0.9992\n",
      "Epoch 00146: saving model to training_1\\cp.ckpt\n",
      "INFO:tensorflow:Assets written to: training_1\\cp.ckpt\\assets\n"
     ]
    },
    {
     "name": "stderr",
     "output_type": "stream",
     "text": [
      "INFO:tensorflow:Assets written to: training_1\\cp.ckpt\\assets\n"
     ]
    },
    {
     "name": "stdout",
     "output_type": "stream",
     "text": [
      "625/625 [==============================] - 42s 67ms/step - loss: 0.0030 - accuracy: 0.9992 - val_loss: 1.0895 - val_accuracy: 0.8830\n",
      "Epoch 147/300\n",
      "625/625 [==============================] - ETA: 0s - loss: 0.0013 - accuracy: 0.9996\n",
      "Epoch 00147: saving model to training_1\\cp.ckpt\n",
      "INFO:tensorflow:Assets written to: training_1\\cp.ckpt\\assets\n"
     ]
    },
    {
     "name": "stderr",
     "output_type": "stream",
     "text": [
      "INFO:tensorflow:Assets written to: training_1\\cp.ckpt\\assets\n"
     ]
    },
    {
     "name": "stdout",
     "output_type": "stream",
     "text": [
      "625/625 [==============================] - 42s 67ms/step - loss: 0.0013 - accuracy: 0.9996 - val_loss: 1.1812 - val_accuracy: 0.8820\n",
      "Epoch 148/300\n",
      "625/625 [==============================] - ETA: 0s - loss: 0.0031 - accuracy: 0.9990\n",
      "Epoch 00148: saving model to training_1\\cp.ckpt\n",
      "INFO:tensorflow:Assets written to: training_1\\cp.ckpt\\assets\n"
     ]
    },
    {
     "name": "stderr",
     "output_type": "stream",
     "text": [
      "INFO:tensorflow:Assets written to: training_1\\cp.ckpt\\assets\n"
     ]
    },
    {
     "name": "stdout",
     "output_type": "stream",
     "text": [
      "625/625 [==============================] - 42s 67ms/step - loss: 0.0031 - accuracy: 0.9990 - val_loss: 1.0895 - val_accuracy: 0.8800\n",
      "Epoch 149/300\n",
      "625/625 [==============================] - ETA: 0s - loss: 0.0031 - accuracy: 0.9991\n",
      "Epoch 00149: saving model to training_1\\cp.ckpt\n",
      "INFO:tensorflow:Assets written to: training_1\\cp.ckpt\\assets\n"
     ]
    },
    {
     "name": "stderr",
     "output_type": "stream",
     "text": [
      "INFO:tensorflow:Assets written to: training_1\\cp.ckpt\\assets\n"
     ]
    },
    {
     "name": "stdout",
     "output_type": "stream",
     "text": [
      "625/625 [==============================] - 42s 67ms/step - loss: 0.0031 - accuracy: 0.9991 - val_loss: 1.2820 - val_accuracy: 0.8836\n",
      "Epoch 150/300\n",
      "625/625 [==============================] - ETA: 0s - loss: 0.0036 - accuracy: 0.9989\n",
      "Epoch 00150: saving model to training_1\\cp.ckpt\n",
      "INFO:tensorflow:Assets written to: training_1\\cp.ckpt\\assets\n"
     ]
    },
    {
     "name": "stderr",
     "output_type": "stream",
     "text": [
      "INFO:tensorflow:Assets written to: training_1\\cp.ckpt\\assets\n"
     ]
    },
    {
     "name": "stdout",
     "output_type": "stream",
     "text": [
      "625/625 [==============================] - 43s 69ms/step - loss: 0.0036 - accuracy: 0.9989 - val_loss: 1.1722 - val_accuracy: 0.8784\n",
      "Epoch 151/300\n",
      "625/625 [==============================] - ETA: 0s - loss: 0.0020 - accuracy: 0.9995\n",
      "Epoch 00151: saving model to training_1\\cp.ckpt\n",
      "INFO:tensorflow:Assets written to: training_1\\cp.ckpt\\assets\n"
     ]
    },
    {
     "name": "stderr",
     "output_type": "stream",
     "text": [
      "INFO:tensorflow:Assets written to: training_1\\cp.ckpt\\assets\n"
     ]
    },
    {
     "name": "stdout",
     "output_type": "stream",
     "text": [
      "625/625 [==============================] - 42s 67ms/step - loss: 0.0020 - accuracy: 0.9995 - val_loss: 1.2271 - val_accuracy: 0.8828\n",
      "Epoch 152/300\n",
      "625/625 [==============================] - ETA: 0s - loss: 0.0022 - accuracy: 0.9992\n",
      "Epoch 00152: saving model to training_1\\cp.ckpt\n",
      "INFO:tensorflow:Assets written to: training_1\\cp.ckpt\\assets\n"
     ]
    },
    {
     "name": "stderr",
     "output_type": "stream",
     "text": [
      "INFO:tensorflow:Assets written to: training_1\\cp.ckpt\\assets\n"
     ]
    },
    {
     "name": "stdout",
     "output_type": "stream",
     "text": [
      "625/625 [==============================] - 42s 67ms/step - loss: 0.0022 - accuracy: 0.9992 - val_loss: 1.2790 - val_accuracy: 0.8814\n",
      "Epoch 153/300\n",
      "625/625 [==============================] - ETA: 0s - loss: 0.0031 - accuracy: 0.9987\n",
      "Epoch 00153: saving model to training_1\\cp.ckpt\n",
      "INFO:tensorflow:Assets written to: training_1\\cp.ckpt\\assets\n"
     ]
    },
    {
     "name": "stderr",
     "output_type": "stream",
     "text": [
      "INFO:tensorflow:Assets written to: training_1\\cp.ckpt\\assets\n"
     ]
    },
    {
     "name": "stdout",
     "output_type": "stream",
     "text": [
      "625/625 [==============================] - 42s 67ms/step - loss: 0.0031 - accuracy: 0.9987 - val_loss: 1.1016 - val_accuracy: 0.8838\n",
      "Epoch 154/300\n",
      "625/625 [==============================] - ETA: 0s - loss: 0.0018 - accuracy: 0.9996\n",
      "Epoch 00154: saving model to training_1\\cp.ckpt\n",
      "INFO:tensorflow:Assets written to: training_1\\cp.ckpt\\assets\n"
     ]
    },
    {
     "name": "stderr",
     "output_type": "stream",
     "text": [
      "INFO:tensorflow:Assets written to: training_1\\cp.ckpt\\assets\n"
     ]
    },
    {
     "name": "stdout",
     "output_type": "stream",
     "text": [
      "625/625 [==============================] - 42s 67ms/step - loss: 0.0018 - accuracy: 0.9996 - val_loss: 1.2730 - val_accuracy: 0.8808\n",
      "Epoch 155/300\n",
      "625/625 [==============================] - ETA: 0s - loss: 0.0014 - accuracy: 0.9995\n",
      "Epoch 00155: saving model to training_1\\cp.ckpt\n",
      "INFO:tensorflow:Assets written to: training_1\\cp.ckpt\\assets\n"
     ]
    },
    {
     "name": "stderr",
     "output_type": "stream",
     "text": [
      "INFO:tensorflow:Assets written to: training_1\\cp.ckpt\\assets\n"
     ]
    },
    {
     "name": "stdout",
     "output_type": "stream",
     "text": [
      "625/625 [==============================] - 42s 67ms/step - loss: 0.0014 - accuracy: 0.9995 - val_loss: 1.1586 - val_accuracy: 0.8824\n",
      "Epoch 156/300\n",
      "625/625 [==============================] - ETA: 0s - loss: 0.0029 - accuracy: 0.9990\n",
      "Epoch 00156: saving model to training_1\\cp.ckpt\n",
      "INFO:tensorflow:Assets written to: training_1\\cp.ckpt\\assets\n"
     ]
    },
    {
     "name": "stderr",
     "output_type": "stream",
     "text": [
      "INFO:tensorflow:Assets written to: training_1\\cp.ckpt\\assets\n"
     ]
    },
    {
     "name": "stdout",
     "output_type": "stream",
     "text": [
      "625/625 [==============================] - 42s 67ms/step - loss: 0.0029 - accuracy: 0.9990 - val_loss: 0.9117 - val_accuracy: 0.8858\n",
      "Epoch 157/300\n",
      "625/625 [==============================] - ETA: 0s - loss: 0.0034 - accuracy: 0.9990\n",
      "Epoch 00157: saving model to training_1\\cp.ckpt\n",
      "INFO:tensorflow:Assets written to: training_1\\cp.ckpt\\assets\n"
     ]
    },
    {
     "name": "stderr",
     "output_type": "stream",
     "text": [
      "INFO:tensorflow:Assets written to: training_1\\cp.ckpt\\assets\n"
     ]
    },
    {
     "name": "stdout",
     "output_type": "stream",
     "text": [
      "625/625 [==============================] - 42s 67ms/step - loss: 0.0034 - accuracy: 0.9990 - val_loss: 1.2121 - val_accuracy: 0.8850\n",
      "Epoch 158/300\n",
      "625/625 [==============================] - ETA: 0s - loss: 0.0030 - accuracy: 0.9992\n",
      "Epoch 00158: saving model to training_1\\cp.ckpt\n",
      "INFO:tensorflow:Assets written to: training_1\\cp.ckpt\\assets\n"
     ]
    },
    {
     "name": "stderr",
     "output_type": "stream",
     "text": [
      "INFO:tensorflow:Assets written to: training_1\\cp.ckpt\\assets\n"
     ]
    },
    {
     "name": "stdout",
     "output_type": "stream",
     "text": [
      "625/625 [==============================] - 42s 67ms/step - loss: 0.0030 - accuracy: 0.9992 - val_loss: 1.1727 - val_accuracy: 0.8858\n",
      "Epoch 159/300\n",
      "625/625 [==============================] - ETA: 0s - loss: 0.0010 - accuracy: 0.9998\n",
      "Epoch 00159: saving model to training_1\\cp.ckpt\n",
      "INFO:tensorflow:Assets written to: training_1\\cp.ckpt\\assets\n"
     ]
    },
    {
     "name": "stderr",
     "output_type": "stream",
     "text": [
      "INFO:tensorflow:Assets written to: training_1\\cp.ckpt\\assets\n"
     ]
    },
    {
     "name": "stdout",
     "output_type": "stream",
     "text": [
      "625/625 [==============================] - 42s 67ms/step - loss: 0.0010 - accuracy: 0.9998 - val_loss: 1.1961 - val_accuracy: 0.8858\n",
      "Epoch 160/300\n",
      "625/625 [==============================] - ETA: 0s - loss: 0.0027 - accuracy: 0.9993\n",
      "Epoch 00160: saving model to training_1\\cp.ckpt\n",
      "INFO:tensorflow:Assets written to: training_1\\cp.ckpt\\assets\n"
     ]
    },
    {
     "name": "stderr",
     "output_type": "stream",
     "text": [
      "INFO:tensorflow:Assets written to: training_1\\cp.ckpt\\assets\n"
     ]
    },
    {
     "name": "stdout",
     "output_type": "stream",
     "text": [
      "625/625 [==============================] - 42s 67ms/step - loss: 0.0027 - accuracy: 0.9993 - val_loss: 0.9124 - val_accuracy: 0.8816\n",
      "Epoch 161/300\n",
      "625/625 [==============================] - ETA: 0s - loss: 0.0024 - accuracy: 0.9994\n",
      "Epoch 00161: saving model to training_1\\cp.ckpt\n",
      "INFO:tensorflow:Assets written to: training_1\\cp.ckpt\\assets\n"
     ]
    },
    {
     "name": "stderr",
     "output_type": "stream",
     "text": [
      "INFO:tensorflow:Assets written to: training_1\\cp.ckpt\\assets\n"
     ]
    },
    {
     "name": "stdout",
     "output_type": "stream",
     "text": [
      "625/625 [==============================] - 42s 67ms/step - loss: 0.0024 - accuracy: 0.9994 - val_loss: 1.0571 - val_accuracy: 0.8842\n",
      "Epoch 162/300\n",
      "625/625 [==============================] - ETA: 0s - loss: 0.0012 - accuracy: 0.9996\n",
      "Epoch 00162: saving model to training_1\\cp.ckpt\n",
      "INFO:tensorflow:Assets written to: training_1\\cp.ckpt\\assets\n"
     ]
    },
    {
     "name": "stderr",
     "output_type": "stream",
     "text": [
      "INFO:tensorflow:Assets written to: training_1\\cp.ckpt\\assets\n"
     ]
    },
    {
     "name": "stdout",
     "output_type": "stream",
     "text": [
      "625/625 [==============================] - 41s 66ms/step - loss: 0.0012 - accuracy: 0.9996 - val_loss: 1.2701 - val_accuracy: 0.8786\n",
      "Epoch 163/300\n",
      "625/625 [==============================] - ETA: 0s - loss: 0.0018 - accuracy: 0.9994\n",
      "Epoch 00163: saving model to training_1\\cp.ckpt\n",
      "INFO:tensorflow:Assets written to: training_1\\cp.ckpt\\assets\n"
     ]
    },
    {
     "name": "stderr",
     "output_type": "stream",
     "text": [
      "INFO:tensorflow:Assets written to: training_1\\cp.ckpt\\assets\n"
     ]
    },
    {
     "name": "stdout",
     "output_type": "stream",
     "text": [
      "625/625 [==============================] - 42s 67ms/step - loss: 0.0018 - accuracy: 0.9994 - val_loss: 1.3170 - val_accuracy: 0.8806\n",
      "Epoch 164/300\n",
      "625/625 [==============================] - ETA: 0s - loss: 0.0026 - accuracy: 0.9991\n",
      "Epoch 00164: saving model to training_1\\cp.ckpt\n",
      "INFO:tensorflow:Assets written to: training_1\\cp.ckpt\\assets\n"
     ]
    },
    {
     "name": "stderr",
     "output_type": "stream",
     "text": [
      "INFO:tensorflow:Assets written to: training_1\\cp.ckpt\\assets\n"
     ]
    },
    {
     "name": "stdout",
     "output_type": "stream",
     "text": [
      "625/625 [==============================] - 42s 67ms/step - loss: 0.0026 - accuracy: 0.9991 - val_loss: 1.1535 - val_accuracy: 0.8826\n",
      "Epoch 165/300\n",
      "625/625 [==============================] - ETA: 0s - loss: 0.0024 - accuracy: 0.9994\n",
      "Epoch 00165: saving model to training_1\\cp.ckpt\n",
      "INFO:tensorflow:Assets written to: training_1\\cp.ckpt\\assets\n"
     ]
    },
    {
     "name": "stderr",
     "output_type": "stream",
     "text": [
      "INFO:tensorflow:Assets written to: training_1\\cp.ckpt\\assets\n"
     ]
    },
    {
     "name": "stdout",
     "output_type": "stream",
     "text": [
      "625/625 [==============================] - 42s 67ms/step - loss: 0.0024 - accuracy: 0.9994 - val_loss: 1.1170 - val_accuracy: 0.8850\n",
      "Epoch 166/300\n",
      "625/625 [==============================] - ETA: 0s - loss: 0.0014 - accuracy: 0.9995\n",
      "Epoch 00166: saving model to training_1\\cp.ckpt\n",
      "INFO:tensorflow:Assets written to: training_1\\cp.ckpt\\assets\n"
     ]
    },
    {
     "name": "stderr",
     "output_type": "stream",
     "text": [
      "INFO:tensorflow:Assets written to: training_1\\cp.ckpt\\assets\n"
     ]
    },
    {
     "name": "stdout",
     "output_type": "stream",
     "text": [
      "625/625 [==============================] - 42s 67ms/step - loss: 0.0014 - accuracy: 0.9995 - val_loss: 1.1919 - val_accuracy: 0.8886\n",
      "Epoch 167/300\n",
      "625/625 [==============================] - ETA: 0s - loss: 0.0024 - accuracy: 0.9992\n",
      "Epoch 00167: saving model to training_1\\cp.ckpt\n",
      "INFO:tensorflow:Assets written to: training_1\\cp.ckpt\\assets\n"
     ]
    },
    {
     "name": "stderr",
     "output_type": "stream",
     "text": [
      "INFO:tensorflow:Assets written to: training_1\\cp.ckpt\\assets\n"
     ]
    },
    {
     "name": "stdout",
     "output_type": "stream",
     "text": [
      "625/625 [==============================] - 42s 68ms/step - loss: 0.0024 - accuracy: 0.9992 - val_loss: 1.2400 - val_accuracy: 0.8844\n",
      "Epoch 168/300\n",
      "625/625 [==============================] - ETA: 0s - loss: 0.0022 - accuracy: 0.9992\n",
      "Epoch 00168: saving model to training_1\\cp.ckpt\n",
      "INFO:tensorflow:Assets written to: training_1\\cp.ckpt\\assets\n"
     ]
    },
    {
     "name": "stderr",
     "output_type": "stream",
     "text": [
      "INFO:tensorflow:Assets written to: training_1\\cp.ckpt\\assets\n"
     ]
    },
    {
     "name": "stdout",
     "output_type": "stream",
     "text": [
      "625/625 [==============================] - 43s 68ms/step - loss: 0.0022 - accuracy: 0.9992 - val_loss: 1.1253 - val_accuracy: 0.8858\n",
      "Epoch 169/300\n",
      "625/625 [==============================] - ETA: 0s - loss: 0.0016 - accuracy: 0.9995\n",
      "Epoch 00169: saving model to training_1\\cp.ckpt\n",
      "INFO:tensorflow:Assets written to: training_1\\cp.ckpt\\assets\n"
     ]
    },
    {
     "name": "stderr",
     "output_type": "stream",
     "text": [
      "INFO:tensorflow:Assets written to: training_1\\cp.ckpt\\assets\n"
     ]
    },
    {
     "name": "stdout",
     "output_type": "stream",
     "text": [
      "625/625 [==============================] - 42s 68ms/step - loss: 0.0016 - accuracy: 0.9995 - val_loss: 1.2583 - val_accuracy: 0.8802\n",
      "Epoch 170/300\n",
      "625/625 [==============================] - ETA: 0s - loss: 0.0011 - accuracy: 0.9996\n",
      "Epoch 00170: saving model to training_1\\cp.ckpt\n",
      "INFO:tensorflow:Assets written to: training_1\\cp.ckpt\\assets\n"
     ]
    },
    {
     "name": "stderr",
     "output_type": "stream",
     "text": [
      "INFO:tensorflow:Assets written to: training_1\\cp.ckpt\\assets\n"
     ]
    },
    {
     "name": "stdout",
     "output_type": "stream",
     "text": [
      "625/625 [==============================] - 42s 68ms/step - loss: 0.0011 - accuracy: 0.9996 - val_loss: 1.3237 - val_accuracy: 0.8810\n",
      "Epoch 171/300\n",
      "625/625 [==============================] - ETA: 0s - loss: 0.0030 - accuracy: 0.9991\n",
      "Epoch 00171: saving model to training_1\\cp.ckpt\n",
      "INFO:tensorflow:Assets written to: training_1\\cp.ckpt\\assets\n"
     ]
    },
    {
     "name": "stderr",
     "output_type": "stream",
     "text": [
      "INFO:tensorflow:Assets written to: training_1\\cp.ckpt\\assets\n"
     ]
    },
    {
     "name": "stdout",
     "output_type": "stream",
     "text": [
      "625/625 [==============================] - 42s 67ms/step - loss: 0.0030 - accuracy: 0.9991 - val_loss: 1.3155 - val_accuracy: 0.8824\n",
      "Epoch 172/300\n",
      "625/625 [==============================] - ETA: 0s - loss: 0.0026 - accuracy: 0.9991\n",
      "Epoch 00172: saving model to training_1\\cp.ckpt\n",
      "INFO:tensorflow:Assets written to: training_1\\cp.ckpt\\assets\n"
     ]
    },
    {
     "name": "stderr",
     "output_type": "stream",
     "text": [
      "INFO:tensorflow:Assets written to: training_1\\cp.ckpt\\assets\n"
     ]
    },
    {
     "name": "stdout",
     "output_type": "stream",
     "text": [
      "625/625 [==============================] - 42s 67ms/step - loss: 0.0026 - accuracy: 0.9991 - val_loss: 1.1424 - val_accuracy: 0.8852\n",
      "Epoch 173/300\n",
      "625/625 [==============================] - ETA: 0s - loss: 0.0017 - accuracy: 0.9995\n",
      "Epoch 00173: saving model to training_1\\cp.ckpt\n",
      "INFO:tensorflow:Assets written to: training_1\\cp.ckpt\\assets\n"
     ]
    },
    {
     "name": "stderr",
     "output_type": "stream",
     "text": [
      "INFO:tensorflow:Assets written to: training_1\\cp.ckpt\\assets\n"
     ]
    },
    {
     "name": "stdout",
     "output_type": "stream",
     "text": [
      "625/625 [==============================] - 42s 67ms/step - loss: 0.0017 - accuracy: 0.9995 - val_loss: 1.1641 - val_accuracy: 0.8860\n",
      "Epoch 174/300\n",
      "625/625 [==============================] - ETA: 0s - loss: 0.0013 - accuracy: 0.9997\n",
      "Epoch 00174: saving model to training_1\\cp.ckpt\n",
      "INFO:tensorflow:Assets written to: training_1\\cp.ckpt\\assets\n"
     ]
    },
    {
     "name": "stderr",
     "output_type": "stream",
     "text": [
      "INFO:tensorflow:Assets written to: training_1\\cp.ckpt\\assets\n"
     ]
    },
    {
     "name": "stdout",
     "output_type": "stream",
     "text": [
      "625/625 [==============================] - 42s 67ms/step - loss: 0.0013 - accuracy: 0.9997 - val_loss: 1.1098 - val_accuracy: 0.8842\n",
      "Epoch 175/300\n",
      "625/625 [==============================] - ETA: 0s - loss: 0.0017 - accuracy: 0.9994\n",
      "Epoch 00175: saving model to training_1\\cp.ckpt\n",
      "INFO:tensorflow:Assets written to: training_1\\cp.ckpt\\assets\n"
     ]
    },
    {
     "name": "stderr",
     "output_type": "stream",
     "text": [
      "INFO:tensorflow:Assets written to: training_1\\cp.ckpt\\assets\n"
     ]
    },
    {
     "name": "stdout",
     "output_type": "stream",
     "text": [
      "625/625 [==============================] - 42s 67ms/step - loss: 0.0017 - accuracy: 0.9994 - val_loss: 1.2534 - val_accuracy: 0.8752\n",
      "Epoch 176/300\n",
      "625/625 [==============================] - ETA: 0s - loss: 0.0013 - accuracy: 0.9997\n",
      "Epoch 00176: saving model to training_1\\cp.ckpt\n",
      "INFO:tensorflow:Assets written to: training_1\\cp.ckpt\\assets\n"
     ]
    },
    {
     "name": "stderr",
     "output_type": "stream",
     "text": [
      "INFO:tensorflow:Assets written to: training_1\\cp.ckpt\\assets\n"
     ]
    },
    {
     "name": "stdout",
     "output_type": "stream",
     "text": [
      "625/625 [==============================] - 42s 67ms/step - loss: 0.0013 - accuracy: 0.9997 - val_loss: 1.5164 - val_accuracy: 0.8820\n",
      "Epoch 177/300\n",
      "625/625 [==============================] - ETA: 0s - loss: 0.0021 - accuracy: 0.9993\n",
      "Epoch 00177: saving model to training_1\\cp.ckpt\n",
      "INFO:tensorflow:Assets written to: training_1\\cp.ckpt\\assets\n"
     ]
    },
    {
     "name": "stderr",
     "output_type": "stream",
     "text": [
      "INFO:tensorflow:Assets written to: training_1\\cp.ckpt\\assets\n"
     ]
    },
    {
     "name": "stdout",
     "output_type": "stream",
     "text": [
      "625/625 [==============================] - 42s 67ms/step - loss: 0.0021 - accuracy: 0.9993 - val_loss: 1.3549 - val_accuracy: 0.8808\n",
      "Epoch 178/300\n",
      "625/625 [==============================] - ETA: 0s - loss: 0.0024 - accuracy: 0.9991\n",
      "Epoch 00178: saving model to training_1\\cp.ckpt\n",
      "INFO:tensorflow:Assets written to: training_1\\cp.ckpt\\assets\n"
     ]
    },
    {
     "name": "stderr",
     "output_type": "stream",
     "text": [
      "INFO:tensorflow:Assets written to: training_1\\cp.ckpt\\assets\n"
     ]
    },
    {
     "name": "stdout",
     "output_type": "stream",
     "text": [
      "625/625 [==============================] - 42s 67ms/step - loss: 0.0024 - accuracy: 0.9991 - val_loss: 1.2348 - val_accuracy: 0.8824\n",
      "Epoch 179/300\n",
      "625/625 [==============================] - ETA: 0s - loss: 0.0017 - accuracy: 0.9992\n",
      "Epoch 00179: saving model to training_1\\cp.ckpt\n",
      "INFO:tensorflow:Assets written to: training_1\\cp.ckpt\\assets\n"
     ]
    },
    {
     "name": "stderr",
     "output_type": "stream",
     "text": [
      "INFO:tensorflow:Assets written to: training_1\\cp.ckpt\\assets\n"
     ]
    },
    {
     "name": "stdout",
     "output_type": "stream",
     "text": [
      "625/625 [==============================] - 43s 69ms/step - loss: 0.0017 - accuracy: 0.9992 - val_loss: 1.4402 - val_accuracy: 0.8850\n",
      "Epoch 180/300\n",
      "625/625 [==============================] - ETA: 0s - loss: 0.0044 - accuracy: 0.9988\n",
      "Epoch 00180: saving model to training_1\\cp.ckpt\n",
      "INFO:tensorflow:Assets written to: training_1\\cp.ckpt\\assets\n"
     ]
    },
    {
     "name": "stderr",
     "output_type": "stream",
     "text": [
      "INFO:tensorflow:Assets written to: training_1\\cp.ckpt\\assets\n"
     ]
    },
    {
     "name": "stdout",
     "output_type": "stream",
     "text": [
      "625/625 [==============================] - 43s 68ms/step - loss: 0.0044 - accuracy: 0.9988 - val_loss: 1.1219 - val_accuracy: 0.8814\n",
      "Epoch 181/300\n",
      "625/625 [==============================] - ETA: 0s - loss: 0.0035 - accuracy: 0.9990\n",
      "Epoch 00181: saving model to training_1\\cp.ckpt\n",
      "INFO:tensorflow:Assets written to: training_1\\cp.ckpt\\assets\n"
     ]
    },
    {
     "name": "stderr",
     "output_type": "stream",
     "text": [
      "INFO:tensorflow:Assets written to: training_1\\cp.ckpt\\assets\n"
     ]
    },
    {
     "name": "stdout",
     "output_type": "stream",
     "text": [
      "625/625 [==============================] - 43s 68ms/step - loss: 0.0035 - accuracy: 0.9990 - val_loss: 1.0701 - val_accuracy: 0.8794\n",
      "Epoch 182/300\n",
      "625/625 [==============================] - ETA: 0s - loss: 0.0015 - accuracy: 0.9995\n",
      "Epoch 00182: saving model to training_1\\cp.ckpt\n",
      "INFO:tensorflow:Assets written to: training_1\\cp.ckpt\\assets\n"
     ]
    },
    {
     "name": "stderr",
     "output_type": "stream",
     "text": [
      "INFO:tensorflow:Assets written to: training_1\\cp.ckpt\\assets\n"
     ]
    },
    {
     "name": "stdout",
     "output_type": "stream",
     "text": [
      "625/625 [==============================] - 43s 69ms/step - loss: 0.0015 - accuracy: 0.9995 - val_loss: 1.1288 - val_accuracy: 0.8822\n",
      "Epoch 183/300\n",
      "625/625 [==============================] - ETA: 0s - loss: 0.0028 - accuracy: 0.9990\n",
      "Epoch 00183: saving model to training_1\\cp.ckpt\n",
      "INFO:tensorflow:Assets written to: training_1\\cp.ckpt\\assets\n"
     ]
    },
    {
     "name": "stderr",
     "output_type": "stream",
     "text": [
      "INFO:tensorflow:Assets written to: training_1\\cp.ckpt\\assets\n"
     ]
    },
    {
     "name": "stdout",
     "output_type": "stream",
     "text": [
      "625/625 [==============================] - 43s 69ms/step - loss: 0.0028 - accuracy: 0.9990 - val_loss: 1.2941 - val_accuracy: 0.8808\n",
      "Epoch 184/300\n",
      "625/625 [==============================] - ETA: 0s - loss: 0.0015 - accuracy: 0.9995\n",
      "Epoch 00184: saving model to training_1\\cp.ckpt\n",
      "INFO:tensorflow:Assets written to: training_1\\cp.ckpt\\assets\n"
     ]
    },
    {
     "name": "stderr",
     "output_type": "stream",
     "text": [
      "INFO:tensorflow:Assets written to: training_1\\cp.ckpt\\assets\n"
     ]
    },
    {
     "name": "stdout",
     "output_type": "stream",
     "text": [
      "625/625 [==============================] - 43s 69ms/step - loss: 0.0015 - accuracy: 0.9995 - val_loss: 1.3657 - val_accuracy: 0.8758\n",
      "Epoch 185/300\n",
      "625/625 [==============================] - ETA: 0s - loss: 0.0034 - accuracy: 0.9990\n",
      "Epoch 00185: saving model to training_1\\cp.ckpt\n",
      "INFO:tensorflow:Assets written to: training_1\\cp.ckpt\\assets\n"
     ]
    },
    {
     "name": "stderr",
     "output_type": "stream",
     "text": [
      "INFO:tensorflow:Assets written to: training_1\\cp.ckpt\\assets\n"
     ]
    },
    {
     "name": "stdout",
     "output_type": "stream",
     "text": [
      "625/625 [==============================] - 43s 69ms/step - loss: 0.0034 - accuracy: 0.9990 - val_loss: 1.2073 - val_accuracy: 0.8830\n",
      "Epoch 186/300\n",
      "625/625 [==============================] - ETA: 0s - loss: 0.0022 - accuracy: 0.9995\n",
      "Epoch 00186: saving model to training_1\\cp.ckpt\n",
      "INFO:tensorflow:Assets written to: training_1\\cp.ckpt\\assets\n"
     ]
    },
    {
     "name": "stderr",
     "output_type": "stream",
     "text": [
      "INFO:tensorflow:Assets written to: training_1\\cp.ckpt\\assets\n"
     ]
    },
    {
     "name": "stdout",
     "output_type": "stream",
     "text": [
      "625/625 [==============================] - 43s 68ms/step - loss: 0.0022 - accuracy: 0.9995 - val_loss: 1.0847 - val_accuracy: 0.8844\n",
      "Epoch 187/300\n",
      "625/625 [==============================] - ETA: 0s - loss: 0.0028 - accuracy: 0.9989\n",
      "Epoch 00187: saving model to training_1\\cp.ckpt\n",
      "INFO:tensorflow:Assets written to: training_1\\cp.ckpt\\assets\n"
     ]
    },
    {
     "name": "stderr",
     "output_type": "stream",
     "text": [
      "INFO:tensorflow:Assets written to: training_1\\cp.ckpt\\assets\n"
     ]
    },
    {
     "name": "stdout",
     "output_type": "stream",
     "text": [
      "625/625 [==============================] - 42s 68ms/step - loss: 0.0028 - accuracy: 0.9989 - val_loss: 1.3221 - val_accuracy: 0.8810\n",
      "Epoch 188/300\n",
      "625/625 [==============================] - ETA: 0s - loss: 7.8763e-04 - accuracy: 0.9997\n",
      "Epoch 00188: saving model to training_1\\cp.ckpt\n",
      "INFO:tensorflow:Assets written to: training_1\\cp.ckpt\\assets\n"
     ]
    },
    {
     "name": "stderr",
     "output_type": "stream",
     "text": [
      "INFO:tensorflow:Assets written to: training_1\\cp.ckpt\\assets\n"
     ]
    },
    {
     "name": "stdout",
     "output_type": "stream",
     "text": [
      "625/625 [==============================] - 42s 68ms/step - loss: 7.8763e-04 - accuracy: 0.9997 - val_loss: 1.4592 - val_accuracy: 0.8814\n",
      "Epoch 189/300\n",
      "625/625 [==============================] - ETA: 0s - loss: 0.0014 - accuracy: 0.9995\n",
      "Epoch 00189: saving model to training_1\\cp.ckpt\n",
      "INFO:tensorflow:Assets written to: training_1\\cp.ckpt\\assets\n"
     ]
    },
    {
     "name": "stderr",
     "output_type": "stream",
     "text": [
      "INFO:tensorflow:Assets written to: training_1\\cp.ckpt\\assets\n"
     ]
    },
    {
     "name": "stdout",
     "output_type": "stream",
     "text": [
      "625/625 [==============================] - 44s 70ms/step - loss: 0.0014 - accuracy: 0.9995 - val_loss: 1.1920 - val_accuracy: 0.8850\n",
      "Epoch 190/300\n",
      "625/625 [==============================] - ETA: 0s - loss: 0.0019 - accuracy: 0.9994\n",
      "Epoch 00190: saving model to training_1\\cp.ckpt\n",
      "INFO:tensorflow:Assets written to: training_1\\cp.ckpt\\assets\n"
     ]
    },
    {
     "name": "stderr",
     "output_type": "stream",
     "text": [
      "INFO:tensorflow:Assets written to: training_1\\cp.ckpt\\assets\n"
     ]
    },
    {
     "name": "stdout",
     "output_type": "stream",
     "text": [
      "625/625 [==============================] - 43s 69ms/step - loss: 0.0019 - accuracy: 0.9994 - val_loss: 1.4423 - val_accuracy: 0.8822\n",
      "Epoch 191/300\n",
      "625/625 [==============================] - ETA: 0s - loss: 0.0032 - accuracy: 0.9991\n",
      "Epoch 00191: saving model to training_1\\cp.ckpt\n",
      "INFO:tensorflow:Assets written to: training_1\\cp.ckpt\\assets\n"
     ]
    },
    {
     "name": "stderr",
     "output_type": "stream",
     "text": [
      "INFO:tensorflow:Assets written to: training_1\\cp.ckpt\\assets\n"
     ]
    },
    {
     "name": "stdout",
     "output_type": "stream",
     "text": [
      "625/625 [==============================] - 43s 69ms/step - loss: 0.0032 - accuracy: 0.9991 - val_loss: 1.1395 - val_accuracy: 0.8836\n",
      "Epoch 192/300\n",
      "625/625 [==============================] - ETA: 0s - loss: 9.0300e-04 - accuracy: 0.9997\n",
      "Epoch 00192: saving model to training_1\\cp.ckpt\n",
      "INFO:tensorflow:Assets written to: training_1\\cp.ckpt\\assets\n"
     ]
    },
    {
     "name": "stderr",
     "output_type": "stream",
     "text": [
      "INFO:tensorflow:Assets written to: training_1\\cp.ckpt\\assets\n"
     ]
    },
    {
     "name": "stdout",
     "output_type": "stream",
     "text": [
      "625/625 [==============================] - 42s 67ms/step - loss: 9.0300e-04 - accuracy: 0.9997 - val_loss: 1.2696 - val_accuracy: 0.8828\n",
      "Epoch 193/300\n",
      "625/625 [==============================] - ETA: 0s - loss: 0.0028 - accuracy: 0.9989\n",
      "Epoch 00193: saving model to training_1\\cp.ckpt\n",
      "INFO:tensorflow:Assets written to: training_1\\cp.ckpt\\assets\n"
     ]
    },
    {
     "name": "stderr",
     "output_type": "stream",
     "text": [
      "INFO:tensorflow:Assets written to: training_1\\cp.ckpt\\assets\n"
     ]
    },
    {
     "name": "stdout",
     "output_type": "stream",
     "text": [
      "625/625 [==============================] - 42s 67ms/step - loss: 0.0028 - accuracy: 0.9989 - val_loss: 1.1012 - val_accuracy: 0.8810\n",
      "Epoch 194/300\n",
      "625/625 [==============================] - ETA: 0s - loss: 0.0013 - accuracy: 0.9995\n",
      "Epoch 00194: saving model to training_1\\cp.ckpt\n",
      "INFO:tensorflow:Assets written to: training_1\\cp.ckpt\\assets\n"
     ]
    },
    {
     "name": "stderr",
     "output_type": "stream",
     "text": [
      "INFO:tensorflow:Assets written to: training_1\\cp.ckpt\\assets\n"
     ]
    },
    {
     "name": "stdout",
     "output_type": "stream",
     "text": [
      "625/625 [==============================] - 42s 67ms/step - loss: 0.0013 - accuracy: 0.9995 - val_loss: 1.3420 - val_accuracy: 0.8814\n",
      "Epoch 195/300\n",
      "625/625 [==============================] - ETA: 0s - loss: 0.0018 - accuracy: 0.9994\n",
      "Epoch 00195: saving model to training_1\\cp.ckpt\n",
      "INFO:tensorflow:Assets written to: training_1\\cp.ckpt\\assets\n"
     ]
    },
    {
     "name": "stderr",
     "output_type": "stream",
     "text": [
      "INFO:tensorflow:Assets written to: training_1\\cp.ckpt\\assets\n"
     ]
    },
    {
     "name": "stdout",
     "output_type": "stream",
     "text": [
      "625/625 [==============================] - 42s 67ms/step - loss: 0.0018 - accuracy: 0.9994 - val_loss: 1.3050 - val_accuracy: 0.8846\n",
      "Epoch 196/300\n",
      "625/625 [==============================] - ETA: 0s - loss: 0.0028 - accuracy: 0.9992\n",
      "Epoch 00196: saving model to training_1\\cp.ckpt\n",
      "INFO:tensorflow:Assets written to: training_1\\cp.ckpt\\assets\n"
     ]
    },
    {
     "name": "stderr",
     "output_type": "stream",
     "text": [
      "INFO:tensorflow:Assets written to: training_1\\cp.ckpt\\assets\n"
     ]
    },
    {
     "name": "stdout",
     "output_type": "stream",
     "text": [
      "625/625 [==============================] - 42s 68ms/step - loss: 0.0028 - accuracy: 0.9992 - val_loss: 0.9587 - val_accuracy: 0.8834\n",
      "Epoch 197/300\n",
      "625/625 [==============================] - ETA: 0s - loss: 0.0020 - accuracy: 0.9993\n",
      "Epoch 00197: saving model to training_1\\cp.ckpt\n",
      "INFO:tensorflow:Assets written to: training_1\\cp.ckpt\\assets\n"
     ]
    },
    {
     "name": "stderr",
     "output_type": "stream",
     "text": [
      "INFO:tensorflow:Assets written to: training_1\\cp.ckpt\\assets\n"
     ]
    },
    {
     "name": "stdout",
     "output_type": "stream",
     "text": [
      "625/625 [==============================] - 42s 67ms/step - loss: 0.0020 - accuracy: 0.9993 - val_loss: 1.2189 - val_accuracy: 0.8810\n",
      "Epoch 198/300\n",
      "625/625 [==============================] - ETA: 0s - loss: 0.0021 - accuracy: 0.9992\n",
      "Epoch 00198: saving model to training_1\\cp.ckpt\n",
      "INFO:tensorflow:Assets written to: training_1\\cp.ckpt\\assets\n"
     ]
    },
    {
     "name": "stderr",
     "output_type": "stream",
     "text": [
      "INFO:tensorflow:Assets written to: training_1\\cp.ckpt\\assets\n"
     ]
    },
    {
     "name": "stdout",
     "output_type": "stream",
     "text": [
      "625/625 [==============================] - 42s 68ms/step - loss: 0.0021 - accuracy: 0.9992 - val_loss: 1.3943 - val_accuracy: 0.8834\n",
      "Epoch 199/300\n",
      "625/625 [==============================] - ETA: 0s - loss: 0.0026 - accuracy: 0.9991\n",
      "Epoch 00199: saving model to training_1\\cp.ckpt\n",
      "INFO:tensorflow:Assets written to: training_1\\cp.ckpt\\assets\n"
     ]
    },
    {
     "name": "stderr",
     "output_type": "stream",
     "text": [
      "INFO:tensorflow:Assets written to: training_1\\cp.ckpt\\assets\n"
     ]
    },
    {
     "name": "stdout",
     "output_type": "stream",
     "text": [
      "625/625 [==============================] - 42s 67ms/step - loss: 0.0026 - accuracy: 0.9991 - val_loss: 1.1261 - val_accuracy: 0.8806\n",
      "Epoch 200/300\n",
      "625/625 [==============================] - ETA: 0s - loss: 0.0010 - accuracy: 0.9995\n",
      "Epoch 00200: saving model to training_1\\cp.ckpt\n",
      "INFO:tensorflow:Assets written to: training_1\\cp.ckpt\\assets\n"
     ]
    },
    {
     "name": "stderr",
     "output_type": "stream",
     "text": [
      "INFO:tensorflow:Assets written to: training_1\\cp.ckpt\\assets\n"
     ]
    },
    {
     "name": "stdout",
     "output_type": "stream",
     "text": [
      "625/625 [==============================] - 42s 67ms/step - loss: 0.0010 - accuracy: 0.9995 - val_loss: 1.4935 - val_accuracy: 0.8810\n",
      "Epoch 201/300\n",
      "625/625 [==============================] - ETA: 0s - loss: 0.0025 - accuracy: 0.9992\n",
      "Epoch 00201: saving model to training_1\\cp.ckpt\n",
      "INFO:tensorflow:Assets written to: training_1\\cp.ckpt\\assets\n"
     ]
    },
    {
     "name": "stderr",
     "output_type": "stream",
     "text": [
      "INFO:tensorflow:Assets written to: training_1\\cp.ckpt\\assets\n"
     ]
    },
    {
     "name": "stdout",
     "output_type": "stream",
     "text": [
      "625/625 [==============================] - 42s 67ms/step - loss: 0.0025 - accuracy: 0.9992 - val_loss: 1.1440 - val_accuracy: 0.8804\n",
      "Epoch 202/300\n",
      "625/625 [==============================] - ETA: 0s - loss: 0.0012 - accuracy: 0.9995\n",
      "Epoch 00202: saving model to training_1\\cp.ckpt\n",
      "INFO:tensorflow:Assets written to: training_1\\cp.ckpt\\assets\n"
     ]
    },
    {
     "name": "stderr",
     "output_type": "stream",
     "text": [
      "INFO:tensorflow:Assets written to: training_1\\cp.ckpt\\assets\n"
     ]
    },
    {
     "name": "stdout",
     "output_type": "stream",
     "text": [
      "625/625 [==============================] - 42s 67ms/step - loss: 0.0012 - accuracy: 0.9995 - val_loss: 1.3598 - val_accuracy: 0.8798\n",
      "Epoch 203/300\n",
      "625/625 [==============================] - ETA: 0s - loss: 0.0024 - accuracy: 0.9991\n",
      "Epoch 00203: saving model to training_1\\cp.ckpt\n",
      "INFO:tensorflow:Assets written to: training_1\\cp.ckpt\\assets\n"
     ]
    },
    {
     "name": "stderr",
     "output_type": "stream",
     "text": [
      "INFO:tensorflow:Assets written to: training_1\\cp.ckpt\\assets\n"
     ]
    },
    {
     "name": "stdout",
     "output_type": "stream",
     "text": [
      "625/625 [==============================] - 42s 67ms/step - loss: 0.0024 - accuracy: 0.9991 - val_loss: 1.4545 - val_accuracy: 0.8812\n",
      "Epoch 204/300\n",
      "625/625 [==============================] - ETA: 0s - loss: 0.0021 - accuracy: 0.9989\n",
      "Epoch 00204: saving model to training_1\\cp.ckpt\n",
      "INFO:tensorflow:Assets written to: training_1\\cp.ckpt\\assets\n"
     ]
    },
    {
     "name": "stderr",
     "output_type": "stream",
     "text": [
      "INFO:tensorflow:Assets written to: training_1\\cp.ckpt\\assets\n"
     ]
    },
    {
     "name": "stdout",
     "output_type": "stream",
     "text": [
      "625/625 [==============================] - 44s 71ms/step - loss: 0.0021 - accuracy: 0.9989 - val_loss: 1.6313 - val_accuracy: 0.8846\n",
      "Epoch 205/300\n",
      "625/625 [==============================] - ETA: 0s - loss: 0.0013 - accuracy: 0.9995\n",
      "Epoch 00205: saving model to training_1\\cp.ckpt\n",
      "INFO:tensorflow:Assets written to: training_1\\cp.ckpt\\assets\n"
     ]
    },
    {
     "name": "stderr",
     "output_type": "stream",
     "text": [
      "INFO:tensorflow:Assets written to: training_1\\cp.ckpt\\assets\n"
     ]
    },
    {
     "name": "stdout",
     "output_type": "stream",
     "text": [
      "625/625 [==============================] - 43s 69ms/step - loss: 0.0013 - accuracy: 0.9995 - val_loss: 1.5662 - val_accuracy: 0.8822\n",
      "Epoch 206/300\n",
      "625/625 [==============================] - ETA: 0s - loss: 0.0014 - accuracy: 0.9995\n",
      "Epoch 00206: saving model to training_1\\cp.ckpt\n",
      "INFO:tensorflow:Assets written to: training_1\\cp.ckpt\\assets\n"
     ]
    },
    {
     "name": "stderr",
     "output_type": "stream",
     "text": [
      "INFO:tensorflow:Assets written to: training_1\\cp.ckpt\\assets\n"
     ]
    },
    {
     "name": "stdout",
     "output_type": "stream",
     "text": [
      "625/625 [==============================] - 43s 69ms/step - loss: 0.0014 - accuracy: 0.9995 - val_loss: 1.5210 - val_accuracy: 0.8770\n",
      "Epoch 207/300\n",
      "625/625 [==============================] - ETA: 0s - loss: 0.0031 - accuracy: 0.9991\n",
      "Epoch 00207: saving model to training_1\\cp.ckpt\n",
      "INFO:tensorflow:Assets written to: training_1\\cp.ckpt\\assets\n"
     ]
    },
    {
     "name": "stderr",
     "output_type": "stream",
     "text": [
      "INFO:tensorflow:Assets written to: training_1\\cp.ckpt\\assets\n"
     ]
    },
    {
     "name": "stdout",
     "output_type": "stream",
     "text": [
      "625/625 [==============================] - 43s 69ms/step - loss: 0.0031 - accuracy: 0.9991 - val_loss: 1.4342 - val_accuracy: 0.8776\n",
      "Epoch 208/300\n",
      "624/625 [============================>.] - ETA: 0s - loss: 0.0014 - accuracy: 0.9995\n",
      "Epoch 00208: saving model to training_1\\cp.ckpt\n",
      "INFO:tensorflow:Assets written to: training_1\\cp.ckpt\\assets\n"
     ]
    },
    {
     "name": "stderr",
     "output_type": "stream",
     "text": [
      "INFO:tensorflow:Assets written to: training_1\\cp.ckpt\\assets\n"
     ]
    },
    {
     "name": "stdout",
     "output_type": "stream",
     "text": [
      "625/625 [==============================] - 43s 69ms/step - loss: 0.0014 - accuracy: 0.9995 - val_loss: 1.2991 - val_accuracy: 0.8826\n",
      "Epoch 209/300\n",
      "625/625 [==============================] - ETA: 0s - loss: 0.0017 - accuracy: 0.9993\n",
      "Epoch 00209: saving model to training_1\\cp.ckpt\n",
      "INFO:tensorflow:Assets written to: training_1\\cp.ckpt\\assets\n"
     ]
    },
    {
     "name": "stderr",
     "output_type": "stream",
     "text": [
      "INFO:tensorflow:Assets written to: training_1\\cp.ckpt\\assets\n"
     ]
    },
    {
     "name": "stdout",
     "output_type": "stream",
     "text": [
      "625/625 [==============================] - 43s 69ms/step - loss: 0.0017 - accuracy: 0.9993 - val_loss: 1.2245 - val_accuracy: 0.8826\n",
      "Epoch 210/300\n",
      "625/625 [==============================] - ETA: 0s - loss: 8.9663e-04 - accuracy: 0.9998\n",
      "Epoch 00210: saving model to training_1\\cp.ckpt\n",
      "INFO:tensorflow:Assets written to: training_1\\cp.ckpt\\assets\n"
     ]
    },
    {
     "name": "stderr",
     "output_type": "stream",
     "text": [
      "INFO:tensorflow:Assets written to: training_1\\cp.ckpt\\assets\n"
     ]
    },
    {
     "name": "stdout",
     "output_type": "stream",
     "text": [
      "625/625 [==============================] - 43s 69ms/step - loss: 8.9663e-04 - accuracy: 0.9998 - val_loss: 1.4708 - val_accuracy: 0.8828\n",
      "Epoch 211/300\n",
      "625/625 [==============================] - ETA: 0s - loss: 0.0014 - accuracy: 0.9995\n",
      "Epoch 00211: saving model to training_1\\cp.ckpt\n",
      "INFO:tensorflow:Assets written to: training_1\\cp.ckpt\\assets\n"
     ]
    },
    {
     "name": "stderr",
     "output_type": "stream",
     "text": [
      "INFO:tensorflow:Assets written to: training_1\\cp.ckpt\\assets\n"
     ]
    },
    {
     "name": "stdout",
     "output_type": "stream",
     "text": [
      "625/625 [==============================] - 43s 69ms/step - loss: 0.0014 - accuracy: 0.9995 - val_loss: 1.4330 - val_accuracy: 0.8836\n",
      "Epoch 212/300\n",
      "625/625 [==============================] - ETA: 0s - loss: 0.0033 - accuracy: 0.9991\n",
      "Epoch 00212: saving model to training_1\\cp.ckpt\n",
      "INFO:tensorflow:Assets written to: training_1\\cp.ckpt\\assets\n"
     ]
    },
    {
     "name": "stderr",
     "output_type": "stream",
     "text": [
      "INFO:tensorflow:Assets written to: training_1\\cp.ckpt\\assets\n"
     ]
    },
    {
     "name": "stdout",
     "output_type": "stream",
     "text": [
      "625/625 [==============================] - 43s 69ms/step - loss: 0.0033 - accuracy: 0.9991 - val_loss: 1.0742 - val_accuracy: 0.8852\n",
      "Epoch 213/300\n",
      "625/625 [==============================] - ETA: 0s - loss: 0.0015 - accuracy: 0.9997\n",
      "Epoch 00213: saving model to training_1\\cp.ckpt\n",
      "INFO:tensorflow:Assets written to: training_1\\cp.ckpt\\assets\n"
     ]
    },
    {
     "name": "stderr",
     "output_type": "stream",
     "text": [
      "INFO:tensorflow:Assets written to: training_1\\cp.ckpt\\assets\n"
     ]
    },
    {
     "name": "stdout",
     "output_type": "stream",
     "text": [
      "625/625 [==============================] - 43s 69ms/step - loss: 0.0015 - accuracy: 0.9997 - val_loss: 1.1134 - val_accuracy: 0.8800\n",
      "Epoch 214/300\n",
      "625/625 [==============================] - ETA: 0s - loss: 2.4533e-04 - accuracy: 0.9999\n",
      "Epoch 00214: saving model to training_1\\cp.ckpt\n",
      "INFO:tensorflow:Assets written to: training_1\\cp.ckpt\\assets\n"
     ]
    },
    {
     "name": "stderr",
     "output_type": "stream",
     "text": [
      "INFO:tensorflow:Assets written to: training_1\\cp.ckpt\\assets\n"
     ]
    },
    {
     "name": "stdout",
     "output_type": "stream",
     "text": [
      "625/625 [==============================] - 43s 69ms/step - loss: 2.4533e-04 - accuracy: 0.9999 - val_loss: 1.2603 - val_accuracy: 0.8856\n",
      "Epoch 215/300\n",
      "625/625 [==============================] - ETA: 0s - loss: 0.0021 - accuracy: 0.9991\n",
      "Epoch 00215: saving model to training_1\\cp.ckpt\n",
      "INFO:tensorflow:Assets written to: training_1\\cp.ckpt\\assets\n"
     ]
    },
    {
     "name": "stderr",
     "output_type": "stream",
     "text": [
      "INFO:tensorflow:Assets written to: training_1\\cp.ckpt\\assets\n"
     ]
    },
    {
     "name": "stdout",
     "output_type": "stream",
     "text": [
      "625/625 [==============================] - 43s 69ms/step - loss: 0.0021 - accuracy: 0.9991 - val_loss: 1.1343 - val_accuracy: 0.8810\n",
      "Epoch 216/300\n",
      "625/625 [==============================] - ETA: 0s - loss: 0.0014 - accuracy: 0.9995\n",
      "Epoch 00216: saving model to training_1\\cp.ckpt\n",
      "INFO:tensorflow:Assets written to: training_1\\cp.ckpt\\assets\n"
     ]
    },
    {
     "name": "stderr",
     "output_type": "stream",
     "text": [
      "INFO:tensorflow:Assets written to: training_1\\cp.ckpt\\assets\n"
     ]
    },
    {
     "name": "stdout",
     "output_type": "stream",
     "text": [
      "625/625 [==============================] - 44s 70ms/step - loss: 0.0014 - accuracy: 0.9995 - val_loss: 1.3051 - val_accuracy: 0.8812\n",
      "Epoch 217/300\n",
      "625/625 [==============================] - ETA: 0s - loss: 0.0020 - accuracy: 0.9994\n",
      "Epoch 00217: saving model to training_1\\cp.ckpt\n",
      "INFO:tensorflow:Assets written to: training_1\\cp.ckpt\\assets\n"
     ]
    },
    {
     "name": "stderr",
     "output_type": "stream",
     "text": [
      "INFO:tensorflow:Assets written to: training_1\\cp.ckpt\\assets\n"
     ]
    },
    {
     "name": "stdout",
     "output_type": "stream",
     "text": [
      "625/625 [==============================] - 43s 68ms/step - loss: 0.0020 - accuracy: 0.9994 - val_loss: 1.2383 - val_accuracy: 0.8840\n",
      "Epoch 218/300\n",
      "625/625 [==============================] - ETA: 0s - loss: 0.0017 - accuracy: 0.9993\n",
      "Epoch 00218: saving model to training_1\\cp.ckpt\n",
      "INFO:tensorflow:Assets written to: training_1\\cp.ckpt\\assets\n"
     ]
    },
    {
     "name": "stderr",
     "output_type": "stream",
     "text": [
      "INFO:tensorflow:Assets written to: training_1\\cp.ckpt\\assets\n"
     ]
    },
    {
     "name": "stdout",
     "output_type": "stream",
     "text": [
      "625/625 [==============================] - 43s 69ms/step - loss: 0.0017 - accuracy: 0.9993 - val_loss: 1.2272 - val_accuracy: 0.8830\n",
      "Epoch 219/300\n",
      "625/625 [==============================] - ETA: 0s - loss: 0.0014 - accuracy: 0.9995\n",
      "Epoch 00219: saving model to training_1\\cp.ckpt\n",
      "INFO:tensorflow:Assets written to: training_1\\cp.ckpt\\assets\n"
     ]
    },
    {
     "name": "stderr",
     "output_type": "stream",
     "text": [
      "INFO:tensorflow:Assets written to: training_1\\cp.ckpt\\assets\n"
     ]
    },
    {
     "name": "stdout",
     "output_type": "stream",
     "text": [
      "625/625 [==============================] - 44s 70ms/step - loss: 0.0014 - accuracy: 0.9995 - val_loss: 1.1635 - val_accuracy: 0.8848\n",
      "Epoch 220/300\n",
      "625/625 [==============================] - ETA: 0s - loss: 0.0016 - accuracy: 0.9995\n",
      "Epoch 00220: saving model to training_1\\cp.ckpt\n",
      "INFO:tensorflow:Assets written to: training_1\\cp.ckpt\\assets\n"
     ]
    },
    {
     "name": "stderr",
     "output_type": "stream",
     "text": [
      "INFO:tensorflow:Assets written to: training_1\\cp.ckpt\\assets\n"
     ]
    },
    {
     "name": "stdout",
     "output_type": "stream",
     "text": [
      "625/625 [==============================] - 44s 70ms/step - loss: 0.0016 - accuracy: 0.9995 - val_loss: 1.4248 - val_accuracy: 0.8792\n",
      "Epoch 221/300\n",
      "625/625 [==============================] - ETA: 0s - loss: 0.0026 - accuracy: 0.9992\n",
      "Epoch 00221: saving model to training_1\\cp.ckpt\n",
      "INFO:tensorflow:Assets written to: training_1\\cp.ckpt\\assets\n"
     ]
    },
    {
     "name": "stderr",
     "output_type": "stream",
     "text": [
      "INFO:tensorflow:Assets written to: training_1\\cp.ckpt\\assets\n"
     ]
    },
    {
     "name": "stdout",
     "output_type": "stream",
     "text": [
      "625/625 [==============================] - 43s 69ms/step - loss: 0.0026 - accuracy: 0.9992 - val_loss: 1.4550 - val_accuracy: 0.8840\n",
      "Epoch 222/300\n",
      "625/625 [==============================] - ETA: 0s - loss: 0.0011 - accuracy: 0.9997\n",
      "Epoch 00222: saving model to training_1\\cp.ckpt\n",
      "INFO:tensorflow:Assets written to: training_1\\cp.ckpt\\assets\n"
     ]
    },
    {
     "name": "stderr",
     "output_type": "stream",
     "text": [
      "INFO:tensorflow:Assets written to: training_1\\cp.ckpt\\assets\n"
     ]
    },
    {
     "name": "stdout",
     "output_type": "stream",
     "text": [
      "625/625 [==============================] - 44s 70ms/step - loss: 0.0011 - accuracy: 0.9997 - val_loss: 1.3360 - val_accuracy: 0.8818\n",
      "Epoch 223/300\n",
      "625/625 [==============================] - ETA: 0s - loss: 5.2040e-04 - accuracy: 0.9998\n",
      "Epoch 00223: saving model to training_1\\cp.ckpt\n",
      "INFO:tensorflow:Assets written to: training_1\\cp.ckpt\\assets\n"
     ]
    },
    {
     "name": "stderr",
     "output_type": "stream",
     "text": [
      "INFO:tensorflow:Assets written to: training_1\\cp.ckpt\\assets\n"
     ]
    },
    {
     "name": "stdout",
     "output_type": "stream",
     "text": [
      "625/625 [==============================] - 44s 70ms/step - loss: 5.2040e-04 - accuracy: 0.9998 - val_loss: 1.4015 - val_accuracy: 0.8768\n",
      "Epoch 224/300\n",
      "625/625 [==============================] - ETA: 0s - loss: 0.0032 - accuracy: 0.9992\n",
      "Epoch 00224: saving model to training_1\\cp.ckpt\n",
      "INFO:tensorflow:Assets written to: training_1\\cp.ckpt\\assets\n"
     ]
    },
    {
     "name": "stderr",
     "output_type": "stream",
     "text": [
      "INFO:tensorflow:Assets written to: training_1\\cp.ckpt\\assets\n"
     ]
    },
    {
     "name": "stdout",
     "output_type": "stream",
     "text": [
      "625/625 [==============================] - 43s 69ms/step - loss: 0.0032 - accuracy: 0.9992 - val_loss: 1.2262 - val_accuracy: 0.8830\n",
      "Epoch 225/300\n",
      "625/625 [==============================] - ETA: 0s - loss: 0.0019 - accuracy: 0.9995\n",
      "Epoch 00225: saving model to training_1\\cp.ckpt\n",
      "INFO:tensorflow:Assets written to: training_1\\cp.ckpt\\assets\n"
     ]
    },
    {
     "name": "stderr",
     "output_type": "stream",
     "text": [
      "INFO:tensorflow:Assets written to: training_1\\cp.ckpt\\assets\n"
     ]
    },
    {
     "name": "stdout",
     "output_type": "stream",
     "text": [
      "625/625 [==============================] - 43s 69ms/step - loss: 0.0019 - accuracy: 0.9995 - val_loss: 1.2130 - val_accuracy: 0.8844\n",
      "Epoch 226/300\n",
      "625/625 [==============================] - ETA: 0s - loss: 0.0014 - accuracy: 0.9995\n",
      "Epoch 00226: saving model to training_1\\cp.ckpt\n",
      "INFO:tensorflow:Assets written to: training_1\\cp.ckpt\\assets\n"
     ]
    },
    {
     "name": "stderr",
     "output_type": "stream",
     "text": [
      "INFO:tensorflow:Assets written to: training_1\\cp.ckpt\\assets\n"
     ]
    },
    {
     "name": "stdout",
     "output_type": "stream",
     "text": [
      "625/625 [==============================] - 43s 69ms/step - loss: 0.0014 - accuracy: 0.9995 - val_loss: 1.3497 - val_accuracy: 0.8856\n",
      "Epoch 227/300\n",
      "625/625 [==============================] - ETA: 0s - loss: 0.0037 - accuracy: 0.9988\n",
      "Epoch 00227: saving model to training_1\\cp.ckpt\n",
      "INFO:tensorflow:Assets written to: training_1\\cp.ckpt\\assets\n"
     ]
    },
    {
     "name": "stderr",
     "output_type": "stream",
     "text": [
      "INFO:tensorflow:Assets written to: training_1\\cp.ckpt\\assets\n"
     ]
    },
    {
     "name": "stdout",
     "output_type": "stream",
     "text": [
      "625/625 [==============================] - 43s 69ms/step - loss: 0.0037 - accuracy: 0.9988 - val_loss: 1.5171 - val_accuracy: 0.8814\n",
      "Epoch 228/300\n",
      "625/625 [==============================] - ETA: 0s - loss: 0.0017 - accuracy: 0.9995\n",
      "Epoch 00228: saving model to training_1\\cp.ckpt\n",
      "INFO:tensorflow:Assets written to: training_1\\cp.ckpt\\assets\n"
     ]
    },
    {
     "name": "stderr",
     "output_type": "stream",
     "text": [
      "INFO:tensorflow:Assets written to: training_1\\cp.ckpt\\assets\n"
     ]
    },
    {
     "name": "stdout",
     "output_type": "stream",
     "text": [
      "625/625 [==============================] - 43s 69ms/step - loss: 0.0017 - accuracy: 0.9995 - val_loss: 1.4328 - val_accuracy: 0.8828\n",
      "Epoch 229/300\n",
      "625/625 [==============================] - ETA: 0s - loss: 0.0020 - accuracy: 0.9994\n",
      "Epoch 00229: saving model to training_1\\cp.ckpt\n",
      "INFO:tensorflow:Assets written to: training_1\\cp.ckpt\\assets\n"
     ]
    },
    {
     "name": "stderr",
     "output_type": "stream",
     "text": [
      "INFO:tensorflow:Assets written to: training_1\\cp.ckpt\\assets\n"
     ]
    },
    {
     "name": "stdout",
     "output_type": "stream",
     "text": [
      "625/625 [==============================] - 44s 70ms/step - loss: 0.0020 - accuracy: 0.9994 - val_loss: 1.3016 - val_accuracy: 0.8818\n",
      "Epoch 230/300\n",
      "625/625 [==============================] - ETA: 0s - loss: 0.0024 - accuracy: 0.9994\n",
      "Epoch 00230: saving model to training_1\\cp.ckpt\n",
      "INFO:tensorflow:Assets written to: training_1\\cp.ckpt\\assets\n"
     ]
    },
    {
     "name": "stderr",
     "output_type": "stream",
     "text": [
      "INFO:tensorflow:Assets written to: training_1\\cp.ckpt\\assets\n"
     ]
    },
    {
     "name": "stdout",
     "output_type": "stream",
     "text": [
      "625/625 [==============================] - 43s 68ms/step - loss: 0.0024 - accuracy: 0.9994 - val_loss: 1.3269 - val_accuracy: 0.8840\n",
      "Epoch 231/300\n",
      "625/625 [==============================] - ETA: 0s - loss: 0.0028 - accuracy: 0.9993\n",
      "Epoch 00231: saving model to training_1\\cp.ckpt\n",
      "INFO:tensorflow:Assets written to: training_1\\cp.ckpt\\assets\n"
     ]
    },
    {
     "name": "stderr",
     "output_type": "stream",
     "text": [
      "INFO:tensorflow:Assets written to: training_1\\cp.ckpt\\assets\n"
     ]
    },
    {
     "name": "stdout",
     "output_type": "stream",
     "text": [
      "625/625 [==============================] - 42s 68ms/step - loss: 0.0028 - accuracy: 0.9993 - val_loss: 1.2628 - val_accuracy: 0.8842\n",
      "Epoch 232/300\n",
      "625/625 [==============================] - ETA: 0s - loss: 0.0011 - accuracy: 0.9996\n",
      "Epoch 00232: saving model to training_1\\cp.ckpt\n",
      "INFO:tensorflow:Assets written to: training_1\\cp.ckpt\\assets\n"
     ]
    },
    {
     "name": "stderr",
     "output_type": "stream",
     "text": [
      "INFO:tensorflow:Assets written to: training_1\\cp.ckpt\\assets\n"
     ]
    },
    {
     "name": "stdout",
     "output_type": "stream",
     "text": [
      "625/625 [==============================] - 42s 68ms/step - loss: 0.0011 - accuracy: 0.9996 - val_loss: 1.5046 - val_accuracy: 0.8858\n",
      "Epoch 233/300\n",
      "625/625 [==============================] - ETA: 0s - loss: 0.0013 - accuracy: 0.9995\n",
      "Epoch 00233: saving model to training_1\\cp.ckpt\n",
      "INFO:tensorflow:Assets written to: training_1\\cp.ckpt\\assets\n"
     ]
    },
    {
     "name": "stderr",
     "output_type": "stream",
     "text": [
      "INFO:tensorflow:Assets written to: training_1\\cp.ckpt\\assets\n"
     ]
    },
    {
     "name": "stdout",
     "output_type": "stream",
     "text": [
      "625/625 [==============================] - 43s 69ms/step - loss: 0.0013 - accuracy: 0.9995 - val_loss: 1.3809 - val_accuracy: 0.8746\n",
      "Epoch 234/300\n",
      "625/625 [==============================] - ETA: 0s - loss: 0.0012 - accuracy: 0.9995\n",
      "Epoch 00234: saving model to training_1\\cp.ckpt\n",
      "INFO:tensorflow:Assets written to: training_1\\cp.ckpt\\assets\n"
     ]
    },
    {
     "name": "stderr",
     "output_type": "stream",
     "text": [
      "INFO:tensorflow:Assets written to: training_1\\cp.ckpt\\assets\n"
     ]
    },
    {
     "name": "stdout",
     "output_type": "stream",
     "text": [
      "625/625 [==============================] - 43s 69ms/step - loss: 0.0012 - accuracy: 0.9995 - val_loss: 1.5061 - val_accuracy: 0.8824\n",
      "Epoch 235/300\n",
      "625/625 [==============================] - ETA: 0s - loss: 0.0014 - accuracy: 0.9996\n",
      "Epoch 00235: saving model to training_1\\cp.ckpt\n",
      "INFO:tensorflow:Assets written to: training_1\\cp.ckpt\\assets\n"
     ]
    },
    {
     "name": "stderr",
     "output_type": "stream",
     "text": [
      "INFO:tensorflow:Assets written to: training_1\\cp.ckpt\\assets\n"
     ]
    },
    {
     "name": "stdout",
     "output_type": "stream",
     "text": [
      "625/625 [==============================] - 43s 68ms/step - loss: 0.0014 - accuracy: 0.9996 - val_loss: 1.4061 - val_accuracy: 0.8868\n",
      "Epoch 236/300\n",
      "625/625 [==============================] - ETA: 0s - loss: 7.4066e-04 - accuracy: 0.9998\n",
      "Epoch 00236: saving model to training_1\\cp.ckpt\n",
      "INFO:tensorflow:Assets written to: training_1\\cp.ckpt\\assets\n"
     ]
    },
    {
     "name": "stderr",
     "output_type": "stream",
     "text": [
      "INFO:tensorflow:Assets written to: training_1\\cp.ckpt\\assets\n"
     ]
    },
    {
     "name": "stdout",
     "output_type": "stream",
     "text": [
      "625/625 [==============================] - 43s 68ms/step - loss: 7.4066e-04 - accuracy: 0.9998 - val_loss: 1.4985 - val_accuracy: 0.8836\n",
      "Epoch 237/300\n",
      "625/625 [==============================] - ETA: 0s - loss: 0.0023 - accuracy: 0.9995\n",
      "Epoch 00237: saving model to training_1\\cp.ckpt\n",
      "INFO:tensorflow:Assets written to: training_1\\cp.ckpt\\assets\n"
     ]
    },
    {
     "name": "stderr",
     "output_type": "stream",
     "text": [
      "INFO:tensorflow:Assets written to: training_1\\cp.ckpt\\assets\n"
     ]
    },
    {
     "name": "stdout",
     "output_type": "stream",
     "text": [
      "625/625 [==============================] - 43s 69ms/step - loss: 0.0023 - accuracy: 0.9995 - val_loss: 1.3817 - val_accuracy: 0.8834\n",
      "Epoch 238/300\n",
      "625/625 [==============================] - ETA: 0s - loss: 5.7213e-04 - accuracy: 0.9998\n",
      "Epoch 00238: saving model to training_1\\cp.ckpt\n",
      "INFO:tensorflow:Assets written to: training_1\\cp.ckpt\\assets\n"
     ]
    },
    {
     "name": "stderr",
     "output_type": "stream",
     "text": [
      "INFO:tensorflow:Assets written to: training_1\\cp.ckpt\\assets\n"
     ]
    },
    {
     "name": "stdout",
     "output_type": "stream",
     "text": [
      "625/625 [==============================] - 42s 68ms/step - loss: 5.7213e-04 - accuracy: 0.9998 - val_loss: 1.5766 - val_accuracy: 0.8846\n",
      "Epoch 239/300\n",
      "625/625 [==============================] - ETA: 0s - loss: 0.0018 - accuracy: 0.9994\n",
      "Epoch 00239: saving model to training_1\\cp.ckpt\n",
      "INFO:tensorflow:Assets written to: training_1\\cp.ckpt\\assets\n"
     ]
    },
    {
     "name": "stderr",
     "output_type": "stream",
     "text": [
      "INFO:tensorflow:Assets written to: training_1\\cp.ckpt\\assets\n"
     ]
    },
    {
     "name": "stdout",
     "output_type": "stream",
     "text": [
      "625/625 [==============================] - 42s 68ms/step - loss: 0.0018 - accuracy: 0.9994 - val_loss: 1.7179 - val_accuracy: 0.8838\n",
      "Epoch 240/300\n",
      "625/625 [==============================] - ETA: 0s - loss: 0.0012 - accuracy: 0.9996\n",
      "Epoch 00240: saving model to training_1\\cp.ckpt\n",
      "INFO:tensorflow:Assets written to: training_1\\cp.ckpt\\assets\n"
     ]
    },
    {
     "name": "stderr",
     "output_type": "stream",
     "text": [
      "INFO:tensorflow:Assets written to: training_1\\cp.ckpt\\assets\n"
     ]
    },
    {
     "name": "stdout",
     "output_type": "stream",
     "text": [
      "625/625 [==============================] - 42s 68ms/step - loss: 0.0012 - accuracy: 0.9996 - val_loss: 1.8286 - val_accuracy: 0.8822\n",
      "Epoch 241/300\n",
      "625/625 [==============================] - ETA: 0s - loss: 0.0018 - accuracy: 0.9995\n",
      "Epoch 00241: saving model to training_1\\cp.ckpt\n",
      "INFO:tensorflow:Assets written to: training_1\\cp.ckpt\\assets\n"
     ]
    },
    {
     "name": "stderr",
     "output_type": "stream",
     "text": [
      "INFO:tensorflow:Assets written to: training_1\\cp.ckpt\\assets\n"
     ]
    },
    {
     "name": "stdout",
     "output_type": "stream",
     "text": [
      "625/625 [==============================] - 43s 69ms/step - loss: 0.0018 - accuracy: 0.9995 - val_loss: 1.7772 - val_accuracy: 0.8840\n",
      "Epoch 242/300\n",
      "625/625 [==============================] - ETA: 0s - loss: 0.0021 - accuracy: 0.9994\n",
      "Epoch 00242: saving model to training_1\\cp.ckpt\n",
      "INFO:tensorflow:Assets written to: training_1\\cp.ckpt\\assets\n"
     ]
    },
    {
     "name": "stderr",
     "output_type": "stream",
     "text": [
      "INFO:tensorflow:Assets written to: training_1\\cp.ckpt\\assets\n"
     ]
    },
    {
     "name": "stdout",
     "output_type": "stream",
     "text": [
      "625/625 [==============================] - 44s 70ms/step - loss: 0.0021 - accuracy: 0.9994 - val_loss: 1.7419 - val_accuracy: 0.8838\n",
      "Epoch 243/300\n",
      "625/625 [==============================] - ETA: 0s - loss: 0.0023 - accuracy: 0.9994\n",
      "Epoch 00243: saving model to training_1\\cp.ckpt\n",
      "INFO:tensorflow:Assets written to: training_1\\cp.ckpt\\assets\n"
     ]
    },
    {
     "name": "stderr",
     "output_type": "stream",
     "text": [
      "INFO:tensorflow:Assets written to: training_1\\cp.ckpt\\assets\n"
     ]
    },
    {
     "name": "stdout",
     "output_type": "stream",
     "text": [
      "625/625 [==============================] - 42s 67ms/step - loss: 0.0023 - accuracy: 0.9994 - val_loss: 1.5612 - val_accuracy: 0.8838\n",
      "Epoch 244/300\n",
      "625/625 [==============================] - ETA: 0s - loss: 0.0015 - accuracy: 0.9995\n",
      "Epoch 00244: saving model to training_1\\cp.ckpt\n",
      "INFO:tensorflow:Assets written to: training_1\\cp.ckpt\\assets\n"
     ]
    },
    {
     "name": "stderr",
     "output_type": "stream",
     "text": [
      "INFO:tensorflow:Assets written to: training_1\\cp.ckpt\\assets\n"
     ]
    },
    {
     "name": "stdout",
     "output_type": "stream",
     "text": [
      "625/625 [==============================] - 42s 67ms/step - loss: 0.0015 - accuracy: 0.9995 - val_loss: 1.4516 - val_accuracy: 0.8838\n",
      "Epoch 245/300\n",
      "625/625 [==============================] - ETA: 0s - loss: 0.0025 - accuracy: 0.99 - ETA: 0s - loss: 0.0024 - accuracy: 0.9995\n",
      "Epoch 00245: saving model to training_1\\cp.ckpt\n",
      "INFO:tensorflow:Assets written to: training_1\\cp.ckpt\\assets\n"
     ]
    },
    {
     "name": "stderr",
     "output_type": "stream",
     "text": [
      "INFO:tensorflow:Assets written to: training_1\\cp.ckpt\\assets\n"
     ]
    },
    {
     "name": "stdout",
     "output_type": "stream",
     "text": [
      "625/625 [==============================] - 42s 67ms/step - loss: 0.0024 - accuracy: 0.9995 - val_loss: 1.4015 - val_accuracy: 0.8802\n",
      "Epoch 246/300\n",
      "625/625 [==============================] - ETA: 0s - loss: 0.0020 - accuracy: 0.9994\n",
      "Epoch 00246: saving model to training_1\\cp.ckpt\n",
      "INFO:tensorflow:Assets written to: training_1\\cp.ckpt\\assets\n"
     ]
    },
    {
     "name": "stderr",
     "output_type": "stream",
     "text": [
      "INFO:tensorflow:Assets written to: training_1\\cp.ckpt\\assets\n"
     ]
    },
    {
     "name": "stdout",
     "output_type": "stream",
     "text": [
      "625/625 [==============================] - 42s 67ms/step - loss: 0.0020 - accuracy: 0.9994 - val_loss: 1.4124 - val_accuracy: 0.8816\n",
      "Epoch 247/300\n",
      "625/625 [==============================] - ETA: 0s - loss: 0.0029 - accuracy: 0.9991\n",
      "Epoch 00247: saving model to training_1\\cp.ckpt\n",
      "INFO:tensorflow:Assets written to: training_1\\cp.ckpt\\assets\n"
     ]
    },
    {
     "name": "stderr",
     "output_type": "stream",
     "text": [
      "INFO:tensorflow:Assets written to: training_1\\cp.ckpt\\assets\n"
     ]
    },
    {
     "name": "stdout",
     "output_type": "stream",
     "text": [
      "625/625 [==============================] - 42s 68ms/step - loss: 0.0029 - accuracy: 0.9991 - val_loss: 1.3702 - val_accuracy: 0.8782\n",
      "Epoch 248/300\n",
      "625/625 [==============================] - ETA: 0s - loss: 0.0014 - accuracy: 0.9995\n",
      "Epoch 00248: saving model to training_1\\cp.ckpt\n",
      "INFO:tensorflow:Assets written to: training_1\\cp.ckpt\\assets\n"
     ]
    },
    {
     "name": "stderr",
     "output_type": "stream",
     "text": [
      "INFO:tensorflow:Assets written to: training_1\\cp.ckpt\\assets\n"
     ]
    },
    {
     "name": "stdout",
     "output_type": "stream",
     "text": [
      "625/625 [==============================] - 42s 68ms/step - loss: 0.0014 - accuracy: 0.9995 - val_loss: 1.6229 - val_accuracy: 0.8816\n",
      "Epoch 249/300\n",
      "625/625 [==============================] - ETA: 0s - loss: 0.0020 - accuracy: 0.9994\n",
      "Epoch 00249: saving model to training_1\\cp.ckpt\n",
      "INFO:tensorflow:Assets written to: training_1\\cp.ckpt\\assets\n"
     ]
    },
    {
     "name": "stderr",
     "output_type": "stream",
     "text": [
      "INFO:tensorflow:Assets written to: training_1\\cp.ckpt\\assets\n"
     ]
    },
    {
     "name": "stdout",
     "output_type": "stream",
     "text": [
      "625/625 [==============================] - 42s 68ms/step - loss: 0.0020 - accuracy: 0.9994 - val_loss: 1.4817 - val_accuracy: 0.8798\n",
      "Epoch 250/300\n",
      "625/625 [==============================] - ETA: 0s - loss: 0.0016 - accuracy: 0.9995\n",
      "Epoch 00250: saving model to training_1\\cp.ckpt\n",
      "INFO:tensorflow:Assets written to: training_1\\cp.ckpt\\assets\n"
     ]
    },
    {
     "name": "stderr",
     "output_type": "stream",
     "text": [
      "INFO:tensorflow:Assets written to: training_1\\cp.ckpt\\assets\n"
     ]
    },
    {
     "name": "stdout",
     "output_type": "stream",
     "text": [
      "625/625 [==============================] - 43s 68ms/step - loss: 0.0016 - accuracy: 0.9995 - val_loss: 1.6799 - val_accuracy: 0.8778\n",
      "Epoch 251/300\n",
      "625/625 [==============================] - ETA: 0s - loss: 0.0014 - accuracy: 0.9998\n",
      "Epoch 00251: saving model to training_1\\cp.ckpt\n",
      "INFO:tensorflow:Assets written to: training_1\\cp.ckpt\\assets\n"
     ]
    },
    {
     "name": "stderr",
     "output_type": "stream",
     "text": [
      "INFO:tensorflow:Assets written to: training_1\\cp.ckpt\\assets\n"
     ]
    },
    {
     "name": "stdout",
     "output_type": "stream",
     "text": [
      "625/625 [==============================] - 43s 68ms/step - loss: 0.0014 - accuracy: 0.9998 - val_loss: 1.3403 - val_accuracy: 0.8790\n",
      "Epoch 252/300\n",
      "625/625 [==============================] - ETA: 0s - loss: 6.4554e-04 - accuracy: 0.9998\n",
      "Epoch 00252: saving model to training_1\\cp.ckpt\n",
      "INFO:tensorflow:Assets written to: training_1\\cp.ckpt\\assets\n"
     ]
    },
    {
     "name": "stderr",
     "output_type": "stream",
     "text": [
      "INFO:tensorflow:Assets written to: training_1\\cp.ckpt\\assets\n"
     ]
    },
    {
     "name": "stdout",
     "output_type": "stream",
     "text": [
      "625/625 [==============================] - 42s 68ms/step - loss: 6.4554e-04 - accuracy: 0.9998 - val_loss: 1.5707 - val_accuracy: 0.8822\n",
      "Epoch 253/300\n",
      "625/625 [==============================] - ETA: 0s - loss: 6.0314e-04 - accuracy: 0.9998\n",
      "Epoch 00253: saving model to training_1\\cp.ckpt\n",
      "INFO:tensorflow:Assets written to: training_1\\cp.ckpt\\assets\n"
     ]
    },
    {
     "name": "stderr",
     "output_type": "stream",
     "text": [
      "INFO:tensorflow:Assets written to: training_1\\cp.ckpt\\assets\n"
     ]
    },
    {
     "name": "stdout",
     "output_type": "stream",
     "text": [
      "625/625 [==============================] - 42s 67ms/step - loss: 6.0314e-04 - accuracy: 0.9998 - val_loss: 1.7697 - val_accuracy: 0.8828\n",
      "Epoch 254/300\n",
      "625/625 [==============================] - ETA: 0s - loss: 0.0033 - accuracy: 0.9990\n",
      "Epoch 00254: saving model to training_1\\cp.ckpt\n",
      "INFO:tensorflow:Assets written to: training_1\\cp.ckpt\\assets\n"
     ]
    },
    {
     "name": "stderr",
     "output_type": "stream",
     "text": [
      "INFO:tensorflow:Assets written to: training_1\\cp.ckpt\\assets\n"
     ]
    },
    {
     "name": "stdout",
     "output_type": "stream",
     "text": [
      "625/625 [==============================] - 43s 68ms/step - loss: 0.0033 - accuracy: 0.9990 - val_loss: 1.5910 - val_accuracy: 0.8784\n",
      "Epoch 255/300\n",
      "625/625 [==============================] - ETA: 0s - loss: 0.0019 - accuracy: 0.9994\n",
      "Epoch 00255: saving model to training_1\\cp.ckpt\n",
      "INFO:tensorflow:Assets written to: training_1\\cp.ckpt\\assets\n"
     ]
    },
    {
     "name": "stderr",
     "output_type": "stream",
     "text": [
      "INFO:tensorflow:Assets written to: training_1\\cp.ckpt\\assets\n"
     ]
    },
    {
     "name": "stdout",
     "output_type": "stream",
     "text": [
      "625/625 [==============================] - 42s 68ms/step - loss: 0.0019 - accuracy: 0.9994 - val_loss: 1.4141 - val_accuracy: 0.8822\n",
      "Epoch 256/300\n",
      "625/625 [==============================] - ETA: 0s - loss: 0.0010 - accuracy: 0.9997\n",
      "Epoch 00256: saving model to training_1\\cp.ckpt\n",
      "INFO:tensorflow:Assets written to: training_1\\cp.ckpt\\assets\n"
     ]
    },
    {
     "name": "stderr",
     "output_type": "stream",
     "text": [
      "INFO:tensorflow:Assets written to: training_1\\cp.ckpt\\assets\n"
     ]
    },
    {
     "name": "stdout",
     "output_type": "stream",
     "text": [
      "625/625 [==============================] - 42s 68ms/step - loss: 0.0010 - accuracy: 0.9997 - val_loss: 1.4391 - val_accuracy: 0.8820\n",
      "Epoch 257/300\n",
      "625/625 [==============================] - ETA: 0s - loss: 0.0011 - accuracy: 0.9997\n",
      "Epoch 00257: saving model to training_1\\cp.ckpt\n",
      "INFO:tensorflow:Assets written to: training_1\\cp.ckpt\\assets\n"
     ]
    },
    {
     "name": "stderr",
     "output_type": "stream",
     "text": [
      "INFO:tensorflow:Assets written to: training_1\\cp.ckpt\\assets\n"
     ]
    },
    {
     "name": "stdout",
     "output_type": "stream",
     "text": [
      "625/625 [==============================] - 43s 68ms/step - loss: 0.0011 - accuracy: 0.9997 - val_loss: 1.3233 - val_accuracy: 0.8878\n",
      "Epoch 258/300\n",
      "625/625 [==============================] - ETA: 0s - loss: 0.0014 - accuracy: 0.9997\n",
      "Epoch 00258: saving model to training_1\\cp.ckpt\n",
      "INFO:tensorflow:Assets written to: training_1\\cp.ckpt\\assets\n"
     ]
    },
    {
     "name": "stderr",
     "output_type": "stream",
     "text": [
      "INFO:tensorflow:Assets written to: training_1\\cp.ckpt\\assets\n"
     ]
    },
    {
     "name": "stdout",
     "output_type": "stream",
     "text": [
      "625/625 [==============================] - 43s 68ms/step - loss: 0.0014 - accuracy: 0.9997 - val_loss: 1.2306 - val_accuracy: 0.8886\n",
      "Epoch 259/300\n",
      "625/625 [==============================] - ETA: 0s - loss: 0.0030 - accuracy: 0.9991\n",
      "Epoch 00259: saving model to training_1\\cp.ckpt\n",
      "INFO:tensorflow:Assets written to: training_1\\cp.ckpt\\assets\n"
     ]
    },
    {
     "name": "stderr",
     "output_type": "stream",
     "text": [
      "INFO:tensorflow:Assets written to: training_1\\cp.ckpt\\assets\n"
     ]
    },
    {
     "name": "stdout",
     "output_type": "stream",
     "text": [
      "625/625 [==============================] - 42s 68ms/step - loss: 0.0030 - accuracy: 0.9991 - val_loss: 1.2759 - val_accuracy: 0.8814\n",
      "Epoch 260/300\n",
      "625/625 [==============================] - ETA: 0s - loss: 6.9687e-04 - accuracy: 0.9997\n",
      "Epoch 00260: saving model to training_1\\cp.ckpt\n",
      "INFO:tensorflow:Assets written to: training_1\\cp.ckpt\\assets\n"
     ]
    },
    {
     "name": "stderr",
     "output_type": "stream",
     "text": [
      "INFO:tensorflow:Assets written to: training_1\\cp.ckpt\\assets\n"
     ]
    },
    {
     "name": "stdout",
     "output_type": "stream",
     "text": [
      "625/625 [==============================] - 42s 68ms/step - loss: 6.9687e-04 - accuracy: 0.9997 - val_loss: 1.4385 - val_accuracy: 0.8830\n",
      "Epoch 261/300\n",
      "625/625 [==============================] - ETA: 0s - loss: 6.8652e-04 - accuracy: 0.9998\n",
      "Epoch 00261: saving model to training_1\\cp.ckpt\n",
      "INFO:tensorflow:Assets written to: training_1\\cp.ckpt\\assets\n"
     ]
    },
    {
     "name": "stderr",
     "output_type": "stream",
     "text": [
      "INFO:tensorflow:Assets written to: training_1\\cp.ckpt\\assets\n"
     ]
    },
    {
     "name": "stdout",
     "output_type": "stream",
     "text": [
      "625/625 [==============================] - 42s 68ms/step - loss: 6.8652e-04 - accuracy: 0.9998 - val_loss: 1.5268 - val_accuracy: 0.8870\n",
      "Epoch 262/300\n",
      "625/625 [==============================] - ETA: 0s - loss: 0.0022 - accuracy: 0.9991 \n",
      "Epoch 00262: saving model to training_1\\cp.ckpt\n",
      "INFO:tensorflow:Assets written to: training_1\\cp.ckpt\\assets\n"
     ]
    },
    {
     "name": "stderr",
     "output_type": "stream",
     "text": [
      "INFO:tensorflow:Assets written to: training_1\\cp.ckpt\\assets\n"
     ]
    },
    {
     "name": "stdout",
     "output_type": "stream",
     "text": [
      "625/625 [==============================] - 32478s 52s/step - loss: 0.0022 - accuracy: 0.9991 - val_loss: 1.4707 - val_accuracy: 0.8854\n",
      "Epoch 263/300\n",
      "625/625 [==============================] - ETA: 0s - loss: 0.0020 - accuracy: 0.9994\n",
      "Epoch 00263: saving model to training_1\\cp.ckpt\n",
      "INFO:tensorflow:Assets written to: training_1\\cp.ckpt\\assets\n"
     ]
    },
    {
     "name": "stderr",
     "output_type": "stream",
     "text": [
      "INFO:tensorflow:Assets written to: training_1\\cp.ckpt\\assets\n"
     ]
    },
    {
     "name": "stdout",
     "output_type": "stream",
     "text": [
      "625/625 [==============================] - 37s 58ms/step - loss: 0.0020 - accuracy: 0.9994 - val_loss: 1.3211 - val_accuracy: 0.8822\n",
      "Epoch 264/300\n",
      "625/625 [==============================] - ETA: 0s - loss: 7.9323e-04 - accuracy: 0.9997\n",
      "Epoch 00264: saving model to training_1\\cp.ckpt\n",
      "INFO:tensorflow:Assets written to: training_1\\cp.ckpt\\assets\n"
     ]
    },
    {
     "name": "stderr",
     "output_type": "stream",
     "text": [
      "INFO:tensorflow:Assets written to: training_1\\cp.ckpt\\assets\n"
     ]
    },
    {
     "name": "stdout",
     "output_type": "stream",
     "text": [
      "625/625 [==============================] - 38s 62ms/step - loss: 7.9323e-04 - accuracy: 0.9997 - val_loss: 1.4335 - val_accuracy: 0.8828\n",
      "Epoch 265/300\n",
      "625/625 [==============================] - ETA: 0s - loss: 4.5976e-04 - accuracy: 0.9998\n",
      "Epoch 00265: saving model to training_1\\cp.ckpt\n",
      "INFO:tensorflow:Assets written to: training_1\\cp.ckpt\\assets\n"
     ]
    },
    {
     "name": "stderr",
     "output_type": "stream",
     "text": [
      "INFO:tensorflow:Assets written to: training_1\\cp.ckpt\\assets\n"
     ]
    },
    {
     "name": "stdout",
     "output_type": "stream",
     "text": [
      "625/625 [==============================] - 40s 63ms/step - loss: 4.5976e-04 - accuracy: 0.9998 - val_loss: 1.5004 - val_accuracy: 0.8820\n",
      "Epoch 266/300\n",
      "625/625 [==============================] - ETA: 0s - loss: 3.8988e-05 - accuracy: 1.0000\n",
      "Epoch 00266: saving model to training_1\\cp.ckpt\n",
      "INFO:tensorflow:Assets written to: training_1\\cp.ckpt\\assets\n"
     ]
    },
    {
     "name": "stderr",
     "output_type": "stream",
     "text": [
      "INFO:tensorflow:Assets written to: training_1\\cp.ckpt\\assets\n"
     ]
    },
    {
     "name": "stdout",
     "output_type": "stream",
     "text": [
      "625/625 [==============================] - 42s 67ms/step - loss: 3.8988e-05 - accuracy: 1.0000 - val_loss: 1.6226 - val_accuracy: 0.8828\n",
      "Epoch 267/300\n",
      "625/625 [==============================] - ETA: 0s - loss: 0.0046 - accuracy: 0.9987\n",
      "Epoch 00267: saving model to training_1\\cp.ckpt\n",
      "INFO:tensorflow:Assets written to: training_1\\cp.ckpt\\assets\n"
     ]
    },
    {
     "name": "stderr",
     "output_type": "stream",
     "text": [
      "INFO:tensorflow:Assets written to: training_1\\cp.ckpt\\assets\n"
     ]
    },
    {
     "name": "stdout",
     "output_type": "stream",
     "text": [
      "625/625 [==============================] - 43s 69ms/step - loss: 0.0046 - accuracy: 0.9987 - val_loss: 1.5319 - val_accuracy: 0.8830\n",
      "Epoch 268/300\n",
      "625/625 [==============================] - ETA: 0s - loss: 0.0017 - accuracy: 0.9995\n",
      "Epoch 00268: saving model to training_1\\cp.ckpt\n",
      "INFO:tensorflow:Assets written to: training_1\\cp.ckpt\\assets\n"
     ]
    },
    {
     "name": "stderr",
     "output_type": "stream",
     "text": [
      "INFO:tensorflow:Assets written to: training_1\\cp.ckpt\\assets\n"
     ]
    },
    {
     "name": "stdout",
     "output_type": "stream",
     "text": [
      "625/625 [==============================] - 43s 69ms/step - loss: 0.0017 - accuracy: 0.9995 - val_loss: 1.4221 - val_accuracy: 0.8782\n",
      "Epoch 269/300\n",
      "625/625 [==============================] - ETA: 0s - loss: 0.0014 - accuracy: 0.9994\n",
      "Epoch 00269: saving model to training_1\\cp.ckpt\n",
      "INFO:tensorflow:Assets written to: training_1\\cp.ckpt\\assets\n"
     ]
    },
    {
     "name": "stderr",
     "output_type": "stream",
     "text": [
      "INFO:tensorflow:Assets written to: training_1\\cp.ckpt\\assets\n"
     ]
    },
    {
     "name": "stdout",
     "output_type": "stream",
     "text": [
      "625/625 [==============================] - 43s 69ms/step - loss: 0.0014 - accuracy: 0.9994 - val_loss: 1.3109 - val_accuracy: 0.8840\n",
      "Epoch 270/300\n",
      "625/625 [==============================] - ETA: 0s - loss: 4.4724e-04 - accuracy: 0.9998\n",
      "Epoch 00270: saving model to training_1\\cp.ckpt\n",
      "INFO:tensorflow:Assets written to: training_1\\cp.ckpt\\assets\n"
     ]
    },
    {
     "name": "stderr",
     "output_type": "stream",
     "text": [
      "INFO:tensorflow:Assets written to: training_1\\cp.ckpt\\assets\n"
     ]
    },
    {
     "name": "stdout",
     "output_type": "stream",
     "text": [
      "625/625 [==============================] - 43s 69ms/step - loss: 4.4724e-04 - accuracy: 0.9998 - val_loss: 1.4476 - val_accuracy: 0.8824\n",
      "Epoch 271/300\n",
      "625/625 [==============================] - ETA: 0s - loss: 0.0028 - accuracy: 0.9993\n",
      "Epoch 00271: saving model to training_1\\cp.ckpt\n",
      "INFO:tensorflow:Assets written to: training_1\\cp.ckpt\\assets\n"
     ]
    },
    {
     "name": "stderr",
     "output_type": "stream",
     "text": [
      "INFO:tensorflow:Assets written to: training_1\\cp.ckpt\\assets\n"
     ]
    },
    {
     "name": "stdout",
     "output_type": "stream",
     "text": [
      "625/625 [==============================] - 43s 69ms/step - loss: 0.0028 - accuracy: 0.9993 - val_loss: 1.5191 - val_accuracy: 0.8870\n",
      "Epoch 272/300\n",
      "625/625 [==============================] - ETA: 0s - loss: 0.0017 - accuracy: 0.9995\n",
      "Epoch 00272: saving model to training_1\\cp.ckpt\n",
      "INFO:tensorflow:Assets written to: training_1\\cp.ckpt\\assets\n"
     ]
    },
    {
     "name": "stderr",
     "output_type": "stream",
     "text": [
      "INFO:tensorflow:Assets written to: training_1\\cp.ckpt\\assets\n"
     ]
    },
    {
     "name": "stdout",
     "output_type": "stream",
     "text": [
      "625/625 [==============================] - 43s 69ms/step - loss: 0.0017 - accuracy: 0.9995 - val_loss: 1.6860 - val_accuracy: 0.8862\n",
      "Epoch 273/300\n",
      "625/625 [==============================] - ETA: 0s - loss: 0.0017 - accuracy: 0.9995\n",
      "Epoch 00273: saving model to training_1\\cp.ckpt\n",
      "INFO:tensorflow:Assets written to: training_1\\cp.ckpt\\assets\n"
     ]
    },
    {
     "name": "stderr",
     "output_type": "stream",
     "text": [
      "INFO:tensorflow:Assets written to: training_1\\cp.ckpt\\assets\n"
     ]
    },
    {
     "name": "stdout",
     "output_type": "stream",
     "text": [
      "625/625 [==============================] - 43s 68ms/step - loss: 0.0017 - accuracy: 0.9995 - val_loss: 1.4117 - val_accuracy: 0.8844\n",
      "Epoch 274/300\n",
      "625/625 [==============================] - ETA: 0s - loss: 9.7403e-04 - accuracy: 0.9997\n",
      "Epoch 00274: saving model to training_1\\cp.ckpt\n",
      "INFO:tensorflow:Assets written to: training_1\\cp.ckpt\\assets\n"
     ]
    },
    {
     "name": "stderr",
     "output_type": "stream",
     "text": [
      "INFO:tensorflow:Assets written to: training_1\\cp.ckpt\\assets\n"
     ]
    },
    {
     "name": "stdout",
     "output_type": "stream",
     "text": [
      "625/625 [==============================] - 43s 69ms/step - loss: 9.7403e-04 - accuracy: 0.9997 - val_loss: 1.5600 - val_accuracy: 0.8820\n",
      "Epoch 275/300\n",
      "625/625 [==============================] - ETA: 0s - loss: 0.0018 - accuracy: 0.9995\n",
      "Epoch 00275: saving model to training_1\\cp.ckpt\n",
      "INFO:tensorflow:Assets written to: training_1\\cp.ckpt\\assets\n"
     ]
    },
    {
     "name": "stderr",
     "output_type": "stream",
     "text": [
      "INFO:tensorflow:Assets written to: training_1\\cp.ckpt\\assets\n"
     ]
    },
    {
     "name": "stdout",
     "output_type": "stream",
     "text": [
      "625/625 [==============================] - 43s 68ms/step - loss: 0.0018 - accuracy: 0.9995 - val_loss: 1.5648 - val_accuracy: 0.8822\n",
      "Epoch 276/300\n",
      "625/625 [==============================] - ETA: 0s - loss: 0.0017 - accuracy: 0.9994\n",
      "Epoch 00276: saving model to training_1\\cp.ckpt\n",
      "INFO:tensorflow:Assets written to: training_1\\cp.ckpt\\assets\n"
     ]
    },
    {
     "name": "stderr",
     "output_type": "stream",
     "text": [
      "INFO:tensorflow:Assets written to: training_1\\cp.ckpt\\assets\n"
     ]
    },
    {
     "name": "stdout",
     "output_type": "stream",
     "text": [
      "625/625 [==============================] - 44s 70ms/step - loss: 0.0017 - accuracy: 0.9994 - val_loss: 1.7012 - val_accuracy: 0.8818\n",
      "Epoch 277/300\n",
      "625/625 [==============================] - ETA: 0s - loss: 3.0104e-04 - accuracy: 0.9999\n",
      "Epoch 00277: saving model to training_1\\cp.ckpt\n",
      "INFO:tensorflow:Assets written to: training_1\\cp.ckpt\\assets\n"
     ]
    },
    {
     "name": "stderr",
     "output_type": "stream",
     "text": [
      "INFO:tensorflow:Assets written to: training_1\\cp.ckpt\\assets\n"
     ]
    },
    {
     "name": "stdout",
     "output_type": "stream",
     "text": [
      "625/625 [==============================] - 43s 69ms/step - loss: 3.0104e-04 - accuracy: 0.9999 - val_loss: 1.8545 - val_accuracy: 0.8816\n",
      "Epoch 278/300\n",
      "625/625 [==============================] - ETA: 0s - loss: 0.0015 - accuracy: 0.9995\n",
      "Epoch 00278: saving model to training_1\\cp.ckpt\n",
      "INFO:tensorflow:Assets written to: training_1\\cp.ckpt\\assets\n"
     ]
    },
    {
     "name": "stderr",
     "output_type": "stream",
     "text": [
      "INFO:tensorflow:Assets written to: training_1\\cp.ckpt\\assets\n"
     ]
    },
    {
     "name": "stdout",
     "output_type": "stream",
     "text": [
      "625/625 [==============================] - 44s 71ms/step - loss: 0.0015 - accuracy: 0.9995 - val_loss: 1.6874 - val_accuracy: 0.8842\n",
      "Epoch 279/300\n",
      "625/625 [==============================] - ETA: 0s - loss: 0.0044 - accuracy: 0.9991\n",
      "Epoch 00279: saving model to training_1\\cp.ckpt\n",
      "INFO:tensorflow:Assets written to: training_1\\cp.ckpt\\assets\n"
     ]
    },
    {
     "name": "stderr",
     "output_type": "stream",
     "text": [
      "INFO:tensorflow:Assets written to: training_1\\cp.ckpt\\assets\n"
     ]
    },
    {
     "name": "stdout",
     "output_type": "stream",
     "text": [
      "625/625 [==============================] - 43s 69ms/step - loss: 0.0044 - accuracy: 0.9991 - val_loss: 1.9374 - val_accuracy: 0.8758\n",
      "Epoch 280/300\n",
      "625/625 [==============================] - ETA: 0s - loss: 0.0015 - accuracy: 0.9997\n",
      "Epoch 00280: saving model to training_1\\cp.ckpt\n",
      "INFO:tensorflow:Assets written to: training_1\\cp.ckpt\\assets\n"
     ]
    },
    {
     "name": "stderr",
     "output_type": "stream",
     "text": [
      "INFO:tensorflow:Assets written to: training_1\\cp.ckpt\\assets\n"
     ]
    },
    {
     "name": "stdout",
     "output_type": "stream",
     "text": [
      "625/625 [==============================] - 3451s 6s/step - loss: 0.0015 - accuracy: 0.9997 - val_loss: 1.6494 - val_accuracy: 0.8832\n",
      "Epoch 281/300\n",
      "625/625 [==============================] - ETA: 0s - loss: 0.0012 - accuracy: 0.9998\n",
      "Epoch 00281: saving model to training_1\\cp.ckpt\n",
      "INFO:tensorflow:Assets written to: training_1\\cp.ckpt\\assets\n"
     ]
    },
    {
     "name": "stderr",
     "output_type": "stream",
     "text": [
      "INFO:tensorflow:Assets written to: training_1\\cp.ckpt\\assets\n"
     ]
    },
    {
     "name": "stdout",
     "output_type": "stream",
     "text": [
      "625/625 [==============================] - 43s 69ms/step - loss: 0.0012 - accuracy: 0.9998 - val_loss: 1.4285 - val_accuracy: 0.8822\n",
      "Epoch 282/300\n",
      "625/625 [==============================] - ETA: 0s - loss: 0.0013 - accuracy: 0.9997\n",
      "Epoch 00282: saving model to training_1\\cp.ckpt\n",
      "INFO:tensorflow:Assets written to: training_1\\cp.ckpt\\assets\n"
     ]
    },
    {
     "name": "stderr",
     "output_type": "stream",
     "text": [
      "INFO:tensorflow:Assets written to: training_1\\cp.ckpt\\assets\n"
     ]
    },
    {
     "name": "stdout",
     "output_type": "stream",
     "text": [
      "625/625 [==============================] - 43s 68ms/step - loss: 0.0013 - accuracy: 0.9997 - val_loss: 1.5651 - val_accuracy: 0.8798\n",
      "Epoch 283/300\n",
      "625/625 [==============================] - ETA: 0s - loss: 0.0036 - accuracy: 0.9991 \n",
      "Epoch 00283: saving model to training_1\\cp.ckpt\n",
      "INFO:tensorflow:Assets written to: training_1\\cp.ckpt\\assets\n"
     ]
    },
    {
     "name": "stderr",
     "output_type": "stream",
     "text": [
      "INFO:tensorflow:Assets written to: training_1\\cp.ckpt\\assets\n"
     ]
    },
    {
     "name": "stdout",
     "output_type": "stream",
     "text": [
      "625/625 [==============================] - 12021s 19s/step - loss: 0.0036 - accuracy: 0.9991 - val_loss: 1.9961 - val_accuracy: 0.8814\n",
      "Epoch 284/300\n",
      "625/625 [==============================] - ETA: 0s - loss: 0.0015 - accuracy: 0.9995\n",
      "Epoch 00284: saving model to training_1\\cp.ckpt\n",
      "INFO:tensorflow:Assets written to: training_1\\cp.ckpt\\assets\n"
     ]
    },
    {
     "name": "stderr",
     "output_type": "stream",
     "text": [
      "INFO:tensorflow:Assets written to: training_1\\cp.ckpt\\assets\n"
     ]
    },
    {
     "name": "stdout",
     "output_type": "stream",
     "text": [
      "625/625 [==============================] - 39s 62ms/step - loss: 0.0015 - accuracy: 0.9995 - val_loss: 2.2209 - val_accuracy: 0.8744\n",
      "Epoch 285/300\n",
      "625/625 [==============================] - ETA: 0s - loss: 0.0011 - accuracy: 0.9998\n",
      "Epoch 00285: saving model to training_1\\cp.ckpt\n",
      "INFO:tensorflow:Assets written to: training_1\\cp.ckpt\\assets\n"
     ]
    },
    {
     "name": "stderr",
     "output_type": "stream",
     "text": [
      "INFO:tensorflow:Assets written to: training_1\\cp.ckpt\\assets\n"
     ]
    },
    {
     "name": "stdout",
     "output_type": "stream",
     "text": [
      "625/625 [==============================] - 42s 67ms/step - loss: 0.0011 - accuracy: 0.9998 - val_loss: 1.6492 - val_accuracy: 0.8812\n",
      "Epoch 286/300\n",
      "625/625 [==============================] - ETA: 0s - loss: 1.5860e-04 - accuracy: 0.9999\n",
      "Epoch 00286: saving model to training_1\\cp.ckpt\n",
      "INFO:tensorflow:Assets written to: training_1\\cp.ckpt\\assets\n"
     ]
    },
    {
     "name": "stderr",
     "output_type": "stream",
     "text": [
      "INFO:tensorflow:Assets written to: training_1\\cp.ckpt\\assets\n"
     ]
    },
    {
     "name": "stdout",
     "output_type": "stream",
     "text": [
      "625/625 [==============================] - 41s 66ms/step - loss: 1.5860e-04 - accuracy: 0.9999 - val_loss: 1.8511 - val_accuracy: 0.8822\n",
      "Epoch 287/300\n",
      "625/625 [==============================] - ETA: 0s - loss: 0.0023 - accuracy: 0.9994\n",
      "Epoch 00287: saving model to training_1\\cp.ckpt\n",
      "INFO:tensorflow:Assets written to: training_1\\cp.ckpt\\assets\n"
     ]
    },
    {
     "name": "stderr",
     "output_type": "stream",
     "text": [
      "INFO:tensorflow:Assets written to: training_1\\cp.ckpt\\assets\n"
     ]
    },
    {
     "name": "stdout",
     "output_type": "stream",
     "text": [
      "625/625 [==============================] - 43s 68ms/step - loss: 0.0023 - accuracy: 0.9994 - val_loss: 1.6069 - val_accuracy: 0.8730\n",
      "Epoch 288/300\n",
      "625/625 [==============================] - ETA: 0s - loss: 3.3206e-04 - accuracy: 0.9998\n",
      "Epoch 00288: saving model to training_1\\cp.ckpt\n",
      "INFO:tensorflow:Assets written to: training_1\\cp.ckpt\\assets\n"
     ]
    },
    {
     "name": "stderr",
     "output_type": "stream",
     "text": [
      "INFO:tensorflow:Assets written to: training_1\\cp.ckpt\\assets\n"
     ]
    },
    {
     "name": "stdout",
     "output_type": "stream",
     "text": [
      "625/625 [==============================] - 45s 72ms/step - loss: 3.3206e-04 - accuracy: 0.9998 - val_loss: 1.6140 - val_accuracy: 0.8832\n",
      "Epoch 289/300\n",
      "625/625 [==============================] - ETA: 0s - loss: 4.0112e-04 - accuracy: 0.9998\n",
      "Epoch 00289: saving model to training_1\\cp.ckpt\n",
      "INFO:tensorflow:Assets written to: training_1\\cp.ckpt\\assets\n"
     ]
    },
    {
     "name": "stderr",
     "output_type": "stream",
     "text": [
      "INFO:tensorflow:Assets written to: training_1\\cp.ckpt\\assets\n"
     ]
    },
    {
     "name": "stdout",
     "output_type": "stream",
     "text": [
      "625/625 [==============================] - 41s 66ms/step - loss: 4.0112e-04 - accuracy: 0.9998 - val_loss: 1.8718 - val_accuracy: 0.8836\n",
      "Epoch 290/300\n",
      "625/625 [==============================] - ETA: 0s - loss: 0.0045 - accuracy: 0.9988\n",
      "Epoch 00290: saving model to training_1\\cp.ckpt\n",
      "INFO:tensorflow:Assets written to: training_1\\cp.ckpt\\assets\n"
     ]
    },
    {
     "name": "stderr",
     "output_type": "stream",
     "text": [
      "INFO:tensorflow:Assets written to: training_1\\cp.ckpt\\assets\n"
     ]
    },
    {
     "name": "stdout",
     "output_type": "stream",
     "text": [
      "625/625 [==============================] - 41s 66ms/step - loss: 0.0045 - accuracy: 0.9988 - val_loss: 1.7172 - val_accuracy: 0.8838\n",
      "Epoch 291/300\n",
      "625/625 [==============================] - ETA: 0s - loss: 0.0011 - accuracy: 0.9997\n",
      "Epoch 00291: saving model to training_1\\cp.ckpt\n",
      "INFO:tensorflow:Assets written to: training_1\\cp.ckpt\\assets\n"
     ]
    },
    {
     "name": "stderr",
     "output_type": "stream",
     "text": [
      "INFO:tensorflow:Assets written to: training_1\\cp.ckpt\\assets\n"
     ]
    },
    {
     "name": "stdout",
     "output_type": "stream",
     "text": [
      "625/625 [==============================] - 42s 67ms/step - loss: 0.0011 - accuracy: 0.9997 - val_loss: 1.6711 - val_accuracy: 0.8822\n",
      "Epoch 292/300\n",
      "625/625 [==============================] - ETA: 0s - loss: 0.0011 - accuracy: 0.9997\n",
      "Epoch 00292: saving model to training_1\\cp.ckpt\n",
      "INFO:tensorflow:Assets written to: training_1\\cp.ckpt\\assets\n"
     ]
    },
    {
     "name": "stderr",
     "output_type": "stream",
     "text": [
      "INFO:tensorflow:Assets written to: training_1\\cp.ckpt\\assets\n"
     ]
    },
    {
     "name": "stdout",
     "output_type": "stream",
     "text": [
      "625/625 [==============================] - 42s 68ms/step - loss: 0.0011 - accuracy: 0.9997 - val_loss: 1.5806 - val_accuracy: 0.8818\n",
      "Epoch 293/300\n",
      "625/625 [==============================] - ETA: 0s - loss: 0.0021 - accuracy: 0.9994\n",
      "Epoch 00293: saving model to training_1\\cp.ckpt\n",
      "INFO:tensorflow:Assets written to: training_1\\cp.ckpt\\assets\n"
     ]
    },
    {
     "name": "stderr",
     "output_type": "stream",
     "text": [
      "INFO:tensorflow:Assets written to: training_1\\cp.ckpt\\assets\n"
     ]
    },
    {
     "name": "stdout",
     "output_type": "stream",
     "text": [
      "625/625 [==============================] - 41s 66ms/step - loss: 0.0021 - accuracy: 0.9994 - val_loss: 1.3331 - val_accuracy: 0.8744\n",
      "Epoch 294/300\n",
      "625/625 [==============================] - ETA: 0s - loss: 0.0018 - accuracy: 0.9994\n",
      "Epoch 00294: saving model to training_1\\cp.ckpt\n",
      "INFO:tensorflow:Assets written to: training_1\\cp.ckpt\\assets\n"
     ]
    },
    {
     "name": "stderr",
     "output_type": "stream",
     "text": [
      "INFO:tensorflow:Assets written to: training_1\\cp.ckpt\\assets\n"
     ]
    },
    {
     "name": "stdout",
     "output_type": "stream",
     "text": [
      "625/625 [==============================] - 43s 68ms/step - loss: 0.0018 - accuracy: 0.9994 - val_loss: 1.6264 - val_accuracy: 0.8832\n",
      "Epoch 295/300\n",
      "625/625 [==============================] - ETA: 0s - loss: 5.6027e-04 - accuracy: 0.9998\n",
      "Epoch 00295: saving model to training_1\\cp.ckpt\n",
      "INFO:tensorflow:Assets written to: training_1\\cp.ckpt\\assets\n"
     ]
    },
    {
     "name": "stderr",
     "output_type": "stream",
     "text": [
      "INFO:tensorflow:Assets written to: training_1\\cp.ckpt\\assets\n"
     ]
    },
    {
     "name": "stdout",
     "output_type": "stream",
     "text": [
      "625/625 [==============================] - 41s 66ms/step - loss: 5.6027e-04 - accuracy: 0.9998 - val_loss: 1.5822 - val_accuracy: 0.8834\n",
      "Epoch 296/300\n",
      "625/625 [==============================] - ETA: 0s - loss: 0.0014 - accuracy: 0.9997\n",
      "Epoch 00296: saving model to training_1\\cp.ckpt\n",
      "INFO:tensorflow:Assets written to: training_1\\cp.ckpt\\assets\n"
     ]
    },
    {
     "name": "stderr",
     "output_type": "stream",
     "text": [
      "INFO:tensorflow:Assets written to: training_1\\cp.ckpt\\assets\n"
     ]
    },
    {
     "name": "stdout",
     "output_type": "stream",
     "text": [
      "625/625 [==============================] - 42s 67ms/step - loss: 0.0014 - accuracy: 0.9997 - val_loss: 1.8594 - val_accuracy: 0.8846\n",
      "Epoch 297/300\n",
      "625/625 [==============================] - ETA: 0s - loss: 9.6737e-04 - accuracy: 0.9995\n",
      "Epoch 00297: saving model to training_1\\cp.ckpt\n",
      "INFO:tensorflow:Assets written to: training_1\\cp.ckpt\\assets\n"
     ]
    },
    {
     "name": "stderr",
     "output_type": "stream",
     "text": [
      "INFO:tensorflow:Assets written to: training_1\\cp.ckpt\\assets\n"
     ]
    },
    {
     "name": "stdout",
     "output_type": "stream",
     "text": [
      "625/625 [==============================] - 41s 65ms/step - loss: 9.6737e-04 - accuracy: 0.9995 - val_loss: 2.1037 - val_accuracy: 0.8850\n",
      "Epoch 298/300\n",
      "625/625 [==============================] - ETA: 0s - loss: 0.0019 - accuracy: 0.9996\n",
      "Epoch 00298: saving model to training_1\\cp.ckpt\n",
      "INFO:tensorflow:Assets written to: training_1\\cp.ckpt\\assets\n"
     ]
    },
    {
     "name": "stderr",
     "output_type": "stream",
     "text": [
      "INFO:tensorflow:Assets written to: training_1\\cp.ckpt\\assets\n"
     ]
    },
    {
     "name": "stdout",
     "output_type": "stream",
     "text": [
      "625/625 [==============================] - 41s 66ms/step - loss: 0.0019 - accuracy: 0.9996 - val_loss: 2.0332 - val_accuracy: 0.8840\n",
      "Epoch 299/300\n",
      "625/625 [==============================] - ETA: 0s - loss: 0.0028 - accuracy: 0.9992\n",
      "Epoch 00299: saving model to training_1\\cp.ckpt\n",
      "INFO:tensorflow:Assets written to: training_1\\cp.ckpt\\assets\n"
     ]
    },
    {
     "name": "stderr",
     "output_type": "stream",
     "text": [
      "INFO:tensorflow:Assets written to: training_1\\cp.ckpt\\assets\n"
     ]
    },
    {
     "name": "stdout",
     "output_type": "stream",
     "text": [
      "625/625 [==============================] - 42s 67ms/step - loss: 0.0028 - accuracy: 0.9992 - val_loss: 2.1249 - val_accuracy: 0.8824\n",
      "Epoch 300/300\n",
      "625/625 [==============================] - ETA: 0s - loss: 5.4928e-05 - accuracy: 1.0000\n",
      "Epoch 00300: saving model to training_1\\cp.ckpt\n",
      "INFO:tensorflow:Assets written to: training_1\\cp.ckpt\\assets\n"
     ]
    },
    {
     "name": "stderr",
     "output_type": "stream",
     "text": [
      "INFO:tensorflow:Assets written to: training_1\\cp.ckpt\\assets\n"
     ]
    },
    {
     "name": "stdout",
     "output_type": "stream",
     "text": [
      "\b\b\b\b\b\b\b\b\b\b\b\b\b\b\b\b\b\b\b\b\b\b\b\b\b\b\b\b\b\b\b\b\b\b\b\b\b\b\b\b\b\b\b\b\b\b\b\b\b\b\b\b\b\b\b\b\b\b\b\b\b\b\b\b\b\b\b\b\b\b\b\b\b\b\b\b\b\b\b\b\b\b\b\b\b\b\b\b\r",
      "625/625 [==============================] - 41s 65ms/step - loss: 5.4928e-05 - accuracy: 1.0000 - val_loss: 2.2232 - val_accuracy: 0.8818\n"
     ]
    },
    {
     "data": {
      "text/plain": [
       "<keras.callbacks.History at 0x2a9bceba790>"
      ]
     },
     "execution_count": 57,
     "metadata": {},
     "output_type": "execute_result"
    }
   ],
   "source": [
    "# 조기종료가 추가되지 않은 모델 훈련\n",
    "model.compile(loss='binary_crossentropy',\n",
    "             optimizer='adam',\n",
    "             metrics=['accuracy'])\n",
    "\n",
    "model.fit(x_train,y_train,\n",
    "         batch_size=batch_size,\n",
    "         epochs=epochs,\n",
    "         validation_split=0.2,\n",
    "         callbacks=[cp_callback])"
   ]
  },
  {
   "cell_type": "code",
   "execution_count": 58,
   "metadata": {},
   "outputs": [
    {
     "name": "stdout",
     "output_type": "stream",
     "text": [
      "782/782 [==============================] - 8s 11ms/step - loss: 2.2345 - accuracy: 0.8757 0s - loss: 2.2\n",
      "Score: loss of 2.2345235347747803; accuracy of 87.57200241088867%\n"
     ]
    }
   ],
   "source": [
    "# 모델 평가\n",
    "from tensorflow.keras.models import load_model\n",
    "model=load_model(checkpoint_path)\n",
    "scores=model.evaluate(x_test,y_test,verbose=1)\n",
    "print(f'Score: {model.metrics_names[0]} of {scores[0]}\n",
    "; {model.metrics_names[1]} of {scores[1]*100}%')"
   ]
  },
  {
   "cell_type": "code",
   "execution_count": 59,
   "metadata": {},
   "outputs": [
    {
     "name": "stdout",
     "output_type": "stream",
     "text": [
      "Epoch 1/300\n",
      "625/625 [==============================] - ETA: 0s - loss: 0.0027 - accuracy: 0.9995INFO:tensorflow:Assets written to: training_1\\cp.ckpt\\assets\n"
     ]
    },
    {
     "name": "stderr",
     "output_type": "stream",
     "text": [
      "INFO:tensorflow:Assets written to: training_1\\cp.ckpt\\assets\n"
     ]
    },
    {
     "name": "stdout",
     "output_type": "stream",
     "text": [
      "625/625 [==============================] - 42s 67ms/step - loss: 0.0027 - accuracy: 0.9995 - val_loss: 2.4569 - val_accuracy: 0.8802\n",
      "Epoch 2/300\n",
      "625/625 [==============================] - 41s 66ms/step - loss: 0.0012 - accuracy: 0.9996 - val_loss: 2.5700 - val_accuracy: 0.8802\n",
      "Epoch 3/300\n",
      "625/625 [==============================] - ETA: 0s - loss: 0.0032 - accuracy: 0.9994INFO:tensorflow:Assets written to: training_1\\cp.ckpt\\assets\n"
     ]
    },
    {
     "name": "stderr",
     "output_type": "stream",
     "text": [
      "INFO:tensorflow:Assets written to: training_1\\cp.ckpt\\assets\n"
     ]
    },
    {
     "name": "stdout",
     "output_type": "stream",
     "text": [
      "625/625 [==============================] - 43s 69ms/step - loss: 0.0032 - accuracy: 0.9994 - val_loss: 2.0759 - val_accuracy: 0.8842\n",
      "Epoch 4/300\n",
      "625/625 [==============================] - 42s 68ms/step - loss: 0.0011 - accuracy: 0.9997 - val_loss: 2.2396 - val_accuracy: 0.8744\n",
      "Epoch 5/300\n",
      "625/625 [==============================] - ETA: 0s - loss: 0.0022 - accuracy: 0.9995INFO:tensorflow:Assets written to: training_1\\cp.ckpt\\assets\n"
     ]
    },
    {
     "name": "stderr",
     "output_type": "stream",
     "text": [
      "INFO:tensorflow:Assets written to: training_1\\cp.ckpt\\assets\n"
     ]
    },
    {
     "name": "stdout",
     "output_type": "stream",
     "text": [
      "625/625 [==============================] - 43s 69ms/step - loss: 0.0022 - accuracy: 0.9995 - val_loss: 1.9409 - val_accuracy: 0.8836\n",
      "Epoch 6/300\n",
      "625/625 [==============================] - 46s 73ms/step - loss: 0.0017 - accuracy: 0.9995 - val_loss: 2.1536 - val_accuracy: 0.8842\n",
      "Epoch 7/300\n",
      "625/625 [==============================] - 41s 66ms/step - loss: 0.0041 - accuracy: 0.9990 - val_loss: 2.3300 - val_accuracy: 0.8864\n",
      "Epoch 8/300\n",
      "625/625 [==============================] - 41s 66ms/step - loss: 0.0011 - accuracy: 0.9998 - val_loss: 2.0259 - val_accuracy: 0.8840\n",
      "Epoch 9/300\n",
      "625/625 [==============================] - ETA: 0s - loss: 5.6529e-04 - accuracy: 0.9998INFO:tensorflow:Assets written to: training_1\\cp.ckpt\\assets\n"
     ]
    },
    {
     "name": "stderr",
     "output_type": "stream",
     "text": [
      "INFO:tensorflow:Assets written to: training_1\\cp.ckpt\\assets\n"
     ]
    },
    {
     "name": "stdout",
     "output_type": "stream",
     "text": [
      "625/625 [==============================] - 42s 67ms/step - loss: 5.6529e-04 - accuracy: 0.9998 - val_loss: 1.8760 - val_accuracy: 0.8864\n",
      "Epoch 10/300\n",
      "625/625 [==============================] - 41s 66ms/step - loss: 4.9203e-05 - accuracy: 1.0000 - val_loss: 2.0666 - val_accuracy: 0.8852\n",
      "Epoch 11/300\n",
      "625/625 [==============================] - 41s 65ms/step - loss: 0.0018 - accuracy: 0.9995 - val_loss: 2.5240 - val_accuracy: 0.8790\n",
      "Epoch 12/300\n",
      "625/625 [==============================] - 43s 68ms/step - loss: 0.0068 - accuracy: 0.9987 - val_loss: 1.9815 - val_accuracy: 0.8790\n",
      "Epoch 13/300\n",
      "625/625 [==============================] - ETA: 0s - loss: 0.0015 - accuracy: 0.9995INFO:tensorflow:Assets written to: training_1\\cp.ckpt\\assets\n"
     ]
    },
    {
     "name": "stderr",
     "output_type": "stream",
     "text": [
      "INFO:tensorflow:Assets written to: training_1\\cp.ckpt\\assets\n"
     ]
    },
    {
     "name": "stdout",
     "output_type": "stream",
     "text": [
      "625/625 [==============================] - 41s 66ms/step - loss: 0.0015 - accuracy: 0.9995 - val_loss: 1.6504 - val_accuracy: 0.8854\n",
      "Epoch 14/300\n",
      "625/625 [==============================] - ETA: 0s - loss: 0.0020 - accuracy: 0.9995INFO:tensorflow:Assets written to: training_1\\cp.ckpt\\assets\n"
     ]
    },
    {
     "name": "stderr",
     "output_type": "stream",
     "text": [
      "INFO:tensorflow:Assets written to: training_1\\cp.ckpt\\assets\n"
     ]
    },
    {
     "name": "stdout",
     "output_type": "stream",
     "text": [
      "625/625 [==============================] - 43s 68ms/step - loss: 0.0020 - accuracy: 0.9995 - val_loss: 1.3448 - val_accuracy: 0.8876\n",
      "Epoch 15/300\n",
      "625/625 [==============================] - 43s 68ms/step - loss: 6.1151e-04 - accuracy: 0.9998 - val_loss: 1.3653 - val_accuracy: 0.8808\n",
      "Epoch 16/300\n",
      "625/625 [==============================] - 41s 66ms/step - loss: 8.8172e-04 - accuracy: 0.9998 - val_loss: 1.5953 - val_accuracy: 0.8858\n",
      "Epoch 17/300\n",
      "625/625 [==============================] - 41s 66ms/step - loss: 0.0024 - accuracy: 0.9991 - val_loss: 1.4723 - val_accuracy: 0.8806\n",
      "Epoch 18/300\n",
      "625/625 [==============================] - ETA: 0s - loss: 0.0012 - accuracy: 0.9997INFO:tensorflow:Assets written to: training_1\\cp.ckpt\\assets\n"
     ]
    },
    {
     "name": "stderr",
     "output_type": "stream",
     "text": [
      "INFO:tensorflow:Assets written to: training_1\\cp.ckpt\\assets\n"
     ]
    },
    {
     "name": "stdout",
     "output_type": "stream",
     "text": [
      "625/625 [==============================] - 42s 67ms/step - loss: 0.0012 - accuracy: 0.9997 - val_loss: 1.3286 - val_accuracy: 0.8836\n",
      "Epoch 19/300\n",
      "625/625 [==============================] - 41s 66ms/step - loss: 4.2161e-04 - accuracy: 0.9998 - val_loss: 1.6363 - val_accuracy: 0.8838\n",
      "Epoch 20/300\n",
      "625/625 [==============================] - 41s 65ms/step - loss: 6.3202e-04 - accuracy: 0.9999 - val_loss: 1.6650 - val_accuracy: 0.8844\n",
      "Epoch 21/300\n",
      "625/625 [==============================] - 42s 67ms/step - loss: 0.0022 - accuracy: 0.9995 - val_loss: 1.7637 - val_accuracy: 0.8834\n",
      "Epoch 22/300\n",
      "625/625 [==============================] - 41s 66ms/step - loss: 5.1814e-04 - accuracy: 0.9998 - val_loss: 1.8450 - val_accuracy: 0.8832\n",
      "Epoch 23/300\n",
      "625/625 [==============================] - 42s 67ms/step - loss: 0.0017 - accuracy: 0.9996 - val_loss: 1.7679 - val_accuracy: 0.8802\n",
      "Epoch 24/300\n",
      "625/625 [==============================] - 43s 69ms/step - loss: 0.0017 - accuracy: 0.9993 - val_loss: 2.2936 - val_accuracy: 0.8846\n",
      "Epoch 25/300\n",
      "625/625 [==============================] - 41s 66ms/step - loss: 3.7513e-04 - accuracy: 0.9998 - val_loss: 2.5278 - val_accuracy: 0.8840\n",
      "Epoch 26/300\n",
      "625/625 [==============================] - 41s 66ms/step - loss: 6.3220e-04 - accuracy: 0.9997 - val_loss: 3.0847 - val_accuracy: 0.8732\n",
      "Epoch 27/300\n",
      "625/625 [==============================] - 41s 65ms/step - loss: 0.0025 - accuracy: 0.9994 - val_loss: 2.2855 - val_accuracy: 0.8832\n",
      "Epoch 28/300\n",
      "625/625 [==============================] - 41s 65ms/step - loss: 1.8163e-05 - accuracy: 1.0000 - val_loss: 2.3182 - val_accuracy: 0.8852\n",
      "Epoch 29/300\n",
      "625/625 [==============================] - 40s 65ms/step - loss: 0.0035 - accuracy: 0.9990 - val_loss: 1.5848 - val_accuracy: 0.8842\n",
      "Epoch 30/300\n",
      "625/625 [==============================] - 40s 65ms/step - loss: 0.0013 - accuracy: 0.9997 - val_loss: 1.7153 - val_accuracy: 0.8828\n",
      "Epoch 31/300\n",
      "625/625 [==============================] - 41s 65ms/step - loss: 0.0014 - accuracy: 0.9997 - val_loss: 1.4956 - val_accuracy: 0.8806\n",
      "Epoch 32/300\n",
      "625/625 [==============================] - 41s 66ms/step - loss: 4.5596e-04 - accuracy: 0.9998 - val_loss: 1.7780 - val_accuracy: 0.8844\n",
      "Epoch 33/300\n",
      "625/625 [==============================] - 41s 65ms/step - loss: 0.0020 - accuracy: 0.9995 - val_loss: 2.2520 - val_accuracy: 0.8856\n",
      "Epoch 34/300\n",
      "625/625 [==============================] - 40s 64ms/step - loss: 0.0020 - accuracy: 0.9995 - val_loss: 2.4436 - val_accuracy: 0.8774\n",
      "Epoch 35/300\n",
      "625/625 [==============================] - 40s 64ms/step - loss: 0.0032 - accuracy: 0.9994 - val_loss: 1.7464 - val_accuracy: 0.8798\n",
      "Epoch 36/300\n",
      "625/625 [==============================] - 41s 66ms/step - loss: 0.0011 - accuracy: 0.9998 - val_loss: 1.7974 - val_accuracy: 0.8832\n",
      "Epoch 37/300\n",
      "625/625 [==============================] - 41s 65ms/step - loss: 0.0011 - accuracy: 0.9997 - val_loss: 2.0594 - val_accuracy: 0.8854\n",
      "Epoch 38/300\n",
      "625/625 [==============================] - 45s 72ms/step - loss: 0.0021 - accuracy: 0.9996 - val_loss: 1.5223 - val_accuracy: 0.8862\n",
      "Epoch 39/300\n",
      "625/625 [==============================] - 43s 70ms/step - loss: 0.0017 - accuracy: 0.9997 - val_loss: 1.3447 - val_accuracy: 0.8844\n",
      "Epoch 40/300\n",
      "625/625 [==============================] - 43s 69ms/step - loss: 0.0033 - accuracy: 0.9991 - val_loss: 1.8262 - val_accuracy: 0.8856\n",
      "Epoch 41/300\n",
      "625/625 [==============================] - 44s 70ms/step - loss: 0.0021 - accuracy: 0.9995 - val_loss: 1.8979 - val_accuracy: 0.8842\n",
      "Epoch 42/300\n",
      "625/625 [==============================] - 43s 69ms/step - loss: 3.8324e-04 - accuracy: 0.9998 - val_loss: 2.5114 - val_accuracy: 0.8716\n",
      "Epoch 43/300\n",
      "625/625 [==============================] - 45s 71ms/step - loss: 0.0022 - accuracy: 0.9997 - val_loss: 1.4532 - val_accuracy: 0.8836\n",
      "Epoch 44/300\n",
      "625/625 [==============================] - 43s 68ms/step - loss: 0.0012 - accuracy: 0.9995 - val_loss: 1.6608 - val_accuracy: 0.8844\n",
      "Epoch 45/300\n",
      "625/625 [==============================] - 44s 71ms/step - loss: 7.0504e-04 - accuracy: 0.9999 - val_loss: 1.6203 - val_accuracy: 0.8818\n",
      "Epoch 46/300\n",
      "625/625 [==============================] - 44s 70ms/step - loss: 9.8065e-04 - accuracy: 0.9995 - val_loss: 1.9211 - val_accuracy: 0.8758\n",
      "Epoch 47/300\n",
      "625/625 [==============================] - 45s 71ms/step - loss: 0.0016 - accuracy: 0.9995 - val_loss: 2.2362 - val_accuracy: 0.8848\n",
      "Epoch 48/300\n",
      "625/625 [==============================] - 42s 67ms/step - loss: 0.0037 - accuracy: 0.9994 - val_loss: 2.5064 - val_accuracy: 0.8852\n"
     ]
    },
    {
     "data": {
      "text/plain": [
       "<keras.callbacks.History at 0x2a9b4ff7100>"
      ]
     },
     "execution_count": 59,
     "metadata": {},
     "output_type": "execute_result"
    }
   ],
   "source": [
    "# 조기 종료를 적용한 모델 훈련\n",
    "from tensorflow.keras.callbacks import EarlyStopping,ModelCheckpoint\n",
    "keras_callbacks=[\n",
    "    EarlyStopping(monitor='val_loss',patience=30,mode='min',min_delta=0.0001),\n",
    "    ModelCheckpoint(checkpoint_path,monitor='val_loss',save_best_only=True,mode='min')\n",
    "] # 1\n",
    "model.fit(x_train,y_train,\n",
    "         batch_size=batch_size,\n",
    "         epochs=epochs,\n",
    "         validation_split=0.2,\n",
    "         callbacks=keras_callbacks)"
   ]
  },
  {
   "cell_type": "markdown",
   "metadata": {},
   "source": [
    "- 1 : 학습 과정에서 EarlyStopping 콜백 함수를 호출하여 해당 조건이 되면 학습을 조기종료 시킴.\n",
    "    - monitor : 관찰하고자 하는 항목, 주로 val_loss나 val_acc 관찰\n",
    "    - patience : 개선이 없다고 바로 종료하지 않고 개선이 없는 에포크를 얼마나 기다려줄지 지정, 예를 들어 30이라면, 개선이 없는 에포크가 30번째 지속된다면 학습 종료\n",
    "    - mode : 관찰 항목에 대해 개선이 없다고 판단하기 위한 기준, 예를 들어 관찰 항목이 val_loss라면 감소가 더이상 발생하지 않을때 종료해야 하므로 min으로 설정\n",
    "    - min_delta : 개선되고 있다 판단하기 위한 최소변화량. 변화량이 min_delta보다 적다면 개선이 없다고 판단."
   ]
  },
  {
   "cell_type": "code",
   "execution_count": 60,
   "metadata": {},
   "outputs": [
    {
     "name": "stdout",
     "output_type": "stream",
     "text": [
      "782/782 [==============================] - 8s 11ms/step - loss: 1.3713 - accuracy: 0.8754\n",
      "Score: loss of 1.3712512254714966; accuracy of 87.53600120544434%\n"
     ]
    }
   ],
   "source": [
    "# 모델 평가\n",
    "model = load_model(checkpoint_path)\n",
    "scores = model.evaluate(x_test, y_test, verbose=1)\n",
    "print(f'Score: {model.metrics_names[0]} of {scores[0]}; {model.metrics_names[1]} of {scores[1]*100}%')"
   ]
  },
  {
   "cell_type": "markdown",
   "metadata": {},
   "source": [
    "- 조기종료 모델이 항상 성능의 최적화를 보장해주지는 않음. 단지 훈련의 종료 시점을 알 수 있도록 도와주는 것일 뿐임."
   ]
  }
 ],
 "metadata": {
  "kernelspec": {
   "display_name": "Python 3",
   "language": "python",
   "name": "python3"
  },
  "language_info": {
   "codemirror_mode": {
    "name": "ipython",
    "version": 3
   },
   "file_extension": ".py",
   "mimetype": "text/x-python",
   "name": "python",
   "nbconvert_exporter": "python",
   "pygments_lexer": "ipython3",
   "version": "3.8.5"
  }
 },
 "nbformat": 4,
 "nbformat_minor": 4
}
